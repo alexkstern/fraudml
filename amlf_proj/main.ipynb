{
 "cells": [
  {
   "cell_type": "markdown",
   "metadata": {},
   "source": [
    "# Main"
   ]
  },
  {
   "cell_type": "markdown",
   "metadata": {},
   "source": [
    "# Train"
   ]
  },
  {
   "cell_type": "markdown",
   "metadata": {},
   "source": [
    "## Conv VAE"
   ]
  },
  {
   "cell_type": "code",
   "execution_count": 1,
   "metadata": {},
   "outputs": [
    {
     "name": "stderr",
     "output_type": "stream",
     "text": [
      "/home/alexkstern/miniconda3/envs/credit_vae/lib/python3.8/site-packages/tqdm/auto.py:21: TqdmWarning: IProgress not found. Please update jupyter and ipywidgets. See https://ipywidgets.readthedocs.io/en/stable/user_install.html\n",
      "  from .autonotebook import tqdm as notebook_tqdm\n",
      "\u001b[34m\u001b[1mwandb\u001b[0m: Using wandb-core as the SDK backend.  Please refer to https://wandb.me/wandb-core for more information.\n"
     ]
    },
    {
     "name": "stdout",
     "output_type": "stream",
     "text": [
      "Initializing WandB run: conv-vae-fraud_20250313_165944 (Project: fraud-classification, Entity: alexkstern)\n"
     ]
    },
    {
     "name": "stderr",
     "output_type": "stream",
     "text": [
      "\u001b[34m\u001b[1mwandb\u001b[0m: Currently logged in as: \u001b[33malexkstern\u001b[0m (\u001b[33malexksternteam\u001b[0m) to \u001b[32mhttps://api.wandb.ai\u001b[0m. Use \u001b[1m`wandb login --relogin`\u001b[0m to force relogin\n"
     ]
    },
    {
     "data": {
      "text/html": [
       "Tracking run with wandb version 0.19.8"
      ],
      "text/plain": [
       "<IPython.core.display.HTML object>"
      ]
     },
     "metadata": {},
     "output_type": "display_data"
    },
    {
     "data": {
      "text/html": [
       "Run data is saved locally in <code>/home/alexkstern/fraudml/amlf_proj/wandb/run-20250313_165945-0yxxt70f</code>"
      ],
      "text/plain": [
       "<IPython.core.display.HTML object>"
      ]
     },
     "metadata": {},
     "output_type": "display_data"
    },
    {
     "data": {
      "text/html": [
       "Syncing run <strong><a href='https://wandb.ai/alexkstern/fraud-classification/runs/0yxxt70f' target=\"_blank\">conv-vae-fraud_20250313_165944</a></strong> to <a href='https://wandb.ai/alexkstern/fraud-classification' target=\"_blank\">Weights & Biases</a> (<a href='https://wandb.me/developer-guide' target=\"_blank\">docs</a>)<br>"
      ],
      "text/plain": [
       "<IPython.core.display.HTML object>"
      ]
     },
     "metadata": {},
     "output_type": "display_data"
    },
    {
     "data": {
      "text/html": [
       " View project at <a href='https://wandb.ai/alexkstern/fraud-classification' target=\"_blank\">https://wandb.ai/alexkstern/fraud-classification</a>"
      ],
      "text/plain": [
       "<IPython.core.display.HTML object>"
      ]
     },
     "metadata": {},
     "output_type": "display_data"
    },
    {
     "data": {
      "text/html": [
       " View run at <a href='https://wandb.ai/alexkstern/fraud-classification/runs/0yxxt70f' target=\"_blank\">https://wandb.ai/alexkstern/fraud-classification/runs/0yxxt70f</a>"
      ],
      "text/plain": [
       "<IPython.core.display.HTML object>"
      ]
     },
     "metadata": {},
     "output_type": "display_data"
    },
    {
     "name": "stdout",
     "output_type": "stream",
     "text": [
      "Loaded configuration from configs/conv_vae/fraud_conv_vae.config\n",
      "Filtered dataset to class 1: 378 samples\n",
      "Normalization statistics (calculated from class 1): {'Time': {'mean': 80790.48148148147, 'std': 48332.5139872635}, 'Amount': {'mean': 133.6764814814815, 'std': 276.3532237447719}}\n",
      "Filtered dataset to class 1: 378 samples\n",
      "Filtered dataset to class 1: 47 samples\n",
      "Filtered dataset to class 1: 48 samples\n",
      "Total number of trainable parameters: 62727\n",
      "Models will be saved to: saved_models/conv_vae/fraud_conv_vae/20250313_165953\n"
     ]
    },
    {
     "name": "stderr",
     "output_type": "stream",
     "text": [
      "                                                                           \r"
     ]
    },
    {
     "name": "stdout",
     "output_type": "stream",
     "text": [
      "Epoch 1/50: Train Loss = 704.4488, Val Loss = 1022.8286\n",
      "Model saved to saved_models/conv_vae/fraud_conv_vae/20250313_165953/best_model.pt\n",
      "New best validation loss: 1022.8286\n"
     ]
    },
    {
     "name": "stderr",
     "output_type": "stream",
     "text": [
      "                                                                           \r"
     ]
    },
    {
     "name": "stdout",
     "output_type": "stream",
     "text": [
      "Epoch 2/50: Train Loss = 679.0434, Val Loss = 1022.5550\n",
      "Model saved to saved_models/conv_vae/fraud_conv_vae/20250313_165953/best_model.pt\n",
      "New best validation loss: 1022.5550\n"
     ]
    },
    {
     "name": "stderr",
     "output_type": "stream",
     "text": [
      "                                                                           \r"
     ]
    },
    {
     "name": "stdout",
     "output_type": "stream",
     "text": [
      "Epoch 3/50: Train Loss = 678.9731, Val Loss = 1022.5265\n",
      "Model saved to saved_models/conv_vae/fraud_conv_vae/20250313_165953/best_model.pt\n",
      "New best validation loss: 1022.5265\n"
     ]
    },
    {
     "name": "stderr",
     "output_type": "stream",
     "text": [
      "                                                                           \r"
     ]
    },
    {
     "name": "stdout",
     "output_type": "stream",
     "text": [
      "Epoch 4/50: Train Loss = 678.9738, Val Loss = 1022.5521\n"
     ]
    },
    {
     "name": "stderr",
     "output_type": "stream",
     "text": [
      "                                                                           \r"
     ]
    },
    {
     "name": "stdout",
     "output_type": "stream",
     "text": [
      "Epoch 5/50: Train Loss = 678.9614, Val Loss = 1022.5346\n"
     ]
    },
    {
     "name": "stderr",
     "output_type": "stream",
     "text": [
      "                                                                           \r"
     ]
    },
    {
     "name": "stdout",
     "output_type": "stream",
     "text": [
      "Epoch 6/50: Train Loss = 678.9674, Val Loss = 1022.5279\n"
     ]
    },
    {
     "name": "stderr",
     "output_type": "stream",
     "text": [
      "                                                                           \r"
     ]
    },
    {
     "name": "stdout",
     "output_type": "stream",
     "text": [
      "Epoch 7/50: Train Loss = 678.9592, Val Loss = 1022.5274\n"
     ]
    },
    {
     "name": "stderr",
     "output_type": "stream",
     "text": [
      "                                                                           \r"
     ]
    },
    {
     "name": "stdout",
     "output_type": "stream",
     "text": [
      "Epoch 8/50: Train Loss = 678.9613, Val Loss = 1022.5326\n"
     ]
    },
    {
     "name": "stderr",
     "output_type": "stream",
     "text": [
      "                                                                           \r"
     ]
    },
    {
     "name": "stdout",
     "output_type": "stream",
     "text": [
      "Epoch 9/50: Train Loss = 678.9659, Val Loss = 1022.5347\n"
     ]
    },
    {
     "name": "stderr",
     "output_type": "stream",
     "text": [
      "                                                                           \r"
     ]
    },
    {
     "name": "stdout",
     "output_type": "stream",
     "text": [
      "Epoch 10/50: Train Loss = 678.9616, Val Loss = 1022.5378\n"
     ]
    },
    {
     "name": "stderr",
     "output_type": "stream",
     "text": [
      "                                                                           \r"
     ]
    },
    {
     "name": "stdout",
     "output_type": "stream",
     "text": [
      "Epoch 11/50: Train Loss = 678.9632, Val Loss = 1022.5346\n"
     ]
    },
    {
     "name": "stderr",
     "output_type": "stream",
     "text": [
      "                                                                           \r"
     ]
    },
    {
     "name": "stdout",
     "output_type": "stream",
     "text": [
      "Epoch 12/50: Train Loss = 678.9609, Val Loss = 1022.5292\n"
     ]
    },
    {
     "name": "stderr",
     "output_type": "stream",
     "text": [
      "                                                                           \r"
     ]
    },
    {
     "name": "stdout",
     "output_type": "stream",
     "text": [
      "Epoch 13/50: Train Loss = 678.9595, Val Loss = 1022.5272\n"
     ]
    },
    {
     "name": "stderr",
     "output_type": "stream",
     "text": [
      "                                                                           \r"
     ]
    },
    {
     "name": "stdout",
     "output_type": "stream",
     "text": [
      "Epoch 14/50: Train Loss = 678.9634, Val Loss = 1022.5356\n"
     ]
    },
    {
     "name": "stderr",
     "output_type": "stream",
     "text": [
      "                                                                           \r"
     ]
    },
    {
     "name": "stdout",
     "output_type": "stream",
     "text": [
      "Epoch 15/50: Train Loss = 678.9615, Val Loss = 1022.5340\n"
     ]
    },
    {
     "name": "stderr",
     "output_type": "stream",
     "text": [
      "                                                                           \r"
     ]
    },
    {
     "name": "stdout",
     "output_type": "stream",
     "text": [
      "Epoch 16/50: Train Loss = 678.9606, Val Loss = 1022.5270\n"
     ]
    },
    {
     "name": "stderr",
     "output_type": "stream",
     "text": [
      "                                                                           \r"
     ]
    },
    {
     "name": "stdout",
     "output_type": "stream",
     "text": [
      "Epoch 17/50: Train Loss = 678.9582, Val Loss = 1022.5342\n"
     ]
    },
    {
     "name": "stderr",
     "output_type": "stream",
     "text": [
      "                                                                           \r"
     ]
    },
    {
     "name": "stdout",
     "output_type": "stream",
     "text": [
      "Epoch 18/50: Train Loss = 678.9600, Val Loss = 1022.5373\n"
     ]
    },
    {
     "name": "stderr",
     "output_type": "stream",
     "text": [
      "                                                                           \r"
     ]
    },
    {
     "name": "stdout",
     "output_type": "stream",
     "text": [
      "Epoch 19/50: Train Loss = 678.9630, Val Loss = 1022.5355\n"
     ]
    },
    {
     "name": "stderr",
     "output_type": "stream",
     "text": [
      "                                                                           \r"
     ]
    },
    {
     "name": "stdout",
     "output_type": "stream",
     "text": [
      "Epoch 20/50: Train Loss = 678.9585, Val Loss = 1022.5329\n"
     ]
    },
    {
     "name": "stderr",
     "output_type": "stream",
     "text": [
      "                                                                           \r"
     ]
    },
    {
     "name": "stdout",
     "output_type": "stream",
     "text": [
      "Epoch 21/50: Train Loss = 678.9605, Val Loss = 1022.5376\n"
     ]
    },
    {
     "name": "stderr",
     "output_type": "stream",
     "text": [
      "                                                                           \r"
     ]
    },
    {
     "name": "stdout",
     "output_type": "stream",
     "text": [
      "Epoch 22/50: Train Loss = 678.9619, Val Loss = 1022.5338\n"
     ]
    },
    {
     "name": "stderr",
     "output_type": "stream",
     "text": [
      "                                                                           \r"
     ]
    },
    {
     "name": "stdout",
     "output_type": "stream",
     "text": [
      "Epoch 23/50: Train Loss = 678.9579, Val Loss = 1022.5380\n"
     ]
    },
    {
     "name": "stderr",
     "output_type": "stream",
     "text": [
      "                                                                           \r"
     ]
    },
    {
     "name": "stdout",
     "output_type": "stream",
     "text": [
      "Epoch 24/50: Train Loss = 678.9638, Val Loss = 1022.5348\n"
     ]
    },
    {
     "name": "stderr",
     "output_type": "stream",
     "text": [
      "                                                                           \r"
     ]
    },
    {
     "name": "stdout",
     "output_type": "stream",
     "text": [
      "Epoch 25/50: Train Loss = 678.9619, Val Loss = 1022.5290\n"
     ]
    },
    {
     "name": "stderr",
     "output_type": "stream",
     "text": [
      "                                                                           \r"
     ]
    },
    {
     "name": "stdout",
     "output_type": "stream",
     "text": [
      "Epoch 26/50: Train Loss = 678.9622, Val Loss = 1022.5253\n",
      "Model saved to saved_models/conv_vae/fraud_conv_vae/20250313_165953/best_model.pt\n",
      "New best validation loss: 1022.5253\n"
     ]
    },
    {
     "name": "stderr",
     "output_type": "stream",
     "text": [
      "                                                                           \r"
     ]
    },
    {
     "name": "stdout",
     "output_type": "stream",
     "text": [
      "Epoch 27/50: Train Loss = 678.9598, Val Loss = 1022.5322\n"
     ]
    },
    {
     "name": "stderr",
     "output_type": "stream",
     "text": [
      "                                                                           \r"
     ]
    },
    {
     "name": "stdout",
     "output_type": "stream",
     "text": [
      "Epoch 28/50: Train Loss = 678.9614, Val Loss = 1022.5257\n"
     ]
    },
    {
     "name": "stderr",
     "output_type": "stream",
     "text": [
      "                                                                           \r"
     ]
    },
    {
     "name": "stdout",
     "output_type": "stream",
     "text": [
      "Epoch 29/50: Train Loss = 678.9601, Val Loss = 1022.5303\n"
     ]
    },
    {
     "name": "stderr",
     "output_type": "stream",
     "text": [
      "                                                                           \r"
     ]
    },
    {
     "name": "stdout",
     "output_type": "stream",
     "text": [
      "Epoch 30/50: Train Loss = 678.9610, Val Loss = 1022.5331\n"
     ]
    },
    {
     "name": "stderr",
     "output_type": "stream",
     "text": [
      "                                                                           \r"
     ]
    },
    {
     "name": "stdout",
     "output_type": "stream",
     "text": [
      "Epoch 31/50: Train Loss = 678.9617, Val Loss = 1022.5251\n",
      "Model saved to saved_models/conv_vae/fraud_conv_vae/20250313_165953/best_model.pt\n",
      "New best validation loss: 1022.5251\n"
     ]
    },
    {
     "name": "stderr",
     "output_type": "stream",
     "text": [
      "                                                                           \r"
     ]
    },
    {
     "name": "stdout",
     "output_type": "stream",
     "text": [
      "Epoch 32/50: Train Loss = 678.9612, Val Loss = 1022.5330\n"
     ]
    },
    {
     "name": "stderr",
     "output_type": "stream",
     "text": [
      "                                                                           \r"
     ]
    },
    {
     "name": "stdout",
     "output_type": "stream",
     "text": [
      "Epoch 33/50: Train Loss = 678.9610, Val Loss = 1022.5312\n"
     ]
    },
    {
     "name": "stderr",
     "output_type": "stream",
     "text": [
      "                                                                           \r"
     ]
    },
    {
     "name": "stdout",
     "output_type": "stream",
     "text": [
      "Epoch 34/50: Train Loss = 678.9616, Val Loss = 1022.5319\n"
     ]
    },
    {
     "name": "stderr",
     "output_type": "stream",
     "text": [
      "                                                                           \r"
     ]
    },
    {
     "name": "stdout",
     "output_type": "stream",
     "text": [
      "Epoch 35/50: Train Loss = 678.9608, Val Loss = 1022.5320\n"
     ]
    },
    {
     "name": "stderr",
     "output_type": "stream",
     "text": [
      "                                                                           \r"
     ]
    },
    {
     "name": "stdout",
     "output_type": "stream",
     "text": [
      "Epoch 36/50: Train Loss = 678.9605, Val Loss = 1022.5306\n"
     ]
    },
    {
     "name": "stderr",
     "output_type": "stream",
     "text": [
      "                                                                           \r"
     ]
    },
    {
     "name": "stdout",
     "output_type": "stream",
     "text": [
      "Epoch 37/50: Train Loss = 678.9602, Val Loss = 1022.5325\n"
     ]
    },
    {
     "name": "stderr",
     "output_type": "stream",
     "text": [
      "                                                                           \r"
     ]
    },
    {
     "name": "stdout",
     "output_type": "stream",
     "text": [
      "Epoch 38/50: Train Loss = 678.9607, Val Loss = 1022.5325\n"
     ]
    },
    {
     "name": "stderr",
     "output_type": "stream",
     "text": [
      "                                                                           \r"
     ]
    },
    {
     "name": "stdout",
     "output_type": "stream",
     "text": [
      "Epoch 39/50: Train Loss = 678.9605, Val Loss = 1022.5303\n"
     ]
    },
    {
     "name": "stderr",
     "output_type": "stream",
     "text": [
      "                                                                           \r"
     ]
    },
    {
     "name": "stdout",
     "output_type": "stream",
     "text": [
      "Epoch 40/50: Train Loss = 678.9611, Val Loss = 1022.5281\n"
     ]
    },
    {
     "name": "stderr",
     "output_type": "stream",
     "text": [
      "                                                                           \r"
     ]
    },
    {
     "name": "stdout",
     "output_type": "stream",
     "text": [
      "Epoch 41/50: Train Loss = 678.9596, Val Loss = 1022.5290\n"
     ]
    },
    {
     "name": "stderr",
     "output_type": "stream",
     "text": [
      "                                                                           \r"
     ]
    },
    {
     "name": "stdout",
     "output_type": "stream",
     "text": [
      "Epoch 42/50: Train Loss = 678.9612, Val Loss = 1022.5331\n"
     ]
    },
    {
     "name": "stderr",
     "output_type": "stream",
     "text": [
      "                                                                           \r"
     ]
    },
    {
     "name": "stdout",
     "output_type": "stream",
     "text": [
      "Epoch 43/50: Train Loss = 678.9608, Val Loss = 1022.5286\n"
     ]
    },
    {
     "name": "stderr",
     "output_type": "stream",
     "text": [
      "                                                                           \r"
     ]
    },
    {
     "name": "stdout",
     "output_type": "stream",
     "text": [
      "Epoch 44/50: Train Loss = 678.9612, Val Loss = 1022.5280\n"
     ]
    },
    {
     "name": "stderr",
     "output_type": "stream",
     "text": [
      "                                                                           \r"
     ]
    },
    {
     "name": "stdout",
     "output_type": "stream",
     "text": [
      "Epoch 45/50: Train Loss = 678.9613, Val Loss = 1022.5333\n"
     ]
    },
    {
     "name": "stderr",
     "output_type": "stream",
     "text": [
      "                                                                           \r"
     ]
    },
    {
     "name": "stdout",
     "output_type": "stream",
     "text": [
      "Epoch 46/50: Train Loss = 678.9593, Val Loss = 1022.5317\n"
     ]
    },
    {
     "name": "stderr",
     "output_type": "stream",
     "text": [
      "                                                                           \r"
     ]
    },
    {
     "name": "stdout",
     "output_type": "stream",
     "text": [
      "Epoch 47/50: Train Loss = 678.9613, Val Loss = 1022.5313\n"
     ]
    },
    {
     "name": "stderr",
     "output_type": "stream",
     "text": [
      "                                                                           \r"
     ]
    },
    {
     "name": "stdout",
     "output_type": "stream",
     "text": [
      "Epoch 48/50: Train Loss = 678.9618, Val Loss = 1022.5286\n"
     ]
    },
    {
     "name": "stderr",
     "output_type": "stream",
     "text": [
      "                                                                           \r"
     ]
    },
    {
     "name": "stdout",
     "output_type": "stream",
     "text": [
      "Epoch 49/50: Train Loss = 678.9620, Val Loss = 1022.5313\n"
     ]
    },
    {
     "name": "stderr",
     "output_type": "stream",
     "text": [
      "                                                                           \r"
     ]
    },
    {
     "name": "stdout",
     "output_type": "stream",
     "text": [
      "Epoch 50/50: Train Loss = 678.9610, Val Loss = 1022.5315\n",
      "Model saved to saved_models/conv_vae/fraud_conv_vae/20250313_165953/final_model.pt\n",
      "Training complete. Best validation loss: 1022.5251\n"
     ]
    },
    {
     "data": {
      "text/html": [],
      "text/plain": [
       "<IPython.core.display.HTML object>"
      ]
     },
     "metadata": {},
     "output_type": "display_data"
    },
    {
     "data": {
      "text/html": [
       "<br>    <style><br>        .wandb-row {<br>            display: flex;<br>            flex-direction: row;<br>            flex-wrap: wrap;<br>            justify-content: flex-start;<br>            width: 100%;<br>        }<br>        .wandb-col {<br>            display: flex;<br>            flex-direction: column;<br>            flex-basis: 100%;<br>            flex: 1;<br>            padding: 10px;<br>        }<br>    </style><br><div class=\"wandb-row\"><div class=\"wandb-col\"><h3>Run history:</h3><br/><table class=\"wandb\"><tr><td>epoch</td><td>▁▁▁▁▂▂▂▂▂▃▃▃▃▃▃▄▄▄▄▄▅▅▅▅▅▆▆▆▆▆▆▇▇▇▇▇▇███</td></tr><tr><td>train/recon_loss</td><td>▆▂▆▃▆▄▃▄▃▄▆▄▂▄█▃▁▁▅▃▃▃▄▁▂▂▆▅▃▃▃▇▃▅▂▅▃█▄▄</td></tr><tr><td>train/total_loss</td><td>█▁▁▁▁▁▁▁▁▁▁▁▁▁▁▁▁▁▁▁▁▁▁▁▁▁▁▁▁▁▁▁▁▁▁▁▁▁▁▁</td></tr><tr><td>val/recon_loss</td><td>█▆▆▅▅▃▂▃▄▂▂▂▃▂▃▃▁▃▂▂▂▁▂▂▁▂▂▂▁▂▂▁▁▂▂▂▂▁▂▁</td></tr><tr><td>val/total_loss</td><td>█▂▁▂▁▁▁▁▁▁▁▁▁▁▁▁▁▁▁▁▁▁▁▁▁▁▁▁▁▁▁▁▁▁▁▁▁▁▁▁</td></tr></table><br/></div><div class=\"wandb-col\"><h3>Run summary:</h3><br/><table class=\"wandb\"><tr><td>epoch</td><td>50</td></tr><tr><td>train/recon_loss</td><td>6752.95557</td></tr><tr><td>train/total_loss</td><td>678.96097</td></tr><tr><td>val/recon_loss</td><td>11025.6543</td></tr><tr><td>val/total_loss</td><td>1022.53146</td></tr></table><br/></div></div>"
      ],
      "text/plain": [
       "<IPython.core.display.HTML object>"
      ]
     },
     "metadata": {},
     "output_type": "display_data"
    },
    {
     "data": {
      "text/html": [
       " View run <strong style=\"color:#cdcd00\">conv-vae-fraud_20250313_165944</strong> at: <a href='https://wandb.ai/alexkstern/fraud-classification/runs/0yxxt70f' target=\"_blank\">https://wandb.ai/alexkstern/fraud-classification/runs/0yxxt70f</a><br> View project at: <a href='https://wandb.ai/alexkstern/fraud-classification' target=\"_blank\">https://wandb.ai/alexkstern/fraud-classification</a><br>Synced 5 W&B file(s), 0 media file(s), 10 artifact file(s) and 0 other file(s)"
      ],
      "text/plain": [
       "<IPython.core.display.HTML object>"
      ]
     },
     "metadata": {},
     "output_type": "display_data"
    },
    {
     "data": {
      "text/html": [
       "Find logs at: <code>./wandb/run-20250313_165945-0yxxt70f/logs</code>"
      ],
      "text/plain": [
       "<IPython.core.display.HTML object>"
      ]
     },
     "metadata": {},
     "output_type": "display_data"
    },
    {
     "name": "stdout",
     "output_type": "stream",
     "text": [
      "Training session complete.\n"
     ]
    }
   ],
   "source": [
    "import os\n",
    "import torch\n",
    "import torch.optim as optim\n",
    "import numpy as np\n",
    "import random\n",
    "\n",
    "# Set random seeds for reproducibility\n",
    "SEED = 42\n",
    "random.seed(SEED)\n",
    "np.random.seed(SEED)\n",
    "torch.manual_seed(SEED)\n",
    "torch.cuda.manual_seed_all(SEED)\n",
    "torch.backends.cudnn.deterministic = True\n",
    "torch.backends.cudnn.benchmark = False\n",
    "\n",
    "# Import required modules\n",
    "from models.conv_vae_model import ConvVae, vae_loss_function, print_num_params\n",
    "from trainer.trainer_vae import VAETrainer\n",
    "from dataloader.dataloader import load_fraud_data, load_config\n",
    "from utils.model_saver import save_model, get_save_directory\n",
    "from utils.wandb_logger import WandBLogger\n",
    "\n",
    "# Build the config path\n",
    "config_path = \"configs/conv_vae/fraud_conv_vae.config\"\n",
    "\n",
    "# Load configuration\n",
    "import configparser\n",
    "config_parser = configparser.ConfigParser()\n",
    "config_parser.read(config_path)\n",
    "conv_vae_config = config_parser[\"Conv_VAE\"]\n",
    "\n",
    "# Create config dictionary for WandB\n",
    "config_dict = {}\n",
    "for section in config_parser.sections():\n",
    "    config_dict[section] = dict(config_parser[section])\n",
    "\n",
    "# Initialize WandB logger\n",
    "wandb_logger = WandBLogger(config_dict)\n",
    "\n",
    "# Load data\n",
    "config_dict = load_config(config_path)\n",
    "data = load_fraud_data(config_path=config_path)\n",
    "dataloaders = data['dataloaders']\n",
    "input_dim = data['input_dim']\n",
    "\n",
    "# Create model\n",
    "model = ConvVae(conv_vae_config)\n",
    "print_num_params(model)\n",
    "\n",
    "# Training parameters\n",
    "lr = config_parser[\"Trainer\"].getfloat(\"lr\")\n",
    "num_epochs = config_parser[\"Trainer\"].getint(\"num_epochs\")\n",
    "\n",
    "# Define optimizer and loss function\n",
    "optimizer = optim.Adam(model.parameters(), lr=lr)\n",
    "loss_fn = vae_loss_function\n",
    "\n",
    "# Create trainer\n",
    "trainer = VAETrainer(model, dataloaders, loss_fn, optimizer)\n",
    "\n",
    "# Create save directory\n",
    "save_dir = get_save_directory(config_path)\n",
    "print(f\"Models will be saved to: {save_dir}\")\n",
    "\n",
    "# Helper function to extract reconstruction loss\n",
    "def extract_recon_loss(model, batch, device):\n",
    "    model.eval()\n",
    "    with torch.no_grad():\n",
    "        batch = batch.to(device)\n",
    "        recon, mu, logvar = model(batch)\n",
    "        recon_loss = torch.nn.functional.mse_loss(recon, batch, reduction='sum').item()\n",
    "    return recon_loss\n",
    "\n",
    "# Track best validation loss\n",
    "best_val_loss = float('inf')\n",
    "train_losses, val_losses = [], []\n",
    "\n",
    "try:\n",
    "    # Training loop\n",
    "    for epoch in range(1, num_epochs + 1):\n",
    "        train_loss = trainer.train_epoch()\n",
    "        val_loss = trainer.validate_epoch()\n",
    "        \n",
    "        train_losses.append(train_loss)\n",
    "        val_losses.append(val_loss)\n",
    "        \n",
    "        # Log to WandB (if enabled)\n",
    "        try:\n",
    "            train_batch = next(iter(dataloaders['train']))\n",
    "            val_batch = next(iter(dataloaders['val']))\n",
    "            train_recon_loss = extract_recon_loss(model, train_batch, trainer.device)\n",
    "            val_recon_loss = extract_recon_loss(model, val_batch, trainer.device)\n",
    "            wandb_logger.log_epoch(epoch, train_loss, val_loss, train_recon_loss, val_recon_loss)\n",
    "        except Exception as e:\n",
    "            wandb_logger.log_epoch(epoch, train_loss, val_loss)\n",
    "        \n",
    "        # Print progress\n",
    "        print(f\"Epoch {epoch}/{num_epochs}: Train Loss = {train_loss:.4f}, Val Loss = {val_loss:.4f}\")\n",
    "        \n",
    "        # Save best model\n",
    "        if val_loss < best_val_loss:\n",
    "            best_val_loss = val_loss\n",
    "            metadata = {'epoch': epoch, 'train_loss': train_loss, 'val_loss': val_loss}\n",
    "            model_path = save_model(model, save_dir, 'best_model.pt', metadata)\n",
    "            print(f\"New best validation loss: {val_loss:.4f}\")\n",
    "            wandb_logger.log_model(model_path, metadata)\n",
    "\n",
    "    # Save final model if different from best\n",
    "    if val_losses[-1] > best_val_loss:\n",
    "        metadata = {'epoch': num_epochs, 'train_loss': train_losses[-1], 'val_loss': val_losses[-1]}\n",
    "        save_model(model, save_dir, 'final_model.pt', metadata)\n",
    "\n",
    "    print(f\"Training complete. Best validation loss: {best_val_loss:.4f}\")\n",
    "\n",
    "except KeyboardInterrupt:\n",
    "    print(\"\\nTraining interrupted by user. Saving current state...\")\n",
    "    if len(train_losses) > 0:\n",
    "        metadata = {\n",
    "            'interrupted': True,\n",
    "            'epoch': len(train_losses), \n",
    "            'train_loss': train_losses[-1],\n",
    "            'val_loss': val_losses[-1] if len(val_losses) > 0 else None\n",
    "        }\n",
    "        save_model(model, save_dir, 'interrupted_model.pt', metadata)\n",
    "        print(f\"Interrupted model saved to {save_dir}\")\n",
    "\n",
    "except Exception as e:\n",
    "    print(f\"\\nTraining failed with error: {e}\")\n",
    "    import traceback\n",
    "    traceback.print_exc()\n",
    "    \n",
    "finally:\n",
    "    # Clean up WandB\n",
    "    try:\n",
    "        wandb_logger.finish()\n",
    "    except:\n",
    "        pass\n",
    "    print(\"Training session complete.\")"
   ]
  },
  {
   "cell_type": "markdown",
   "metadata": {},
   "source": [
    "## Conv VQ VAE"
   ]
  },
  {
   "cell_type": "code",
   "execution_count": 3,
   "metadata": {},
   "outputs": [
    {
     "name": "stdout",
     "output_type": "stream",
     "text": [
      "Loaded configuration from configs/conv_vqvae/fraud_conv_vqvae.config\n",
      "Filtered dataset to class 1: 378 samples\n",
      "Normalization statistics (calculated from class 1): {'Time': {'mean': 80790.48148148147, 'std': 48332.5139872635}, 'Amount': {'mean': 133.6764814814815, 'std': 276.3532237447719}}\n",
      "Filtered dataset to class 1: 378 samples\n",
      "Filtered dataset to class 1: 47 samples\n",
      "Filtered dataset to class 1: 48 samples\n",
      "Total number of trainable parameters: 64164\n",
      "Models will be saved to: saved_models/conv_vqvae/fraud_conv_vqvae/20250313_143341\n"
     ]
    },
    {
     "name": "stderr",
     "output_type": "stream",
     "text": [
      "                                                                             \r"
     ]
    },
    {
     "name": "stdout",
     "output_type": "stream",
     "text": [
      "Epoch 1/100: Train Loss = 789.5891, Val Loss = 1094.8434\n",
      "Model saved to saved_models/conv_vqvae/fraud_conv_vqvae/20250313_143341/best_model.pt\n",
      "New best validation loss: 1094.8434\n"
     ]
    },
    {
     "name": "stderr",
     "output_type": "stream",
     "text": [
      "                                                                             \r"
     ]
    },
    {
     "name": "stdout",
     "output_type": "stream",
     "text": [
      "Epoch 2/100: Train Loss = 687.4258, Val Loss = 1024.3413\n",
      "Model saved to saved_models/conv_vqvae/fraud_conv_vqvae/20250313_143341/best_model.pt\n",
      "New best validation loss: 1024.3413\n"
     ]
    },
    {
     "name": "stderr",
     "output_type": "stream",
     "text": [
      "                                                                             \r"
     ]
    },
    {
     "name": "stdout",
     "output_type": "stream",
     "text": [
      "Epoch 3/100: Train Loss = 679.2138, Val Loss = 1022.5116\n",
      "Model saved to saved_models/conv_vqvae/fraud_conv_vqvae/20250313_143341/best_model.pt\n",
      "New best validation loss: 1022.5116\n"
     ]
    },
    {
     "name": "stderr",
     "output_type": "stream",
     "text": [
      "                                                                             \r"
     ]
    },
    {
     "name": "stdout",
     "output_type": "stream",
     "text": [
      "Epoch 4/100: Train Loss = 678.5124, Val Loss = 1014.5305\n",
      "Model saved to saved_models/conv_vqvae/fraud_conv_vqvae/20250313_143341/best_model.pt\n",
      "New best validation loss: 1014.5305\n"
     ]
    },
    {
     "name": "stderr",
     "output_type": "stream",
     "text": [
      "                                                                             \r"
     ]
    },
    {
     "name": "stdout",
     "output_type": "stream",
     "text": [
      "Epoch 5/100: Train Loss = 666.8460, Val Loss = 1006.3647\n",
      "Model saved to saved_models/conv_vqvae/fraud_conv_vqvae/20250313_143341/best_model.pt\n",
      "New best validation loss: 1006.3647\n"
     ]
    },
    {
     "name": "stderr",
     "output_type": "stream",
     "text": [
      "                                                                             \r"
     ]
    },
    {
     "name": "stdout",
     "output_type": "stream",
     "text": [
      "Epoch 6/100: Train Loss = 664.9659, Val Loss = 1006.4459\n"
     ]
    },
    {
     "name": "stderr",
     "output_type": "stream",
     "text": [
      "                                                                             \r"
     ]
    },
    {
     "name": "stdout",
     "output_type": "stream",
     "text": [
      "Epoch 7/100: Train Loss = 664.9075, Val Loss = 1005.8581\n",
      "Model saved to saved_models/conv_vqvae/fraud_conv_vqvae/20250313_143341/best_model.pt\n",
      "New best validation loss: 1005.8581\n"
     ]
    },
    {
     "name": "stderr",
     "output_type": "stream",
     "text": [
      "                                                                             \r"
     ]
    },
    {
     "name": "stdout",
     "output_type": "stream",
     "text": [
      "Epoch 8/100: Train Loss = 659.2394, Val Loss = 998.6946\n",
      "Model saved to saved_models/conv_vqvae/fraud_conv_vqvae/20250313_143341/best_model.pt\n",
      "New best validation loss: 998.6946\n"
     ]
    },
    {
     "name": "stderr",
     "output_type": "stream",
     "text": [
      "                                                                             \r"
     ]
    },
    {
     "name": "stdout",
     "output_type": "stream",
     "text": [
      "Epoch 9/100: Train Loss = 658.1904, Val Loss = 999.5041\n"
     ]
    },
    {
     "name": "stderr",
     "output_type": "stream",
     "text": [
      "                                                                             \r"
     ]
    },
    {
     "name": "stdout",
     "output_type": "stream",
     "text": [
      "Epoch 10/100: Train Loss = 658.1658, Val Loss = 999.1953\n"
     ]
    },
    {
     "name": "stderr",
     "output_type": "stream",
     "text": [
      "                                                                             \r"
     ]
    },
    {
     "name": "stdout",
     "output_type": "stream",
     "text": [
      "Epoch 11/100: Train Loss = 658.2933, Val Loss = 999.6391\n"
     ]
    },
    {
     "name": "stderr",
     "output_type": "stream",
     "text": [
      "                                                                             \r"
     ]
    },
    {
     "name": "stdout",
     "output_type": "stream",
     "text": [
      "Epoch 12/100: Train Loss = 658.2448, Val Loss = 999.2041\n"
     ]
    },
    {
     "name": "stderr",
     "output_type": "stream",
     "text": [
      "                                                                             \r"
     ]
    },
    {
     "name": "stdout",
     "output_type": "stream",
     "text": [
      "Epoch 13/100: Train Loss = 658.3359, Val Loss = 999.6279\n"
     ]
    },
    {
     "name": "stderr",
     "output_type": "stream",
     "text": [
      "                                                                             \r"
     ]
    },
    {
     "name": "stdout",
     "output_type": "stream",
     "text": [
      "Epoch 14/100: Train Loss = 658.1899, Val Loss = 999.3504\n"
     ]
    },
    {
     "name": "stderr",
     "output_type": "stream",
     "text": [
      "                                                                             \r"
     ]
    },
    {
     "name": "stdout",
     "output_type": "stream",
     "text": [
      "Epoch 15/100: Train Loss = 658.2206, Val Loss = 998.9550\n"
     ]
    },
    {
     "name": "stderr",
     "output_type": "stream",
     "text": [
      "                                                                             \r"
     ]
    },
    {
     "name": "stdout",
     "output_type": "stream",
     "text": [
      "Epoch 16/100: Train Loss = 658.1138, Val Loss = 998.9332\n"
     ]
    },
    {
     "name": "stderr",
     "output_type": "stream",
     "text": [
      "                                                                             \r"
     ]
    },
    {
     "name": "stdout",
     "output_type": "stream",
     "text": [
      "Epoch 17/100: Train Loss = 658.1868, Val Loss = 998.9254\n"
     ]
    },
    {
     "name": "stderr",
     "output_type": "stream",
     "text": [
      "                                                                             \r"
     ]
    },
    {
     "name": "stdout",
     "output_type": "stream",
     "text": [
      "Epoch 18/100: Train Loss = 658.1533, Val Loss = 998.9335\n"
     ]
    },
    {
     "name": "stderr",
     "output_type": "stream",
     "text": [
      "                                                                             \r"
     ]
    },
    {
     "name": "stdout",
     "output_type": "stream",
     "text": [
      "Epoch 19/100: Train Loss = 658.0802, Val Loss = 998.9409\n"
     ]
    },
    {
     "name": "stderr",
     "output_type": "stream",
     "text": [
      "                                                                             \r"
     ]
    },
    {
     "name": "stdout",
     "output_type": "stream",
     "text": [
      "Epoch 20/100: Train Loss = 658.1270, Val Loss = 998.8804\n"
     ]
    },
    {
     "name": "stderr",
     "output_type": "stream",
     "text": [
      "                                                                             \r"
     ]
    },
    {
     "name": "stdout",
     "output_type": "stream",
     "text": [
      "Epoch 21/100: Train Loss = 658.1445, Val Loss = 998.9299\n"
     ]
    },
    {
     "name": "stderr",
     "output_type": "stream",
     "text": [
      "                                                                             \r"
     ]
    },
    {
     "name": "stdout",
     "output_type": "stream",
     "text": [
      "Epoch 22/100: Train Loss = 658.1111, Val Loss = 998.6067\n",
      "Model saved to saved_models/conv_vqvae/fraud_conv_vqvae/20250313_143341/best_model.pt\n",
      "New best validation loss: 998.6067\n"
     ]
    },
    {
     "name": "stderr",
     "output_type": "stream",
     "text": [
      "                                                                             \r"
     ]
    },
    {
     "name": "stdout",
     "output_type": "stream",
     "text": [
      "Epoch 23/100: Train Loss = 657.9859, Val Loss = 998.5200\n",
      "Model saved to saved_models/conv_vqvae/fraud_conv_vqvae/20250313_143341/best_model.pt\n",
      "New best validation loss: 998.5200\n"
     ]
    },
    {
     "name": "stderr",
     "output_type": "stream",
     "text": [
      "                                                                             \r"
     ]
    },
    {
     "name": "stdout",
     "output_type": "stream",
     "text": [
      "Epoch 24/100: Train Loss = 658.0306, Val Loss = 998.4305\n",
      "Model saved to saved_models/conv_vqvae/fraud_conv_vqvae/20250313_143341/best_model.pt\n",
      "New best validation loss: 998.4305\n"
     ]
    },
    {
     "name": "stderr",
     "output_type": "stream",
     "text": [
      "                                                                             \r"
     ]
    },
    {
     "name": "stdout",
     "output_type": "stream",
     "text": [
      "Epoch 25/100: Train Loss = 658.0364, Val Loss = 998.5711\n"
     ]
    },
    {
     "name": "stderr",
     "output_type": "stream",
     "text": [
      "                                                                             \r"
     ]
    },
    {
     "name": "stdout",
     "output_type": "stream",
     "text": [
      "Epoch 26/100: Train Loss = 658.0216, Val Loss = 998.6831\n"
     ]
    },
    {
     "name": "stderr",
     "output_type": "stream",
     "text": [
      "                                                                             \r"
     ]
    },
    {
     "name": "stdout",
     "output_type": "stream",
     "text": [
      "Epoch 27/100: Train Loss = 657.9549, Val Loss = 998.5988\n"
     ]
    },
    {
     "name": "stderr",
     "output_type": "stream",
     "text": [
      "                                                                             \r"
     ]
    },
    {
     "name": "stdout",
     "output_type": "stream",
     "text": [
      "Epoch 28/100: Train Loss = 657.9662, Val Loss = 998.4462\n"
     ]
    },
    {
     "name": "stderr",
     "output_type": "stream",
     "text": [
      "                                                                             \r"
     ]
    },
    {
     "name": "stdout",
     "output_type": "stream",
     "text": [
      "Epoch 29/100: Train Loss = 657.9193, Val Loss = 998.5684\n"
     ]
    },
    {
     "name": "stderr",
     "output_type": "stream",
     "text": [
      "                                                                             \r"
     ]
    },
    {
     "name": "stdout",
     "output_type": "stream",
     "text": [
      "Epoch 30/100: Train Loss = 657.9319, Val Loss = 998.6018\n"
     ]
    },
    {
     "name": "stderr",
     "output_type": "stream",
     "text": [
      "                                                                             \r"
     ]
    },
    {
     "name": "stdout",
     "output_type": "stream",
     "text": [
      "Epoch 31/100: Train Loss = 657.9533, Val Loss = 998.5944\n"
     ]
    },
    {
     "name": "stderr",
     "output_type": "stream",
     "text": [
      "                                                                             \r"
     ]
    },
    {
     "name": "stdout",
     "output_type": "stream",
     "text": [
      "Epoch 32/100: Train Loss = 657.9301, Val Loss = 998.5278\n"
     ]
    },
    {
     "name": "stderr",
     "output_type": "stream",
     "text": [
      "                                                                             \r"
     ]
    },
    {
     "name": "stdout",
     "output_type": "stream",
     "text": [
      "Epoch 33/100: Train Loss = 657.9744, Val Loss = 998.6046\n"
     ]
    },
    {
     "name": "stderr",
     "output_type": "stream",
     "text": [
      "                                                                             \r"
     ]
    },
    {
     "name": "stdout",
     "output_type": "stream",
     "text": [
      "Epoch 34/100: Train Loss = 657.9675, Val Loss = 998.5977\n"
     ]
    },
    {
     "name": "stderr",
     "output_type": "stream",
     "text": [
      "                                                                             \r"
     ]
    },
    {
     "name": "stdout",
     "output_type": "stream",
     "text": [
      "Epoch 35/100: Train Loss = 657.9539, Val Loss = 998.5346\n"
     ]
    },
    {
     "name": "stderr",
     "output_type": "stream",
     "text": [
      "                                                                             \r"
     ]
    },
    {
     "name": "stdout",
     "output_type": "stream",
     "text": [
      "Epoch 36/100: Train Loss = 657.9313, Val Loss = 998.4389\n"
     ]
    },
    {
     "name": "stderr",
     "output_type": "stream",
     "text": [
      "                                                                             \r"
     ]
    },
    {
     "name": "stdout",
     "output_type": "stream",
     "text": [
      "Epoch 37/100: Train Loss = 657.9430, Val Loss = 998.4895\n"
     ]
    },
    {
     "name": "stderr",
     "output_type": "stream",
     "text": [
      "                                                                             \r"
     ]
    },
    {
     "name": "stdout",
     "output_type": "stream",
     "text": [
      "Epoch 38/100: Train Loss = 657.9794, Val Loss = 998.5955\n"
     ]
    },
    {
     "name": "stderr",
     "output_type": "stream",
     "text": [
      "                                                                             \r"
     ]
    },
    {
     "name": "stdout",
     "output_type": "stream",
     "text": [
      "Epoch 39/100: Train Loss = 657.9515, Val Loss = 998.5428\n"
     ]
    },
    {
     "name": "stderr",
     "output_type": "stream",
     "text": [
      "                                                                             \r"
     ]
    },
    {
     "name": "stdout",
     "output_type": "stream",
     "text": [
      "Epoch 40/100: Train Loss = 657.9263, Val Loss = 998.5304\n"
     ]
    },
    {
     "name": "stderr",
     "output_type": "stream",
     "text": [
      "                                                                             \r"
     ]
    },
    {
     "name": "stdout",
     "output_type": "stream",
     "text": [
      "Epoch 41/100: Train Loss = 657.9502, Val Loss = 998.4788\n"
     ]
    },
    {
     "name": "stderr",
     "output_type": "stream",
     "text": [
      "                                                                             \r"
     ]
    },
    {
     "name": "stdout",
     "output_type": "stream",
     "text": [
      "Epoch 42/100: Train Loss = 657.9433, Val Loss = 998.5076\n"
     ]
    },
    {
     "name": "stderr",
     "output_type": "stream",
     "text": [
      "                                                                             \r"
     ]
    },
    {
     "name": "stdout",
     "output_type": "stream",
     "text": [
      "Epoch 43/100: Train Loss = 657.9420, Val Loss = 998.5131\n"
     ]
    },
    {
     "name": "stderr",
     "output_type": "stream",
     "text": [
      "                                                                             \r"
     ]
    },
    {
     "name": "stdout",
     "output_type": "stream",
     "text": [
      "Epoch 44/100: Train Loss = 657.9432, Val Loss = 998.5226\n"
     ]
    },
    {
     "name": "stderr",
     "output_type": "stream",
     "text": [
      "                                                                             \r"
     ]
    },
    {
     "name": "stdout",
     "output_type": "stream",
     "text": [
      "Epoch 45/100: Train Loss = 657.9403, Val Loss = 998.4326\n"
     ]
    },
    {
     "name": "stderr",
     "output_type": "stream",
     "text": [
      "                                                                             \r"
     ]
    },
    {
     "name": "stdout",
     "output_type": "stream",
     "text": [
      "Epoch 46/100: Train Loss = 657.9348, Val Loss = 998.5024\n"
     ]
    },
    {
     "name": "stderr",
     "output_type": "stream",
     "text": [
      "                                                                             \r"
     ]
    },
    {
     "name": "stdout",
     "output_type": "stream",
     "text": [
      "Epoch 47/100: Train Loss = 657.9226, Val Loss = 998.5036\n"
     ]
    },
    {
     "name": "stderr",
     "output_type": "stream",
     "text": [
      "                                                                             \r"
     ]
    },
    {
     "name": "stdout",
     "output_type": "stream",
     "text": [
      "Epoch 48/100: Train Loss = 657.9798, Val Loss = 998.4244\n",
      "Model saved to saved_models/conv_vqvae/fraud_conv_vqvae/20250313_143341/best_model.pt\n",
      "New best validation loss: 998.4244\n"
     ]
    },
    {
     "name": "stderr",
     "output_type": "stream",
     "text": [
      "                                                                             \r"
     ]
    },
    {
     "name": "stdout",
     "output_type": "stream",
     "text": [
      "Epoch 49/100: Train Loss = 657.9372, Val Loss = 998.4995\n"
     ]
    },
    {
     "name": "stderr",
     "output_type": "stream",
     "text": [
      "                                                                             \r"
     ]
    },
    {
     "name": "stdout",
     "output_type": "stream",
     "text": [
      "Epoch 50/100: Train Loss = 657.9309, Val Loss = 998.5877\n"
     ]
    },
    {
     "name": "stderr",
     "output_type": "stream",
     "text": [
      "                                                                             \r"
     ]
    },
    {
     "name": "stdout",
     "output_type": "stream",
     "text": [
      "Epoch 51/100: Train Loss = 657.9189, Val Loss = 998.4793\n"
     ]
    },
    {
     "name": "stderr",
     "output_type": "stream",
     "text": [
      "                                                                             \r"
     ]
    },
    {
     "name": "stdout",
     "output_type": "stream",
     "text": [
      "Epoch 52/100: Train Loss = 657.9155, Val Loss = 998.4975\n"
     ]
    },
    {
     "name": "stderr",
     "output_type": "stream",
     "text": [
      "                                                                             \r"
     ]
    },
    {
     "name": "stdout",
     "output_type": "stream",
     "text": [
      "Epoch 53/100: Train Loss = 657.9036, Val Loss = 998.5140\n"
     ]
    },
    {
     "name": "stderr",
     "output_type": "stream",
     "text": [
      "                                                                             \r"
     ]
    },
    {
     "name": "stdout",
     "output_type": "stream",
     "text": [
      "Epoch 54/100: Train Loss = 657.9425, Val Loss = 998.4353\n"
     ]
    },
    {
     "name": "stderr",
     "output_type": "stream",
     "text": [
      "                                                                             \r"
     ]
    },
    {
     "name": "stdout",
     "output_type": "stream",
     "text": [
      "Epoch 55/100: Train Loss = 657.9394, Val Loss = 998.5009\n"
     ]
    },
    {
     "name": "stderr",
     "output_type": "stream",
     "text": [
      "                                                                             \r"
     ]
    },
    {
     "name": "stdout",
     "output_type": "stream",
     "text": [
      "Epoch 56/100: Train Loss = 657.9275, Val Loss = 998.5574\n"
     ]
    },
    {
     "name": "stderr",
     "output_type": "stream",
     "text": [
      "                                                                             \r"
     ]
    },
    {
     "name": "stdout",
     "output_type": "stream",
     "text": [
      "Epoch 57/100: Train Loss = 657.9282, Val Loss = 998.5053\n"
     ]
    },
    {
     "name": "stderr",
     "output_type": "stream",
     "text": [
      "                                                                             \r"
     ]
    },
    {
     "name": "stdout",
     "output_type": "stream",
     "text": [
      "Epoch 58/100: Train Loss = 657.9177, Val Loss = 998.4841\n"
     ]
    },
    {
     "name": "stderr",
     "output_type": "stream",
     "text": [
      "                                                                             \r"
     ]
    },
    {
     "name": "stdout",
     "output_type": "stream",
     "text": [
      "Epoch 59/100: Train Loss = 657.9145, Val Loss = 998.4622\n"
     ]
    },
    {
     "name": "stderr",
     "output_type": "stream",
     "text": [
      "                                                                             \r"
     ]
    },
    {
     "name": "stdout",
     "output_type": "stream",
     "text": [
      "Epoch 60/100: Train Loss = 657.9127, Val Loss = 998.4680\n"
     ]
    },
    {
     "name": "stderr",
     "output_type": "stream",
     "text": [
      "                                                                             \r"
     ]
    },
    {
     "name": "stdout",
     "output_type": "stream",
     "text": [
      "Epoch 61/100: Train Loss = 657.9189, Val Loss = 998.5383\n"
     ]
    },
    {
     "name": "stderr",
     "output_type": "stream",
     "text": [
      "                                                                             \r"
     ]
    },
    {
     "name": "stdout",
     "output_type": "stream",
     "text": [
      "Epoch 62/100: Train Loss = 657.9126, Val Loss = 998.4842\n"
     ]
    },
    {
     "name": "stderr",
     "output_type": "stream",
     "text": [
      "                                                                             \r"
     ]
    },
    {
     "name": "stdout",
     "output_type": "stream",
     "text": [
      "Epoch 63/100: Train Loss = 657.9185, Val Loss = 998.5681\n"
     ]
    },
    {
     "name": "stderr",
     "output_type": "stream",
     "text": [
      "                                                                             \r"
     ]
    },
    {
     "name": "stdout",
     "output_type": "stream",
     "text": [
      "Epoch 64/100: Train Loss = 657.9426, Val Loss = 998.4751\n"
     ]
    },
    {
     "name": "stderr",
     "output_type": "stream",
     "text": [
      "                                                                             \r"
     ]
    },
    {
     "name": "stdout",
     "output_type": "stream",
     "text": [
      "Epoch 65/100: Train Loss = 657.9125, Val Loss = 998.5215\n"
     ]
    },
    {
     "name": "stderr",
     "output_type": "stream",
     "text": [
      "                                                                             \r"
     ]
    },
    {
     "name": "stdout",
     "output_type": "stream",
     "text": [
      "Epoch 66/100: Train Loss = 657.9093, Val Loss = 998.4908\n"
     ]
    },
    {
     "name": "stderr",
     "output_type": "stream",
     "text": [
      "                                                                             \r"
     ]
    },
    {
     "name": "stdout",
     "output_type": "stream",
     "text": [
      "Epoch 67/100: Train Loss = 657.9186, Val Loss = 998.4965\n"
     ]
    },
    {
     "name": "stderr",
     "output_type": "stream",
     "text": [
      "                                                                             \r"
     ]
    },
    {
     "name": "stdout",
     "output_type": "stream",
     "text": [
      "Epoch 68/100: Train Loss = 657.9148, Val Loss = 998.5162\n"
     ]
    },
    {
     "name": "stderr",
     "output_type": "stream",
     "text": [
      "                                                                             \r"
     ]
    },
    {
     "name": "stdout",
     "output_type": "stream",
     "text": [
      "Epoch 69/100: Train Loss = 657.9142, Val Loss = 998.5408\n"
     ]
    },
    {
     "name": "stderr",
     "output_type": "stream",
     "text": [
      "                                                                             \r"
     ]
    },
    {
     "name": "stdout",
     "output_type": "stream",
     "text": [
      "Epoch 70/100: Train Loss = 657.9504, Val Loss = 998.4680\n"
     ]
    },
    {
     "name": "stderr",
     "output_type": "stream",
     "text": [
      "                                                                             \r"
     ]
    },
    {
     "name": "stdout",
     "output_type": "stream",
     "text": [
      "Epoch 71/100: Train Loss = 657.9185, Val Loss = 998.4440\n"
     ]
    },
    {
     "name": "stderr",
     "output_type": "stream",
     "text": [
      "                                                                             \r"
     ]
    },
    {
     "name": "stdout",
     "output_type": "stream",
     "text": [
      "Epoch 72/100: Train Loss = 657.9329, Val Loss = 998.4844\n"
     ]
    },
    {
     "name": "stderr",
     "output_type": "stream",
     "text": [
      "                                                                             \r"
     ]
    },
    {
     "name": "stdout",
     "output_type": "stream",
     "text": [
      "Epoch 73/100: Train Loss = 657.9035, Val Loss = 998.4855\n"
     ]
    },
    {
     "name": "stderr",
     "output_type": "stream",
     "text": [
      "                                                                             \r"
     ]
    },
    {
     "name": "stdout",
     "output_type": "stream",
     "text": [
      "Epoch 74/100: Train Loss = 657.9244, Val Loss = 998.4765\n"
     ]
    },
    {
     "name": "stderr",
     "output_type": "stream",
     "text": [
      "                                                                             \r"
     ]
    },
    {
     "name": "stdout",
     "output_type": "stream",
     "text": [
      "Epoch 75/100: Train Loss = 657.9042, Val Loss = 998.4996\n"
     ]
    },
    {
     "name": "stderr",
     "output_type": "stream",
     "text": [
      "                                                                             \r"
     ]
    },
    {
     "name": "stdout",
     "output_type": "stream",
     "text": [
      "Epoch 76/100: Train Loss = 657.9028, Val Loss = 998.4794\n"
     ]
    },
    {
     "name": "stderr",
     "output_type": "stream",
     "text": [
      "                                                                             \r"
     ]
    },
    {
     "name": "stdout",
     "output_type": "stream",
     "text": [
      "Epoch 77/100: Train Loss = 657.9108, Val Loss = 998.4582\n"
     ]
    },
    {
     "name": "stderr",
     "output_type": "stream",
     "text": [
      "                                                                             \r"
     ]
    },
    {
     "name": "stdout",
     "output_type": "stream",
     "text": [
      "Epoch 78/100: Train Loss = 657.9229, Val Loss = 998.5428\n"
     ]
    },
    {
     "name": "stderr",
     "output_type": "stream",
     "text": [
      "                                                                             \r"
     ]
    },
    {
     "name": "stdout",
     "output_type": "stream",
     "text": [
      "Epoch 79/100: Train Loss = 657.9209, Val Loss = 998.5125\n"
     ]
    },
    {
     "name": "stderr",
     "output_type": "stream",
     "text": [
      "                                                                             \r"
     ]
    },
    {
     "name": "stdout",
     "output_type": "stream",
     "text": [
      "Epoch 80/100: Train Loss = 657.9114, Val Loss = 998.4926\n"
     ]
    },
    {
     "name": "stderr",
     "output_type": "stream",
     "text": [
      "                                                                             \r"
     ]
    },
    {
     "name": "stdout",
     "output_type": "stream",
     "text": [
      "Epoch 81/100: Train Loss = 657.9075, Val Loss = 998.4866\n"
     ]
    },
    {
     "name": "stderr",
     "output_type": "stream",
     "text": [
      "                                                                             \r"
     ]
    },
    {
     "name": "stdout",
     "output_type": "stream",
     "text": [
      "Epoch 82/100: Train Loss = 657.9155, Val Loss = 998.4777\n"
     ]
    },
    {
     "name": "stderr",
     "output_type": "stream",
     "text": [
      "                                                                             \r"
     ]
    },
    {
     "name": "stdout",
     "output_type": "stream",
     "text": [
      "Epoch 83/100: Train Loss = 657.9218, Val Loss = 998.5151\n"
     ]
    },
    {
     "name": "stderr",
     "output_type": "stream",
     "text": [
      "                                                                             \r"
     ]
    },
    {
     "name": "stdout",
     "output_type": "stream",
     "text": [
      "Epoch 84/100: Train Loss = 657.9071, Val Loss = 998.4612\n"
     ]
    },
    {
     "name": "stderr",
     "output_type": "stream",
     "text": [
      "                                                                             \r"
     ]
    },
    {
     "name": "stdout",
     "output_type": "stream",
     "text": [
      "Epoch 85/100: Train Loss = 657.9095, Val Loss = 998.5120\n"
     ]
    },
    {
     "name": "stderr",
     "output_type": "stream",
     "text": [
      "                                                                             \r"
     ]
    },
    {
     "name": "stdout",
     "output_type": "stream",
     "text": [
      "Epoch 86/100: Train Loss = 657.9162, Val Loss = 998.4674\n"
     ]
    },
    {
     "name": "stderr",
     "output_type": "stream",
     "text": [
      "                                                                             \r"
     ]
    },
    {
     "name": "stdout",
     "output_type": "stream",
     "text": [
      "Epoch 87/100: Train Loss = 657.9242, Val Loss = 998.4832\n"
     ]
    },
    {
     "name": "stderr",
     "output_type": "stream",
     "text": [
      "                                                                             \r"
     ]
    },
    {
     "name": "stdout",
     "output_type": "stream",
     "text": [
      "Epoch 88/100: Train Loss = 657.8995, Val Loss = 998.5081\n"
     ]
    },
    {
     "name": "stderr",
     "output_type": "stream",
     "text": [
      "                                                                             \r"
     ]
    },
    {
     "name": "stdout",
     "output_type": "stream",
     "text": [
      "Epoch 89/100: Train Loss = 657.8958, Val Loss = 998.4973\n"
     ]
    },
    {
     "name": "stderr",
     "output_type": "stream",
     "text": [
      "                                                                             \r"
     ]
    },
    {
     "name": "stdout",
     "output_type": "stream",
     "text": [
      "Epoch 90/100: Train Loss = 657.8984, Val Loss = 998.4970\n"
     ]
    },
    {
     "name": "stderr",
     "output_type": "stream",
     "text": [
      "                                                                             \r"
     ]
    },
    {
     "name": "stdout",
     "output_type": "stream",
     "text": [
      "Epoch 91/100: Train Loss = 657.9064, Val Loss = 998.4984\n"
     ]
    },
    {
     "name": "stderr",
     "output_type": "stream",
     "text": [
      "                                                                             \r"
     ]
    },
    {
     "name": "stdout",
     "output_type": "stream",
     "text": [
      "Epoch 92/100: Train Loss = 657.9026, Val Loss = 998.4972\n"
     ]
    },
    {
     "name": "stderr",
     "output_type": "stream",
     "text": [
      "                                                                             \r"
     ]
    },
    {
     "name": "stdout",
     "output_type": "stream",
     "text": [
      "Epoch 93/100: Train Loss = 657.9074, Val Loss = 998.4826\n"
     ]
    },
    {
     "name": "stderr",
     "output_type": "stream",
     "text": [
      "                                                                             \r"
     ]
    },
    {
     "name": "stdout",
     "output_type": "stream",
     "text": [
      "Epoch 94/100: Train Loss = 657.9037, Val Loss = 998.4617\n"
     ]
    },
    {
     "name": "stderr",
     "output_type": "stream",
     "text": [
      "                                                                             \r"
     ]
    },
    {
     "name": "stdout",
     "output_type": "stream",
     "text": [
      "Epoch 95/100: Train Loss = 657.9033, Val Loss = 998.4612\n"
     ]
    },
    {
     "name": "stderr",
     "output_type": "stream",
     "text": [
      "                                                                             \r"
     ]
    },
    {
     "name": "stdout",
     "output_type": "stream",
     "text": [
      "Epoch 96/100: Train Loss = 657.8975, Val Loss = 998.4899\n"
     ]
    },
    {
     "name": "stderr",
     "output_type": "stream",
     "text": [
      "                                                                             \r"
     ]
    },
    {
     "name": "stdout",
     "output_type": "stream",
     "text": [
      "Epoch 97/100: Train Loss = 657.9173, Val Loss = 998.4830\n"
     ]
    },
    {
     "name": "stderr",
     "output_type": "stream",
     "text": [
      "                                                                             \r"
     ]
    },
    {
     "name": "stdout",
     "output_type": "stream",
     "text": [
      "Epoch 98/100: Train Loss = 657.9011, Val Loss = 998.4700\n"
     ]
    },
    {
     "name": "stderr",
     "output_type": "stream",
     "text": [
      "                                                                             \r"
     ]
    },
    {
     "name": "stdout",
     "output_type": "stream",
     "text": [
      "Epoch 99/100: Train Loss = 657.8975, Val Loss = 998.5024\n"
     ]
    },
    {
     "name": "stderr",
     "output_type": "stream",
     "text": [
      "                                                                             "
     ]
    },
    {
     "name": "stdout",
     "output_type": "stream",
     "text": [
      "Epoch 100/100: Train Loss = 657.9041, Val Loss = 998.5084\n",
      "Model saved to saved_models/conv_vqvae/fraud_conv_vqvae/20250313_143341/final_model.pt\n",
      "Training complete. Best validation loss: 998.4244\n",
      "Models saved to: saved_models/conv_vqvae/fraud_conv_vqvae/20250313_143341\n"
     ]
    },
    {
     "name": "stderr",
     "output_type": "stream",
     "text": [
      "\r"
     ]
    }
   ],
   "source": [
    "import os\n",
    "import torch\n",
    "import torch.optim as optim\n",
    "import numpy as np\n",
    "import random\n",
    "\n",
    "SEED = 42  # You can use any integer as your seed\n",
    "random.seed(SEED)\n",
    "np.random.seed(SEED)\n",
    "torch.manual_seed(SEED)\n",
    "torch.cuda.manual_seed_all(SEED)  # For multi-GPU setups\n",
    "torch.backends.cudnn.deterministic = True\n",
    "torch.backends.cudnn.benchmark = False\n",
    "\n",
    "# Import our model and trainer for VQ-VAE\n",
    "from models.conv_vqvae_model import ConvVQVAE, vqvae_loss_function, print_num_params\n",
    "from trainer.trainer_vqvae import VQVAETrainer\n",
    "from dataloader.dataloader import load_fraud_data, load_config\n",
    "\n",
    "# Import the model saving utility functions (or define them here)\n",
    "import os\n",
    "import torch\n",
    "from datetime import datetime\n",
    "import re\n",
    "from utils.model_saver import save_model, get_save_directory\n",
    "# Build the config path relative to this notebook's location\n",
    "config_path = \"configs/conv_vqvae/fraud_conv_vqvae.config\"\n",
    "\n",
    "# Use configparser to maintain compatibility with your model code\n",
    "import configparser\n",
    "config_parser = configparser.ConfigParser()\n",
    "config_parser.read(config_path)\n",
    "\n",
    "# Extract the model configuration from the \"Conv_VQVAE\" section\n",
    "conv_vqvae_config = config_parser[\"Conv_VQVAE\"]\n",
    "\n",
    "# Use load_config for the dataloader (it expects the dictionary format)\n",
    "config_dict = load_config(config_path)\n",
    "\n",
    "# Load data (this will override defaults with settings from the config's DataLoader section)\n",
    "data = load_fraud_data(config_path=config_path)\n",
    "dataloaders = data['dataloaders']\n",
    "input_dim = data['input_dim']\n",
    "\n",
    "# Instantiate the VQ-VAE model using the config section\n",
    "model = ConvVQVAE(conv_vqvae_config)\n",
    "print_num_params(model)\n",
    "\n",
    "# Retrieve training hyperparameters from the Trainer section (including learning rate)\n",
    "lr = config_parser[\"Trainer\"].getfloat(\"lr\")\n",
    "num_epochs = config_parser[\"Trainer\"].getint(\"num_epochs\")\n",
    "\n",
    "# Define the optimizer and loss function for the VQ-VAE\n",
    "optimizer = optim.Adam(model.parameters(), lr=lr)\n",
    "loss_fn = vqvae_loss_function\n",
    "\n",
    "# Create the trainer instance (using your existing trainer class)\n",
    "trainer = VQVAETrainer(model, dataloaders, loss_fn, optimizer)\n",
    "\n",
    "# Create a single timestamped directory for this training run\n",
    "save_dir = get_save_directory(config_path)\n",
    "print(f\"Models will be saved to: {save_dir}\")\n",
    "\n",
    "# Track best validation loss for model saving\n",
    "best_val_loss = float('inf')\n",
    "\n",
    "# Train the model and save at appropriate points\n",
    "train_losses, val_losses = [], []\n",
    "for epoch in range(1, num_epochs + 1):\n",
    "    # Use the trainer's methods to train and validate for one epoch\n",
    "    train_loss = trainer.train_epoch()\n",
    "    val_loss = trainer.validate_epoch()\n",
    "    \n",
    "    train_losses.append(train_loss)\n",
    "    val_losses.append(val_loss)\n",
    "    \n",
    "    # Print progress\n",
    "    print(f\"Epoch {epoch}/{num_epochs}: Train Loss = {train_loss:.4f}, Val Loss = {val_loss:.4f}\")\n",
    "    \n",
    "    # Prepare metadata to save with the model\n",
    "    metadata = {\n",
    "        'epoch': epoch,\n",
    "        'train_loss': train_loss,\n",
    "        'val_loss': val_loss\n",
    "    }\n",
    "    \n",
    "    # Save best model if validation loss improved\n",
    "    if val_loss < best_val_loss:\n",
    "        best_val_loss = val_loss\n",
    "        save_model(model, save_dir, 'best_model.pt', metadata)\n",
    "        print(f\"New best validation loss: {val_loss:.4f}\")\n",
    "\n",
    "# Save final model (only if it's not already the best model)\n",
    "if val_losses[-1] > best_val_loss:\n",
    "    save_model(model, save_dir, 'final_model.pt', {\n",
    "        'epoch': num_epochs,\n",
    "        'train_loss': train_losses[-1],\n",
    "        'val_loss': val_losses[-1]\n",
    "    })\n",
    "\n",
    "print(f\"Training complete. Best validation loss: {best_val_loss:.4f}\")\n",
    "print(f\"Models saved to: {save_dir}\")\n",
    "\n"
   ]
  },
  {
   "cell_type": "markdown",
   "metadata": {},
   "source": [
    "## Transformer VQVAE"
   ]
  },
  {
   "cell_type": "code",
   "execution_count": 2,
   "metadata": {},
   "outputs": [
    {
     "name": "stdout",
     "output_type": "stream",
     "text": [
      "Loaded configuration from configs/transformer_vqvae/fraud_transformer_vqvae.config\n",
      "Filtered dataset to class 1: 378 samples\n",
      "Normalization statistics (calculated from class 1): {'Time': {'mean': 80790.48148148147, 'std': 48332.5139872635}, 'Amount': {'mean': 133.6764814814815, 'std': 276.3532237447719}}\n",
      "Filtered dataset to class 1: 378 samples\n",
      "Filtered dataset to class 1: 47 samples\n",
      "Filtered dataset to class 1: 48 samples\n",
      "Total number of trainable parameters: 170689\n",
      "Models will be saved to: saved_models/transformer_vqvae/fraud_transformer_vqvae/20250313_131105\n"
     ]
    },
    {
     "name": "stderr",
     "output_type": "stream",
     "text": [
      "                                                                             \r"
     ]
    },
    {
     "name": "stdout",
     "output_type": "stream",
     "text": [
      "Epoch 1/50: Train Loss = 654.7753, Val Loss = 984.5373\n",
      "Model saved to saved_models/transformer_vqvae/fraud_transformer_vqvae/20250313_131105/best_model.pt\n",
      "New best validation loss: 984.5373\n"
     ]
    },
    {
     "name": "stderr",
     "output_type": "stream",
     "text": [
      "                                                                             \r"
     ]
    },
    {
     "name": "stdout",
     "output_type": "stream",
     "text": [
      "Epoch 2/50: Train Loss = 647.1583, Val Loss = 984.1514\n",
      "Model saved to saved_models/transformer_vqvae/fraud_transformer_vqvae/20250313_131105/best_model.pt\n",
      "New best validation loss: 984.1514\n"
     ]
    },
    {
     "name": "stderr",
     "output_type": "stream",
     "text": [
      "                                                                             \r"
     ]
    },
    {
     "name": "stdout",
     "output_type": "stream",
     "text": [
      "Epoch 3/50: Train Loss = 646.9973, Val Loss = 984.0501\n",
      "Model saved to saved_models/transformer_vqvae/fraud_transformer_vqvae/20250313_131105/best_model.pt\n",
      "New best validation loss: 984.0501\n"
     ]
    },
    {
     "name": "stderr",
     "output_type": "stream",
     "text": [
      "                                                                             \r"
     ]
    },
    {
     "name": "stdout",
     "output_type": "stream",
     "text": [
      "Epoch 4/50: Train Loss = 646.9363, Val Loss = 983.9916\n",
      "Model saved to saved_models/transformer_vqvae/fraud_transformer_vqvae/20250313_131105/best_model.pt\n",
      "New best validation loss: 983.9916\n"
     ]
    },
    {
     "name": "stderr",
     "output_type": "stream",
     "text": [
      "                                                                             \r"
     ]
    },
    {
     "name": "stdout",
     "output_type": "stream",
     "text": [
      "Epoch 5/50: Train Loss = 646.8360, Val Loss = 983.7335\n",
      "Model saved to saved_models/transformer_vqvae/fraud_transformer_vqvae/20250313_131105/best_model.pt\n",
      "New best validation loss: 983.7335\n"
     ]
    },
    {
     "name": "stderr",
     "output_type": "stream",
     "text": [
      "                                                                             \r"
     ]
    },
    {
     "name": "stdout",
     "output_type": "stream",
     "text": [
      "Epoch 6/50: Train Loss = 646.6988, Val Loss = 983.9249\n"
     ]
    },
    {
     "name": "stderr",
     "output_type": "stream",
     "text": [
      "                                                                             \r"
     ]
    },
    {
     "name": "stdout",
     "output_type": "stream",
     "text": [
      "Epoch 7/50: Train Loss = 646.8555, Val Loss = 984.0608\n"
     ]
    },
    {
     "name": "stderr",
     "output_type": "stream",
     "text": [
      "                                                                             \r"
     ]
    },
    {
     "name": "stdout",
     "output_type": "stream",
     "text": [
      "Epoch 8/50: Train Loss = 646.9518, Val Loss = 984.1817\n"
     ]
    },
    {
     "name": "stderr",
     "output_type": "stream",
     "text": [
      "                                                                             \r"
     ]
    },
    {
     "name": "stdout",
     "output_type": "stream",
     "text": [
      "Epoch 9/50: Train Loss = 647.0312, Val Loss = 984.2847\n"
     ]
    },
    {
     "name": "stderr",
     "output_type": "stream",
     "text": [
      "                                                                             \r"
     ]
    },
    {
     "name": "stdout",
     "output_type": "stream",
     "text": [
      "Epoch 10/50: Train Loss = 647.0945, Val Loss = 984.2881\n"
     ]
    },
    {
     "name": "stderr",
     "output_type": "stream",
     "text": [
      "                                                                             \r"
     ]
    },
    {
     "name": "stdout",
     "output_type": "stream",
     "text": [
      "Epoch 11/50: Train Loss = 647.1388, Val Loss = 984.3364\n"
     ]
    },
    {
     "name": "stderr",
     "output_type": "stream",
     "text": [
      "                                                                             \r"
     ]
    },
    {
     "name": "stdout",
     "output_type": "stream",
     "text": [
      "Epoch 12/50: Train Loss = 647.1827, Val Loss = 984.4300\n"
     ]
    },
    {
     "name": "stderr",
     "output_type": "stream",
     "text": [
      "                                                                             \r"
     ]
    },
    {
     "name": "stdout",
     "output_type": "stream",
     "text": [
      "Epoch 13/50: Train Loss = 647.2211, Val Loss = 984.4509\n"
     ]
    },
    {
     "name": "stderr",
     "output_type": "stream",
     "text": [
      "                                                                             \r"
     ]
    },
    {
     "name": "stdout",
     "output_type": "stream",
     "text": [
      "Epoch 14/50: Train Loss = 647.2443, Val Loss = 984.4628\n"
     ]
    },
    {
     "name": "stderr",
     "output_type": "stream",
     "text": [
      "                                                                             \r"
     ]
    },
    {
     "name": "stdout",
     "output_type": "stream",
     "text": [
      "Epoch 15/50: Train Loss = 647.2726, Val Loss = 984.4706\n"
     ]
    },
    {
     "name": "stderr",
     "output_type": "stream",
     "text": [
      "                                                                             \r"
     ]
    },
    {
     "name": "stdout",
     "output_type": "stream",
     "text": [
      "Epoch 16/50: Train Loss = 647.2916, Val Loss = 984.4808\n"
     ]
    },
    {
     "name": "stderr",
     "output_type": "stream",
     "text": [
      "                                                                             \r"
     ]
    },
    {
     "name": "stdout",
     "output_type": "stream",
     "text": [
      "Epoch 17/50: Train Loss = 647.3152, Val Loss = 984.4765\n"
     ]
    },
    {
     "name": "stderr",
     "output_type": "stream",
     "text": [
      "                                                                             \r"
     ]
    },
    {
     "name": "stdout",
     "output_type": "stream",
     "text": [
      "Epoch 18/50: Train Loss = 647.2978, Val Loss = 984.4869\n"
     ]
    },
    {
     "name": "stderr",
     "output_type": "stream",
     "text": [
      "                                                                             \r"
     ]
    },
    {
     "name": "stdout",
     "output_type": "stream",
     "text": [
      "Epoch 19/50: Train Loss = 647.2891, Val Loss = 984.4532\n"
     ]
    },
    {
     "name": "stderr",
     "output_type": "stream",
     "text": [
      "                                                                             \r"
     ]
    },
    {
     "name": "stdout",
     "output_type": "stream",
     "text": [
      "Epoch 20/50: Train Loss = 647.3108, Val Loss = 984.4898\n"
     ]
    },
    {
     "name": "stderr",
     "output_type": "stream",
     "text": [
      "                                                                             \r"
     ]
    },
    {
     "name": "stdout",
     "output_type": "stream",
     "text": [
      "Epoch 21/50: Train Loss = 647.3312, Val Loss = 984.4534\n"
     ]
    },
    {
     "name": "stderr",
     "output_type": "stream",
     "text": [
      "                                                                             \r"
     ]
    },
    {
     "name": "stdout",
     "output_type": "stream",
     "text": [
      "Epoch 22/50: Train Loss = 647.3248, Val Loss = 984.5269\n"
     ]
    },
    {
     "name": "stderr",
     "output_type": "stream",
     "text": [
      "                                                                             \r"
     ]
    },
    {
     "name": "stdout",
     "output_type": "stream",
     "text": [
      "Epoch 23/50: Train Loss = 647.3703, Val Loss = 984.5367\n"
     ]
    },
    {
     "name": "stderr",
     "output_type": "stream",
     "text": [
      "                                                                             \r"
     ]
    },
    {
     "name": "stdout",
     "output_type": "stream",
     "text": [
      "Epoch 24/50: Train Loss = 647.3537, Val Loss = 984.5304\n"
     ]
    },
    {
     "name": "stderr",
     "output_type": "stream",
     "text": [
      "                                                                             \r"
     ]
    },
    {
     "name": "stdout",
     "output_type": "stream",
     "text": [
      "Epoch 25/50: Train Loss = 647.3904, Val Loss = 984.5603\n"
     ]
    },
    {
     "name": "stderr",
     "output_type": "stream",
     "text": [
      "                                                                             \r"
     ]
    },
    {
     "name": "stdout",
     "output_type": "stream",
     "text": [
      "Epoch 26/50: Train Loss = 647.3546, Val Loss = 984.5444\n"
     ]
    },
    {
     "name": "stderr",
     "output_type": "stream",
     "text": [
      "                                                                             \r"
     ]
    },
    {
     "name": "stdout",
     "output_type": "stream",
     "text": [
      "Epoch 27/50: Train Loss = 647.3570, Val Loss = 984.5488\n"
     ]
    },
    {
     "name": "stderr",
     "output_type": "stream",
     "text": [
      "                                                                             \r"
     ]
    },
    {
     "name": "stdout",
     "output_type": "stream",
     "text": [
      "Epoch 28/50: Train Loss = 647.4122, Val Loss = 984.6010\n"
     ]
    },
    {
     "name": "stderr",
     "output_type": "stream",
     "text": [
      "                                                                             \r"
     ]
    },
    {
     "name": "stdout",
     "output_type": "stream",
     "text": [
      "Epoch 29/50: Train Loss = 647.5025, Val Loss = 984.7829\n"
     ]
    },
    {
     "name": "stderr",
     "output_type": "stream",
     "text": [
      "                                                                             \r"
     ]
    },
    {
     "name": "stdout",
     "output_type": "stream",
     "text": [
      "Epoch 30/50: Train Loss = 647.5091, Val Loss = 984.8086\n"
     ]
    },
    {
     "name": "stderr",
     "output_type": "stream",
     "text": [
      "                                                                             \r"
     ]
    },
    {
     "name": "stdout",
     "output_type": "stream",
     "text": [
      "Epoch 31/50: Train Loss = 647.5106, Val Loss = 984.7037\n"
     ]
    },
    {
     "name": "stderr",
     "output_type": "stream",
     "text": [
      "                                                                             \r"
     ]
    },
    {
     "name": "stdout",
     "output_type": "stream",
     "text": [
      "Epoch 32/50: Train Loss = 647.5011, Val Loss = 984.7728\n"
     ]
    },
    {
     "name": "stderr",
     "output_type": "stream",
     "text": [
      "                                                                             \r"
     ]
    },
    {
     "name": "stdout",
     "output_type": "stream",
     "text": [
      "Epoch 33/50: Train Loss = 647.3886, Val Loss = 984.5510\n"
     ]
    },
    {
     "name": "stderr",
     "output_type": "stream",
     "text": [
      "                                                                             \r"
     ]
    },
    {
     "name": "stdout",
     "output_type": "stream",
     "text": [
      "Epoch 34/50: Train Loss = 647.3741, Val Loss = 984.5634\n"
     ]
    },
    {
     "name": "stderr",
     "output_type": "stream",
     "text": [
      "                                                                             \r"
     ]
    },
    {
     "name": "stdout",
     "output_type": "stream",
     "text": [
      "Epoch 35/50: Train Loss = 647.4152, Val Loss = 984.6036\n"
     ]
    },
    {
     "name": "stderr",
     "output_type": "stream",
     "text": [
      "                                                                             \r"
     ]
    },
    {
     "name": "stdout",
     "output_type": "stream",
     "text": [
      "Epoch 36/50: Train Loss = 647.4515, Val Loss = 984.6848\n"
     ]
    },
    {
     "name": "stderr",
     "output_type": "stream",
     "text": [
      "                                                                             \r"
     ]
    },
    {
     "name": "stdout",
     "output_type": "stream",
     "text": [
      "Epoch 37/50: Train Loss = 647.4683, Val Loss = 984.6235\n"
     ]
    },
    {
     "name": "stderr",
     "output_type": "stream",
     "text": [
      "                                                                             \r"
     ]
    },
    {
     "name": "stdout",
     "output_type": "stream",
     "text": [
      "Epoch 38/50: Train Loss = 647.4429, Val Loss = 984.6227\n"
     ]
    },
    {
     "name": "stderr",
     "output_type": "stream",
     "text": [
      "                                                                             \r"
     ]
    },
    {
     "name": "stdout",
     "output_type": "stream",
     "text": [
      "Epoch 39/50: Train Loss = 647.4850, Val Loss = 984.6780\n"
     ]
    },
    {
     "name": "stderr",
     "output_type": "stream",
     "text": [
      "                                                                             \r"
     ]
    },
    {
     "name": "stdout",
     "output_type": "stream",
     "text": [
      "Epoch 40/50: Train Loss = 647.5229, Val Loss = 984.7837\n"
     ]
    },
    {
     "name": "stderr",
     "output_type": "stream",
     "text": [
      "                                                                             \r"
     ]
    },
    {
     "name": "stdout",
     "output_type": "stream",
     "text": [
      "Epoch 41/50: Train Loss = 647.5624, Val Loss = 984.8693\n"
     ]
    },
    {
     "name": "stderr",
     "output_type": "stream",
     "text": [
      "                                                                             \r"
     ]
    },
    {
     "name": "stdout",
     "output_type": "stream",
     "text": [
      "Epoch 42/50: Train Loss = 647.5925, Val Loss = 984.8953\n"
     ]
    },
    {
     "name": "stderr",
     "output_type": "stream",
     "text": [
      "                                                                             \r"
     ]
    },
    {
     "name": "stdout",
     "output_type": "stream",
     "text": [
      "Epoch 43/50: Train Loss = 647.5966, Val Loss = 984.8786\n"
     ]
    },
    {
     "name": "stderr",
     "output_type": "stream",
     "text": [
      "                                                                             \r"
     ]
    },
    {
     "name": "stdout",
     "output_type": "stream",
     "text": [
      "Epoch 44/50: Train Loss = 647.6100, Val Loss = 984.9418\n"
     ]
    },
    {
     "name": "stderr",
     "output_type": "stream",
     "text": [
      "                                                                             \r"
     ]
    },
    {
     "name": "stdout",
     "output_type": "stream",
     "text": [
      "Epoch 45/50: Train Loss = 647.6170, Val Loss = 984.8947\n"
     ]
    },
    {
     "name": "stderr",
     "output_type": "stream",
     "text": [
      "                                                                             \r"
     ]
    },
    {
     "name": "stdout",
     "output_type": "stream",
     "text": [
      "Epoch 46/50: Train Loss = 647.6655, Val Loss = 984.9535\n"
     ]
    },
    {
     "name": "stderr",
     "output_type": "stream",
     "text": [
      "                                                                             \r"
     ]
    },
    {
     "name": "stdout",
     "output_type": "stream",
     "text": [
      "Epoch 47/50: Train Loss = 647.6545, Val Loss = 984.9999\n"
     ]
    },
    {
     "name": "stderr",
     "output_type": "stream",
     "text": [
      "                                                                             \r"
     ]
    },
    {
     "name": "stdout",
     "output_type": "stream",
     "text": [
      "Epoch 48/50: Train Loss = 647.6301, Val Loss = 984.9526\n"
     ]
    },
    {
     "name": "stderr",
     "output_type": "stream",
     "text": [
      "                                                                             \r"
     ]
    },
    {
     "name": "stdout",
     "output_type": "stream",
     "text": [
      "Epoch 49/50: Train Loss = 647.7078, Val Loss = 985.0489\n"
     ]
    },
    {
     "name": "stderr",
     "output_type": "stream",
     "text": [
      "                                                                             "
     ]
    },
    {
     "name": "stdout",
     "output_type": "stream",
     "text": [
      "Epoch 50/50: Train Loss = 647.6576, Val Loss = 984.8740\n",
      "Model saved to saved_models/transformer_vqvae/fraud_transformer_vqvae/20250313_131105/final_model.pt\n",
      "Training complete. Best validation loss: 983.7335\n",
      "Models saved to: saved_models/transformer_vqvae/fraud_transformer_vqvae/20250313_131105\n"
     ]
    },
    {
     "name": "stderr",
     "output_type": "stream",
     "text": [
      "\r"
     ]
    }
   ],
   "source": [
    "import os\n",
    "import torch\n",
    "import torch.optim as optim\n",
    "import numpy as np\n",
    "import random\n",
    "\n",
    "SEED = 42  # You can use any integer as your seed\n",
    "random.seed(SEED)\n",
    "np.random.seed(SEED)\n",
    "torch.manual_seed(SEED)\n",
    "torch.cuda.manual_seed_all(SEED)  # For multi-GPU setups\n",
    "torch.backends.cudnn.deterministic = True\n",
    "torch.backends.cudnn.benchmark = False\n",
    "\n",
    "# Import our model and trainer for VQ-VAE\n",
    "from models.transformer_vqvae_model import TransformerVQVAE, vqvae_loss_function, print_num_params\n",
    "from trainer.trainer_vqvae import VQVAETrainer\n",
    "from dataloader.dataloader import load_fraud_data, load_config\n",
    "\n",
    "# Import the model saving utility functions (or define them here)\n",
    "import os\n",
    "import torch\n",
    "from datetime import datetime\n",
    "import re\n",
    "from utils.model_saver import save_model, get_save_directory\n",
    "# Build the config path relative to this notebook's location\n",
    "config_path = \"configs/transformer_vqvae/fraud_transformer_vqvae.config\"\n",
    "\n",
    "# Use configparser to maintain compatibility with your model code\n",
    "import configparser\n",
    "config_parser = configparser.ConfigParser()\n",
    "config_parser.read(config_path)\n",
    "\n",
    "transformer_vqvae_config = config_parser[\"Transformer_VQVAE\"]\n",
    "\n",
    "# Use load_config for the dataloader (it expects the dictionary format)\n",
    "config_dict = load_config(config_path)\n",
    "\n",
    "# Load data (this will override defaults with settings from the config's DataLoader section)\n",
    "data = load_fraud_data(config_path=config_path)\n",
    "dataloaders = data['dataloaders']\n",
    "input_dim = data['input_dim']\n",
    "\n",
    "# Instantiate the VQ-VAE model using the config section\n",
    "model = TransformerVQVAE(transformer_vqvae_config)\n",
    "print_num_params(model)\n",
    "\n",
    "# Retrieve training hyperparameters from the Trainer section (including learning rate)\n",
    "lr = config_parser[\"Trainer\"].getfloat(\"lr\")\n",
    "num_epochs = config_parser[\"Trainer\"].getint(\"num_epochs\")\n",
    "\n",
    "# Define the optimizer and loss function for the VQ-VAE\n",
    "optimizer = optim.Adam(model.parameters(), lr=lr)\n",
    "loss_fn = vqvae_loss_function\n",
    "\n",
    "# Create the trainer instance (using your existing trainer class)\n",
    "trainer = VQVAETrainer(model, dataloaders, loss_fn, optimizer)\n",
    "\n",
    "# Create a single timestamped directory for this training run\n",
    "save_dir = get_save_directory(config_path)\n",
    "print(f\"Models will be saved to: {save_dir}\")\n",
    "\n",
    "# Track best validation loss for model saving\n",
    "best_val_loss = float('inf')\n",
    "\n",
    "# Train the model and save at appropriate points\n",
    "train_losses, val_losses = [], []\n",
    "for epoch in range(1, num_epochs + 1):\n",
    "    # Use the trainer's methods to train and validate for one epoch\n",
    "    train_loss = trainer.train_epoch()\n",
    "    val_loss = trainer.validate_epoch()\n",
    "    \n",
    "    train_losses.append(train_loss)\n",
    "    val_losses.append(val_loss)\n",
    "    \n",
    "    # Print progress\n",
    "    print(f\"Epoch {epoch}/{num_epochs}: Train Loss = {train_loss:.4f}, Val Loss = {val_loss:.4f}\")\n",
    "    \n",
    "    # Prepare metadata to save with the model\n",
    "    metadata = {\n",
    "        'epoch': epoch,\n",
    "        'train_loss': train_loss,\n",
    "        'val_loss': val_loss\n",
    "    }\n",
    "    \n",
    "    # Save best model if validation loss improved\n",
    "    if val_loss < best_val_loss:\n",
    "        best_val_loss = val_loss\n",
    "        save_model(model, save_dir, 'best_model.pt', metadata)\n",
    "        print(f\"New best validation loss: {val_loss:.4f}\")\n",
    "\n",
    "# Save final model (only if it's not already the best model)\n",
    "if val_losses[-1] > best_val_loss:\n",
    "    save_model(model, save_dir, 'final_model.pt', {\n",
    "        'epoch': num_epochs,\n",
    "        'train_loss': train_losses[-1],\n",
    "        'val_loss': val_losses[-1]\n",
    "    })\n",
    "\n",
    "print(f\"Training complete. Best validation loss: {best_val_loss:.4f}\")\n",
    "print(f\"Models saved to: {save_dir}\")\n",
    "\n"
   ]
  },
  {
   "cell_type": "code",
   "execution_count": null,
   "metadata": {},
   "outputs": [],
   "source": []
  }
 ],
 "metadata": {
  "kernelspec": {
   "display_name": "credit_vae",
   "language": "python",
   "name": "python3"
  },
  "language_info": {
   "codemirror_mode": {
    "name": "ipython",
    "version": 3
   },
   "file_extension": ".py",
   "mimetype": "text/x-python",
   "name": "python",
   "nbconvert_exporter": "python",
   "pygments_lexer": "ipython3",
   "version": "3.8.20"
  }
 },
 "nbformat": 4,
 "nbformat_minor": 2
}
