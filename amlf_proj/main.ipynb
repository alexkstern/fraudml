{
 "cells": [
  {
   "cell_type": "markdown",
   "metadata": {},
   "source": [
    "# Main"
   ]
  },
  {
   "cell_type": "markdown",
   "metadata": {},
   "source": [
    "# Train Fraud"
   ]
  },
  {
   "cell_type": "markdown",
   "metadata": {},
   "source": [
    "## Conv VAE"
   ]
  },
  {
   "cell_type": "markdown",
   "metadata": {},
   "source": [
    "### Fraud"
   ]
  },
  {
   "cell_type": "code",
   "execution_count": 2,
   "metadata": {},
   "outputs": [
    {
     "name": "stdout",
     "output_type": "stream",
     "text": [
      "Initializing WandB run: conv-vae-fraud_20250313_173404 (Project: fraud-classification, Entity: alexkstern)\n"
     ]
    },
    {
     "data": {
      "text/html": [
       "creating run (0.1s)"
      ],
      "text/plain": [
       "<IPython.core.display.HTML object>"
      ]
     },
     "metadata": {},
     "output_type": "display_data"
    },
    {
     "data": {
      "text/html": [
       "Tracking run with wandb version 0.19.8"
      ],
      "text/plain": [
       "<IPython.core.display.HTML object>"
      ]
     },
     "metadata": {},
     "output_type": "display_data"
    },
    {
     "data": {
      "text/html": [
       "Run data is saved locally in <code>/home/alexkstern/fraudml/amlf_proj/wandb/run-20250313_173404-wvlenkew</code>"
      ],
      "text/plain": [
       "<IPython.core.display.HTML object>"
      ]
     },
     "metadata": {},
     "output_type": "display_data"
    },
    {
     "data": {
      "text/html": [
       "Syncing run <strong><a href='https://wandb.ai/alexkstern/fraud-classification/runs/wvlenkew' target=\"_blank\">conv-vae-fraud_20250313_173404</a></strong> to <a href='https://wandb.ai/alexkstern/fraud-classification' target=\"_blank\">Weights & Biases</a> (<a href='https://wandb.me/developer-guide' target=\"_blank\">docs</a>)<br>"
      ],
      "text/plain": [
       "<IPython.core.display.HTML object>"
      ]
     },
     "metadata": {},
     "output_type": "display_data"
    },
    {
     "data": {
      "text/html": [
       " View project at <a href='https://wandb.ai/alexkstern/fraud-classification' target=\"_blank\">https://wandb.ai/alexkstern/fraud-classification</a>"
      ],
      "text/plain": [
       "<IPython.core.display.HTML object>"
      ]
     },
     "metadata": {},
     "output_type": "display_data"
    },
    {
     "data": {
      "text/html": [
       " View run at <a href='https://wandb.ai/alexkstern/fraud-classification/runs/wvlenkew' target=\"_blank\">https://wandb.ai/alexkstern/fraud-classification/runs/wvlenkew</a>"
      ],
      "text/plain": [
       "<IPython.core.display.HTML object>"
      ]
     },
     "metadata": {},
     "output_type": "display_data"
    },
    {
     "name": "stdout",
     "output_type": "stream",
     "text": [
      "Loaded configuration from configs/conv_vae/fraud_conv_vae.config\n",
      "Filtered dataset to class 1: 378 samples\n",
      "Normalization statistics (calculated from class 1): {'Time': {'mean': 80790.48148148147, 'std': 48332.5139872635}, 'Amount': {'mean': 133.6764814814815, 'std': 276.3532237447719}}\n",
      "Filtered dataset to class 1: 378 samples\n",
      "Filtered dataset to class 1: 47 samples\n",
      "Filtered dataset to class 1: 48 samples\n",
      "Total number of trainable parameters: 62727\n",
      "Models will be saved to: saved_models/conv_vae/fraud_conv_vae/20250313_173415\n"
     ]
    },
    {
     "name": "stderr",
     "output_type": "stream",
     "text": [
      "                                                                           \r"
     ]
    },
    {
     "name": "stdout",
     "output_type": "stream",
     "text": [
      "Epoch 1/150: Train Loss = 704.4488, Val Loss = 1022.8286\n",
      "Model saved to saved_models/conv_vae/fraud_conv_vae/20250313_173415/best_model.pt\n",
      "New best validation loss: 1022.8286\n"
     ]
    },
    {
     "name": "stderr",
     "output_type": "stream",
     "text": [
      "                                                                           \r"
     ]
    },
    {
     "name": "stdout",
     "output_type": "stream",
     "text": [
      "Epoch 2/150: Train Loss = 679.0434, Val Loss = 1022.5550\n",
      "Model saved to saved_models/conv_vae/fraud_conv_vae/20250313_173415/best_model.pt\n",
      "New best validation loss: 1022.5550\n"
     ]
    },
    {
     "name": "stderr",
     "output_type": "stream",
     "text": [
      "                                                                           \r"
     ]
    },
    {
     "name": "stdout",
     "output_type": "stream",
     "text": [
      "Epoch 3/150: Train Loss = 678.9731, Val Loss = 1022.5265\n",
      "Model saved to saved_models/conv_vae/fraud_conv_vae/20250313_173415/best_model.pt\n",
      "New best validation loss: 1022.5265\n"
     ]
    },
    {
     "name": "stderr",
     "output_type": "stream",
     "text": [
      "                                                                           \r"
     ]
    },
    {
     "name": "stdout",
     "output_type": "stream",
     "text": [
      "Epoch 4/150: Train Loss = 678.9738, Val Loss = 1022.5521\n"
     ]
    },
    {
     "name": "stderr",
     "output_type": "stream",
     "text": [
      "                                                                           \r"
     ]
    },
    {
     "name": "stdout",
     "output_type": "stream",
     "text": [
      "Epoch 5/150: Train Loss = 678.9614, Val Loss = 1022.5346\n"
     ]
    },
    {
     "name": "stderr",
     "output_type": "stream",
     "text": [
      "                                                                           \r"
     ]
    },
    {
     "name": "stdout",
     "output_type": "stream",
     "text": [
      "Epoch 6/150: Train Loss = 678.9674, Val Loss = 1022.5279\n"
     ]
    },
    {
     "name": "stderr",
     "output_type": "stream",
     "text": [
      "                                                                           \r"
     ]
    },
    {
     "name": "stdout",
     "output_type": "stream",
     "text": [
      "Epoch 7/150: Train Loss = 678.9592, Val Loss = 1022.5274\n"
     ]
    },
    {
     "name": "stderr",
     "output_type": "stream",
     "text": [
      "                                                                           \r"
     ]
    },
    {
     "name": "stdout",
     "output_type": "stream",
     "text": [
      "Epoch 8/150: Train Loss = 678.9613, Val Loss = 1022.5326\n"
     ]
    },
    {
     "name": "stderr",
     "output_type": "stream",
     "text": [
      "                                                                           \r"
     ]
    },
    {
     "name": "stdout",
     "output_type": "stream",
     "text": [
      "Epoch 9/150: Train Loss = 678.9659, Val Loss = 1022.5347\n"
     ]
    },
    {
     "name": "stderr",
     "output_type": "stream",
     "text": [
      "                                                                           \r"
     ]
    },
    {
     "name": "stdout",
     "output_type": "stream",
     "text": [
      "Epoch 10/150: Train Loss = 678.9616, Val Loss = 1022.5378\n"
     ]
    },
    {
     "name": "stderr",
     "output_type": "stream",
     "text": [
      "                                                                           \r"
     ]
    },
    {
     "name": "stdout",
     "output_type": "stream",
     "text": [
      "Epoch 11/150: Train Loss = 678.9632, Val Loss = 1022.5346\n"
     ]
    },
    {
     "name": "stderr",
     "output_type": "stream",
     "text": [
      "                                                                           \r"
     ]
    },
    {
     "name": "stdout",
     "output_type": "stream",
     "text": [
      "Epoch 12/150: Train Loss = 678.9609, Val Loss = 1022.5292\n"
     ]
    },
    {
     "name": "stderr",
     "output_type": "stream",
     "text": [
      "                                                                           \r"
     ]
    },
    {
     "name": "stdout",
     "output_type": "stream",
     "text": [
      "Epoch 13/150: Train Loss = 678.9595, Val Loss = 1022.5272\n"
     ]
    },
    {
     "name": "stderr",
     "output_type": "stream",
     "text": [
      "                                                                           \r"
     ]
    },
    {
     "name": "stdout",
     "output_type": "stream",
     "text": [
      "Epoch 14/150: Train Loss = 678.9634, Val Loss = 1022.5356\n"
     ]
    },
    {
     "name": "stderr",
     "output_type": "stream",
     "text": [
      "                                                                           \r"
     ]
    },
    {
     "name": "stdout",
     "output_type": "stream",
     "text": [
      "Epoch 15/150: Train Loss = 678.9615, Val Loss = 1022.5340\n"
     ]
    },
    {
     "name": "stderr",
     "output_type": "stream",
     "text": [
      "                                                                           \r"
     ]
    },
    {
     "name": "stdout",
     "output_type": "stream",
     "text": [
      "Epoch 16/150: Train Loss = 678.9606, Val Loss = 1022.5270\n"
     ]
    },
    {
     "name": "stderr",
     "output_type": "stream",
     "text": [
      "                                                                           \r"
     ]
    },
    {
     "name": "stdout",
     "output_type": "stream",
     "text": [
      "Epoch 17/150: Train Loss = 678.9582, Val Loss = 1022.5342\n"
     ]
    },
    {
     "name": "stderr",
     "output_type": "stream",
     "text": [
      "                                                                           \r"
     ]
    },
    {
     "name": "stdout",
     "output_type": "stream",
     "text": [
      "Epoch 18/150: Train Loss = 678.9600, Val Loss = 1022.5373\n"
     ]
    },
    {
     "name": "stderr",
     "output_type": "stream",
     "text": [
      "                                                                           \r"
     ]
    },
    {
     "name": "stdout",
     "output_type": "stream",
     "text": [
      "Epoch 19/150: Train Loss = 678.9630, Val Loss = 1022.5355\n"
     ]
    },
    {
     "name": "stderr",
     "output_type": "stream",
     "text": [
      "                                                                           \r"
     ]
    },
    {
     "name": "stdout",
     "output_type": "stream",
     "text": [
      "Epoch 20/150: Train Loss = 678.9585, Val Loss = 1022.5329\n"
     ]
    },
    {
     "name": "stderr",
     "output_type": "stream",
     "text": [
      "                                                                           \r"
     ]
    },
    {
     "name": "stdout",
     "output_type": "stream",
     "text": [
      "Epoch 21/150: Train Loss = 678.9605, Val Loss = 1022.5376\n"
     ]
    },
    {
     "name": "stderr",
     "output_type": "stream",
     "text": [
      "                                                                           \r"
     ]
    },
    {
     "name": "stdout",
     "output_type": "stream",
     "text": [
      "Epoch 22/150: Train Loss = 678.9619, Val Loss = 1022.5338\n"
     ]
    },
    {
     "name": "stderr",
     "output_type": "stream",
     "text": [
      "                                                                           \r"
     ]
    },
    {
     "name": "stdout",
     "output_type": "stream",
     "text": [
      "Epoch 23/150: Train Loss = 678.9579, Val Loss = 1022.5380\n"
     ]
    },
    {
     "name": "stderr",
     "output_type": "stream",
     "text": [
      "                                                                           \r"
     ]
    },
    {
     "name": "stdout",
     "output_type": "stream",
     "text": [
      "Epoch 24/150: Train Loss = 678.9638, Val Loss = 1022.5348\n"
     ]
    },
    {
     "name": "stderr",
     "output_type": "stream",
     "text": [
      "                                                                           \r"
     ]
    },
    {
     "name": "stdout",
     "output_type": "stream",
     "text": [
      "Epoch 25/150: Train Loss = 678.9619, Val Loss = 1022.5290\n"
     ]
    },
    {
     "name": "stderr",
     "output_type": "stream",
     "text": [
      "                                                                           \r"
     ]
    },
    {
     "name": "stdout",
     "output_type": "stream",
     "text": [
      "Epoch 26/150: Train Loss = 678.9622, Val Loss = 1022.5253\n",
      "Model saved to saved_models/conv_vae/fraud_conv_vae/20250313_173415/best_model.pt\n",
      "New best validation loss: 1022.5253\n"
     ]
    },
    {
     "name": "stderr",
     "output_type": "stream",
     "text": [
      "                                                                           \r"
     ]
    },
    {
     "name": "stdout",
     "output_type": "stream",
     "text": [
      "Epoch 27/150: Train Loss = 678.9598, Val Loss = 1022.5322\n"
     ]
    },
    {
     "name": "stderr",
     "output_type": "stream",
     "text": [
      "                                                                           \r"
     ]
    },
    {
     "name": "stdout",
     "output_type": "stream",
     "text": [
      "Epoch 28/150: Train Loss = 678.9614, Val Loss = 1022.5257\n"
     ]
    },
    {
     "name": "stderr",
     "output_type": "stream",
     "text": [
      "                                                                           \r"
     ]
    },
    {
     "name": "stdout",
     "output_type": "stream",
     "text": [
      "Epoch 29/150: Train Loss = 678.9601, Val Loss = 1022.5303\n"
     ]
    },
    {
     "name": "stderr",
     "output_type": "stream",
     "text": [
      "                                                                           \r"
     ]
    },
    {
     "name": "stdout",
     "output_type": "stream",
     "text": [
      "Epoch 30/150: Train Loss = 678.9610, Val Loss = 1022.5331\n"
     ]
    },
    {
     "name": "stderr",
     "output_type": "stream",
     "text": [
      "                                                                           \r"
     ]
    },
    {
     "name": "stdout",
     "output_type": "stream",
     "text": [
      "Epoch 31/150: Train Loss = 678.9617, Val Loss = 1022.5251\n",
      "Model saved to saved_models/conv_vae/fraud_conv_vae/20250313_173415/best_model.pt\n",
      "New best validation loss: 1022.5251\n"
     ]
    },
    {
     "name": "stderr",
     "output_type": "stream",
     "text": [
      "                                                                           \r"
     ]
    },
    {
     "name": "stdout",
     "output_type": "stream",
     "text": [
      "Epoch 32/150: Train Loss = 678.9612, Val Loss = 1022.5330\n"
     ]
    },
    {
     "name": "stderr",
     "output_type": "stream",
     "text": [
      "                                                                           \r"
     ]
    },
    {
     "name": "stdout",
     "output_type": "stream",
     "text": [
      "Epoch 33/150: Train Loss = 678.9610, Val Loss = 1022.5312\n"
     ]
    },
    {
     "name": "stderr",
     "output_type": "stream",
     "text": [
      "                                                                           \r"
     ]
    },
    {
     "name": "stdout",
     "output_type": "stream",
     "text": [
      "Epoch 34/150: Train Loss = 678.9616, Val Loss = 1022.5319\n"
     ]
    },
    {
     "name": "stderr",
     "output_type": "stream",
     "text": [
      "                                                                           \r"
     ]
    },
    {
     "name": "stdout",
     "output_type": "stream",
     "text": [
      "Epoch 35/150: Train Loss = 678.9608, Val Loss = 1022.5320\n"
     ]
    },
    {
     "name": "stderr",
     "output_type": "stream",
     "text": [
      "                                                                           \r"
     ]
    },
    {
     "name": "stdout",
     "output_type": "stream",
     "text": [
      "Epoch 36/150: Train Loss = 678.9605, Val Loss = 1022.5306\n"
     ]
    },
    {
     "name": "stderr",
     "output_type": "stream",
     "text": [
      "                                                                           \r"
     ]
    },
    {
     "name": "stdout",
     "output_type": "stream",
     "text": [
      "Epoch 37/150: Train Loss = 678.9602, Val Loss = 1022.5325\n"
     ]
    },
    {
     "name": "stderr",
     "output_type": "stream",
     "text": [
      "                                                                           \r"
     ]
    },
    {
     "name": "stdout",
     "output_type": "stream",
     "text": [
      "Epoch 38/150: Train Loss = 678.9607, Val Loss = 1022.5325\n"
     ]
    },
    {
     "name": "stderr",
     "output_type": "stream",
     "text": [
      "                                                                           \r"
     ]
    },
    {
     "name": "stdout",
     "output_type": "stream",
     "text": [
      "Epoch 39/150: Train Loss = 678.9605, Val Loss = 1022.5303\n"
     ]
    },
    {
     "name": "stderr",
     "output_type": "stream",
     "text": [
      "                                                                           \r"
     ]
    },
    {
     "name": "stdout",
     "output_type": "stream",
     "text": [
      "Epoch 40/150: Train Loss = 678.9611, Val Loss = 1022.5281\n"
     ]
    },
    {
     "name": "stderr",
     "output_type": "stream",
     "text": [
      "                                                                           \r"
     ]
    },
    {
     "name": "stdout",
     "output_type": "stream",
     "text": [
      "Epoch 41/150: Train Loss = 678.9596, Val Loss = 1022.5290\n"
     ]
    },
    {
     "name": "stderr",
     "output_type": "stream",
     "text": [
      "                                                                           \r"
     ]
    },
    {
     "name": "stdout",
     "output_type": "stream",
     "text": [
      "Epoch 42/150: Train Loss = 678.9612, Val Loss = 1022.5331\n"
     ]
    },
    {
     "name": "stderr",
     "output_type": "stream",
     "text": [
      "                                                                           \r"
     ]
    },
    {
     "name": "stdout",
     "output_type": "stream",
     "text": [
      "Epoch 43/150: Train Loss = 678.9608, Val Loss = 1022.5286\n"
     ]
    },
    {
     "name": "stderr",
     "output_type": "stream",
     "text": [
      "                                                                           \r"
     ]
    },
    {
     "name": "stdout",
     "output_type": "stream",
     "text": [
      "Epoch 44/150: Train Loss = 678.9612, Val Loss = 1022.5280\n"
     ]
    },
    {
     "name": "stderr",
     "output_type": "stream",
     "text": [
      "                                                                           \r"
     ]
    },
    {
     "name": "stdout",
     "output_type": "stream",
     "text": [
      "Epoch 45/150: Train Loss = 678.9613, Val Loss = 1022.5333\n"
     ]
    },
    {
     "name": "stderr",
     "output_type": "stream",
     "text": [
      "                                                                           \r"
     ]
    },
    {
     "name": "stdout",
     "output_type": "stream",
     "text": [
      "Epoch 46/150: Train Loss = 678.9593, Val Loss = 1022.5317\n"
     ]
    },
    {
     "name": "stderr",
     "output_type": "stream",
     "text": [
      "                                                                           \r"
     ]
    },
    {
     "name": "stdout",
     "output_type": "stream",
     "text": [
      "Epoch 47/150: Train Loss = 678.9613, Val Loss = 1022.5313\n"
     ]
    },
    {
     "name": "stderr",
     "output_type": "stream",
     "text": [
      "                                                                           \r"
     ]
    },
    {
     "name": "stdout",
     "output_type": "stream",
     "text": [
      "Epoch 48/150: Train Loss = 678.9618, Val Loss = 1022.5286\n"
     ]
    },
    {
     "name": "stderr",
     "output_type": "stream",
     "text": [
      "                                                                           \r"
     ]
    },
    {
     "name": "stdout",
     "output_type": "stream",
     "text": [
      "Epoch 49/150: Train Loss = 678.9620, Val Loss = 1022.5313\n"
     ]
    },
    {
     "name": "stderr",
     "output_type": "stream",
     "text": [
      "                                                                           \r"
     ]
    },
    {
     "name": "stdout",
     "output_type": "stream",
     "text": [
      "Epoch 50/150: Train Loss = 678.9610, Val Loss = 1022.5315\n"
     ]
    },
    {
     "name": "stderr",
     "output_type": "stream",
     "text": [
      "                                                                           \r"
     ]
    },
    {
     "name": "stdout",
     "output_type": "stream",
     "text": [
      "Epoch 51/150: Train Loss = 678.9607, Val Loss = 1022.5331\n"
     ]
    },
    {
     "name": "stderr",
     "output_type": "stream",
     "text": [
      "                                                                           \r"
     ]
    },
    {
     "name": "stdout",
     "output_type": "stream",
     "text": [
      "Epoch 52/150: Train Loss = 678.9609, Val Loss = 1022.5324\n"
     ]
    },
    {
     "name": "stderr",
     "output_type": "stream",
     "text": [
      "                                                                           \r"
     ]
    },
    {
     "name": "stdout",
     "output_type": "stream",
     "text": [
      "Epoch 53/150: Train Loss = 678.9611, Val Loss = 1022.5312\n"
     ]
    },
    {
     "name": "stderr",
     "output_type": "stream",
     "text": [
      "                                                                           \r"
     ]
    },
    {
     "name": "stdout",
     "output_type": "stream",
     "text": [
      "Epoch 54/150: Train Loss = 678.9603, Val Loss = 1022.5318\n"
     ]
    },
    {
     "name": "stderr",
     "output_type": "stream",
     "text": [
      "                                                                           \r"
     ]
    },
    {
     "name": "stdout",
     "output_type": "stream",
     "text": [
      "Epoch 55/150: Train Loss = 678.9613, Val Loss = 1022.5318\n"
     ]
    },
    {
     "name": "stderr",
     "output_type": "stream",
     "text": [
      "                                                                           \r"
     ]
    },
    {
     "name": "stdout",
     "output_type": "stream",
     "text": [
      "Epoch 56/150: Train Loss = 678.9609, Val Loss = 1022.5315\n"
     ]
    },
    {
     "name": "stderr",
     "output_type": "stream",
     "text": [
      "                                                                           \r"
     ]
    },
    {
     "name": "stdout",
     "output_type": "stream",
     "text": [
      "Epoch 57/150: Train Loss = 678.9604, Val Loss = 1022.5309\n"
     ]
    },
    {
     "name": "stderr",
     "output_type": "stream",
     "text": [
      "                                                                           \r"
     ]
    },
    {
     "name": "stdout",
     "output_type": "stream",
     "text": [
      "Epoch 58/150: Train Loss = 678.9604, Val Loss = 1022.5290\n"
     ]
    },
    {
     "name": "stderr",
     "output_type": "stream",
     "text": [
      "                                                                           \r"
     ]
    },
    {
     "name": "stdout",
     "output_type": "stream",
     "text": [
      "Epoch 59/150: Train Loss = 678.9603, Val Loss = 1022.5314\n"
     ]
    },
    {
     "name": "stderr",
     "output_type": "stream",
     "text": [
      "                                                                           \r"
     ]
    },
    {
     "name": "stdout",
     "output_type": "stream",
     "text": [
      "Epoch 60/150: Train Loss = 678.9608, Val Loss = 1022.5318\n"
     ]
    },
    {
     "name": "stderr",
     "output_type": "stream",
     "text": [
      "                                                                           \r"
     ]
    },
    {
     "name": "stdout",
     "output_type": "stream",
     "text": [
      "Epoch 61/150: Train Loss = 678.9609, Val Loss = 1022.5329\n"
     ]
    },
    {
     "name": "stderr",
     "output_type": "stream",
     "text": [
      "                                                                           \r"
     ]
    },
    {
     "name": "stdout",
     "output_type": "stream",
     "text": [
      "Epoch 62/150: Train Loss = 678.9610, Val Loss = 1022.5316\n"
     ]
    },
    {
     "name": "stderr",
     "output_type": "stream",
     "text": [
      "                                                                           \r"
     ]
    },
    {
     "name": "stdout",
     "output_type": "stream",
     "text": [
      "Epoch 63/150: Train Loss = 678.9608, Val Loss = 1022.5316\n"
     ]
    },
    {
     "name": "stderr",
     "output_type": "stream",
     "text": [
      "                                                                           \r"
     ]
    },
    {
     "name": "stdout",
     "output_type": "stream",
     "text": [
      "Epoch 64/150: Train Loss = 678.9608, Val Loss = 1022.5321\n"
     ]
    },
    {
     "name": "stderr",
     "output_type": "stream",
     "text": [
      "                                                                           \r"
     ]
    },
    {
     "name": "stdout",
     "output_type": "stream",
     "text": [
      "Epoch 65/150: Train Loss = 678.9609, Val Loss = 1022.5323\n"
     ]
    },
    {
     "name": "stderr",
     "output_type": "stream",
     "text": [
      "                                                                           \r"
     ]
    },
    {
     "name": "stdout",
     "output_type": "stream",
     "text": [
      "Epoch 66/150: Train Loss = 678.9607, Val Loss = 1022.5312\n"
     ]
    },
    {
     "name": "stderr",
     "output_type": "stream",
     "text": [
      "                                                                           \r"
     ]
    },
    {
     "name": "stdout",
     "output_type": "stream",
     "text": [
      "Epoch 67/150: Train Loss = 678.9605, Val Loss = 1022.5317\n"
     ]
    },
    {
     "name": "stderr",
     "output_type": "stream",
     "text": [
      "                                                                           \r"
     ]
    },
    {
     "name": "stdout",
     "output_type": "stream",
     "text": [
      "Epoch 68/150: Train Loss = 678.9603, Val Loss = 1022.5306\n"
     ]
    },
    {
     "name": "stderr",
     "output_type": "stream",
     "text": [
      "                                                                           \r"
     ]
    },
    {
     "name": "stdout",
     "output_type": "stream",
     "text": [
      "Epoch 69/150: Train Loss = 678.9601, Val Loss = 1022.5305\n"
     ]
    },
    {
     "name": "stderr",
     "output_type": "stream",
     "text": [
      "                                                                           \r"
     ]
    },
    {
     "name": "stdout",
     "output_type": "stream",
     "text": [
      "Epoch 70/150: Train Loss = 678.9615, Val Loss = 1022.5304\n"
     ]
    },
    {
     "name": "stderr",
     "output_type": "stream",
     "text": [
      "                                                                           \r"
     ]
    },
    {
     "name": "stdout",
     "output_type": "stream",
     "text": [
      "Epoch 71/150: Train Loss = 678.9589, Val Loss = 1022.5275\n"
     ]
    },
    {
     "name": "stderr",
     "output_type": "stream",
     "text": [
      "                                                                           \r"
     ]
    },
    {
     "name": "stdout",
     "output_type": "stream",
     "text": [
      "Epoch 72/150: Train Loss = 671.6301, Val Loss = 1006.9674\n",
      "Model saved to saved_models/conv_vae/fraud_conv_vae/20250313_173415/best_model.pt\n",
      "New best validation loss: 1006.9674\n"
     ]
    },
    {
     "name": "stderr",
     "output_type": "stream",
     "text": [
      "                                                                           \r"
     ]
    },
    {
     "name": "stdout",
     "output_type": "stream",
     "text": [
      "Epoch 73/150: Train Loss = 665.9213, Val Loss = 1006.9708\n"
     ]
    },
    {
     "name": "stderr",
     "output_type": "stream",
     "text": [
      "                                                                           \r"
     ]
    },
    {
     "name": "stdout",
     "output_type": "stream",
     "text": [
      "Epoch 74/150: Train Loss = 665.9213, Val Loss = 1006.9710\n"
     ]
    },
    {
     "name": "stderr",
     "output_type": "stream",
     "text": [
      "                                                                           \r"
     ]
    },
    {
     "name": "stdout",
     "output_type": "stream",
     "text": [
      "Epoch 75/150: Train Loss = 665.9195, Val Loss = 1006.9802\n"
     ]
    },
    {
     "name": "stderr",
     "output_type": "stream",
     "text": [
      "                                                                           \r"
     ]
    },
    {
     "name": "stdout",
     "output_type": "stream",
     "text": [
      "Epoch 76/150: Train Loss = 665.9198, Val Loss = 1006.9707\n"
     ]
    },
    {
     "name": "stderr",
     "output_type": "stream",
     "text": [
      "                                                                           \r"
     ]
    },
    {
     "name": "stdout",
     "output_type": "stream",
     "text": [
      "Epoch 77/150: Train Loss = 665.9196, Val Loss = 1007.1178\n"
     ]
    },
    {
     "name": "stderr",
     "output_type": "stream",
     "text": [
      "                                                                           \r"
     ]
    },
    {
     "name": "stdout",
     "output_type": "stream",
     "text": [
      "Epoch 78/150: Train Loss = 665.9198, Val Loss = 1006.9691\n"
     ]
    },
    {
     "name": "stderr",
     "output_type": "stream",
     "text": [
      "                                                                           \r"
     ]
    },
    {
     "name": "stdout",
     "output_type": "stream",
     "text": [
      "Epoch 79/150: Train Loss = 665.9195, Val Loss = 1006.9674\n"
     ]
    },
    {
     "name": "stderr",
     "output_type": "stream",
     "text": [
      "                                                                           \r"
     ]
    },
    {
     "name": "stdout",
     "output_type": "stream",
     "text": [
      "Epoch 80/150: Train Loss = 665.9188, Val Loss = 1006.9704\n"
     ]
    },
    {
     "name": "stderr",
     "output_type": "stream",
     "text": [
      "                                                                           \r"
     ]
    },
    {
     "name": "stdout",
     "output_type": "stream",
     "text": [
      "Epoch 81/150: Train Loss = 665.9202, Val Loss = 1006.9702\n"
     ]
    },
    {
     "name": "stderr",
     "output_type": "stream",
     "text": [
      "                                                                           \r"
     ]
    },
    {
     "name": "stdout",
     "output_type": "stream",
     "text": [
      "Epoch 82/150: Train Loss = 665.9192, Val Loss = 1006.9699\n"
     ]
    },
    {
     "name": "stderr",
     "output_type": "stream",
     "text": [
      "                                                                           \r"
     ]
    },
    {
     "name": "stdout",
     "output_type": "stream",
     "text": [
      "Epoch 83/150: Train Loss = 665.9195, Val Loss = 1006.9697\n"
     ]
    },
    {
     "name": "stderr",
     "output_type": "stream",
     "text": [
      "                                                                           \r"
     ]
    },
    {
     "name": "stdout",
     "output_type": "stream",
     "text": [
      "Epoch 84/150: Train Loss = 665.9199, Val Loss = 1006.9696\n"
     ]
    },
    {
     "name": "stderr",
     "output_type": "stream",
     "text": [
      "                                                                           \r"
     ]
    },
    {
     "name": "stdout",
     "output_type": "stream",
     "text": [
      "Epoch 85/150: Train Loss = 665.9195, Val Loss = 1006.9710\n"
     ]
    },
    {
     "name": "stderr",
     "output_type": "stream",
     "text": [
      "                                                                           \r"
     ]
    },
    {
     "name": "stdout",
     "output_type": "stream",
     "text": [
      "Epoch 86/150: Train Loss = 665.9356, Val Loss = 1006.9724\n"
     ]
    },
    {
     "name": "stderr",
     "output_type": "stream",
     "text": [
      "                                                                           \r"
     ]
    },
    {
     "name": "stdout",
     "output_type": "stream",
     "text": [
      "Epoch 87/150: Train Loss = 665.9226, Val Loss = 1006.9698\n"
     ]
    },
    {
     "name": "stderr",
     "output_type": "stream",
     "text": [
      "                                                                           \r"
     ]
    },
    {
     "name": "stdout",
     "output_type": "stream",
     "text": [
      "Epoch 88/150: Train Loss = 665.9193, Val Loss = 1006.9711\n"
     ]
    },
    {
     "name": "stderr",
     "output_type": "stream",
     "text": [
      "                                                                           \r"
     ]
    },
    {
     "name": "stdout",
     "output_type": "stream",
     "text": [
      "Epoch 89/150: Train Loss = 665.9196, Val Loss = 1006.9689\n"
     ]
    },
    {
     "name": "stderr",
     "output_type": "stream",
     "text": [
      "                                                                           \r"
     ]
    },
    {
     "name": "stdout",
     "output_type": "stream",
     "text": [
      "Epoch 90/150: Train Loss = 665.9197, Val Loss = 1006.9696\n"
     ]
    },
    {
     "name": "stderr",
     "output_type": "stream",
     "text": [
      "                                                                           \r"
     ]
    },
    {
     "name": "stdout",
     "output_type": "stream",
     "text": [
      "Epoch 91/150: Train Loss = 665.9192, Val Loss = 1006.9713\n"
     ]
    },
    {
     "name": "stderr",
     "output_type": "stream",
     "text": [
      "                                                                           \r"
     ]
    },
    {
     "name": "stdout",
     "output_type": "stream",
     "text": [
      "Epoch 92/150: Train Loss = 665.9197, Val Loss = 1006.9709\n"
     ]
    },
    {
     "name": "stderr",
     "output_type": "stream",
     "text": [
      "                                                                           \r"
     ]
    },
    {
     "name": "stdout",
     "output_type": "stream",
     "text": [
      "Epoch 93/150: Train Loss = 665.9194, Val Loss = 1006.9685\n"
     ]
    },
    {
     "name": "stderr",
     "output_type": "stream",
     "text": [
      "                                                                           \r"
     ]
    },
    {
     "name": "stdout",
     "output_type": "stream",
     "text": [
      "Epoch 94/150: Train Loss = 665.9196, Val Loss = 1006.9702\n"
     ]
    },
    {
     "name": "stderr",
     "output_type": "stream",
     "text": [
      "                                                                           \r"
     ]
    },
    {
     "name": "stdout",
     "output_type": "stream",
     "text": [
      "Epoch 95/150: Train Loss = 665.9197, Val Loss = 1006.9694\n"
     ]
    },
    {
     "name": "stderr",
     "output_type": "stream",
     "text": [
      "                                                                           \r"
     ]
    },
    {
     "name": "stdout",
     "output_type": "stream",
     "text": [
      "Epoch 96/150: Train Loss = 665.9200, Val Loss = 1006.9695\n"
     ]
    },
    {
     "name": "stderr",
     "output_type": "stream",
     "text": [
      "                                                                           \r"
     ]
    },
    {
     "name": "stdout",
     "output_type": "stream",
     "text": [
      "Epoch 97/150: Train Loss = 665.9195, Val Loss = 1006.9704\n"
     ]
    },
    {
     "name": "stderr",
     "output_type": "stream",
     "text": [
      "                                                                           \r"
     ]
    },
    {
     "name": "stdout",
     "output_type": "stream",
     "text": [
      "Epoch 98/150: Train Loss = 665.9193, Val Loss = 1006.9701\n"
     ]
    },
    {
     "name": "stderr",
     "output_type": "stream",
     "text": [
      "                                                                           \r"
     ]
    },
    {
     "name": "stdout",
     "output_type": "stream",
     "text": [
      "Epoch 99/150: Train Loss = 665.9199, Val Loss = 1006.9702\n"
     ]
    },
    {
     "name": "stderr",
     "output_type": "stream",
     "text": [
      "                                                                           \r"
     ]
    },
    {
     "name": "stdout",
     "output_type": "stream",
     "text": [
      "Epoch 100/150: Train Loss = 665.9192, Val Loss = 1006.9706\n"
     ]
    },
    {
     "name": "stderr",
     "output_type": "stream",
     "text": [
      "                                                                           \r"
     ]
    },
    {
     "name": "stdout",
     "output_type": "stream",
     "text": [
      "Epoch 101/150: Train Loss = 665.9195, Val Loss = 1006.9701\n"
     ]
    },
    {
     "name": "stderr",
     "output_type": "stream",
     "text": [
      "                                                                           \r"
     ]
    },
    {
     "name": "stdout",
     "output_type": "stream",
     "text": [
      "Epoch 102/150: Train Loss = 665.9194, Val Loss = 1006.9707\n"
     ]
    },
    {
     "name": "stderr",
     "output_type": "stream",
     "text": [
      "                                                                           \r"
     ]
    },
    {
     "name": "stdout",
     "output_type": "stream",
     "text": [
      "Epoch 103/150: Train Loss = 665.9196, Val Loss = 1006.9698\n"
     ]
    },
    {
     "name": "stderr",
     "output_type": "stream",
     "text": [
      "                                                                           \r"
     ]
    },
    {
     "name": "stdout",
     "output_type": "stream",
     "text": [
      "Epoch 104/150: Train Loss = 665.9193, Val Loss = 1006.9697\n"
     ]
    },
    {
     "name": "stderr",
     "output_type": "stream",
     "text": [
      "                                                                           \r"
     ]
    },
    {
     "name": "stdout",
     "output_type": "stream",
     "text": [
      "Epoch 105/150: Train Loss = 665.9192, Val Loss = 1006.9699\n"
     ]
    },
    {
     "name": "stderr",
     "output_type": "stream",
     "text": [
      "                                                                           \r"
     ]
    },
    {
     "name": "stdout",
     "output_type": "stream",
     "text": [
      "Epoch 106/150: Train Loss = 665.9192, Val Loss = 1006.9694\n"
     ]
    },
    {
     "name": "stderr",
     "output_type": "stream",
     "text": [
      "                                                                           \r"
     ]
    },
    {
     "name": "stdout",
     "output_type": "stream",
     "text": [
      "Epoch 107/150: Train Loss = 665.9197, Val Loss = 1006.9702\n"
     ]
    },
    {
     "name": "stderr",
     "output_type": "stream",
     "text": [
      "                                                                           \r"
     ]
    },
    {
     "name": "stdout",
     "output_type": "stream",
     "text": [
      "Epoch 108/150: Train Loss = 665.9195, Val Loss = 1006.9695\n"
     ]
    },
    {
     "name": "stderr",
     "output_type": "stream",
     "text": [
      "                                                                           \r"
     ]
    },
    {
     "name": "stdout",
     "output_type": "stream",
     "text": [
      "Epoch 109/150: Train Loss = 665.9195, Val Loss = 1006.9697\n"
     ]
    },
    {
     "name": "stderr",
     "output_type": "stream",
     "text": [
      "                                                                           \r"
     ]
    },
    {
     "name": "stdout",
     "output_type": "stream",
     "text": [
      "Epoch 110/150: Train Loss = 665.9197, Val Loss = 1006.9704\n"
     ]
    },
    {
     "name": "stderr",
     "output_type": "stream",
     "text": [
      "                                                                           \r"
     ]
    },
    {
     "name": "stdout",
     "output_type": "stream",
     "text": [
      "Epoch 111/150: Train Loss = 665.9190, Val Loss = 1006.9696\n"
     ]
    },
    {
     "name": "stderr",
     "output_type": "stream",
     "text": [
      "                                                                           \r"
     ]
    },
    {
     "name": "stdout",
     "output_type": "stream",
     "text": [
      "Epoch 112/150: Train Loss = 665.9196, Val Loss = 1006.9696\n"
     ]
    },
    {
     "name": "stderr",
     "output_type": "stream",
     "text": [
      "                                                                           \r"
     ]
    },
    {
     "name": "stdout",
     "output_type": "stream",
     "text": [
      "Epoch 113/150: Train Loss = 665.9193, Val Loss = 1006.9692\n"
     ]
    },
    {
     "name": "stderr",
     "output_type": "stream",
     "text": [
      "                                                                           \r"
     ]
    },
    {
     "name": "stdout",
     "output_type": "stream",
     "text": [
      "Epoch 114/150: Train Loss = 665.9196, Val Loss = 1006.9699\n"
     ]
    },
    {
     "name": "stderr",
     "output_type": "stream",
     "text": [
      "                                                                           \r"
     ]
    },
    {
     "name": "stdout",
     "output_type": "stream",
     "text": [
      "Epoch 115/150: Train Loss = 665.9197, Val Loss = 1006.9702\n"
     ]
    },
    {
     "name": "stderr",
     "output_type": "stream",
     "text": [
      "                                                                           \r"
     ]
    },
    {
     "name": "stdout",
     "output_type": "stream",
     "text": [
      "Epoch 116/150: Train Loss = 665.9192, Val Loss = 1006.9700\n"
     ]
    },
    {
     "name": "stderr",
     "output_type": "stream",
     "text": [
      "                                                                           \r"
     ]
    },
    {
     "name": "stdout",
     "output_type": "stream",
     "text": [
      "Epoch 117/150: Train Loss = 665.9196, Val Loss = 1006.9697\n"
     ]
    },
    {
     "name": "stderr",
     "output_type": "stream",
     "text": [
      "                                                                           \r"
     ]
    },
    {
     "name": "stdout",
     "output_type": "stream",
     "text": [
      "Epoch 118/150: Train Loss = 665.9195, Val Loss = 1006.9698\n"
     ]
    },
    {
     "name": "stderr",
     "output_type": "stream",
     "text": [
      "                                                                           \r"
     ]
    },
    {
     "name": "stdout",
     "output_type": "stream",
     "text": [
      "Epoch 119/150: Train Loss = 665.9194, Val Loss = 1006.9695\n"
     ]
    },
    {
     "name": "stderr",
     "output_type": "stream",
     "text": [
      "                                                                           \r"
     ]
    },
    {
     "name": "stdout",
     "output_type": "stream",
     "text": [
      "Epoch 120/150: Train Loss = 665.9193, Val Loss = 1006.9700\n"
     ]
    },
    {
     "name": "stderr",
     "output_type": "stream",
     "text": [
      "                                                                           \r"
     ]
    },
    {
     "name": "stdout",
     "output_type": "stream",
     "text": [
      "Epoch 121/150: Train Loss = 665.9194, Val Loss = 1006.9697\n"
     ]
    },
    {
     "name": "stderr",
     "output_type": "stream",
     "text": [
      "                                                                           \r"
     ]
    },
    {
     "name": "stdout",
     "output_type": "stream",
     "text": [
      "Epoch 122/150: Train Loss = 665.9189, Val Loss = 1006.9681\n"
     ]
    },
    {
     "name": "stderr",
     "output_type": "stream",
     "text": [
      "                                                                           \r"
     ]
    },
    {
     "name": "stdout",
     "output_type": "stream",
     "text": [
      "Epoch 123/150: Train Loss = 665.9222, Val Loss = 1006.9705\n"
     ]
    },
    {
     "name": "stderr",
     "output_type": "stream",
     "text": [
      "                                                                           \r"
     ]
    },
    {
     "name": "stdout",
     "output_type": "stream",
     "text": [
      "Epoch 124/150: Train Loss = 665.9194, Val Loss = 1006.9702\n"
     ]
    },
    {
     "name": "stderr",
     "output_type": "stream",
     "text": [
      "                                                                           \r"
     ]
    },
    {
     "name": "stdout",
     "output_type": "stream",
     "text": [
      "Epoch 125/150: Train Loss = 665.9191, Val Loss = 1006.9697\n"
     ]
    },
    {
     "name": "stderr",
     "output_type": "stream",
     "text": [
      "                                                                           \r"
     ]
    },
    {
     "name": "stdout",
     "output_type": "stream",
     "text": [
      "Epoch 126/150: Train Loss = 665.9199, Val Loss = 1006.9695\n"
     ]
    },
    {
     "name": "stderr",
     "output_type": "stream",
     "text": [
      "                                                                           \r"
     ]
    },
    {
     "name": "stdout",
     "output_type": "stream",
     "text": [
      "Epoch 127/150: Train Loss = 665.9197, Val Loss = 1006.9706\n"
     ]
    },
    {
     "name": "stderr",
     "output_type": "stream",
     "text": [
      "                                                                           \r"
     ]
    },
    {
     "name": "stdout",
     "output_type": "stream",
     "text": [
      "Epoch 128/150: Train Loss = 665.9198, Val Loss = 1006.9698\n"
     ]
    },
    {
     "name": "stderr",
     "output_type": "stream",
     "text": [
      "                                                                           \r"
     ]
    },
    {
     "name": "stdout",
     "output_type": "stream",
     "text": [
      "Epoch 129/150: Train Loss = 665.9190, Val Loss = 1006.9698\n"
     ]
    },
    {
     "name": "stderr",
     "output_type": "stream",
     "text": [
      "                                                                           \r"
     ]
    },
    {
     "name": "stdout",
     "output_type": "stream",
     "text": [
      "Epoch 130/150: Train Loss = 665.9191, Val Loss = 1006.9701\n"
     ]
    },
    {
     "name": "stderr",
     "output_type": "stream",
     "text": [
      "                                                                           \r"
     ]
    },
    {
     "name": "stdout",
     "output_type": "stream",
     "text": [
      "Epoch 131/150: Train Loss = 665.9199, Val Loss = 1006.9701\n"
     ]
    },
    {
     "name": "stderr",
     "output_type": "stream",
     "text": [
      "                                                                           \r"
     ]
    },
    {
     "name": "stdout",
     "output_type": "stream",
     "text": [
      "Epoch 132/150: Train Loss = 665.9194, Val Loss = 1006.9697\n"
     ]
    },
    {
     "name": "stderr",
     "output_type": "stream",
     "text": [
      "                                                                           \r"
     ]
    },
    {
     "name": "stdout",
     "output_type": "stream",
     "text": [
      "Epoch 133/150: Train Loss = 665.9199, Val Loss = 1006.9691\n"
     ]
    },
    {
     "name": "stderr",
     "output_type": "stream",
     "text": [
      "                                                                           \r"
     ]
    },
    {
     "name": "stdout",
     "output_type": "stream",
     "text": [
      "Epoch 134/150: Train Loss = 665.9196, Val Loss = 1006.9699\n"
     ]
    },
    {
     "name": "stderr",
     "output_type": "stream",
     "text": [
      "                                                                           \r"
     ]
    },
    {
     "name": "stdout",
     "output_type": "stream",
     "text": [
      "Epoch 135/150: Train Loss = 665.9195, Val Loss = 1006.9694\n"
     ]
    },
    {
     "name": "stderr",
     "output_type": "stream",
     "text": [
      "                                                                           \r"
     ]
    },
    {
     "name": "stdout",
     "output_type": "stream",
     "text": [
      "Epoch 136/150: Train Loss = 665.9193, Val Loss = 1006.9699\n"
     ]
    },
    {
     "name": "stderr",
     "output_type": "stream",
     "text": [
      "                                                                           \r"
     ]
    },
    {
     "name": "stdout",
     "output_type": "stream",
     "text": [
      "Epoch 137/150: Train Loss = 665.9192, Val Loss = 1006.9693\n"
     ]
    },
    {
     "name": "stderr",
     "output_type": "stream",
     "text": [
      "                                                                           \r"
     ]
    },
    {
     "name": "stdout",
     "output_type": "stream",
     "text": [
      "Epoch 138/150: Train Loss = 665.9194, Val Loss = 1006.9704\n"
     ]
    },
    {
     "name": "stderr",
     "output_type": "stream",
     "text": [
      "                                                                           \r"
     ]
    },
    {
     "name": "stdout",
     "output_type": "stream",
     "text": [
      "Epoch 139/150: Train Loss = 665.9193, Val Loss = 1006.9701\n"
     ]
    },
    {
     "name": "stderr",
     "output_type": "stream",
     "text": [
      "                                                                           \r"
     ]
    },
    {
     "name": "stdout",
     "output_type": "stream",
     "text": [
      "Epoch 140/150: Train Loss = 665.9196, Val Loss = 1006.9702\n"
     ]
    },
    {
     "name": "stderr",
     "output_type": "stream",
     "text": [
      "                                                                           \r"
     ]
    },
    {
     "name": "stdout",
     "output_type": "stream",
     "text": [
      "Epoch 141/150: Train Loss = 665.9194, Val Loss = 1006.9698\n"
     ]
    },
    {
     "name": "stderr",
     "output_type": "stream",
     "text": [
      "                                                                           \r"
     ]
    },
    {
     "name": "stdout",
     "output_type": "stream",
     "text": [
      "Epoch 142/150: Train Loss = 665.9193, Val Loss = 1006.9702\n"
     ]
    },
    {
     "name": "stderr",
     "output_type": "stream",
     "text": [
      "                                                                           \r"
     ]
    },
    {
     "name": "stdout",
     "output_type": "stream",
     "text": [
      "Epoch 143/150: Train Loss = 665.9194, Val Loss = 1006.9699\n"
     ]
    },
    {
     "name": "stderr",
     "output_type": "stream",
     "text": [
      "                                                                           \r"
     ]
    },
    {
     "name": "stdout",
     "output_type": "stream",
     "text": [
      "Epoch 144/150: Train Loss = 665.9193, Val Loss = 1006.9700\n"
     ]
    },
    {
     "name": "stderr",
     "output_type": "stream",
     "text": [
      "                                                                           \r"
     ]
    },
    {
     "name": "stdout",
     "output_type": "stream",
     "text": [
      "Epoch 145/150: Train Loss = 665.9191, Val Loss = 1006.9692\n"
     ]
    },
    {
     "name": "stderr",
     "output_type": "stream",
     "text": [
      "                                                                           \r"
     ]
    },
    {
     "name": "stdout",
     "output_type": "stream",
     "text": [
      "Epoch 146/150: Train Loss = 665.9194, Val Loss = 1006.9695\n"
     ]
    },
    {
     "name": "stderr",
     "output_type": "stream",
     "text": [
      "                                                                           \r"
     ]
    },
    {
     "name": "stdout",
     "output_type": "stream",
     "text": [
      "Epoch 147/150: Train Loss = 665.9191, Val Loss = 1006.9704\n"
     ]
    },
    {
     "name": "stderr",
     "output_type": "stream",
     "text": [
      "                                                                           \r"
     ]
    },
    {
     "name": "stdout",
     "output_type": "stream",
     "text": [
      "Epoch 148/150: Train Loss = 665.9193, Val Loss = 1006.9692\n"
     ]
    },
    {
     "name": "stderr",
     "output_type": "stream",
     "text": [
      "                                                                           \r"
     ]
    },
    {
     "name": "stdout",
     "output_type": "stream",
     "text": [
      "Epoch 149/150: Train Loss = 665.9197, Val Loss = 1006.9706\n"
     ]
    },
    {
     "name": "stderr",
     "output_type": "stream",
     "text": [
      "                                                                           \r"
     ]
    },
    {
     "name": "stdout",
     "output_type": "stream",
     "text": [
      "Epoch 150/150: Train Loss = 665.9197, Val Loss = 1006.9702\n",
      "Model saved to saved_models/conv_vae/fraud_conv_vae/20250313_173415/final_model.pt\n",
      "Training complete. Best validation loss: 1006.9674\n"
     ]
    },
    {
     "data": {
      "text/html": [],
      "text/plain": [
       "<IPython.core.display.HTML object>"
      ]
     },
     "metadata": {},
     "output_type": "display_data"
    },
    {
     "data": {
      "text/html": [
       "<br>    <style><br>        .wandb-row {<br>            display: flex;<br>            flex-direction: row;<br>            flex-wrap: wrap;<br>            justify-content: flex-start;<br>            width: 100%;<br>        }<br>        .wandb-col {<br>            display: flex;<br>            flex-direction: column;<br>            flex-basis: 100%;<br>            flex: 1;<br>            padding: 10px;<br>        }<br>    </style><br><div class=\"wandb-row\"><div class=\"wandb-col\"><h3>Run history:</h3><br/><table class=\"wandb\"><tr><td>epoch</td><td>▁▁▁▂▂▂▂▂▂▃▃▃▃▃▃▄▄▄▄▅▅▅▅▅▅▅▆▆▆▆▆▇▇▇▇▇▇███</td></tr><tr><td>train/recon_loss</td><td>▄▄▃▄▂█▂▁▃▃▄▄▃▃▃▃▃▇▆▁▁▂▄▅▄▄▂▁▄▄▄▄▃▅▃▅▂▆▆▁</td></tr><tr><td>train/total_loss</td><td>█████████████████▁▁▁▁▁▁▁▁▁▁▁▁▁▁▁▁▁▁▁▁▁▁▁</td></tr><tr><td>val/recon_loss</td><td>████████████████████▁▁▁▁▁▁▁▁▁▁▁▁▁▁▁▁▁▁▁▁</td></tr><tr><td>val/total_loss</td><td>█████████████████▁▁▁▁▁▁▁▁▁▁▁▁▁▁▁▁▁▁▁▁▁▁▁</td></tr></table><br/></div><div class=\"wandb-col\"><h3>Run summary:</h3><br/><table class=\"wandb\"><tr><td>epoch</td><td>150</td></tr><tr><td>train/recon_loss</td><td>4001.76562</td></tr><tr><td>train/total_loss</td><td>665.91969</td></tr><tr><td>val/recon_loss</td><td>10876.7793</td></tr><tr><td>val/total_loss</td><td>1006.97016</td></tr></table><br/></div></div>"
      ],
      "text/plain": [
       "<IPython.core.display.HTML object>"
      ]
     },
     "metadata": {},
     "output_type": "display_data"
    },
    {
     "data": {
      "text/html": [
       " View run <strong style=\"color:#cdcd00\">conv-vae-fraud_20250313_173404</strong> at: <a href='https://wandb.ai/alexkstern/fraud-classification/runs/wvlenkew' target=\"_blank\">https://wandb.ai/alexkstern/fraud-classification/runs/wvlenkew</a><br> View project at: <a href='https://wandb.ai/alexkstern/fraud-classification' target=\"_blank\">https://wandb.ai/alexkstern/fraud-classification</a><br>Synced 5 W&B file(s), 0 media file(s), 12 artifact file(s) and 0 other file(s)"
      ],
      "text/plain": [
       "<IPython.core.display.HTML object>"
      ]
     },
     "metadata": {},
     "output_type": "display_data"
    },
    {
     "data": {
      "text/html": [
       "Find logs at: <code>./wandb/run-20250313_173404-wvlenkew/logs</code>"
      ],
      "text/plain": [
       "<IPython.core.display.HTML object>"
      ]
     },
     "metadata": {},
     "output_type": "display_data"
    },
    {
     "name": "stdout",
     "output_type": "stream",
     "text": [
      "Training session complete.\n"
     ]
    }
   ],
   "source": [
    "import os\n",
    "import torch\n",
    "import torch.optim as optim\n",
    "import numpy as np\n",
    "import random\n",
    "\n",
    "# Set random seeds for reproducibility\n",
    "SEED = 42\n",
    "random.seed(SEED)\n",
    "np.random.seed(SEED)\n",
    "torch.manual_seed(SEED)\n",
    "torch.cuda.manual_seed_all(SEED)\n",
    "torch.backends.cudnn.deterministic = True\n",
    "torch.backends.cudnn.benchmark = False\n",
    "\n",
    "# Import required modules\n",
    "from models.conv_vae_model import ConvVae, vae_loss_function, print_num_params\n",
    "from trainer.trainer_vae import VAETrainer\n",
    "from dataloader.dataloader import load_fraud_data, load_config\n",
    "from utils.model_saver import save_model, get_save_directory\n",
    "from utils.wandb_logger import WandBLogger\n",
    "from utils.evaluation_utils import extract_recon_loss\n",
    "\n",
    "# Build the config path\n",
    "config_path = \"configs/conv_vae/fraud_conv_vae.config\"\n",
    "\n",
    "# Load configuration\n",
    "import configparser\n",
    "config_parser = configparser.ConfigParser()\n",
    "config_parser.read(config_path)\n",
    "conv_vae_config = config_parser[\"Conv_VAE\"]\n",
    "\n",
    "# Create config dictionary for WandB\n",
    "config_dict = {}\n",
    "for section in config_parser.sections():\n",
    "    config_dict[section] = dict(config_parser[section])\n",
    "\n",
    "# Initialize WandB logger\n",
    "wandb_logger = WandBLogger(config_dict)\n",
    "\n",
    "# Load data\n",
    "config_dict = load_config(config_path)\n",
    "data = load_fraud_data(config_path=config_path)\n",
    "dataloaders = data['dataloaders']\n",
    "input_dim = data['input_dim']\n",
    "\n",
    "# Create model\n",
    "model = ConvVae(conv_vae_config)\n",
    "print_num_params(model)\n",
    "\n",
    "# Training parameters\n",
    "lr = config_parser[\"Trainer\"].getfloat(\"lr\")\n",
    "num_epochs = config_parser[\"Trainer\"].getint(\"num_epochs\")\n",
    "\n",
    "# Define optimizer and loss function\n",
    "optimizer = optim.Adam(model.parameters(), lr=lr)\n",
    "loss_fn = vae_loss_function\n",
    "\n",
    "# Create trainer\n",
    "trainer = VAETrainer(model, dataloaders, loss_fn, optimizer)\n",
    "\n",
    "# Create save directory\n",
    "save_dir = get_save_directory(config_path)\n",
    "print(f\"Models will be saved to: {save_dir}\")\n",
    "\n",
    "# Track best validation loss\n",
    "best_val_loss = float('inf')\n",
    "train_losses, val_losses = [], []\n",
    "\n",
    "try:\n",
    "    # Training loop\n",
    "    for epoch in range(1, num_epochs + 1):\n",
    "        train_loss = trainer.train_epoch()\n",
    "        val_loss = trainer.validate_epoch()\n",
    "        \n",
    "        train_losses.append(train_loss)\n",
    "        val_losses.append(val_loss)\n",
    "        \n",
    "        # Log to WandB (if enabled)\n",
    "        try:\n",
    "            train_batch = next(iter(dataloaders['train']))\n",
    "            val_batch = next(iter(dataloaders['val']))\n",
    "            train_recon_loss = extract_recon_loss(model, train_batch, trainer.device)\n",
    "            val_recon_loss = extract_recon_loss(model, val_batch, trainer.device)\n",
    "            wandb_logger.log_epoch(epoch, train_loss, val_loss, train_recon_loss, val_recon_loss)\n",
    "        except Exception as e:\n",
    "            wandb_logger.log_epoch(epoch, train_loss, val_loss)\n",
    "        \n",
    "        # Print progress\n",
    "        print(f\"Epoch {epoch}/{num_epochs}: Train Loss = {train_loss:.4f}, Val Loss = {val_loss:.4f}\")\n",
    "        \n",
    "        # Save best model\n",
    "        if val_loss < best_val_loss:\n",
    "            best_val_loss = val_loss\n",
    "            metadata = {'epoch': epoch, 'train_loss': train_loss, 'val_loss': val_loss}\n",
    "            model_path = save_model(model, save_dir, 'best_model.pt', metadata)\n",
    "            print(f\"New best validation loss: {val_loss:.4f}\")\n",
    "            wandb_logger.log_model(model_path, metadata)\n",
    "\n",
    "    # Save final model if different from best\n",
    "    if val_losses[-1] > best_val_loss:\n",
    "        metadata = {'epoch': num_epochs, 'train_loss': train_losses[-1], 'val_loss': val_losses[-1]}\n",
    "        save_model(model, save_dir, 'final_model.pt', metadata)\n",
    "\n",
    "    print(f\"Training complete. Best validation loss: {best_val_loss:.4f}\")\n",
    "\n",
    "except KeyboardInterrupt:\n",
    "    print(\"\\nTraining interrupted by user. Saving current state...\")\n",
    "    if len(train_losses) > 0:\n",
    "        metadata = {\n",
    "            'interrupted': True,\n",
    "            'epoch': len(train_losses), \n",
    "            'train_loss': train_losses[-1],\n",
    "            'val_loss': val_losses[-1] if len(val_losses) > 0 else None\n",
    "        }\n",
    "        save_model(model, save_dir, 'interrupted_model.pt', metadata)\n",
    "        print(f\"Interrupted model saved to {save_dir}\")\n",
    "\n",
    "except Exception as e:\n",
    "    print(f\"\\nTraining failed with error: {e}\")\n",
    "    import traceback\n",
    "    traceback.print_exc()\n",
    "    \n",
    "finally:\n",
    "    # Clean up WandB\n",
    "    try:\n",
    "        wandb_logger.finish()\n",
    "    except:\n",
    "        pass\n",
    "    print(\"Training session complete.\")"
   ]
  },
  {
   "cell_type": "code",
   "execution_count": 1,
   "metadata": {},
   "outputs": [
    {
     "name": "stderr",
     "output_type": "stream",
     "text": [
      "/home/alexkstern/miniconda3/envs/credit_vae/lib/python3.8/site-packages/tqdm/auto.py:21: TqdmWarning: IProgress not found. Please update jupyter and ipywidgets. See https://ipywidgets.readthedocs.io/en/stable/user_install.html\n",
      "  from .autonotebook import tqdm as notebook_tqdm\n",
      "\u001b[34m\u001b[1mwandb\u001b[0m: Using wandb-core as the SDK backend.  Please refer to https://wandb.me/wandb-core for more information.\n"
     ]
    },
    {
     "name": "stdout",
     "output_type": "stream",
     "text": [
      "Initializing WandB run: conv-vae-fraud_20250313_231435 (Project: fraud-classification, Entity: alexkstern)\n"
     ]
    },
    {
     "name": "stderr",
     "output_type": "stream",
     "text": [
      "\u001b[34m\u001b[1mwandb\u001b[0m: Currently logged in as: \u001b[33malexkstern\u001b[0m (\u001b[33malexksternteam\u001b[0m) to \u001b[32mhttps://api.wandb.ai\u001b[0m. Use \u001b[1m`wandb login --relogin`\u001b[0m to force relogin\n"
     ]
    },
    {
     "data": {
      "text/html": [
       "creating run (0.0s)"
      ],
      "text/plain": [
       "<IPython.core.display.HTML object>"
      ]
     },
     "metadata": {},
     "output_type": "display_data"
    },
    {
     "data": {
      "text/html": [
       "Tracking run with wandb version 0.19.8"
      ],
      "text/plain": [
       "<IPython.core.display.HTML object>"
      ]
     },
     "metadata": {},
     "output_type": "display_data"
    },
    {
     "data": {
      "text/html": [
       "Run data is saved locally in <code>/home/alexkstern/fraudml/amlf_proj/wandb/run-20250313_231436-ut3anb1i</code>"
      ],
      "text/plain": [
       "<IPython.core.display.HTML object>"
      ]
     },
     "metadata": {},
     "output_type": "display_data"
    },
    {
     "data": {
      "text/html": [
       "Syncing run <strong><a href='https://wandb.ai/alexkstern/fraud-classification/runs/ut3anb1i' target=\"_blank\">conv-vae-fraud_20250313_231435</a></strong> to <a href='https://wandb.ai/alexkstern/fraud-classification' target=\"_blank\">Weights & Biases</a> (<a href='https://wandb.me/developer-guide' target=\"_blank\">docs</a>)<br>"
      ],
      "text/plain": [
       "<IPython.core.display.HTML object>"
      ]
     },
     "metadata": {},
     "output_type": "display_data"
    },
    {
     "data": {
      "text/html": [
       " View project at <a href='https://wandb.ai/alexkstern/fraud-classification' target=\"_blank\">https://wandb.ai/alexkstern/fraud-classification</a>"
      ],
      "text/plain": [
       "<IPython.core.display.HTML object>"
      ]
     },
     "metadata": {},
     "output_type": "display_data"
    },
    {
     "data": {
      "text/html": [
       " View run at <a href='https://wandb.ai/alexkstern/fraud-classification/runs/ut3anb1i' target=\"_blank\">https://wandb.ai/alexkstern/fraud-classification/runs/ut3anb1i</a>"
      ],
      "text/plain": [
       "<IPython.core.display.HTML object>"
      ]
     },
     "metadata": {},
     "output_type": "display_data"
    },
    {
     "name": "stdout",
     "output_type": "stream",
     "text": [
      "Loaded configuration from configs/conv_vae/fraud_conv_vae_test.config\n",
      "Filtered dataset to class 1: 378 samples\n",
      "Normalization statistics (calculated from class 1): {'Time': {'mean': 80790.48148148147, 'std': 48332.5139872635}, 'Amount': {'mean': 133.6764814814815, 'std': 276.3532237447719}}\n",
      "Filtered dataset to class 1: 378 samples\n",
      "Filtered dataset to class 1: 47 samples\n",
      "Filtered dataset to class 1: 48 samples\n",
      "Total number of trainable parameters: 62727\n"
     ]
    },
    {
     "name": "stderr",
     "output_type": "stream",
     "text": [
      "/home/alexkstern/miniconda3/envs/credit_vae/lib/python3.8/site-packages/torch/optim/lr_scheduler.py:60: UserWarning: The verbose parameter is deprecated. Please use get_last_lr() to access the learning rate.\n",
      "  warnings.warn(\n"
     ]
    },
    {
     "name": "stdout",
     "output_type": "stream",
     "text": [
      "Models will be saved to: saved_models/conv_vae/fraud_conv_vae_test/20250313_231447\n"
     ]
    },
    {
     "name": "stderr",
     "output_type": "stream",
     "text": [
      "                                                                           \r"
     ]
    },
    {
     "name": "stdout",
     "output_type": "stream",
     "text": [
      "Epoch 1/150: Train Loss = 684.0239, Val Loss = 1022.5321, LR = 1.0e-02\n",
      "Model saved to saved_models/conv_vae/fraud_conv_vae_test/20250313_231447/best_model.pt\n",
      "New best validation loss: 1022.5321\n"
     ]
    },
    {
     "name": "stderr",
     "output_type": "stream",
     "text": [
      "                                                                           \r"
     ]
    },
    {
     "name": "stdout",
     "output_type": "stream",
     "text": [
      "Epoch 2/150: Train Loss = 678.9608, Val Loss = 1022.5317, LR = 1.0e-02\n",
      "Model saved to saved_models/conv_vae/fraud_conv_vae_test/20250313_231447/best_model.pt\n",
      "New best validation loss: 1022.5317\n"
     ]
    },
    {
     "name": "stderr",
     "output_type": "stream",
     "text": [
      "                                                                           \r"
     ]
    },
    {
     "name": "stdout",
     "output_type": "stream",
     "text": [
      "Epoch 3/150: Train Loss = 678.9607, Val Loss = 1022.5317, LR = 1.0e-02\n",
      "Model saved to saved_models/conv_vae/fraud_conv_vae_test/20250313_231447/best_model.pt\n",
      "New best validation loss: 1022.5317\n"
     ]
    },
    {
     "name": "stderr",
     "output_type": "stream",
     "text": [
      "                                                                           \r"
     ]
    },
    {
     "name": "stdout",
     "output_type": "stream",
     "text": [
      "Epoch 4/150: Train Loss = 678.9607, Val Loss = 1022.5317, LR = 1.0e-02\n"
     ]
    },
    {
     "name": "stderr",
     "output_type": "stream",
     "text": [
      "                                                                           \r"
     ]
    },
    {
     "name": "stdout",
     "output_type": "stream",
     "text": [
      "Epoch 5/150: Train Loss = 678.9607, Val Loss = 1022.5317, LR = 1.0e-02\n"
     ]
    },
    {
     "name": "stderr",
     "output_type": "stream",
     "text": [
      "                                                                           \r"
     ]
    },
    {
     "name": "stdout",
     "output_type": "stream",
     "text": [
      "Epoch 6/150: Train Loss = 678.9607, Val Loss = 1022.5317, LR = 1.0e-02\n",
      "Model saved to saved_models/conv_vae/fraud_conv_vae_test/20250313_231447/best_model.pt\n",
      "New best validation loss: 1022.5317\n"
     ]
    },
    {
     "name": "stderr",
     "output_type": "stream",
     "text": [
      "                                                                           \r"
     ]
    },
    {
     "name": "stdout",
     "output_type": "stream",
     "text": [
      "Epoch 7/150: Train Loss = 678.9607, Val Loss = 1022.5317, LR = 1.0e-02\n"
     ]
    },
    {
     "name": "stderr",
     "output_type": "stream",
     "text": [
      "                                                                           \r"
     ]
    },
    {
     "name": "stdout",
     "output_type": "stream",
     "text": [
      "Epoch 8/150: Train Loss = 678.9607, Val Loss = 1022.5317, LR = 5.0e-03\n"
     ]
    },
    {
     "name": "stderr",
     "output_type": "stream",
     "text": [
      "                                                                           \r"
     ]
    },
    {
     "name": "stdout",
     "output_type": "stream",
     "text": [
      "Epoch 9/150: Train Loss = 678.9607, Val Loss = 1022.5317, LR = 5.0e-03\n"
     ]
    },
    {
     "name": "stderr",
     "output_type": "stream",
     "text": [
      "                                                                           \r"
     ]
    },
    {
     "name": "stdout",
     "output_type": "stream",
     "text": [
      "Epoch 10/150: Train Loss = 678.9607, Val Loss = 1022.5317, LR = 5.0e-03\n"
     ]
    },
    {
     "name": "stderr",
     "output_type": "stream",
     "text": [
      "                                                                           \r"
     ]
    },
    {
     "name": "stdout",
     "output_type": "stream",
     "text": [
      "Epoch 11/150: Train Loss = 678.9607, Val Loss = 1022.5317, LR = 5.0e-03\n"
     ]
    },
    {
     "name": "stderr",
     "output_type": "stream",
     "text": [
      "                                                                           \r"
     ]
    },
    {
     "name": "stdout",
     "output_type": "stream",
     "text": [
      "Epoch 12/150: Train Loss = 678.9607, Val Loss = 1022.5317, LR = 5.0e-03\n"
     ]
    },
    {
     "name": "stderr",
     "output_type": "stream",
     "text": [
      "                                                                           \r"
     ]
    },
    {
     "name": "stdout",
     "output_type": "stream",
     "text": [
      "Epoch 13/150: Train Loss = 678.9607, Val Loss = 1022.5317, LR = 5.0e-03\n"
     ]
    },
    {
     "name": "stderr",
     "output_type": "stream",
     "text": [
      "                                                                           \r"
     ]
    },
    {
     "name": "stdout",
     "output_type": "stream",
     "text": [
      "Epoch 14/150: Train Loss = 678.9607, Val Loss = 1022.5317, LR = 2.5e-03\n"
     ]
    },
    {
     "name": "stderr",
     "output_type": "stream",
     "text": [
      "                                                                           \r"
     ]
    },
    {
     "name": "stdout",
     "output_type": "stream",
     "text": [
      "Epoch 15/150: Train Loss = 678.9607, Val Loss = 1022.5317, LR = 2.5e-03\n"
     ]
    },
    {
     "name": "stderr",
     "output_type": "stream",
     "text": [
      "                                                                           \r"
     ]
    },
    {
     "name": "stdout",
     "output_type": "stream",
     "text": [
      "Epoch 16/150: Train Loss = 678.9607, Val Loss = 1022.5317, LR = 2.5e-03\n"
     ]
    },
    {
     "name": "stderr",
     "output_type": "stream",
     "text": [
      "                                                                           \r"
     ]
    },
    {
     "name": "stdout",
     "output_type": "stream",
     "text": [
      "Epoch 17/150: Train Loss = 678.9607, Val Loss = 1022.5317, LR = 2.5e-03\n"
     ]
    },
    {
     "name": "stderr",
     "output_type": "stream",
     "text": [
      "                                                                           \r"
     ]
    },
    {
     "name": "stdout",
     "output_type": "stream",
     "text": [
      "Epoch 18/150: Train Loss = 678.9607, Val Loss = 1022.5317, LR = 2.5e-03\n"
     ]
    },
    {
     "name": "stderr",
     "output_type": "stream",
     "text": [
      "                                                                           \r"
     ]
    },
    {
     "name": "stdout",
     "output_type": "stream",
     "text": [
      "Epoch 19/150: Train Loss = 678.9607, Val Loss = 1022.5317, LR = 2.5e-03\n"
     ]
    },
    {
     "name": "stderr",
     "output_type": "stream",
     "text": [
      "                                                                           \r"
     ]
    },
    {
     "name": "stdout",
     "output_type": "stream",
     "text": [
      "Epoch 20/150: Train Loss = 678.9607, Val Loss = 1022.5317, LR = 1.3e-03\n"
     ]
    },
    {
     "name": "stderr",
     "output_type": "stream",
     "text": [
      "                                                                           \r"
     ]
    },
    {
     "name": "stdout",
     "output_type": "stream",
     "text": [
      "Epoch 21/150: Train Loss = 678.9607, Val Loss = 1022.5317, LR = 1.3e-03\n"
     ]
    },
    {
     "name": "stderr",
     "output_type": "stream",
     "text": [
      "                                                                           \r"
     ]
    },
    {
     "name": "stdout",
     "output_type": "stream",
     "text": [
      "Epoch 22/150: Train Loss = 678.9607, Val Loss = 1022.5317, LR = 1.3e-03\n"
     ]
    },
    {
     "name": "stderr",
     "output_type": "stream",
     "text": [
      "                                                                           \r"
     ]
    },
    {
     "name": "stdout",
     "output_type": "stream",
     "text": [
      "Epoch 23/150: Train Loss = 678.9607, Val Loss = 1022.5317, LR = 1.3e-03\n"
     ]
    },
    {
     "name": "stderr",
     "output_type": "stream",
     "text": [
      "                                                                           \r"
     ]
    },
    {
     "name": "stdout",
     "output_type": "stream",
     "text": [
      "Epoch 24/150: Train Loss = 678.9607, Val Loss = 1022.5317, LR = 1.3e-03\n"
     ]
    },
    {
     "name": "stderr",
     "output_type": "stream",
     "text": [
      "                                                                           \r"
     ]
    },
    {
     "name": "stdout",
     "output_type": "stream",
     "text": [
      "Epoch 25/150: Train Loss = 678.9607, Val Loss = 1022.5317, LR = 1.3e-03\n"
     ]
    },
    {
     "name": "stderr",
     "output_type": "stream",
     "text": [
      "                                                                           \r"
     ]
    },
    {
     "name": "stdout",
     "output_type": "stream",
     "text": [
      "Epoch 26/150: Train Loss = 678.9607, Val Loss = 1022.5317, LR = 6.3e-04\n"
     ]
    },
    {
     "name": "stderr",
     "output_type": "stream",
     "text": [
      "                                                                           \r"
     ]
    },
    {
     "name": "stdout",
     "output_type": "stream",
     "text": [
      "Epoch 27/150: Train Loss = 678.9607, Val Loss = 1022.5317, LR = 6.3e-04\n"
     ]
    },
    {
     "name": "stderr",
     "output_type": "stream",
     "text": [
      "                                                                           \r"
     ]
    },
    {
     "name": "stdout",
     "output_type": "stream",
     "text": [
      "Epoch 28/150: Train Loss = 678.9607, Val Loss = 1022.5317, LR = 6.3e-04\n"
     ]
    },
    {
     "name": "stderr",
     "output_type": "stream",
     "text": [
      "                                                                           \r"
     ]
    },
    {
     "name": "stdout",
     "output_type": "stream",
     "text": [
      "Epoch 29/150: Train Loss = 678.9607, Val Loss = 1022.5317, LR = 6.3e-04\n"
     ]
    },
    {
     "name": "stderr",
     "output_type": "stream",
     "text": [
      "                                                                           \r"
     ]
    },
    {
     "name": "stdout",
     "output_type": "stream",
     "text": [
      "Epoch 30/150: Train Loss = 678.9607, Val Loss = 1022.5317, LR = 6.3e-04\n"
     ]
    },
    {
     "name": "stderr",
     "output_type": "stream",
     "text": [
      "                                                                           \r"
     ]
    },
    {
     "name": "stdout",
     "output_type": "stream",
     "text": [
      "Epoch 31/150: Train Loss = 678.9607, Val Loss = 1022.5317, LR = 6.3e-04\n"
     ]
    },
    {
     "name": "stderr",
     "output_type": "stream",
     "text": [
      "                                                                           \r"
     ]
    },
    {
     "name": "stdout",
     "output_type": "stream",
     "text": [
      "Epoch 32/150: Train Loss = 678.9607, Val Loss = 1022.5317, LR = 3.1e-04\n"
     ]
    },
    {
     "name": "stderr",
     "output_type": "stream",
     "text": [
      "                                                                           \r"
     ]
    },
    {
     "name": "stdout",
     "output_type": "stream",
     "text": [
      "Epoch 33/150: Train Loss = 678.9607, Val Loss = 1022.5317, LR = 3.1e-04\n"
     ]
    },
    {
     "name": "stderr",
     "output_type": "stream",
     "text": [
      "                                                                           \r"
     ]
    },
    {
     "name": "stdout",
     "output_type": "stream",
     "text": [
      "Epoch 34/150: Train Loss = 678.9607, Val Loss = 1022.5317, LR = 3.1e-04\n"
     ]
    },
    {
     "name": "stderr",
     "output_type": "stream",
     "text": [
      "                                                                           \r"
     ]
    },
    {
     "name": "stdout",
     "output_type": "stream",
     "text": [
      "Epoch 35/150: Train Loss = 678.9607, Val Loss = 1022.5317, LR = 3.1e-04\n"
     ]
    },
    {
     "name": "stderr",
     "output_type": "stream",
     "text": [
      "                                                                           \r"
     ]
    },
    {
     "name": "stdout",
     "output_type": "stream",
     "text": [
      "Epoch 36/150: Train Loss = 678.9607, Val Loss = 1022.5317, LR = 3.1e-04\n"
     ]
    },
    {
     "name": "stderr",
     "output_type": "stream",
     "text": [
      "                                                                           \r"
     ]
    },
    {
     "name": "stdout",
     "output_type": "stream",
     "text": [
      "Epoch 37/150: Train Loss = 678.9607, Val Loss = 1022.5317, LR = 3.1e-04\n"
     ]
    },
    {
     "name": "stderr",
     "output_type": "stream",
     "text": [
      "                                                                           \r"
     ]
    },
    {
     "name": "stdout",
     "output_type": "stream",
     "text": [
      "Epoch 38/150: Train Loss = 678.9607, Val Loss = 1022.5317, LR = 1.6e-04\n"
     ]
    },
    {
     "name": "stderr",
     "output_type": "stream",
     "text": [
      "                                                                           \r"
     ]
    },
    {
     "name": "stdout",
     "output_type": "stream",
     "text": [
      "Epoch 39/150: Train Loss = 678.9607, Val Loss = 1022.5317, LR = 1.6e-04\n"
     ]
    },
    {
     "name": "stderr",
     "output_type": "stream",
     "text": [
      "                                                                           \r"
     ]
    },
    {
     "name": "stdout",
     "output_type": "stream",
     "text": [
      "Epoch 40/150: Train Loss = 678.9607, Val Loss = 1022.5317, LR = 1.6e-04\n"
     ]
    },
    {
     "name": "stderr",
     "output_type": "stream",
     "text": [
      "                                                                           \r"
     ]
    },
    {
     "name": "stdout",
     "output_type": "stream",
     "text": [
      "Epoch 41/150: Train Loss = 678.9607, Val Loss = 1022.5317, LR = 1.6e-04\n"
     ]
    },
    {
     "name": "stderr",
     "output_type": "stream",
     "text": [
      "                                                                           \r"
     ]
    },
    {
     "name": "stdout",
     "output_type": "stream",
     "text": [
      "Epoch 42/150: Train Loss = 678.9607, Val Loss = 1022.5317, LR = 1.6e-04\n"
     ]
    },
    {
     "name": "stderr",
     "output_type": "stream",
     "text": [
      "                                                                           \r"
     ]
    },
    {
     "name": "stdout",
     "output_type": "stream",
     "text": [
      "Epoch 43/150: Train Loss = 678.9607, Val Loss = 1022.5317, LR = 1.6e-04\n"
     ]
    },
    {
     "name": "stderr",
     "output_type": "stream",
     "text": [
      "                                                                           \r"
     ]
    },
    {
     "name": "stdout",
     "output_type": "stream",
     "text": [
      "Epoch 44/150: Train Loss = 678.9607, Val Loss = 1022.5317, LR = 7.8e-05\n"
     ]
    },
    {
     "name": "stderr",
     "output_type": "stream",
     "text": [
      "                                                                           \r"
     ]
    },
    {
     "name": "stdout",
     "output_type": "stream",
     "text": [
      "Epoch 45/150: Train Loss = 678.9607, Val Loss = 1022.5317, LR = 7.8e-05\n"
     ]
    },
    {
     "name": "stderr",
     "output_type": "stream",
     "text": [
      "                                                                           \r"
     ]
    },
    {
     "name": "stdout",
     "output_type": "stream",
     "text": [
      "Epoch 46/150: Train Loss = 678.9607, Val Loss = 1022.5317, LR = 7.8e-05\n"
     ]
    },
    {
     "name": "stderr",
     "output_type": "stream",
     "text": [
      "                                                                           \r"
     ]
    },
    {
     "name": "stdout",
     "output_type": "stream",
     "text": [
      "Epoch 47/150: Train Loss = 678.9607, Val Loss = 1022.5317, LR = 7.8e-05\n"
     ]
    },
    {
     "name": "stderr",
     "output_type": "stream",
     "text": [
      "                                                                           \r"
     ]
    },
    {
     "name": "stdout",
     "output_type": "stream",
     "text": [
      "Epoch 48/150: Train Loss = 678.9607, Val Loss = 1022.5317, LR = 7.8e-05\n"
     ]
    },
    {
     "name": "stderr",
     "output_type": "stream",
     "text": [
      "                                                                           \r"
     ]
    },
    {
     "name": "stdout",
     "output_type": "stream",
     "text": [
      "Epoch 49/150: Train Loss = 678.9607, Val Loss = 1022.5317, LR = 7.8e-05\n"
     ]
    },
    {
     "name": "stderr",
     "output_type": "stream",
     "text": [
      "                                                                           \r"
     ]
    },
    {
     "name": "stdout",
     "output_type": "stream",
     "text": [
      "Epoch 50/150: Train Loss = 678.9607, Val Loss = 1022.5317, LR = 3.9e-05\n"
     ]
    },
    {
     "name": "stderr",
     "output_type": "stream",
     "text": [
      "                                                                           \r"
     ]
    },
    {
     "name": "stdout",
     "output_type": "stream",
     "text": [
      "Epoch 51/150: Train Loss = 678.9607, Val Loss = 1022.5317, LR = 3.9e-05\n"
     ]
    },
    {
     "name": "stderr",
     "output_type": "stream",
     "text": [
      "                                                                           \r"
     ]
    },
    {
     "name": "stdout",
     "output_type": "stream",
     "text": [
      "Epoch 52/150: Train Loss = 678.9607, Val Loss = 1022.5317, LR = 3.9e-05\n"
     ]
    },
    {
     "name": "stderr",
     "output_type": "stream",
     "text": [
      "                                                                           \r"
     ]
    },
    {
     "name": "stdout",
     "output_type": "stream",
     "text": [
      "Epoch 53/150: Train Loss = 678.9607, Val Loss = 1022.5317, LR = 3.9e-05\n"
     ]
    },
    {
     "name": "stderr",
     "output_type": "stream",
     "text": [
      "                                                                           \r"
     ]
    },
    {
     "name": "stdout",
     "output_type": "stream",
     "text": [
      "Epoch 54/150: Train Loss = 678.9607, Val Loss = 1022.5317, LR = 3.9e-05\n"
     ]
    },
    {
     "name": "stderr",
     "output_type": "stream",
     "text": [
      "                                                                           \r"
     ]
    },
    {
     "name": "stdout",
     "output_type": "stream",
     "text": [
      "Epoch 55/150: Train Loss = 678.9607, Val Loss = 1022.5317, LR = 3.9e-05\n"
     ]
    },
    {
     "name": "stderr",
     "output_type": "stream",
     "text": [
      "                                                                           \r"
     ]
    },
    {
     "name": "stdout",
     "output_type": "stream",
     "text": [
      "Epoch 56/150: Train Loss = 678.9607, Val Loss = 1022.5317, LR = 2.0e-05\n"
     ]
    },
    {
     "name": "stderr",
     "output_type": "stream",
     "text": [
      "                                                                           \r"
     ]
    },
    {
     "name": "stdout",
     "output_type": "stream",
     "text": [
      "Epoch 57/150: Train Loss = 678.9607, Val Loss = 1022.5317, LR = 2.0e-05\n"
     ]
    },
    {
     "name": "stderr",
     "output_type": "stream",
     "text": [
      "                                                                           \r"
     ]
    },
    {
     "name": "stdout",
     "output_type": "stream",
     "text": [
      "Epoch 58/150: Train Loss = 678.9607, Val Loss = 1022.5317, LR = 2.0e-05\n"
     ]
    },
    {
     "name": "stderr",
     "output_type": "stream",
     "text": [
      "                                                                           \r"
     ]
    },
    {
     "name": "stdout",
     "output_type": "stream",
     "text": [
      "Epoch 59/150: Train Loss = 678.9607, Val Loss = 1022.5317, LR = 2.0e-05\n"
     ]
    },
    {
     "name": "stderr",
     "output_type": "stream",
     "text": [
      "                                                                           \r"
     ]
    },
    {
     "name": "stdout",
     "output_type": "stream",
     "text": [
      "Epoch 60/150: Train Loss = 678.9607, Val Loss = 1022.5317, LR = 2.0e-05\n"
     ]
    },
    {
     "name": "stderr",
     "output_type": "stream",
     "text": [
      "                                                                           \r"
     ]
    },
    {
     "name": "stdout",
     "output_type": "stream",
     "text": [
      "Epoch 61/150: Train Loss = 678.9607, Val Loss = 1022.5317, LR = 2.0e-05\n"
     ]
    },
    {
     "name": "stderr",
     "output_type": "stream",
     "text": [
      "                                                                           \r"
     ]
    },
    {
     "name": "stdout",
     "output_type": "stream",
     "text": [
      "Epoch 62/150: Train Loss = 678.9607, Val Loss = 1022.5317, LR = 9.8e-06\n"
     ]
    },
    {
     "name": "stderr",
     "output_type": "stream",
     "text": [
      "                                                                           \r"
     ]
    },
    {
     "name": "stdout",
     "output_type": "stream",
     "text": [
      "Epoch 63/150: Train Loss = 678.9607, Val Loss = 1022.5317, LR = 9.8e-06\n"
     ]
    },
    {
     "name": "stderr",
     "output_type": "stream",
     "text": [
      "                                                                           \r"
     ]
    },
    {
     "name": "stdout",
     "output_type": "stream",
     "text": [
      "Epoch 64/150: Train Loss = 678.9607, Val Loss = 1022.5317, LR = 9.8e-06\n"
     ]
    },
    {
     "name": "stderr",
     "output_type": "stream",
     "text": [
      "                                                                           \r"
     ]
    },
    {
     "name": "stdout",
     "output_type": "stream",
     "text": [
      "Epoch 65/150: Train Loss = 678.9607, Val Loss = 1022.5317, LR = 9.8e-06\n"
     ]
    },
    {
     "name": "stderr",
     "output_type": "stream",
     "text": [
      "                                                                           \r"
     ]
    },
    {
     "name": "stdout",
     "output_type": "stream",
     "text": [
      "Epoch 66/150: Train Loss = 678.9607, Val Loss = 1022.5317, LR = 9.8e-06\n"
     ]
    },
    {
     "name": "stderr",
     "output_type": "stream",
     "text": [
      "                                                                           \r"
     ]
    },
    {
     "name": "stdout",
     "output_type": "stream",
     "text": [
      "Epoch 67/150: Train Loss = 678.9607, Val Loss = 1022.5317, LR = 9.8e-06\n"
     ]
    },
    {
     "name": "stderr",
     "output_type": "stream",
     "text": [
      "                                                                           \r"
     ]
    },
    {
     "name": "stdout",
     "output_type": "stream",
     "text": [
      "Epoch 68/150: Train Loss = 678.9607, Val Loss = 1022.5317, LR = 4.9e-06\n"
     ]
    },
    {
     "name": "stderr",
     "output_type": "stream",
     "text": [
      "                                                                           \r"
     ]
    },
    {
     "name": "stdout",
     "output_type": "stream",
     "text": [
      "Epoch 69/150: Train Loss = 678.9607, Val Loss = 1022.5317, LR = 4.9e-06\n"
     ]
    },
    {
     "name": "stderr",
     "output_type": "stream",
     "text": [
      "                                                                           \r"
     ]
    },
    {
     "name": "stdout",
     "output_type": "stream",
     "text": [
      "Epoch 70/150: Train Loss = 678.9607, Val Loss = 1022.5317, LR = 4.9e-06\n"
     ]
    },
    {
     "name": "stderr",
     "output_type": "stream",
     "text": [
      "                                                                           \r"
     ]
    },
    {
     "name": "stdout",
     "output_type": "stream",
     "text": [
      "Epoch 71/150: Train Loss = 678.9607, Val Loss = 1022.5317, LR = 4.9e-06\n"
     ]
    },
    {
     "name": "stderr",
     "output_type": "stream",
     "text": [
      "                                                                           \r"
     ]
    },
    {
     "name": "stdout",
     "output_type": "stream",
     "text": [
      "Epoch 72/150: Train Loss = 678.9607, Val Loss = 1022.5317, LR = 4.9e-06\n"
     ]
    },
    {
     "name": "stderr",
     "output_type": "stream",
     "text": [
      "                                                                           \r"
     ]
    },
    {
     "name": "stdout",
     "output_type": "stream",
     "text": [
      "Epoch 73/150: Train Loss = 678.9607, Val Loss = 1022.5317, LR = 4.9e-06\n"
     ]
    },
    {
     "name": "stderr",
     "output_type": "stream",
     "text": [
      "                                                                           \r"
     ]
    },
    {
     "name": "stdout",
     "output_type": "stream",
     "text": [
      "Epoch 74/150: Train Loss = 678.9607, Val Loss = 1022.5317, LR = 2.4e-06\n"
     ]
    },
    {
     "name": "stderr",
     "output_type": "stream",
     "text": [
      "                                                                           \r"
     ]
    },
    {
     "name": "stdout",
     "output_type": "stream",
     "text": [
      "Epoch 75/150: Train Loss = 678.9607, Val Loss = 1022.5317, LR = 2.4e-06\n"
     ]
    },
    {
     "name": "stderr",
     "output_type": "stream",
     "text": [
      "                                                                           \r"
     ]
    },
    {
     "name": "stdout",
     "output_type": "stream",
     "text": [
      "Epoch 76/150: Train Loss = 678.9607, Val Loss = 1022.5317, LR = 2.4e-06\n"
     ]
    },
    {
     "name": "stderr",
     "output_type": "stream",
     "text": [
      "                                                                           \r"
     ]
    },
    {
     "name": "stdout",
     "output_type": "stream",
     "text": [
      "Epoch 77/150: Train Loss = 678.9607, Val Loss = 1022.5317, LR = 2.4e-06\n"
     ]
    },
    {
     "name": "stderr",
     "output_type": "stream",
     "text": [
      "                                                                           \r"
     ]
    },
    {
     "name": "stdout",
     "output_type": "stream",
     "text": [
      "Epoch 78/150: Train Loss = 678.9607, Val Loss = 1022.5317, LR = 2.4e-06\n"
     ]
    },
    {
     "name": "stderr",
     "output_type": "stream",
     "text": [
      "                                                                           \r"
     ]
    },
    {
     "name": "stdout",
     "output_type": "stream",
     "text": [
      "Epoch 79/150: Train Loss = 678.9607, Val Loss = 1022.5317, LR = 2.4e-06\n"
     ]
    },
    {
     "name": "stderr",
     "output_type": "stream",
     "text": [
      "                                                                           \r"
     ]
    },
    {
     "name": "stdout",
     "output_type": "stream",
     "text": [
      "Epoch 80/150: Train Loss = 678.9607, Val Loss = 1022.5317, LR = 1.2e-06\n"
     ]
    },
    {
     "name": "stderr",
     "output_type": "stream",
     "text": [
      "                                                                           \r"
     ]
    },
    {
     "name": "stdout",
     "output_type": "stream",
     "text": [
      "Epoch 81/150: Train Loss = 678.9607, Val Loss = 1022.5317, LR = 1.2e-06\n"
     ]
    },
    {
     "name": "stderr",
     "output_type": "stream",
     "text": [
      "                                                                           \r"
     ]
    },
    {
     "name": "stdout",
     "output_type": "stream",
     "text": [
      "Epoch 82/150: Train Loss = 678.9607, Val Loss = 1022.5317, LR = 1.2e-06\n"
     ]
    },
    {
     "name": "stderr",
     "output_type": "stream",
     "text": [
      "                                                                           \r"
     ]
    },
    {
     "name": "stdout",
     "output_type": "stream",
     "text": [
      "Epoch 83/150: Train Loss = 678.9607, Val Loss = 1022.5317, LR = 1.2e-06\n"
     ]
    },
    {
     "name": "stderr",
     "output_type": "stream",
     "text": [
      "                                                                           \r"
     ]
    },
    {
     "name": "stdout",
     "output_type": "stream",
     "text": [
      "Epoch 84/150: Train Loss = 678.9607, Val Loss = 1022.5317, LR = 1.2e-06\n"
     ]
    },
    {
     "name": "stderr",
     "output_type": "stream",
     "text": [
      "                                                                           \r"
     ]
    },
    {
     "name": "stdout",
     "output_type": "stream",
     "text": [
      "Epoch 85/150: Train Loss = 678.9607, Val Loss = 1022.5317, LR = 1.2e-06\n"
     ]
    },
    {
     "name": "stderr",
     "output_type": "stream",
     "text": [
      "                                                                           \r"
     ]
    },
    {
     "name": "stdout",
     "output_type": "stream",
     "text": [
      "Epoch 86/150: Train Loss = 678.9607, Val Loss = 1022.5317, LR = 1.0e-06\n"
     ]
    },
    {
     "name": "stderr",
     "output_type": "stream",
     "text": [
      "                                                                           \r"
     ]
    },
    {
     "name": "stdout",
     "output_type": "stream",
     "text": [
      "Epoch 87/150: Train Loss = 678.9607, Val Loss = 1022.5317, LR = 1.0e-06\n"
     ]
    },
    {
     "name": "stderr",
     "output_type": "stream",
     "text": [
      "                                                                           \r"
     ]
    },
    {
     "name": "stdout",
     "output_type": "stream",
     "text": [
      "Epoch 88/150: Train Loss = 678.9607, Val Loss = 1022.5317, LR = 1.0e-06\n"
     ]
    },
    {
     "name": "stderr",
     "output_type": "stream",
     "text": [
      "                                                                           \r"
     ]
    },
    {
     "name": "stdout",
     "output_type": "stream",
     "text": [
      "Epoch 89/150: Train Loss = 678.9607, Val Loss = 1022.5317, LR = 1.0e-06\n"
     ]
    },
    {
     "name": "stderr",
     "output_type": "stream",
     "text": [
      "                                                                           \r"
     ]
    },
    {
     "name": "stdout",
     "output_type": "stream",
     "text": [
      "Epoch 90/150: Train Loss = 678.9607, Val Loss = 1022.5317, LR = 1.0e-06\n"
     ]
    },
    {
     "name": "stderr",
     "output_type": "stream",
     "text": [
      "                                                                           \r"
     ]
    },
    {
     "name": "stdout",
     "output_type": "stream",
     "text": [
      "Epoch 91/150: Train Loss = 678.9607, Val Loss = 1022.5317, LR = 1.0e-06\n"
     ]
    },
    {
     "name": "stderr",
     "output_type": "stream",
     "text": [
      "                                                                           \r"
     ]
    },
    {
     "name": "stdout",
     "output_type": "stream",
     "text": [
      "Epoch 92/150: Train Loss = 678.9607, Val Loss = 1022.5317, LR = 1.0e-06\n"
     ]
    },
    {
     "name": "stderr",
     "output_type": "stream",
     "text": [
      "                                                                           \r"
     ]
    },
    {
     "name": "stdout",
     "output_type": "stream",
     "text": [
      "Epoch 93/150: Train Loss = 678.9607, Val Loss = 1022.5317, LR = 1.0e-06\n"
     ]
    },
    {
     "name": "stderr",
     "output_type": "stream",
     "text": [
      "                                                                           \r"
     ]
    },
    {
     "name": "stdout",
     "output_type": "stream",
     "text": [
      "Epoch 94/150: Train Loss = 678.9607, Val Loss = 1022.5317, LR = 1.0e-06\n"
     ]
    },
    {
     "name": "stderr",
     "output_type": "stream",
     "text": [
      "                                                                           \r"
     ]
    },
    {
     "name": "stdout",
     "output_type": "stream",
     "text": [
      "Epoch 95/150: Train Loss = 678.9607, Val Loss = 1022.5317, LR = 1.0e-06\n"
     ]
    },
    {
     "name": "stderr",
     "output_type": "stream",
     "text": [
      "                                                                           \r"
     ]
    },
    {
     "name": "stdout",
     "output_type": "stream",
     "text": [
      "Epoch 96/150: Train Loss = 678.9607, Val Loss = 1022.5317, LR = 1.0e-06\n"
     ]
    },
    {
     "name": "stderr",
     "output_type": "stream",
     "text": [
      "                                                                           \r"
     ]
    },
    {
     "name": "stdout",
     "output_type": "stream",
     "text": [
      "Epoch 97/150: Train Loss = 678.9607, Val Loss = 1022.5317, LR = 1.0e-06\n"
     ]
    },
    {
     "name": "stderr",
     "output_type": "stream",
     "text": [
      "                                                                           \r"
     ]
    },
    {
     "name": "stdout",
     "output_type": "stream",
     "text": [
      "Epoch 98/150: Train Loss = 678.9607, Val Loss = 1022.5317, LR = 1.0e-06\n"
     ]
    },
    {
     "name": "stderr",
     "output_type": "stream",
     "text": [
      "                                                                           \r"
     ]
    },
    {
     "name": "stdout",
     "output_type": "stream",
     "text": [
      "Epoch 99/150: Train Loss = 678.9607, Val Loss = 1022.5317, LR = 1.0e-06\n"
     ]
    },
    {
     "name": "stderr",
     "output_type": "stream",
     "text": [
      "                                                                           \r"
     ]
    },
    {
     "name": "stdout",
     "output_type": "stream",
     "text": [
      "Epoch 100/150: Train Loss = 678.9607, Val Loss = 1022.5317, LR = 1.0e-06\n"
     ]
    },
    {
     "name": "stderr",
     "output_type": "stream",
     "text": [
      "                                                                           \r"
     ]
    },
    {
     "name": "stdout",
     "output_type": "stream",
     "text": [
      "Epoch 101/150: Train Loss = 678.9607, Val Loss = 1022.5317, LR = 1.0e-06\n"
     ]
    },
    {
     "name": "stderr",
     "output_type": "stream",
     "text": [
      "                                                                           \r"
     ]
    },
    {
     "name": "stdout",
     "output_type": "stream",
     "text": [
      "Epoch 102/150: Train Loss = 678.9607, Val Loss = 1022.5317, LR = 1.0e-06\n"
     ]
    },
    {
     "name": "stderr",
     "output_type": "stream",
     "text": [
      "                                                                           \r"
     ]
    },
    {
     "name": "stdout",
     "output_type": "stream",
     "text": [
      "Epoch 103/150: Train Loss = 678.9607, Val Loss = 1022.5317, LR = 1.0e-06\n"
     ]
    },
    {
     "name": "stderr",
     "output_type": "stream",
     "text": [
      "                                                                           \r"
     ]
    },
    {
     "name": "stdout",
     "output_type": "stream",
     "text": [
      "Epoch 104/150: Train Loss = 678.9607, Val Loss = 1022.5317, LR = 1.0e-06\n"
     ]
    },
    {
     "name": "stderr",
     "output_type": "stream",
     "text": [
      "                                                                           \r"
     ]
    },
    {
     "name": "stdout",
     "output_type": "stream",
     "text": [
      "Epoch 105/150: Train Loss = 678.9607, Val Loss = 1022.5317, LR = 1.0e-06\n"
     ]
    },
    {
     "name": "stderr",
     "output_type": "stream",
     "text": [
      "                                                                           \r"
     ]
    },
    {
     "name": "stdout",
     "output_type": "stream",
     "text": [
      "Epoch 106/150: Train Loss = 678.9607, Val Loss = 1022.5317, LR = 1.0e-06\n"
     ]
    },
    {
     "name": "stderr",
     "output_type": "stream",
     "text": [
      "                                                                           \r"
     ]
    },
    {
     "name": "stdout",
     "output_type": "stream",
     "text": [
      "Epoch 107/150: Train Loss = 678.9607, Val Loss = 1022.5317, LR = 1.0e-06\n"
     ]
    },
    {
     "name": "stderr",
     "output_type": "stream",
     "text": [
      "                                                                           \r"
     ]
    },
    {
     "name": "stdout",
     "output_type": "stream",
     "text": [
      "Epoch 108/150: Train Loss = 678.9607, Val Loss = 1022.5317, LR = 1.0e-06\n"
     ]
    },
    {
     "name": "stderr",
     "output_type": "stream",
     "text": [
      "                                                                           \r"
     ]
    },
    {
     "name": "stdout",
     "output_type": "stream",
     "text": [
      "Epoch 109/150: Train Loss = 678.9607, Val Loss = 1022.5317, LR = 1.0e-06\n"
     ]
    },
    {
     "name": "stderr",
     "output_type": "stream",
     "text": [
      "                                                                           \r"
     ]
    },
    {
     "name": "stdout",
     "output_type": "stream",
     "text": [
      "Epoch 110/150: Train Loss = 678.9607, Val Loss = 1022.5317, LR = 1.0e-06\n"
     ]
    },
    {
     "name": "stderr",
     "output_type": "stream",
     "text": [
      "                                                                           \r"
     ]
    },
    {
     "name": "stdout",
     "output_type": "stream",
     "text": [
      "Epoch 111/150: Train Loss = 678.9607, Val Loss = 1022.5317, LR = 1.0e-06\n"
     ]
    },
    {
     "name": "stderr",
     "output_type": "stream",
     "text": [
      "                                                                           \r"
     ]
    },
    {
     "name": "stdout",
     "output_type": "stream",
     "text": [
      "Epoch 112/150: Train Loss = 678.9607, Val Loss = 1022.5317, LR = 1.0e-06\n"
     ]
    },
    {
     "name": "stderr",
     "output_type": "stream",
     "text": [
      "                                                                           \r"
     ]
    },
    {
     "name": "stdout",
     "output_type": "stream",
     "text": [
      "Epoch 113/150: Train Loss = 678.9607, Val Loss = 1022.5317, LR = 1.0e-06\n"
     ]
    },
    {
     "name": "stderr",
     "output_type": "stream",
     "text": [
      "                                                                           \r"
     ]
    },
    {
     "name": "stdout",
     "output_type": "stream",
     "text": [
      "Epoch 114/150: Train Loss = 678.9607, Val Loss = 1022.5317, LR = 1.0e-06\n"
     ]
    },
    {
     "name": "stderr",
     "output_type": "stream",
     "text": [
      "                                                                           \r"
     ]
    },
    {
     "name": "stdout",
     "output_type": "stream",
     "text": [
      "Epoch 115/150: Train Loss = 678.9607, Val Loss = 1022.5317, LR = 1.0e-06\n"
     ]
    },
    {
     "name": "stderr",
     "output_type": "stream",
     "text": [
      "                                                                           \r"
     ]
    },
    {
     "name": "stdout",
     "output_type": "stream",
     "text": [
      "Epoch 116/150: Train Loss = 678.9607, Val Loss = 1022.5317, LR = 1.0e-06\n"
     ]
    },
    {
     "name": "stderr",
     "output_type": "stream",
     "text": [
      "                                                                           \r"
     ]
    },
    {
     "name": "stdout",
     "output_type": "stream",
     "text": [
      "Epoch 117/150: Train Loss = 678.9607, Val Loss = 1022.5317, LR = 1.0e-06\n"
     ]
    },
    {
     "name": "stderr",
     "output_type": "stream",
     "text": [
      "                                                                           \r"
     ]
    },
    {
     "name": "stdout",
     "output_type": "stream",
     "text": [
      "Epoch 118/150: Train Loss = 678.9607, Val Loss = 1022.5317, LR = 1.0e-06\n"
     ]
    },
    {
     "name": "stderr",
     "output_type": "stream",
     "text": [
      "                                                                           \r"
     ]
    },
    {
     "name": "stdout",
     "output_type": "stream",
     "text": [
      "Epoch 119/150: Train Loss = 678.9607, Val Loss = 1022.5317, LR = 1.0e-06\n"
     ]
    },
    {
     "name": "stderr",
     "output_type": "stream",
     "text": [
      "                                                                           \r"
     ]
    },
    {
     "name": "stdout",
     "output_type": "stream",
     "text": [
      "Epoch 120/150: Train Loss = 678.9607, Val Loss = 1022.5317, LR = 1.0e-06\n"
     ]
    },
    {
     "name": "stderr",
     "output_type": "stream",
     "text": [
      "                                                                           \r"
     ]
    },
    {
     "name": "stdout",
     "output_type": "stream",
     "text": [
      "Epoch 121/150: Train Loss = 678.9607, Val Loss = 1022.5317, LR = 1.0e-06\n"
     ]
    },
    {
     "name": "stderr",
     "output_type": "stream",
     "text": [
      "                                                                           \r"
     ]
    },
    {
     "name": "stdout",
     "output_type": "stream",
     "text": [
      "Epoch 122/150: Train Loss = 678.9607, Val Loss = 1022.5317, LR = 1.0e-06\n"
     ]
    },
    {
     "name": "stderr",
     "output_type": "stream",
     "text": [
      "                                                                           \r"
     ]
    },
    {
     "name": "stdout",
     "output_type": "stream",
     "text": [
      "Epoch 123/150: Train Loss = 678.9607, Val Loss = 1022.5317, LR = 1.0e-06\n"
     ]
    },
    {
     "name": "stderr",
     "output_type": "stream",
     "text": [
      "                                                                           \r"
     ]
    },
    {
     "name": "stdout",
     "output_type": "stream",
     "text": [
      "Epoch 124/150: Train Loss = 678.9607, Val Loss = 1022.5317, LR = 1.0e-06\n"
     ]
    },
    {
     "name": "stderr",
     "output_type": "stream",
     "text": [
      "                                                                           \r"
     ]
    },
    {
     "name": "stdout",
     "output_type": "stream",
     "text": [
      "Epoch 125/150: Train Loss = 678.9607, Val Loss = 1022.5317, LR = 1.0e-06\n"
     ]
    },
    {
     "name": "stderr",
     "output_type": "stream",
     "text": [
      "                                                                           \r"
     ]
    },
    {
     "name": "stdout",
     "output_type": "stream",
     "text": [
      "Epoch 126/150: Train Loss = 678.9607, Val Loss = 1022.5317, LR = 1.0e-06\n"
     ]
    },
    {
     "name": "stderr",
     "output_type": "stream",
     "text": [
      "                                                                           \r"
     ]
    },
    {
     "name": "stdout",
     "output_type": "stream",
     "text": [
      "Epoch 127/150: Train Loss = 678.9607, Val Loss = 1022.5317, LR = 1.0e-06\n"
     ]
    },
    {
     "name": "stderr",
     "output_type": "stream",
     "text": [
      "                                                                           \r"
     ]
    },
    {
     "name": "stdout",
     "output_type": "stream",
     "text": [
      "Epoch 128/150: Train Loss = 678.9607, Val Loss = 1022.5317, LR = 1.0e-06\n"
     ]
    },
    {
     "name": "stderr",
     "output_type": "stream",
     "text": [
      "                                                                           \r"
     ]
    },
    {
     "name": "stdout",
     "output_type": "stream",
     "text": [
      "Epoch 129/150: Train Loss = 678.9607, Val Loss = 1022.5317, LR = 1.0e-06\n"
     ]
    },
    {
     "name": "stderr",
     "output_type": "stream",
     "text": [
      "                                                                           \r"
     ]
    },
    {
     "name": "stdout",
     "output_type": "stream",
     "text": [
      "Epoch 130/150: Train Loss = 678.9607, Val Loss = 1022.5317, LR = 1.0e-06\n"
     ]
    },
    {
     "name": "stderr",
     "output_type": "stream",
     "text": [
      "                                                                           \r"
     ]
    },
    {
     "name": "stdout",
     "output_type": "stream",
     "text": [
      "Epoch 131/150: Train Loss = 678.9607, Val Loss = 1022.5317, LR = 1.0e-06\n"
     ]
    },
    {
     "name": "stderr",
     "output_type": "stream",
     "text": [
      "                                                                           \r"
     ]
    },
    {
     "name": "stdout",
     "output_type": "stream",
     "text": [
      "Epoch 132/150: Train Loss = 678.9607, Val Loss = 1022.5317, LR = 1.0e-06\n"
     ]
    },
    {
     "name": "stderr",
     "output_type": "stream",
     "text": [
      "                                                                           \r"
     ]
    },
    {
     "name": "stdout",
     "output_type": "stream",
     "text": [
      "Epoch 133/150: Train Loss = 678.9607, Val Loss = 1022.5317, LR = 1.0e-06\n"
     ]
    },
    {
     "name": "stderr",
     "output_type": "stream",
     "text": [
      "                                                                           \r"
     ]
    },
    {
     "name": "stdout",
     "output_type": "stream",
     "text": [
      "Epoch 134/150: Train Loss = 678.9607, Val Loss = 1022.5317, LR = 1.0e-06\n"
     ]
    },
    {
     "name": "stderr",
     "output_type": "stream",
     "text": [
      "                                                                           \r"
     ]
    },
    {
     "name": "stdout",
     "output_type": "stream",
     "text": [
      "Epoch 135/150: Train Loss = 678.9607, Val Loss = 1022.5317, LR = 1.0e-06\n"
     ]
    },
    {
     "name": "stderr",
     "output_type": "stream",
     "text": [
      "                                                                           \r"
     ]
    },
    {
     "name": "stdout",
     "output_type": "stream",
     "text": [
      "Epoch 136/150: Train Loss = 678.9607, Val Loss = 1022.5317, LR = 1.0e-06\n"
     ]
    },
    {
     "name": "stderr",
     "output_type": "stream",
     "text": [
      "                                                                           \r"
     ]
    },
    {
     "name": "stdout",
     "output_type": "stream",
     "text": [
      "Epoch 137/150: Train Loss = 678.9607, Val Loss = 1022.5317, LR = 1.0e-06\n"
     ]
    },
    {
     "name": "stderr",
     "output_type": "stream",
     "text": [
      "                                                                           \r"
     ]
    },
    {
     "name": "stdout",
     "output_type": "stream",
     "text": [
      "Epoch 138/150: Train Loss = 678.9607, Val Loss = 1022.5317, LR = 1.0e-06\n"
     ]
    },
    {
     "name": "stderr",
     "output_type": "stream",
     "text": [
      "                                                                           \r"
     ]
    },
    {
     "name": "stdout",
     "output_type": "stream",
     "text": [
      "Epoch 139/150: Train Loss = 678.9607, Val Loss = 1022.5317, LR = 1.0e-06\n"
     ]
    },
    {
     "name": "stderr",
     "output_type": "stream",
     "text": [
      "                                                                           \r"
     ]
    },
    {
     "name": "stdout",
     "output_type": "stream",
     "text": [
      "Epoch 140/150: Train Loss = 678.9607, Val Loss = 1022.5317, LR = 1.0e-06\n"
     ]
    },
    {
     "name": "stderr",
     "output_type": "stream",
     "text": [
      "                                                                           \r"
     ]
    },
    {
     "name": "stdout",
     "output_type": "stream",
     "text": [
      "Epoch 141/150: Train Loss = 678.9607, Val Loss = 1022.5317, LR = 1.0e-06\n"
     ]
    },
    {
     "name": "stderr",
     "output_type": "stream",
     "text": [
      "                                                                           \r"
     ]
    },
    {
     "name": "stdout",
     "output_type": "stream",
     "text": [
      "Epoch 142/150: Train Loss = 678.9607, Val Loss = 1022.5317, LR = 1.0e-06\n"
     ]
    },
    {
     "name": "stderr",
     "output_type": "stream",
     "text": [
      "                                                                           \r"
     ]
    },
    {
     "name": "stdout",
     "output_type": "stream",
     "text": [
      "Epoch 143/150: Train Loss = 678.9607, Val Loss = 1022.5317, LR = 1.0e-06\n"
     ]
    },
    {
     "name": "stderr",
     "output_type": "stream",
     "text": [
      "                                                                           \r"
     ]
    },
    {
     "name": "stdout",
     "output_type": "stream",
     "text": [
      "Epoch 144/150: Train Loss = 678.9607, Val Loss = 1022.5317, LR = 1.0e-06\n"
     ]
    },
    {
     "name": "stderr",
     "output_type": "stream",
     "text": [
      "                                                                           \r"
     ]
    },
    {
     "name": "stdout",
     "output_type": "stream",
     "text": [
      "Epoch 145/150: Train Loss = 678.9607, Val Loss = 1022.5317, LR = 1.0e-06\n"
     ]
    },
    {
     "name": "stderr",
     "output_type": "stream",
     "text": [
      "                                                                           \r"
     ]
    },
    {
     "name": "stdout",
     "output_type": "stream",
     "text": [
      "Epoch 146/150: Train Loss = 678.9607, Val Loss = 1022.5317, LR = 1.0e-06\n"
     ]
    },
    {
     "name": "stderr",
     "output_type": "stream",
     "text": [
      "                                                                           \r"
     ]
    },
    {
     "name": "stdout",
     "output_type": "stream",
     "text": [
      "Epoch 147/150: Train Loss = 678.9607, Val Loss = 1022.5317, LR = 1.0e-06\n"
     ]
    },
    {
     "name": "stderr",
     "output_type": "stream",
     "text": [
      "                                                                           \r"
     ]
    },
    {
     "name": "stdout",
     "output_type": "stream",
     "text": [
      "Epoch 148/150: Train Loss = 678.9607, Val Loss = 1022.5317, LR = 1.0e-06\n"
     ]
    },
    {
     "name": "stderr",
     "output_type": "stream",
     "text": [
      "                                                                           \r"
     ]
    },
    {
     "name": "stdout",
     "output_type": "stream",
     "text": [
      "Epoch 149/150: Train Loss = 678.9607, Val Loss = 1022.5317, LR = 1.0e-06\n"
     ]
    },
    {
     "name": "stderr",
     "output_type": "stream",
     "text": [
      "                                                                           \r"
     ]
    },
    {
     "name": "stdout",
     "output_type": "stream",
     "text": [
      "Epoch 150/150: Train Loss = 678.9607, Val Loss = 1022.5317, LR = 1.0e-06\n",
      "Training complete. Best validation loss: 1022.5317\n"
     ]
    },
    {
     "data": {
      "text/html": [],
      "text/plain": [
       "<IPython.core.display.HTML object>"
      ]
     },
     "metadata": {},
     "output_type": "display_data"
    },
    {
     "data": {
      "text/html": [
       "<br>    <style><br>        .wandb-row {<br>            display: flex;<br>            flex-direction: row;<br>            flex-wrap: wrap;<br>            justify-content: flex-start;<br>            width: 100%;<br>        }<br>        .wandb-col {<br>            display: flex;<br>            flex-direction: column;<br>            flex-basis: 100%;<br>            flex: 1;<br>            padding: 10px;<br>        }<br>    </style><br><div class=\"wandb-row\"><div class=\"wandb-col\"><h3>Run history:</h3><br/><table class=\"wandb\"><tr><td>epoch</td><td>▁▁▁▁▁▂▂▂▂▃▃▃▃▃▃▄▄▄▄▄▅▅▅▅▅▅▆▆▆▆▇▇▇▇▇█████</td></tr><tr><td>learning_rate</td><td>██▄▃▃▁▁▁▁▁▁▁▁▁▁▁▁▁▁▁▁▁▁▁▁▁▁▁▁▁▁▁▁▁▁▁▁▁▁▁</td></tr><tr><td>train/recon_loss</td><td>▆▂▃▄▁▄▃▅▃▂▃▅▅▆▇▅▁▂▄▆▄▂█▁▅▄▁▄▃▃▂▆▃▄▃▄▅▅▇▂</td></tr><tr><td>train/total_loss</td><td>██████████████████████████████▁█████████</td></tr><tr><td>val/recon_loss</td><td>▁▁▁▁▁▁▁▁▁▁▁▁▁▁▁▁▁▁▁▁▁▁▁▁▁▁▁▁▁▁▁▁▁▁▁▁▁▁▁▁</td></tr><tr><td>val/total_loss</td><td>▁▁▁▁▁▁▁▁▁▁▁▁▁▁▁▁▁▁▁▁▁▁▁▁▁▁▁▁▁▁▁▁▁▁▁▁▁▁▁▁</td></tr></table><br/></div><div class=\"wandb-col\"><h3>Run summary:</h3><br/><table class=\"wandb\"><tr><td>epoch</td><td>150</td></tr><tr><td>learning_rate</td><td>0.0</td></tr><tr><td>train/recon_loss</td><td>4085.08521</td></tr><tr><td>train/total_loss</td><td>678.96068</td></tr><tr><td>val/recon_loss</td><td>11025.65723</td></tr><tr><td>val/total_loss</td><td>1022.53168</td></tr></table><br/></div></div>"
      ],
      "text/plain": [
       "<IPython.core.display.HTML object>"
      ]
     },
     "metadata": {},
     "output_type": "display_data"
    },
    {
     "data": {
      "text/html": [
       " View run <strong style=\"color:#cdcd00\">conv-vae-fraud_20250313_231435</strong> at: <a href='https://wandb.ai/alexkstern/fraud-classification/runs/ut3anb1i' target=\"_blank\">https://wandb.ai/alexkstern/fraud-classification/runs/ut3anb1i</a><br> View project at: <a href='https://wandb.ai/alexkstern/fraud-classification' target=\"_blank\">https://wandb.ai/alexkstern/fraud-classification</a><br>Synced 5 W&B file(s), 0 media file(s), 8 artifact file(s) and 0 other file(s)"
      ],
      "text/plain": [
       "<IPython.core.display.HTML object>"
      ]
     },
     "metadata": {},
     "output_type": "display_data"
    },
    {
     "data": {
      "text/html": [
       "Find logs at: <code>./wandb/run-20250313_231436-ut3anb1i/logs</code>"
      ],
      "text/plain": [
       "<IPython.core.display.HTML object>"
      ]
     },
     "metadata": {},
     "output_type": "display_data"
    },
    {
     "name": "stdout",
     "output_type": "stream",
     "text": [
      "Training session complete.\n"
     ]
    }
   ],
   "source": [
    "import os\n",
    "import torch\n",
    "import torch.optim as optim\n",
    "import numpy as np\n",
    "import random\n",
    "import configparser\n",
    "\n",
    "# Import our modules\n",
    "from models.conv_vae_model import ConvVae, vae_loss_function, print_num_params\n",
    "from trainer.test_trainer_vae import VAETrainer  # Updated trainer\n",
    "from dataloader.dataloader import load_fraud_data, load_config\n",
    "from utils.model_saver import save_model, get_save_directory\n",
    "from utils.wandb_logger_lr import WandBLogger\n",
    "from utils.evaluation_utils import extract_recon_loss\n",
    "from utils.lr_scheduler import create_scheduler  # New scheduler utility\n",
    "\n",
    "# Set random seeds for reproducibility\n",
    "SEED = 42\n",
    "random.seed(SEED)\n",
    "np.random.seed(SEED)\n",
    "torch.manual_seed(SEED)\n",
    "torch.cuda.manual_seed_all(SEED)\n",
    "torch.backends.cudnn.deterministic = True\n",
    "torch.backends.cudnn.benchmark = False\n",
    "\n",
    "# Build the config path\n",
    "config_path = \"configs/conv_vae/fraud_conv_vae_test.config\"\n",
    "\n",
    "# Load configuration\n",
    "config_parser = configparser.ConfigParser()\n",
    "config_parser.read(config_path)\n",
    "conv_vae_config = config_parser[\"Conv_VAE\"]\n",
    "train_config = config_parser[\"Trainer\"]\n",
    "\n",
    "# Create config dictionary for WandB\n",
    "config_dict = {}\n",
    "for section in config_parser.sections():\n",
    "    config_dict[section] = dict(config_parser[section])\n",
    "\n",
    "# Initialize WandB logger\n",
    "wandb_logger = WandBLogger(config_dict)\n",
    "\n",
    "# Load data\n",
    "config_dict = load_config(config_path)\n",
    "data = load_fraud_data(config_path=config_path)\n",
    "dataloaders = data['dataloaders']\n",
    "input_dim = data['input_dim']\n",
    "\n",
    "# Create model\n",
    "model = ConvVae(conv_vae_config)\n",
    "print_num_params(model)\n",
    "\n",
    "# Training parameters\n",
    "lr = train_config.getfloat(\"lr\")\n",
    "num_epochs = train_config.getint(\"num_epochs\")\n",
    "\n",
    "# Define optimizer and loss function\n",
    "optimizer = optim.Adam(model.parameters(), lr=lr)\n",
    "\n",
    "# Create learning rate scheduler\n",
    "scheduler = create_scheduler(train_config, optimizer)\n",
    "\n",
    "# Define loss function\n",
    "loss_fn = vae_loss_function\n",
    "\n",
    "# Create trainer with scheduler\n",
    "trainer = VAETrainer(model, dataloaders, loss_fn, optimizer, scheduler)\n",
    "\n",
    "# Create save directory\n",
    "save_dir = get_save_directory(config_path)\n",
    "print(f\"Models will be saved to: {save_dir}\")\n",
    "\n",
    "# Track best validation loss\n",
    "best_val_loss = float('inf')\n",
    "train_losses, val_losses = [], []\n",
    "\n",
    "try:\n",
    "    # Training loop\n",
    "    for epoch in range(1, num_epochs + 1):\n",
    "        train_loss = trainer.train_epoch()\n",
    "        val_loss = trainer.validate_epoch()\n",
    "        \n",
    "        train_losses.append(train_loss)\n",
    "        val_losses.append(val_loss)\n",
    "        \n",
    "        # Get current learning rate\n",
    "        current_lr = optimizer.param_groups[0]['lr']\n",
    "        \n",
    "        # Log to WandB (if enabled)\n",
    "        try:\n",
    "            train_batch = next(iter(dataloaders['train']))\n",
    "            val_batch = next(iter(dataloaders['val']))\n",
    "            train_recon_loss = extract_recon_loss(model, train_batch, trainer.device)\n",
    "            val_recon_loss = extract_recon_loss(model, val_batch, trainer.device)\n",
    "            \n",
    "            # Add learning rate to logging\n",
    "            wandb_logger.log_epoch(\n",
    "                epoch, train_loss, val_loss, \n",
    "                train_recon_loss, val_recon_loss,\n",
    "                learning_rate=current_lr\n",
    "            )\n",
    "        except Exception as e:\n",
    "            print(f\"WandB logging error: {e}\")\n",
    "            wandb_logger.log_epoch(epoch, train_loss, val_loss)\n",
    "        \n",
    "        # Print progress with learning rate\n",
    "        print(f\"Epoch {epoch}/{num_epochs}: Train Loss = {train_loss:.4f}, Val Loss = {val_loss:.4f}, LR = {current_lr:.1e}\")\n",
    "        \n",
    "        # Update scheduler based on validation loss\n",
    "        if scheduler is not None:\n",
    "            if isinstance(scheduler, torch.optim.lr_scheduler.ReduceLROnPlateau):\n",
    "                scheduler.step(val_loss)\n",
    "            else:\n",
    "                scheduler.step()\n",
    "        \n",
    "        # Save best model\n",
    "        if val_loss < best_val_loss:\n",
    "            best_val_loss = val_loss\n",
    "            metadata = {\n",
    "                'epoch': epoch, \n",
    "                'train_loss': train_loss, \n",
    "                'val_loss': val_loss, \n",
    "                'learning_rate': current_lr\n",
    "            }\n",
    "            model_path = save_model(model, save_dir, 'best_model.pt', metadata)\n",
    "            print(f\"New best validation loss: {val_loss:.4f}\")\n",
    "            wandb_logger.log_model(model_path, metadata)\n",
    "\n",
    "    # Save final model if different from best\n",
    "    if val_losses[-1] > best_val_loss:\n",
    "        metadata = {\n",
    "            'epoch': num_epochs, \n",
    "            'train_loss': train_losses[-1], \n",
    "            'val_loss': val_losses[-1],\n",
    "            'learning_rate': optimizer.param_groups[0]['lr']\n",
    "        }\n",
    "        save_model(model, save_dir, 'final_model.pt', metadata)\n",
    "\n",
    "    print(f\"Training complete. Best validation loss: {best_val_loss:.4f}\")\n",
    "\n",
    "except KeyboardInterrupt:\n",
    "    print(\"\\nTraining interrupted by user. Saving current state...\")\n",
    "    # Save interrupted model logic...\n",
    "\n",
    "except Exception as e:\n",
    "    print(f\"\\nTraining failed with error: {e}\")\n",
    "    import traceback\n",
    "    traceback.print_exc()\n",
    "    \n",
    "finally:\n",
    "    # Clean up WandB\n",
    "    try:\n",
    "        wandb_logger.finish()\n",
    "    except:\n",
    "        pass\n",
    "    print(\"Training session complete.\")"
   ]
  },
  {
   "cell_type": "markdown",
   "metadata": {},
   "source": [
    "### Normal"
   ]
  },
  {
   "cell_type": "code",
   "execution_count": 1,
   "metadata": {},
   "outputs": [
    {
     "name": "stderr",
     "output_type": "stream",
     "text": [
      "/home/alexkstern/miniconda3/envs/credit_vae/lib/python3.8/site-packages/tqdm/auto.py:21: TqdmWarning: IProgress not found. Please update jupyter and ipywidgets. See https://ipywidgets.readthedocs.io/en/stable/user_install.html\n",
      "  from .autonotebook import tqdm as notebook_tqdm\n",
      "\u001b[34m\u001b[1mwandb\u001b[0m: Using wandb-core as the SDK backend.  Please refer to https://wandb.me/wandb-core for more information.\n"
     ]
    },
    {
     "name": "stdout",
     "output_type": "stream",
     "text": [
      "Initializing WandB run: conv-vae-normal_20250313_175704 (Project: fraud-classification, Entity: alexkstern)\n"
     ]
    },
    {
     "name": "stderr",
     "output_type": "stream",
     "text": [
      "\u001b[34m\u001b[1mwandb\u001b[0m: Currently logged in as: \u001b[33malexkstern\u001b[0m (\u001b[33malexksternteam\u001b[0m) to \u001b[32mhttps://api.wandb.ai\u001b[0m. Use \u001b[1m`wandb login --relogin`\u001b[0m to force relogin\n"
     ]
    },
    {
     "data": {
      "text/html": [
       "Tracking run with wandb version 0.19.8"
      ],
      "text/plain": [
       "<IPython.core.display.HTML object>"
      ]
     },
     "metadata": {},
     "output_type": "display_data"
    },
    {
     "data": {
      "text/html": [
       "Run data is saved locally in <code>/home/alexkstern/fraudml/amlf_proj/wandb/run-20250313_175705-u0cvh7n8</code>"
      ],
      "text/plain": [
       "<IPython.core.display.HTML object>"
      ]
     },
     "metadata": {},
     "output_type": "display_data"
    },
    {
     "data": {
      "text/html": [
       "Syncing run <strong><a href='https://wandb.ai/alexkstern/fraud-classification/runs/u0cvh7n8' target=\"_blank\">conv-vae-normal_20250313_175704</a></strong> to <a href='https://wandb.ai/alexkstern/fraud-classification' target=\"_blank\">Weights & Biases</a> (<a href='https://wandb.me/developer-guide' target=\"_blank\">docs</a>)<br>"
      ],
      "text/plain": [
       "<IPython.core.display.HTML object>"
      ]
     },
     "metadata": {},
     "output_type": "display_data"
    },
    {
     "data": {
      "text/html": [
       " View project at <a href='https://wandb.ai/alexkstern/fraud-classification' target=\"_blank\">https://wandb.ai/alexkstern/fraud-classification</a>"
      ],
      "text/plain": [
       "<IPython.core.display.HTML object>"
      ]
     },
     "metadata": {},
     "output_type": "display_data"
    },
    {
     "data": {
      "text/html": [
       " View run at <a href='https://wandb.ai/alexkstern/fraud-classification/runs/u0cvh7n8' target=\"_blank\">https://wandb.ai/alexkstern/fraud-classification/runs/u0cvh7n8</a>"
      ],
      "text/plain": [
       "<IPython.core.display.HTML object>"
      ]
     },
     "metadata": {},
     "output_type": "display_data"
    },
    {
     "name": "stdout",
     "output_type": "stream",
     "text": [
      "Loaded configuration from configs/conv_vae/normal_conv_vae.config\n",
      "Filtered dataset to class 0: 12000 samples\n",
      "Normalization statistics (calculated from class 0): {'Time': {'mean': 94364.65358333333, 'std': 47365.815157589255}, 'Amount': {'mean': 87.60478666666666, 'std': 240.59403081682598}}\n",
      "Filtered dataset to class 0: 12000 samples\n",
      "Filtered dataset to class 0: 1500 samples\n",
      "Filtered dataset to class 0: 1500 samples\n",
      "Total number of trainable parameters: 62727\n",
      "Models will be saved to: saved_models/conv_vae/normal_conv_vae/20250313_175713\n"
     ]
    },
    {
     "name": "stderr",
     "output_type": "stream",
     "text": [
      "                                                                               \r"
     ]
    },
    {
     "name": "stdout",
     "output_type": "stream",
     "text": [
      "Epoch 1/30: Train Loss = 31.6793, Val Loss = 32.5413\n",
      "Model saved to saved_models/conv_vae/normal_conv_vae/20250313_175713/best_model.pt\n",
      "New best validation loss: 32.5413\n"
     ]
    },
    {
     "name": "stderr",
     "output_type": "stream",
     "text": [
      "                                                                               \r"
     ]
    },
    {
     "name": "stdout",
     "output_type": "stream",
     "text": [
      "Epoch 2/30: Train Loss = 31.5506, Val Loss = 32.5407\n",
      "Model saved to saved_models/conv_vae/normal_conv_vae/20250313_175713/best_model.pt\n",
      "New best validation loss: 32.5407\n"
     ]
    },
    {
     "name": "stderr",
     "output_type": "stream",
     "text": [
      "                                                                               \r"
     ]
    },
    {
     "name": "stdout",
     "output_type": "stream",
     "text": [
      "Epoch 3/30: Train Loss = 31.5506, Val Loss = 32.5412\n"
     ]
    },
    {
     "name": "stderr",
     "output_type": "stream",
     "text": [
      "                                                                               \r"
     ]
    },
    {
     "name": "stdout",
     "output_type": "stream",
     "text": [
      "Epoch 4/30: Train Loss = 31.5506, Val Loss = 32.5413\n"
     ]
    },
    {
     "name": "stderr",
     "output_type": "stream",
     "text": [
      "                                                                               \r"
     ]
    },
    {
     "name": "stdout",
     "output_type": "stream",
     "text": [
      "Epoch 5/30: Train Loss = 31.5506, Val Loss = 32.5413\n"
     ]
    },
    {
     "name": "stderr",
     "output_type": "stream",
     "text": [
      "                                                                               \r"
     ]
    },
    {
     "name": "stdout",
     "output_type": "stream",
     "text": [
      "Epoch 6/30: Train Loss = 31.5505, Val Loss = 32.5413\n"
     ]
    },
    {
     "name": "stderr",
     "output_type": "stream",
     "text": [
      "                                                                               \r"
     ]
    },
    {
     "name": "stdout",
     "output_type": "stream",
     "text": [
      "Epoch 7/30: Train Loss = 31.5505, Val Loss = 32.5413\n"
     ]
    },
    {
     "name": "stderr",
     "output_type": "stream",
     "text": [
      "                                                                               \r"
     ]
    },
    {
     "name": "stdout",
     "output_type": "stream",
     "text": [
      "Epoch 8/30: Train Loss = 31.5505, Val Loss = 32.5413\n"
     ]
    },
    {
     "name": "stderr",
     "output_type": "stream",
     "text": [
      "                                                                               \r"
     ]
    },
    {
     "name": "stdout",
     "output_type": "stream",
     "text": [
      "Epoch 9/30: Train Loss = 31.5505, Val Loss = 32.5413\n"
     ]
    },
    {
     "name": "stderr",
     "output_type": "stream",
     "text": [
      "                                                                               \r"
     ]
    },
    {
     "name": "stdout",
     "output_type": "stream",
     "text": [
      "Epoch 10/30: Train Loss = 31.5505, Val Loss = 32.5413\n"
     ]
    },
    {
     "name": "stderr",
     "output_type": "stream",
     "text": [
      "                                                                               \r"
     ]
    },
    {
     "name": "stdout",
     "output_type": "stream",
     "text": [
      "Epoch 11/30: Train Loss = 31.5505, Val Loss = 32.5413\n"
     ]
    },
    {
     "name": "stderr",
     "output_type": "stream",
     "text": [
      "                                                                               \r"
     ]
    },
    {
     "name": "stdout",
     "output_type": "stream",
     "text": [
      "Epoch 12/30: Train Loss = 31.5505, Val Loss = 32.5413\n"
     ]
    },
    {
     "name": "stderr",
     "output_type": "stream",
     "text": [
      "                                                                               \r"
     ]
    },
    {
     "name": "stdout",
     "output_type": "stream",
     "text": [
      "Epoch 13/30: Train Loss = 31.5505, Val Loss = 32.5413\n"
     ]
    },
    {
     "name": "stderr",
     "output_type": "stream",
     "text": [
      "                                                                               \r"
     ]
    },
    {
     "name": "stdout",
     "output_type": "stream",
     "text": [
      "Epoch 14/30: Train Loss = 31.5505, Val Loss = 32.5413\n"
     ]
    },
    {
     "name": "stderr",
     "output_type": "stream",
     "text": [
      "                                                                               \r"
     ]
    },
    {
     "name": "stdout",
     "output_type": "stream",
     "text": [
      "Epoch 15/30: Train Loss = 31.5505, Val Loss = 32.5413\n"
     ]
    },
    {
     "name": "stderr",
     "output_type": "stream",
     "text": [
      "                                                                               \r"
     ]
    },
    {
     "name": "stdout",
     "output_type": "stream",
     "text": [
      "Epoch 16/30: Train Loss = 31.5505, Val Loss = 32.5413\n"
     ]
    },
    {
     "name": "stderr",
     "output_type": "stream",
     "text": [
      "                                                                               \r"
     ]
    },
    {
     "name": "stdout",
     "output_type": "stream",
     "text": [
      "Epoch 17/30: Train Loss = 31.5505, Val Loss = 32.5413\n"
     ]
    },
    {
     "name": "stderr",
     "output_type": "stream",
     "text": [
      "                                                                               \r"
     ]
    },
    {
     "name": "stdout",
     "output_type": "stream",
     "text": [
      "Epoch 18/30: Train Loss = 31.5505, Val Loss = 32.5413\n"
     ]
    },
    {
     "name": "stderr",
     "output_type": "stream",
     "text": [
      "                                                                               \r"
     ]
    },
    {
     "name": "stdout",
     "output_type": "stream",
     "text": [
      "Epoch 19/30: Train Loss = 31.5505, Val Loss = 32.5413\n"
     ]
    },
    {
     "name": "stderr",
     "output_type": "stream",
     "text": [
      "                                                                               \r"
     ]
    },
    {
     "name": "stdout",
     "output_type": "stream",
     "text": [
      "Epoch 20/30: Train Loss = 31.5505, Val Loss = 32.5413\n"
     ]
    },
    {
     "name": "stderr",
     "output_type": "stream",
     "text": [
      "                                                                               \r"
     ]
    },
    {
     "name": "stdout",
     "output_type": "stream",
     "text": [
      "Epoch 21/30: Train Loss = 31.5505, Val Loss = 32.5413\n"
     ]
    },
    {
     "name": "stderr",
     "output_type": "stream",
     "text": [
      "                                                                               \r"
     ]
    },
    {
     "name": "stdout",
     "output_type": "stream",
     "text": [
      "Epoch 22/30: Train Loss = 31.5505, Val Loss = 32.5413\n"
     ]
    },
    {
     "name": "stderr",
     "output_type": "stream",
     "text": [
      "                                                                               \r"
     ]
    },
    {
     "name": "stdout",
     "output_type": "stream",
     "text": [
      "Epoch 23/30: Train Loss = 31.5505, Val Loss = 32.5413\n"
     ]
    },
    {
     "name": "stderr",
     "output_type": "stream",
     "text": [
      "                                                                               \r"
     ]
    },
    {
     "name": "stdout",
     "output_type": "stream",
     "text": [
      "Epoch 24/30: Train Loss = 31.5505, Val Loss = 32.5413\n"
     ]
    },
    {
     "name": "stderr",
     "output_type": "stream",
     "text": [
      "                                                                               \r"
     ]
    },
    {
     "name": "stdout",
     "output_type": "stream",
     "text": [
      "Epoch 25/30: Train Loss = 31.5505, Val Loss = 32.5413\n"
     ]
    },
    {
     "name": "stderr",
     "output_type": "stream",
     "text": [
      "                                                                               \r"
     ]
    },
    {
     "name": "stdout",
     "output_type": "stream",
     "text": [
      "Epoch 26/30: Train Loss = 31.5505, Val Loss = 32.5413\n"
     ]
    },
    {
     "name": "stderr",
     "output_type": "stream",
     "text": [
      "                                                                               \r"
     ]
    },
    {
     "name": "stdout",
     "output_type": "stream",
     "text": [
      "Epoch 27/30: Train Loss = 31.5505, Val Loss = 32.5413\n"
     ]
    },
    {
     "name": "stderr",
     "output_type": "stream",
     "text": [
      "                                                                               \r"
     ]
    },
    {
     "name": "stdout",
     "output_type": "stream",
     "text": [
      "Epoch 28/30: Train Loss = 31.5505, Val Loss = 32.5413\n"
     ]
    },
    {
     "name": "stderr",
     "output_type": "stream",
     "text": [
      "                                                                               \r"
     ]
    },
    {
     "name": "stdout",
     "output_type": "stream",
     "text": [
      "Epoch 29/30: Train Loss = 31.5505, Val Loss = 32.5413\n"
     ]
    },
    {
     "name": "stderr",
     "output_type": "stream",
     "text": [
      "                                                                               \r"
     ]
    },
    {
     "name": "stdout",
     "output_type": "stream",
     "text": [
      "Epoch 30/30: Train Loss = 31.5505, Val Loss = 32.5413\n",
      "Model saved to saved_models/conv_vae/normal_conv_vae/20250313_175713/final_model.pt\n",
      "Training complete. Best validation loss: 32.5407\n"
     ]
    },
    {
     "data": {
      "text/html": [],
      "text/plain": [
       "<IPython.core.display.HTML object>"
      ]
     },
     "metadata": {},
     "output_type": "display_data"
    },
    {
     "data": {
      "text/html": [
       "<br>    <style><br>        .wandb-row {<br>            display: flex;<br>            flex-direction: row;<br>            flex-wrap: wrap;<br>            justify-content: flex-start;<br>            width: 100%;<br>        }<br>        .wandb-col {<br>            display: flex;<br>            flex-direction: column;<br>            flex-basis: 100%;<br>            flex: 1;<br>            padding: 10px;<br>        }<br>    </style><br><div class=\"wandb-row\"><div class=\"wandb-col\"><h3>Run history:</h3><br/><table class=\"wandb\"><tr><td>epoch</td><td>▁▁▁▂▂▂▂▃▃▃▃▄▄▄▄▅▅▅▅▆▆▆▆▇▇▇▇███</td></tr><tr><td>train/recon_loss</td><td>▃█▂▂▂▂▂▃▃▃▃▂▄▁▂▁▂▂▂▁▁▁▂▁▂▃▂▂▂▂</td></tr><tr><td>train/total_loss</td><td>█▁▁▁▁▁▁▁▁▁▁▁▁▁▁▁▁▁▁▁▁▁▁▁▁▁▁▁▁▁</td></tr><tr><td>val/recon_loss</td><td>█▁▆▅▅▅▅▅▅▅▅▅▅▅▅▅▅▅▅▅▅▅▅▅▅▅▅▅▅▅</td></tr><tr><td>val/total_loss</td><td>█▁▇███████████████████████████</td></tr></table><br/></div><div class=\"wandb-col\"><h3>Run summary:</h3><br/><table class=\"wandb\"><tr><td>epoch</td><td>30</td></tr><tr><td>train/recon_loss</td><td>170.05019</td></tr><tr><td>train/total_loss</td><td>31.55054</td></tr><tr><td>val/recon_loss</td><td>199.38646</td></tr><tr><td>val/total_loss</td><td>32.54126</td></tr></table><br/></div></div>"
      ],
      "text/plain": [
       "<IPython.core.display.HTML object>"
      ]
     },
     "metadata": {},
     "output_type": "display_data"
    },
    {
     "data": {
      "text/html": [
       " View run <strong style=\"color:#cdcd00\">conv-vae-normal_20250313_175704</strong> at: <a href='https://wandb.ai/alexkstern/fraud-classification/runs/u0cvh7n8' target=\"_blank\">https://wandb.ai/alexkstern/fraud-classification/runs/u0cvh7n8</a><br> View project at: <a href='https://wandb.ai/alexkstern/fraud-classification' target=\"_blank\">https://wandb.ai/alexkstern/fraud-classification</a><br>Synced 5 W&B file(s), 0 media file(s), 4 artifact file(s) and 0 other file(s)"
      ],
      "text/plain": [
       "<IPython.core.display.HTML object>"
      ]
     },
     "metadata": {},
     "output_type": "display_data"
    },
    {
     "data": {
      "text/html": [
       "Find logs at: <code>./wandb/run-20250313_175705-u0cvh7n8/logs</code>"
      ],
      "text/plain": [
       "<IPython.core.display.HTML object>"
      ]
     },
     "metadata": {},
     "output_type": "display_data"
    },
    {
     "name": "stdout",
     "output_type": "stream",
     "text": [
      "Training session complete.\n"
     ]
    }
   ],
   "source": [
    "import os\n",
    "import torch\n",
    "import torch.optim as optim\n",
    "import numpy as np\n",
    "import random\n",
    "\n",
    "# Set random seeds for reproducibility\n",
    "SEED = 42\n",
    "random.seed(SEED)\n",
    "np.random.seed(SEED)\n",
    "torch.manual_seed(SEED)\n",
    "torch.cuda.manual_seed_all(SEED)\n",
    "torch.backends.cudnn.deterministic = True\n",
    "torch.backends.cudnn.benchmark = False\n",
    "\n",
    "# Import required modules\n",
    "from models.conv_vae_model import ConvVae, vae_loss_function, print_num_params\n",
    "from trainer.trainer_vae import VAETrainer\n",
    "from dataloader.dataloader import load_fraud_data, load_config\n",
    "from utils.model_saver import save_model, get_save_directory\n",
    "from utils.wandb_logger import WandBLogger\n",
    "from utils.evaluation_utils import extract_recon_loss\n",
    "\n",
    "# Build the config path\n",
    "config_path = \"configs/conv_vae/normal_conv_vae.config\"\n",
    "\n",
    "# Load configuration\n",
    "import configparser\n",
    "config_parser = configparser.ConfigParser()\n",
    "config_parser.read(config_path)\n",
    "conv_vae_config = config_parser[\"Conv_VAE\"]\n",
    "\n",
    "# Create config dictionary for WandB\n",
    "config_dict = {}\n",
    "for section in config_parser.sections():\n",
    "    config_dict[section] = dict(config_parser[section])\n",
    "\n",
    "# Initialize WandB logger\n",
    "wandb_logger = WandBLogger(config_dict)\n",
    "\n",
    "# Load data\n",
    "config_dict = load_config(config_path)\n",
    "data = load_fraud_data(config_path=config_path)\n",
    "dataloaders = data['dataloaders']\n",
    "input_dim = data['input_dim']\n",
    "\n",
    "# Create model\n",
    "model = ConvVae(conv_vae_config)\n",
    "print_num_params(model)\n",
    "\n",
    "# Training parameters\n",
    "lr = config_parser[\"Trainer\"].getfloat(\"lr\")\n",
    "num_epochs = config_parser[\"Trainer\"].getint(\"num_epochs\")\n",
    "\n",
    "# Define optimizer and loss function\n",
    "optimizer = optim.Adam(model.parameters(), lr=lr)\n",
    "loss_fn = vae_loss_function\n",
    "\n",
    "# Create trainer\n",
    "trainer = VAETrainer(model, dataloaders, loss_fn, optimizer)\n",
    "\n",
    "# Create save directory\n",
    "save_dir = get_save_directory(config_path)\n",
    "print(f\"Models will be saved to: {save_dir}\")\n",
    "\n",
    "# Track best validation loss\n",
    "best_val_loss = float('inf')\n",
    "train_losses, val_losses = [], []\n",
    "\n",
    "try:\n",
    "    # Training loop\n",
    "    for epoch in range(1, num_epochs + 1):\n",
    "        train_loss = trainer.train_epoch()\n",
    "        val_loss = trainer.validate_epoch()\n",
    "        \n",
    "        train_losses.append(train_loss)\n",
    "        val_losses.append(val_loss)\n",
    "        \n",
    "        # Log to WandB (if enabled)\n",
    "        try:\n",
    "            train_batch = next(iter(dataloaders['train']))\n",
    "            val_batch = next(iter(dataloaders['val']))\n",
    "            train_recon_loss = extract_recon_loss(model, train_batch, trainer.device)\n",
    "            val_recon_loss = extract_recon_loss(model, val_batch, trainer.device)\n",
    "            wandb_logger.log_epoch(epoch, train_loss, val_loss, train_recon_loss, val_recon_loss)\n",
    "        except Exception as e:\n",
    "            wandb_logger.log_epoch(epoch, train_loss, val_loss)\n",
    "        \n",
    "        # Print progress\n",
    "        print(f\"Epoch {epoch}/{num_epochs}: Train Loss = {train_loss:.4f}, Val Loss = {val_loss:.4f}\")\n",
    "        \n",
    "        # Save best model\n",
    "        if val_loss < best_val_loss:\n",
    "            best_val_loss = val_loss\n",
    "            metadata = {'epoch': epoch, 'train_loss': train_loss, 'val_loss': val_loss}\n",
    "            model_path = save_model(model, save_dir, 'best_model.pt', metadata)\n",
    "            print(f\"New best validation loss: {val_loss:.4f}\")\n",
    "            wandb_logger.log_model(model_path, metadata)\n",
    "\n",
    "    # Save final model if different from best\n",
    "    if val_losses[-1] > best_val_loss:\n",
    "        metadata = {'epoch': num_epochs, 'train_loss': train_losses[-1], 'val_loss': val_losses[-1]}\n",
    "        save_model(model, save_dir, 'final_model.pt', metadata)\n",
    "\n",
    "    print(f\"Training complete. Best validation loss: {best_val_loss:.4f}\")\n",
    "\n",
    "except KeyboardInterrupt:\n",
    "    print(\"\\nTraining interrupted by user. Saving current state...\")\n",
    "    if len(train_losses) > 0:\n",
    "        metadata = {\n",
    "            'interrupted': True,\n",
    "            'epoch': len(train_losses), \n",
    "            'train_loss': train_losses[-1],\n",
    "            'val_loss': val_losses[-1] if len(val_losses) > 0 else None\n",
    "        }\n",
    "        save_model(model, save_dir, 'interrupted_model.pt', metadata)\n",
    "        print(f\"Interrupted model saved to {save_dir}\")\n",
    "\n",
    "except Exception as e:\n",
    "    print(f\"\\nTraining failed with error: {e}\")\n",
    "    import traceback\n",
    "    traceback.print_exc()\n",
    "    \n",
    "finally:\n",
    "    # Clean up WandB\n",
    "    try:\n",
    "        wandb_logger.finish()\n",
    "    except:\n",
    "        pass\n",
    "    print(\"Training session complete.\")"
   ]
  },
  {
   "cell_type": "markdown",
   "metadata": {},
   "source": [
    "## Transformer VAE"
   ]
  },
  {
   "cell_type": "markdown",
   "metadata": {},
   "source": [
    "### Fraud"
   ]
  },
  {
   "cell_type": "code",
   "execution_count": 1,
   "metadata": {},
   "outputs": [
    {
     "name": "stderr",
     "output_type": "stream",
     "text": [
      "/home/alexkstern/miniconda3/envs/credit_vae/lib/python3.8/site-packages/tqdm/auto.py:21: TqdmWarning: IProgress not found. Please update jupyter and ipywidgets. See https://ipywidgets.readthedocs.io/en/stable/user_install.html\n",
      "  from .autonotebook import tqdm as notebook_tqdm\n",
      "\u001b[34m\u001b[1mwandb\u001b[0m: Using wandb-core as the SDK backend.  Please refer to https://wandb.me/wandb-core for more information.\n"
     ]
    },
    {
     "name": "stdout",
     "output_type": "stream",
     "text": [
      "Initializing WandB run: transformer-vae-fraud_20250313_190718 (Project: fraud-classification, Entity: alexkstern)\n"
     ]
    },
    {
     "name": "stderr",
     "output_type": "stream",
     "text": [
      "\u001b[34m\u001b[1mwandb\u001b[0m: Currently logged in as: \u001b[33malexkstern\u001b[0m (\u001b[33malexksternteam\u001b[0m) to \u001b[32mhttps://api.wandb.ai\u001b[0m. Use \u001b[1m`wandb login --relogin`\u001b[0m to force relogin\n"
     ]
    },
    {
     "data": {
      "text/html": [
       "Tracking run with wandb version 0.19.8"
      ],
      "text/plain": [
       "<IPython.core.display.HTML object>"
      ]
     },
     "metadata": {},
     "output_type": "display_data"
    },
    {
     "data": {
      "text/html": [
       "Run data is saved locally in <code>/home/alexkstern/fraudml/amlf_proj/wandb/run-20250313_190720-z25yt68l</code>"
      ],
      "text/plain": [
       "<IPython.core.display.HTML object>"
      ]
     },
     "metadata": {},
     "output_type": "display_data"
    },
    {
     "data": {
      "text/html": [
       "Syncing run <strong><a href='https://wandb.ai/alexkstern/fraud-classification/runs/z25yt68l' target=\"_blank\">transformer-vae-fraud_20250313_190718</a></strong> to <a href='https://wandb.ai/alexkstern/fraud-classification' target=\"_blank\">Weights & Biases</a> (<a href='https://wandb.me/developer-guide' target=\"_blank\">docs</a>)<br>"
      ],
      "text/plain": [
       "<IPython.core.display.HTML object>"
      ]
     },
     "metadata": {},
     "output_type": "display_data"
    },
    {
     "data": {
      "text/html": [
       " View project at <a href='https://wandb.ai/alexkstern/fraud-classification' target=\"_blank\">https://wandb.ai/alexkstern/fraud-classification</a>"
      ],
      "text/plain": [
       "<IPython.core.display.HTML object>"
      ]
     },
     "metadata": {},
     "output_type": "display_data"
    },
    {
     "data": {
      "text/html": [
       " View run at <a href='https://wandb.ai/alexkstern/fraud-classification/runs/z25yt68l' target=\"_blank\">https://wandb.ai/alexkstern/fraud-classification/runs/z25yt68l</a>"
      ],
      "text/plain": [
       "<IPython.core.display.HTML object>"
      ]
     },
     "metadata": {},
     "output_type": "display_data"
    },
    {
     "name": "stdout",
     "output_type": "stream",
     "text": [
      "Loaded configuration from configs/transformer_vae/fraud_transformer_vae.config\n",
      "Filtered dataset to class 1: 378 samples\n",
      "Normalization statistics (calculated from class 1): {'Time': {'mean': 80790.48148148147, 'std': 48332.5139872635}, 'Amount': {'mean': 133.6764814814815, 'std': 276.3532237447719}}\n",
      "Filtered dataset to class 1: 378 samples\n",
      "Filtered dataset to class 1: 47 samples\n",
      "Filtered dataset to class 1: 48 samples\n",
      "Total number of trainable parameters: 147879\n",
      "Models will be saved to: saved_models/transformer_vae/fraud_transformer_vae/20250313_190737\n"
     ]
    },
    {
     "name": "stderr",
     "output_type": "stream",
     "text": [
      "                                                                           \r"
     ]
    },
    {
     "name": "stdout",
     "output_type": "stream",
     "text": [
      "Epoch 1/100: Train Loss = 682.0477, Val Loss = 1022.8600\n",
      "Model saved to saved_models/transformer_vae/fraud_transformer_vae/20250313_190737/best_model.pt\n",
      "New best validation loss: 1022.8600\n"
     ]
    },
    {
     "name": "stderr",
     "output_type": "stream",
     "text": [
      "                                                                           \r"
     ]
    },
    {
     "name": "stdout",
     "output_type": "stream",
     "text": [
      "Epoch 2/100: Train Loss = 679.1918, Val Loss = 1022.7154\n",
      "Model saved to saved_models/transformer_vae/fraud_transformer_vae/20250313_190737/best_model.pt\n",
      "New best validation loss: 1022.7154\n"
     ]
    },
    {
     "name": "stderr",
     "output_type": "stream",
     "text": [
      "                                                                           \r"
     ]
    },
    {
     "name": "stdout",
     "output_type": "stream",
     "text": [
      "Epoch 3/100: Train Loss = 679.1025, Val Loss = 1022.6512\n",
      "Model saved to saved_models/transformer_vae/fraud_transformer_vae/20250313_190737/best_model.pt\n",
      "New best validation loss: 1022.6512\n"
     ]
    },
    {
     "name": "stderr",
     "output_type": "stream",
     "text": [
      "                                                                           \r"
     ]
    },
    {
     "name": "stdout",
     "output_type": "stream",
     "text": [
      "Epoch 4/100: Train Loss = 679.0561, Val Loss = 1022.6143\n",
      "Model saved to saved_models/transformer_vae/fraud_transformer_vae/20250313_190737/best_model.pt\n",
      "New best validation loss: 1022.6143\n"
     ]
    },
    {
     "name": "stderr",
     "output_type": "stream",
     "text": [
      "                                                                           \r"
     ]
    },
    {
     "name": "stdout",
     "output_type": "stream",
     "text": [
      "Epoch 5/100: Train Loss = 679.0293, Val Loss = 1022.5921\n",
      "Model saved to saved_models/transformer_vae/fraud_transformer_vae/20250313_190737/best_model.pt\n",
      "New best validation loss: 1022.5921\n"
     ]
    },
    {
     "name": "stderr",
     "output_type": "stream",
     "text": [
      "                                                                           \r"
     ]
    },
    {
     "name": "stdout",
     "output_type": "stream",
     "text": [
      "Epoch 6/100: Train Loss = 679.0118, Val Loss = 1022.5776\n",
      "Model saved to saved_models/transformer_vae/fraud_transformer_vae/20250313_190737/best_model.pt\n",
      "New best validation loss: 1022.5776\n"
     ]
    },
    {
     "name": "stderr",
     "output_type": "stream",
     "text": [
      "                                                                           \r"
     ]
    },
    {
     "name": "stdout",
     "output_type": "stream",
     "text": [
      "Epoch 7/100: Train Loss = 679.0006, Val Loss = 1022.5677\n",
      "Model saved to saved_models/transformer_vae/fraud_transformer_vae/20250313_190737/best_model.pt\n",
      "New best validation loss: 1022.5677\n"
     ]
    },
    {
     "name": "stderr",
     "output_type": "stream",
     "text": [
      "                                                                           \r"
     ]
    },
    {
     "name": "stdout",
     "output_type": "stream",
     "text": [
      "Epoch 8/100: Train Loss = 678.9925, Val Loss = 1022.5607\n",
      "Model saved to saved_models/transformer_vae/fraud_transformer_vae/20250313_190737/best_model.pt\n",
      "New best validation loss: 1022.5607\n"
     ]
    },
    {
     "name": "stderr",
     "output_type": "stream",
     "text": [
      "                                                                           \r"
     ]
    },
    {
     "name": "stdout",
     "output_type": "stream",
     "text": [
      "Epoch 9/100: Train Loss = 678.9867, Val Loss = 1022.5558\n",
      "Model saved to saved_models/transformer_vae/fraud_transformer_vae/20250313_190737/best_model.pt\n",
      "New best validation loss: 1022.5558\n"
     ]
    },
    {
     "name": "stderr",
     "output_type": "stream",
     "text": [
      "                                                                           \r"
     ]
    },
    {
     "name": "stdout",
     "output_type": "stream",
     "text": [
      "Epoch 10/100: Train Loss = 678.9825, Val Loss = 1022.5517\n",
      "Model saved to saved_models/transformer_vae/fraud_transformer_vae/20250313_190737/best_model.pt\n",
      "New best validation loss: 1022.5517\n"
     ]
    },
    {
     "name": "stderr",
     "output_type": "stream",
     "text": [
      "                                                                           \r"
     ]
    },
    {
     "name": "stdout",
     "output_type": "stream",
     "text": [
      "Epoch 11/100: Train Loss = 678.9791, Val Loss = 1022.5487\n",
      "Model saved to saved_models/transformer_vae/fraud_transformer_vae/20250313_190737/best_model.pt\n",
      "New best validation loss: 1022.5487\n"
     ]
    },
    {
     "name": "stderr",
     "output_type": "stream",
     "text": [
      "                                                                           \r"
     ]
    },
    {
     "name": "stdout",
     "output_type": "stream",
     "text": [
      "Epoch 12/100: Train Loss = 678.9764, Val Loss = 1022.5463\n",
      "Model saved to saved_models/transformer_vae/fraud_transformer_vae/20250313_190737/best_model.pt\n",
      "New best validation loss: 1022.5463\n"
     ]
    },
    {
     "name": "stderr",
     "output_type": "stream",
     "text": [
      "                                                                           \r"
     ]
    },
    {
     "name": "stdout",
     "output_type": "stream",
     "text": [
      "Epoch 13/100: Train Loss = 678.9744, Val Loss = 1022.5444\n",
      "Model saved to saved_models/transformer_vae/fraud_transformer_vae/20250313_190737/best_model.pt\n",
      "New best validation loss: 1022.5444\n"
     ]
    },
    {
     "name": "stderr",
     "output_type": "stream",
     "text": [
      "                                                                           \r"
     ]
    },
    {
     "name": "stdout",
     "output_type": "stream",
     "text": [
      "Epoch 14/100: Train Loss = 678.9726, Val Loss = 1022.5428\n",
      "Model saved to saved_models/transformer_vae/fraud_transformer_vae/20250313_190737/best_model.pt\n",
      "New best validation loss: 1022.5428\n"
     ]
    },
    {
     "name": "stderr",
     "output_type": "stream",
     "text": [
      "                                                                           \r"
     ]
    },
    {
     "name": "stdout",
     "output_type": "stream",
     "text": [
      "Epoch 15/100: Train Loss = 678.9712, Val Loss = 1022.5415\n",
      "Model saved to saved_models/transformer_vae/fraud_transformer_vae/20250313_190737/best_model.pt\n",
      "New best validation loss: 1022.5415\n"
     ]
    },
    {
     "name": "stderr",
     "output_type": "stream",
     "text": [
      "                                                                           \r"
     ]
    },
    {
     "name": "stdout",
     "output_type": "stream",
     "text": [
      "Epoch 16/100: Train Loss = 678.9701, Val Loss = 1022.5404\n",
      "Model saved to saved_models/transformer_vae/fraud_transformer_vae/20250313_190737/best_model.pt\n",
      "New best validation loss: 1022.5404\n"
     ]
    },
    {
     "name": "stderr",
     "output_type": "stream",
     "text": [
      "                                                                           \r"
     ]
    },
    {
     "name": "stdout",
     "output_type": "stream",
     "text": [
      "Epoch 17/100: Train Loss = 678.9690, Val Loss = 1022.5395\n",
      "Model saved to saved_models/transformer_vae/fraud_transformer_vae/20250313_190737/best_model.pt\n",
      "New best validation loss: 1022.5395\n"
     ]
    },
    {
     "name": "stderr",
     "output_type": "stream",
     "text": [
      "                                                                           \r"
     ]
    },
    {
     "name": "stdout",
     "output_type": "stream",
     "text": [
      "Epoch 18/100: Train Loss = 678.9682, Val Loss = 1022.5387\n",
      "Model saved to saved_models/transformer_vae/fraud_transformer_vae/20250313_190737/best_model.pt\n",
      "New best validation loss: 1022.5387\n"
     ]
    },
    {
     "name": "stderr",
     "output_type": "stream",
     "text": [
      "                                                                           \r"
     ]
    },
    {
     "name": "stdout",
     "output_type": "stream",
     "text": [
      "Epoch 19/100: Train Loss = 678.9675, Val Loss = 1022.5380\n",
      "Model saved to saved_models/transformer_vae/fraud_transformer_vae/20250313_190737/best_model.pt\n",
      "New best validation loss: 1022.5380\n"
     ]
    },
    {
     "name": "stderr",
     "output_type": "stream",
     "text": [
      "                                                                           \r"
     ]
    },
    {
     "name": "stdout",
     "output_type": "stream",
     "text": [
      "Epoch 20/100: Train Loss = 678.9669, Val Loss = 1022.5374\n",
      "Model saved to saved_models/transformer_vae/fraud_transformer_vae/20250313_190737/best_model.pt\n",
      "New best validation loss: 1022.5374\n"
     ]
    },
    {
     "name": "stderr",
     "output_type": "stream",
     "text": [
      "                                                                           \r"
     ]
    },
    {
     "name": "stdout",
     "output_type": "stream",
     "text": [
      "Epoch 21/100: Train Loss = 678.9663, Val Loss = 1022.5368\n",
      "Model saved to saved_models/transformer_vae/fraud_transformer_vae/20250313_190737/best_model.pt\n",
      "New best validation loss: 1022.5368\n"
     ]
    },
    {
     "name": "stderr",
     "output_type": "stream",
     "text": [
      "                                                                           \r"
     ]
    },
    {
     "name": "stdout",
     "output_type": "stream",
     "text": [
      "Epoch 22/100: Train Loss = 678.9658, Val Loss = 1022.5365\n",
      "Model saved to saved_models/transformer_vae/fraud_transformer_vae/20250313_190737/best_model.pt\n",
      "New best validation loss: 1022.5365\n"
     ]
    },
    {
     "name": "stderr",
     "output_type": "stream",
     "text": [
      "                                                                           \r"
     ]
    },
    {
     "name": "stdout",
     "output_type": "stream",
     "text": [
      "Epoch 23/100: Train Loss = 678.9654, Val Loss = 1022.5360\n",
      "Model saved to saved_models/transformer_vae/fraud_transformer_vae/20250313_190737/best_model.pt\n",
      "New best validation loss: 1022.5360\n"
     ]
    },
    {
     "name": "stderr",
     "output_type": "stream",
     "text": [
      "                                                                           \r"
     ]
    },
    {
     "name": "stdout",
     "output_type": "stream",
     "text": [
      "Epoch 24/100: Train Loss = 678.9650, Val Loss = 1022.5357\n",
      "Model saved to saved_models/transformer_vae/fraud_transformer_vae/20250313_190737/best_model.pt\n",
      "New best validation loss: 1022.5357\n"
     ]
    },
    {
     "name": "stderr",
     "output_type": "stream",
     "text": [
      "                                                                           \r"
     ]
    },
    {
     "name": "stdout",
     "output_type": "stream",
     "text": [
      "Epoch 25/100: Train Loss = 678.9647, Val Loss = 1022.5354\n",
      "Model saved to saved_models/transformer_vae/fraud_transformer_vae/20250313_190737/best_model.pt\n",
      "New best validation loss: 1022.5354\n"
     ]
    },
    {
     "name": "stderr",
     "output_type": "stream",
     "text": [
      "                                                                           \r"
     ]
    },
    {
     "name": "stdout",
     "output_type": "stream",
     "text": [
      "Epoch 26/100: Train Loss = 678.9644, Val Loss = 1022.5351\n",
      "Model saved to saved_models/transformer_vae/fraud_transformer_vae/20250313_190737/best_model.pt\n",
      "New best validation loss: 1022.5351\n"
     ]
    },
    {
     "name": "stderr",
     "output_type": "stream",
     "text": [
      "                                                                           \r"
     ]
    },
    {
     "name": "stdout",
     "output_type": "stream",
     "text": [
      "Epoch 27/100: Train Loss = 678.9641, Val Loss = 1022.5349\n",
      "Model saved to saved_models/transformer_vae/fraud_transformer_vae/20250313_190737/best_model.pt\n",
      "New best validation loss: 1022.5349\n"
     ]
    },
    {
     "name": "stderr",
     "output_type": "stream",
     "text": [
      "                                                                           \r"
     ]
    },
    {
     "name": "stdout",
     "output_type": "stream",
     "text": [
      "Epoch 28/100: Train Loss = 678.9639, Val Loss = 1022.5346\n",
      "Model saved to saved_models/transformer_vae/fraud_transformer_vae/20250313_190737/best_model.pt\n",
      "New best validation loss: 1022.5346\n"
     ]
    },
    {
     "name": "stderr",
     "output_type": "stream",
     "text": [
      "                                                                           \r"
     ]
    },
    {
     "name": "stdout",
     "output_type": "stream",
     "text": [
      "Epoch 29/100: Train Loss = 678.9637, Val Loss = 1022.5344\n",
      "Model saved to saved_models/transformer_vae/fraud_transformer_vae/20250313_190737/best_model.pt\n",
      "New best validation loss: 1022.5344\n"
     ]
    },
    {
     "name": "stderr",
     "output_type": "stream",
     "text": [
      "                                                                           \r"
     ]
    },
    {
     "name": "stdout",
     "output_type": "stream",
     "text": [
      "Epoch 30/100: Train Loss = 678.9634, Val Loss = 1022.5342\n",
      "Model saved to saved_models/transformer_vae/fraud_transformer_vae/20250313_190737/best_model.pt\n",
      "New best validation loss: 1022.5342\n"
     ]
    },
    {
     "name": "stderr",
     "output_type": "stream",
     "text": [
      "                                                                           \r"
     ]
    },
    {
     "name": "stdout",
     "output_type": "stream",
     "text": [
      "Epoch 31/100: Train Loss = 678.9633, Val Loss = 1022.5340\n",
      "Model saved to saved_models/transformer_vae/fraud_transformer_vae/20250313_190737/best_model.pt\n",
      "New best validation loss: 1022.5340\n"
     ]
    },
    {
     "name": "stderr",
     "output_type": "stream",
     "text": [
      "                                                                           \r"
     ]
    },
    {
     "name": "stdout",
     "output_type": "stream",
     "text": [
      "Epoch 32/100: Train Loss = 678.9631, Val Loss = 1022.5339\n",
      "Model saved to saved_models/transformer_vae/fraud_transformer_vae/20250313_190737/best_model.pt\n",
      "New best validation loss: 1022.5339\n"
     ]
    },
    {
     "name": "stderr",
     "output_type": "stream",
     "text": [
      "                                                                           \r"
     ]
    },
    {
     "name": "stdout",
     "output_type": "stream",
     "text": [
      "Epoch 33/100: Train Loss = 678.9630, Val Loss = 1022.5337\n",
      "Model saved to saved_models/transformer_vae/fraud_transformer_vae/20250313_190737/best_model.pt\n",
      "New best validation loss: 1022.5337\n"
     ]
    },
    {
     "name": "stderr",
     "output_type": "stream",
     "text": [
      "                                                                           \r"
     ]
    },
    {
     "name": "stdout",
     "output_type": "stream",
     "text": [
      "Epoch 34/100: Train Loss = 678.9628, Val Loss = 1022.5336\n",
      "Model saved to saved_models/transformer_vae/fraud_transformer_vae/20250313_190737/best_model.pt\n",
      "New best validation loss: 1022.5336\n"
     ]
    },
    {
     "name": "stderr",
     "output_type": "stream",
     "text": [
      "                                                                           \r"
     ]
    },
    {
     "name": "stdout",
     "output_type": "stream",
     "text": [
      "Epoch 35/100: Train Loss = 678.9627, Val Loss = 1022.5335\n",
      "Model saved to saved_models/transformer_vae/fraud_transformer_vae/20250313_190737/best_model.pt\n",
      "New best validation loss: 1022.5335\n"
     ]
    },
    {
     "name": "stderr",
     "output_type": "stream",
     "text": [
      "                                                                           \r"
     ]
    },
    {
     "name": "stdout",
     "output_type": "stream",
     "text": [
      "Epoch 36/100: Train Loss = 678.9626, Val Loss = 1022.5334\n",
      "Model saved to saved_models/transformer_vae/fraud_transformer_vae/20250313_190737/best_model.pt\n",
      "New best validation loss: 1022.5334\n"
     ]
    },
    {
     "name": "stderr",
     "output_type": "stream",
     "text": [
      "                                                                           \r"
     ]
    },
    {
     "name": "stdout",
     "output_type": "stream",
     "text": [
      "Epoch 37/100: Train Loss = 678.9625, Val Loss = 1022.5333\n",
      "Model saved to saved_models/transformer_vae/fraud_transformer_vae/20250313_190737/best_model.pt\n",
      "New best validation loss: 1022.5333\n"
     ]
    },
    {
     "name": "stderr",
     "output_type": "stream",
     "text": [
      "                                                                           \r"
     ]
    },
    {
     "name": "stdout",
     "output_type": "stream",
     "text": [
      "Epoch 38/100: Train Loss = 678.9624, Val Loss = 1022.5333\n",
      "Model saved to saved_models/transformer_vae/fraud_transformer_vae/20250313_190737/best_model.pt\n",
      "New best validation loss: 1022.5333\n"
     ]
    },
    {
     "name": "stderr",
     "output_type": "stream",
     "text": [
      "                                                                           \r"
     ]
    },
    {
     "name": "stdout",
     "output_type": "stream",
     "text": [
      "Epoch 39/100: Train Loss = 678.9623, Val Loss = 1022.5331\n",
      "Model saved to saved_models/transformer_vae/fraud_transformer_vae/20250313_190737/best_model.pt\n",
      "New best validation loss: 1022.5331\n"
     ]
    },
    {
     "name": "stderr",
     "output_type": "stream",
     "text": [
      "                                                                           \r"
     ]
    },
    {
     "name": "stdout",
     "output_type": "stream",
     "text": [
      "Epoch 40/100: Train Loss = 678.9622, Val Loss = 1022.5330\n",
      "Model saved to saved_models/transformer_vae/fraud_transformer_vae/20250313_190737/best_model.pt\n",
      "New best validation loss: 1022.5330\n"
     ]
    },
    {
     "name": "stderr",
     "output_type": "stream",
     "text": [
      "                                                                           \r"
     ]
    },
    {
     "name": "stdout",
     "output_type": "stream",
     "text": [
      "Epoch 41/100: Train Loss = 678.9621, Val Loss = 1022.5329\n",
      "Model saved to saved_models/transformer_vae/fraud_transformer_vae/20250313_190737/best_model.pt\n",
      "New best validation loss: 1022.5329\n"
     ]
    },
    {
     "name": "stderr",
     "output_type": "stream",
     "text": [
      "                                                                           \r"
     ]
    },
    {
     "name": "stdout",
     "output_type": "stream",
     "text": [
      "Epoch 42/100: Train Loss = 678.9620, Val Loss = 1022.5330\n"
     ]
    },
    {
     "name": "stderr",
     "output_type": "stream",
     "text": [
      "                                                                           \r"
     ]
    },
    {
     "name": "stdout",
     "output_type": "stream",
     "text": [
      "Epoch 43/100: Train Loss = 678.9620, Val Loss = 1022.5328\n",
      "Model saved to saved_models/transformer_vae/fraud_transformer_vae/20250313_190737/best_model.pt\n",
      "New best validation loss: 1022.5328\n"
     ]
    },
    {
     "name": "stderr",
     "output_type": "stream",
     "text": [
      "                                                                           \r"
     ]
    },
    {
     "name": "stdout",
     "output_type": "stream",
     "text": [
      "Epoch 44/100: Train Loss = 678.9619, Val Loss = 1022.5328\n",
      "Model saved to saved_models/transformer_vae/fraud_transformer_vae/20250313_190737/best_model.pt\n",
      "New best validation loss: 1022.5328\n"
     ]
    },
    {
     "name": "stderr",
     "output_type": "stream",
     "text": [
      "                                                                           \r"
     ]
    },
    {
     "name": "stdout",
     "output_type": "stream",
     "text": [
      "Epoch 45/100: Train Loss = 678.9619, Val Loss = 1022.5328\n"
     ]
    },
    {
     "name": "stderr",
     "output_type": "stream",
     "text": [
      "                                                                           \r"
     ]
    },
    {
     "name": "stdout",
     "output_type": "stream",
     "text": [
      "Epoch 46/100: Train Loss = 678.9618, Val Loss = 1022.5327\n",
      "Model saved to saved_models/transformer_vae/fraud_transformer_vae/20250313_190737/best_model.pt\n",
      "New best validation loss: 1022.5327\n"
     ]
    },
    {
     "name": "stderr",
     "output_type": "stream",
     "text": [
      "                                                                           \r"
     ]
    },
    {
     "name": "stdout",
     "output_type": "stream",
     "text": [
      "Epoch 47/100: Train Loss = 678.9617, Val Loss = 1022.5326\n",
      "Model saved to saved_models/transformer_vae/fraud_transformer_vae/20250313_190737/best_model.pt\n",
      "New best validation loss: 1022.5326\n"
     ]
    },
    {
     "name": "stderr",
     "output_type": "stream",
     "text": [
      "                                                                           \r"
     ]
    },
    {
     "name": "stdout",
     "output_type": "stream",
     "text": [
      "Epoch 48/100: Train Loss = 678.9617, Val Loss = 1022.5326\n",
      "Model saved to saved_models/transformer_vae/fraud_transformer_vae/20250313_190737/best_model.pt\n",
      "New best validation loss: 1022.5326\n"
     ]
    },
    {
     "name": "stderr",
     "output_type": "stream",
     "text": [
      "                                                                           \r"
     ]
    },
    {
     "name": "stdout",
     "output_type": "stream",
     "text": [
      "Epoch 49/100: Train Loss = 678.9616, Val Loss = 1022.5326\n",
      "Model saved to saved_models/transformer_vae/fraud_transformer_vae/20250313_190737/best_model.pt\n",
      "New best validation loss: 1022.5326\n"
     ]
    },
    {
     "name": "stderr",
     "output_type": "stream",
     "text": [
      "                                                                           \r"
     ]
    },
    {
     "name": "stdout",
     "output_type": "stream",
     "text": [
      "Epoch 50/100: Train Loss = 678.9616, Val Loss = 1022.5325\n",
      "Model saved to saved_models/transformer_vae/fraud_transformer_vae/20250313_190737/best_model.pt\n",
      "New best validation loss: 1022.5325\n"
     ]
    },
    {
     "name": "stderr",
     "output_type": "stream",
     "text": [
      "                                                                           \r"
     ]
    },
    {
     "name": "stdout",
     "output_type": "stream",
     "text": [
      "Epoch 51/100: Train Loss = 678.9615, Val Loss = 1022.5325\n"
     ]
    },
    {
     "name": "stderr",
     "output_type": "stream",
     "text": [
      "                                                                           \r"
     ]
    },
    {
     "name": "stdout",
     "output_type": "stream",
     "text": [
      "Epoch 52/100: Train Loss = 678.9615, Val Loss = 1022.5324\n",
      "Model saved to saved_models/transformer_vae/fraud_transformer_vae/20250313_190737/best_model.pt\n",
      "New best validation loss: 1022.5324\n"
     ]
    },
    {
     "name": "stderr",
     "output_type": "stream",
     "text": [
      "                                                                           \r"
     ]
    },
    {
     "name": "stdout",
     "output_type": "stream",
     "text": [
      "Epoch 53/100: Train Loss = 678.9615, Val Loss = 1022.5324\n"
     ]
    },
    {
     "name": "stderr",
     "output_type": "stream",
     "text": [
      "                                                                           \r"
     ]
    },
    {
     "name": "stdout",
     "output_type": "stream",
     "text": [
      "Epoch 54/100: Train Loss = 678.9614, Val Loss = 1022.5324\n"
     ]
    },
    {
     "name": "stderr",
     "output_type": "stream",
     "text": [
      "                                                                           \r"
     ]
    },
    {
     "name": "stdout",
     "output_type": "stream",
     "text": [
      "Epoch 55/100: Train Loss = 678.9614, Val Loss = 1022.5324\n",
      "Model saved to saved_models/transformer_vae/fraud_transformer_vae/20250313_190737/best_model.pt\n",
      "New best validation loss: 1022.5324\n"
     ]
    },
    {
     "name": "stderr",
     "output_type": "stream",
     "text": [
      "                                                                           \r"
     ]
    },
    {
     "name": "stdout",
     "output_type": "stream",
     "text": [
      "Epoch 56/100: Train Loss = 678.9614, Val Loss = 1022.5322\n",
      "Model saved to saved_models/transformer_vae/fraud_transformer_vae/20250313_190737/best_model.pt\n",
      "New best validation loss: 1022.5322\n"
     ]
    },
    {
     "name": "stderr",
     "output_type": "stream",
     "text": [
      "                                                                           \r"
     ]
    },
    {
     "name": "stdout",
     "output_type": "stream",
     "text": [
      "Epoch 57/100: Train Loss = 678.9613, Val Loss = 1022.5322\n",
      "Model saved to saved_models/transformer_vae/fraud_transformer_vae/20250313_190737/best_model.pt\n",
      "New best validation loss: 1022.5322\n"
     ]
    },
    {
     "name": "stderr",
     "output_type": "stream",
     "text": [
      "                                                                           \r"
     ]
    },
    {
     "name": "stdout",
     "output_type": "stream",
     "text": [
      "Epoch 58/100: Train Loss = 678.9613, Val Loss = 1022.5323\n"
     ]
    },
    {
     "name": "stderr",
     "output_type": "stream",
     "text": [
      "                                                                           \r"
     ]
    },
    {
     "name": "stdout",
     "output_type": "stream",
     "text": [
      "Epoch 59/100: Train Loss = 678.9613, Val Loss = 1022.5322\n",
      "Model saved to saved_models/transformer_vae/fraud_transformer_vae/20250313_190737/best_model.pt\n",
      "New best validation loss: 1022.5322\n"
     ]
    },
    {
     "name": "stderr",
     "output_type": "stream",
     "text": [
      "                                                                           \r"
     ]
    },
    {
     "name": "stdout",
     "output_type": "stream",
     "text": [
      "Epoch 60/100: Train Loss = 678.9613, Val Loss = 1022.5322\n",
      "Model saved to saved_models/transformer_vae/fraud_transformer_vae/20250313_190737/best_model.pt\n",
      "New best validation loss: 1022.5322\n"
     ]
    },
    {
     "name": "stderr",
     "output_type": "stream",
     "text": [
      "                                                                           \r"
     ]
    },
    {
     "name": "stdout",
     "output_type": "stream",
     "text": [
      "Epoch 61/100: Train Loss = 678.9612, Val Loss = 1022.5321\n",
      "Model saved to saved_models/transformer_vae/fraud_transformer_vae/20250313_190737/best_model.pt\n",
      "New best validation loss: 1022.5321\n"
     ]
    },
    {
     "name": "stderr",
     "output_type": "stream",
     "text": [
      "                                                                           \r"
     ]
    },
    {
     "name": "stdout",
     "output_type": "stream",
     "text": [
      "Epoch 62/100: Train Loss = 678.9612, Val Loss = 1022.5321\n"
     ]
    },
    {
     "name": "stderr",
     "output_type": "stream",
     "text": [
      "                                                                           \r"
     ]
    },
    {
     "name": "stdout",
     "output_type": "stream",
     "text": [
      "Epoch 63/100: Train Loss = 678.9612, Val Loss = 1022.5321\n",
      "Model saved to saved_models/transformer_vae/fraud_transformer_vae/20250313_190737/best_model.pt\n",
      "New best validation loss: 1022.5321\n"
     ]
    },
    {
     "name": "stderr",
     "output_type": "stream",
     "text": [
      "                                                                           \r"
     ]
    },
    {
     "name": "stdout",
     "output_type": "stream",
     "text": [
      "Epoch 64/100: Train Loss = 678.9612, Val Loss = 1022.5320\n",
      "Model saved to saved_models/transformer_vae/fraud_transformer_vae/20250313_190737/best_model.pt\n",
      "New best validation loss: 1022.5320\n"
     ]
    },
    {
     "name": "stderr",
     "output_type": "stream",
     "text": [
      "                                                                           \r"
     ]
    },
    {
     "name": "stdout",
     "output_type": "stream",
     "text": [
      "Epoch 65/100: Train Loss = 678.9612, Val Loss = 1022.5320\n",
      "Model saved to saved_models/transformer_vae/fraud_transformer_vae/20250313_190737/best_model.pt\n",
      "New best validation loss: 1022.5320\n"
     ]
    },
    {
     "name": "stderr",
     "output_type": "stream",
     "text": [
      "                                                                           \r"
     ]
    },
    {
     "name": "stdout",
     "output_type": "stream",
     "text": [
      "Epoch 66/100: Train Loss = 678.9611, Val Loss = 1022.5321\n"
     ]
    },
    {
     "name": "stderr",
     "output_type": "stream",
     "text": [
      "                                                                           \r"
     ]
    },
    {
     "name": "stdout",
     "output_type": "stream",
     "text": [
      "Epoch 67/100: Train Loss = 678.9611, Val Loss = 1022.5320\n"
     ]
    },
    {
     "name": "stderr",
     "output_type": "stream",
     "text": [
      "                                                                           \r"
     ]
    },
    {
     "name": "stdout",
     "output_type": "stream",
     "text": [
      "Epoch 68/100: Train Loss = 678.9611, Val Loss = 1022.5321\n"
     ]
    },
    {
     "name": "stderr",
     "output_type": "stream",
     "text": [
      "                                                                           \r"
     ]
    },
    {
     "name": "stdout",
     "output_type": "stream",
     "text": [
      "Epoch 69/100: Train Loss = 678.9611, Val Loss = 1022.5320\n",
      "Model saved to saved_models/transformer_vae/fraud_transformer_vae/20250313_190737/best_model.pt\n",
      "New best validation loss: 1022.5320\n"
     ]
    },
    {
     "name": "stderr",
     "output_type": "stream",
     "text": [
      "                                                                           \r"
     ]
    },
    {
     "name": "stdout",
     "output_type": "stream",
     "text": [
      "Epoch 70/100: Train Loss = 678.9611, Val Loss = 1022.5320\n"
     ]
    },
    {
     "name": "stderr",
     "output_type": "stream",
     "text": [
      "                                                                           \r"
     ]
    },
    {
     "name": "stdout",
     "output_type": "stream",
     "text": [
      "Epoch 71/100: Train Loss = 678.9611, Val Loss = 1022.5320\n"
     ]
    },
    {
     "name": "stderr",
     "output_type": "stream",
     "text": [
      "                                                                           \r"
     ]
    },
    {
     "name": "stdout",
     "output_type": "stream",
     "text": [
      "Epoch 72/100: Train Loss = 678.9610, Val Loss = 1022.5320\n",
      "Model saved to saved_models/transformer_vae/fraud_transformer_vae/20250313_190737/best_model.pt\n",
      "New best validation loss: 1022.5320\n"
     ]
    },
    {
     "name": "stderr",
     "output_type": "stream",
     "text": [
      "                                                                           \r"
     ]
    },
    {
     "name": "stdout",
     "output_type": "stream",
     "text": [
      "Epoch 73/100: Train Loss = 678.9610, Val Loss = 1022.5320\n"
     ]
    },
    {
     "name": "stderr",
     "output_type": "stream",
     "text": [
      "                                                                           \r"
     ]
    },
    {
     "name": "stdout",
     "output_type": "stream",
     "text": [
      "Epoch 74/100: Train Loss = 678.9610, Val Loss = 1022.5320\n"
     ]
    },
    {
     "name": "stderr",
     "output_type": "stream",
     "text": [
      "                                                                           \r"
     ]
    },
    {
     "name": "stdout",
     "output_type": "stream",
     "text": [
      "Epoch 75/100: Train Loss = 678.9610, Val Loss = 1022.5319\n",
      "Model saved to saved_models/transformer_vae/fraud_transformer_vae/20250313_190737/best_model.pt\n",
      "New best validation loss: 1022.5319\n"
     ]
    },
    {
     "name": "stderr",
     "output_type": "stream",
     "text": [
      "                                                                           \r"
     ]
    },
    {
     "name": "stdout",
     "output_type": "stream",
     "text": [
      "Epoch 76/100: Train Loss = 678.9610, Val Loss = 1022.5320\n"
     ]
    },
    {
     "name": "stderr",
     "output_type": "stream",
     "text": [
      "                                                                           \r"
     ]
    },
    {
     "name": "stdout",
     "output_type": "stream",
     "text": [
      "Epoch 77/100: Train Loss = 678.9610, Val Loss = 1022.5320\n"
     ]
    },
    {
     "name": "stderr",
     "output_type": "stream",
     "text": [
      "                                                                           \r"
     ]
    },
    {
     "name": "stdout",
     "output_type": "stream",
     "text": [
      "Epoch 78/100: Train Loss = 678.9610, Val Loss = 1022.5319\n",
      "Model saved to saved_models/transformer_vae/fraud_transformer_vae/20250313_190737/best_model.pt\n",
      "New best validation loss: 1022.5319\n"
     ]
    },
    {
     "name": "stderr",
     "output_type": "stream",
     "text": [
      "                                                                           \r"
     ]
    },
    {
     "name": "stdout",
     "output_type": "stream",
     "text": [
      "Epoch 79/100: Train Loss = 678.9610, Val Loss = 1022.5319\n"
     ]
    },
    {
     "name": "stderr",
     "output_type": "stream",
     "text": [
      "                                                                           \r"
     ]
    },
    {
     "name": "stdout",
     "output_type": "stream",
     "text": [
      "Epoch 80/100: Train Loss = 678.9609, Val Loss = 1022.5319\n"
     ]
    },
    {
     "name": "stderr",
     "output_type": "stream",
     "text": [
      "                                                                           \r"
     ]
    },
    {
     "name": "stdout",
     "output_type": "stream",
     "text": [
      "Epoch 81/100: Train Loss = 678.9609, Val Loss = 1022.5319\n"
     ]
    },
    {
     "name": "stderr",
     "output_type": "stream",
     "text": [
      "                                                                           \r"
     ]
    },
    {
     "name": "stdout",
     "output_type": "stream",
     "text": [
      "Epoch 82/100: Train Loss = 678.9609, Val Loss = 1022.5318\n",
      "Model saved to saved_models/transformer_vae/fraud_transformer_vae/20250313_190737/best_model.pt\n",
      "New best validation loss: 1022.5318\n"
     ]
    },
    {
     "name": "stderr",
     "output_type": "stream",
     "text": [
      "                                                                           \r"
     ]
    },
    {
     "name": "stdout",
     "output_type": "stream",
     "text": [
      "Epoch 83/100: Train Loss = 678.9609, Val Loss = 1022.5319\n"
     ]
    },
    {
     "name": "stderr",
     "output_type": "stream",
     "text": [
      "                                                                           \r"
     ]
    },
    {
     "name": "stdout",
     "output_type": "stream",
     "text": [
      "Epoch 84/100: Train Loss = 678.9609, Val Loss = 1022.5318\n"
     ]
    },
    {
     "name": "stderr",
     "output_type": "stream",
     "text": [
      "                                                                           \r"
     ]
    },
    {
     "name": "stdout",
     "output_type": "stream",
     "text": [
      "Epoch 85/100: Train Loss = 678.9609, Val Loss = 1022.5318\n"
     ]
    },
    {
     "name": "stderr",
     "output_type": "stream",
     "text": [
      "                                                                           \r"
     ]
    },
    {
     "name": "stdout",
     "output_type": "stream",
     "text": [
      "Epoch 86/100: Train Loss = 678.9609, Val Loss = 1022.5318\n"
     ]
    },
    {
     "name": "stderr",
     "output_type": "stream",
     "text": [
      "                                                                           \r"
     ]
    },
    {
     "name": "stdout",
     "output_type": "stream",
     "text": [
      "Epoch 87/100: Train Loss = 678.9609, Val Loss = 1022.5319\n"
     ]
    },
    {
     "name": "stderr",
     "output_type": "stream",
     "text": [
      "                                                                           \r"
     ]
    },
    {
     "name": "stdout",
     "output_type": "stream",
     "text": [
      "Epoch 88/100: Train Loss = 678.9609, Val Loss = 1022.5318\n"
     ]
    },
    {
     "name": "stderr",
     "output_type": "stream",
     "text": [
      "                                                                           \r"
     ]
    },
    {
     "name": "stdout",
     "output_type": "stream",
     "text": [
      "Epoch 89/100: Train Loss = 678.9608, Val Loss = 1022.5318\n"
     ]
    },
    {
     "name": "stderr",
     "output_type": "stream",
     "text": [
      "                                                                           \r"
     ]
    },
    {
     "name": "stdout",
     "output_type": "stream",
     "text": [
      "Epoch 90/100: Train Loss = 678.9609, Val Loss = 1022.5319\n"
     ]
    },
    {
     "name": "stderr",
     "output_type": "stream",
     "text": [
      "                                                                           \r"
     ]
    },
    {
     "name": "stdout",
     "output_type": "stream",
     "text": [
      "Epoch 91/100: Train Loss = 678.9609, Val Loss = 1022.5318\n",
      "Model saved to saved_models/transformer_vae/fraud_transformer_vae/20250313_190737/best_model.pt\n",
      "New best validation loss: 1022.5318\n"
     ]
    },
    {
     "name": "stderr",
     "output_type": "stream",
     "text": [
      "                                                                           \r"
     ]
    },
    {
     "name": "stdout",
     "output_type": "stream",
     "text": [
      "Epoch 92/100: Train Loss = 678.9609, Val Loss = 1022.5318\n"
     ]
    },
    {
     "name": "stderr",
     "output_type": "stream",
     "text": [
      "                                                                           \r"
     ]
    },
    {
     "name": "stdout",
     "output_type": "stream",
     "text": [
      "Epoch 93/100: Train Loss = 678.9608, Val Loss = 1022.5318\n",
      "Model saved to saved_models/transformer_vae/fraud_transformer_vae/20250313_190737/best_model.pt\n",
      "New best validation loss: 1022.5318\n"
     ]
    },
    {
     "name": "stderr",
     "output_type": "stream",
     "text": [
      "                                                                           \r"
     ]
    },
    {
     "name": "stdout",
     "output_type": "stream",
     "text": [
      "Epoch 94/100: Train Loss = 678.9608, Val Loss = 1022.5318\n",
      "Model saved to saved_models/transformer_vae/fraud_transformer_vae/20250313_190737/best_model.pt\n",
      "New best validation loss: 1022.5318\n"
     ]
    },
    {
     "name": "stderr",
     "output_type": "stream",
     "text": [
      "                                                                           \r"
     ]
    },
    {
     "name": "stdout",
     "output_type": "stream",
     "text": [
      "Epoch 95/100: Train Loss = 678.9608, Val Loss = 1022.5318\n"
     ]
    },
    {
     "name": "stderr",
     "output_type": "stream",
     "text": [
      "                                                                           \r"
     ]
    },
    {
     "name": "stdout",
     "output_type": "stream",
     "text": [
      "Epoch 96/100: Train Loss = 678.9608, Val Loss = 1022.5318\n"
     ]
    },
    {
     "name": "stderr",
     "output_type": "stream",
     "text": [
      "                                                                           \r"
     ]
    },
    {
     "name": "stdout",
     "output_type": "stream",
     "text": [
      "Epoch 97/100: Train Loss = 678.9608, Val Loss = 1022.5318\n"
     ]
    },
    {
     "name": "stderr",
     "output_type": "stream",
     "text": [
      "                                                                           \r"
     ]
    },
    {
     "name": "stdout",
     "output_type": "stream",
     "text": [
      "Epoch 98/100: Train Loss = 678.9608, Val Loss = 1022.5318\n"
     ]
    },
    {
     "name": "stderr",
     "output_type": "stream",
     "text": [
      "                                                                           \r"
     ]
    },
    {
     "name": "stdout",
     "output_type": "stream",
     "text": [
      "Epoch 99/100: Train Loss = 678.9608, Val Loss = 1022.5318\n",
      "Model saved to saved_models/transformer_vae/fraud_transformer_vae/20250313_190737/best_model.pt\n",
      "New best validation loss: 1022.5318\n"
     ]
    },
    {
     "name": "stderr",
     "output_type": "stream",
     "text": [
      "                                                                           \r"
     ]
    },
    {
     "name": "stdout",
     "output_type": "stream",
     "text": [
      "Epoch 100/100: Train Loss = 678.9608, Val Loss = 1022.5318\n",
      "Model saved to saved_models/transformer_vae/fraud_transformer_vae/20250313_190737/final_model.pt\n",
      "Training complete. Best validation loss: 1022.5318\n"
     ]
    },
    {
     "data": {
      "text/html": [],
      "text/plain": [
       "<IPython.core.display.HTML object>"
      ]
     },
     "metadata": {},
     "output_type": "display_data"
    },
    {
     "data": {
      "text/html": [
       "<br>    <style><br>        .wandb-row {<br>            display: flex;<br>            flex-direction: row;<br>            flex-wrap: wrap;<br>            justify-content: flex-start;<br>            width: 100%;<br>        }<br>        .wandb-col {<br>            display: flex;<br>            flex-direction: column;<br>            flex-basis: 100%;<br>            flex: 1;<br>            padding: 10px;<br>        }<br>    </style><br><div class=\"wandb-row\"><div class=\"wandb-col\"><h3>Run history:</h3><br/><table class=\"wandb\"><tr><td>epoch</td><td>▁▁▁▁▁▂▂▂▂▂▂▂▃▃▃▃▄▄▄▄▅▅▅▅▅▆▆▆▆▆▆▇▇▇▇▇▇███</td></tr><tr><td>train/recon_loss</td><td>▂▃▃▂▃▃▄▅▃▁▆▆▄▃▇█▂▄▂▂▅▁▅▁▅▃▃▄▃▄▃▄▅▄▄▄▃▂▃▅</td></tr><tr><td>train/total_loss</td><td>█▄▂▂▂▁▁▁▁▁▁▁▁▁▁▁▁▁▁▁▁▁▁▁▁▁▁▁▁▁▁▁▁▁▁▁▁▁▁▁</td></tr><tr><td>val/recon_loss</td><td>█▄▂▂▁▁▁▁▁▁▁▁▁▁▁▁▁▁▁▁▁▁▁▁▁▁▁▁▁▁▁▁▁▁▁▁▁▁▁▁</td></tr><tr><td>val/total_loss</td><td>█▄▃▂▂▁▁▁▁▁▁▁▁▁▁▁▁▁▁▁▁▁▁▁▁▁▁▁▁▁▁▁▁▁▁▁▁▁▁▁</td></tr></table><br/></div><div class=\"wandb-col\"><h3>Run summary:</h3><br/><table class=\"wandb\"><tr><td>epoch</td><td>100</td></tr><tr><td>train/recon_loss</td><td>9307.76562</td></tr><tr><td>train/total_loss</td><td>678.96082</td></tr><tr><td>val/recon_loss</td><td>11025.65723</td></tr><tr><td>val/total_loss</td><td>1022.5318</td></tr></table><br/></div></div>"
      ],
      "text/plain": [
       "<IPython.core.display.HTML object>"
      ]
     },
     "metadata": {},
     "output_type": "display_data"
    },
    {
     "data": {
      "text/html": [
       " View run <strong style=\"color:#cdcd00\">transformer-vae-fraud_20250313_190718</strong> at: <a href='https://wandb.ai/alexkstern/fraud-classification/runs/z25yt68l' target=\"_blank\">https://wandb.ai/alexkstern/fraud-classification/runs/z25yt68l</a><br> View project at: <a href='https://wandb.ai/alexkstern/fraud-classification' target=\"_blank\">https://wandb.ai/alexkstern/fraud-classification</a><br>Synced 5 W&B file(s), 0 media file(s), 134 artifact file(s) and 0 other file(s)"
      ],
      "text/plain": [
       "<IPython.core.display.HTML object>"
      ]
     },
     "metadata": {},
     "output_type": "display_data"
    },
    {
     "data": {
      "text/html": [
       "Find logs at: <code>./wandb/run-20250313_190720-z25yt68l/logs</code>"
      ],
      "text/plain": [
       "<IPython.core.display.HTML object>"
      ]
     },
     "metadata": {},
     "output_type": "display_data"
    },
    {
     "name": "stdout",
     "output_type": "stream",
     "text": [
      "Training session complete.\n"
     ]
    }
   ],
   "source": [
    "import os\n",
    "import torch\n",
    "import torch.optim as optim\n",
    "import numpy as np\n",
    "import random\n",
    "\n",
    "# Set random seeds for reproducibility\n",
    "SEED = 42\n",
    "random.seed(SEED)\n",
    "np.random.seed(SEED)\n",
    "torch.manual_seed(SEED)\n",
    "torch.cuda.manual_seed_all(SEED)\n",
    "torch.backends.cudnn.deterministic = True\n",
    "torch.backends.cudnn.benchmark = False\n",
    "\n",
    "# Import required modules\n",
    "from models.transformer_vae_model import TransformerVae, vae_loss_function, print_num_params\n",
    "from trainer.trainer_vae import VAETrainer\n",
    "from dataloader.dataloader import load_fraud_data, load_config\n",
    "from utils.model_saver import save_model, get_save_directory\n",
    "from utils.wandb_logger import WandBLogger\n",
    "from utils.evaluation_utils import extract_recon_loss\n",
    "\n",
    "# Build the config path\n",
    "config_path = \"configs/transformer_vae/fraud_transformer_vae.config\"\n",
    "\n",
    "# Load configuration\n",
    "import configparser\n",
    "config_parser = configparser.ConfigParser()\n",
    "config_parser.read(config_path)\n",
    "transformer_vae_config = config_parser[\"Transformer_VAE\"]\n",
    "\n",
    "# Create config dictionary for WandB\n",
    "config_dict = {}\n",
    "for section in config_parser.sections():\n",
    "    config_dict[section] = dict(config_parser[section])\n",
    "\n",
    "# Initialize WandB logger\n",
    "wandb_logger = WandBLogger(config_dict)\n",
    "\n",
    "# Load data\n",
    "config_dict = load_config(config_path)\n",
    "data = load_fraud_data(config_path=config_path)\n",
    "dataloaders = data['dataloaders']\n",
    "input_dim = data['input_dim']\n",
    "\n",
    "# Create model\n",
    "model = TransformerVae(transformer_vae_config)\n",
    "print_num_params(model)\n",
    "\n",
    "# Training parameters\n",
    "lr = config_parser[\"Trainer\"].getfloat(\"lr\")\n",
    "num_epochs = config_parser[\"Trainer\"].getint(\"num_epochs\")\n",
    "\n",
    "# Define optimizer and loss function\n",
    "optimizer = optim.Adam(model.parameters(), lr=lr)\n",
    "loss_fn = vae_loss_function\n",
    "\n",
    "# Create trainer\n",
    "trainer = VAETrainer(model, dataloaders, loss_fn, optimizer)\n",
    "\n",
    "# Create save directory\n",
    "save_dir = get_save_directory(config_path)\n",
    "print(f\"Models will be saved to: {save_dir}\")\n",
    "\n",
    "# Track best validation loss\n",
    "best_val_loss = float('inf')\n",
    "train_losses, val_losses = [], []\n",
    "\n",
    "try:\n",
    "    # Training loop\n",
    "    for epoch in range(1, num_epochs + 1):\n",
    "        train_loss = trainer.train_epoch()\n",
    "        val_loss = trainer.validate_epoch()\n",
    "        \n",
    "        train_losses.append(train_loss)\n",
    "        val_losses.append(val_loss)\n",
    "        \n",
    "        # Log to WandB (if enabled)\n",
    "        try:\n",
    "            train_batch = next(iter(dataloaders['train']))\n",
    "            val_batch = next(iter(dataloaders['val']))\n",
    "            train_recon_loss = extract_recon_loss(model, train_batch, trainer.device)\n",
    "            val_recon_loss = extract_recon_loss(model, val_batch, trainer.device)\n",
    "            wandb_logger.log_epoch(epoch, train_loss, val_loss, train_recon_loss, val_recon_loss)\n",
    "        except Exception as e:\n",
    "            wandb_logger.log_epoch(epoch, train_loss, val_loss)\n",
    "        \n",
    "        # Print progress\n",
    "        print(f\"Epoch {epoch}/{num_epochs}: Train Loss = {train_loss:.4f}, Val Loss = {val_loss:.4f}\")\n",
    "        \n",
    "        # Save best model\n",
    "        if val_loss < best_val_loss:\n",
    "            best_val_loss = val_loss\n",
    "            metadata = {'epoch': epoch, 'train_loss': train_loss, 'val_loss': val_loss}\n",
    "            model_path = save_model(model, save_dir, 'best_model.pt', metadata)\n",
    "            print(f\"New best validation loss: {val_loss:.4f}\")\n",
    "            wandb_logger.log_model(model_path, metadata)\n",
    "\n",
    "    # Save final model if different from best\n",
    "    if val_losses[-1] > best_val_loss:\n",
    "        metadata = {'epoch': num_epochs, 'train_loss': train_losses[-1], 'val_loss': val_losses[-1]}\n",
    "        save_model(model, save_dir, 'final_model.pt', metadata)\n",
    "\n",
    "    print(f\"Training complete. Best validation loss: {best_val_loss:.4f}\")\n",
    "\n",
    "except KeyboardInterrupt:\n",
    "    print(\"\\nTraining interrupted by user. Saving current state...\")\n",
    "    if len(train_losses) > 0:\n",
    "        metadata = {\n",
    "            'interrupted': True,\n",
    "            'epoch': len(train_losses), \n",
    "            'train_loss': train_losses[-1],\n",
    "            'val_loss': val_losses[-1] if len(val_losses) > 0 else None\n",
    "        }\n",
    "        save_model(model, save_dir, 'interrupted_model.pt', metadata)\n",
    "        print(f\"Interrupted model saved to {save_dir}\")\n",
    "\n",
    "except Exception as e:\n",
    "    print(f\"\\nTraining failed with error: {e}\")\n",
    "    import traceback\n",
    "    traceback.print_exc()\n",
    "    \n",
    "finally:\n",
    "    # Clean up WandB\n",
    "    try:\n",
    "        wandb_logger.finish()\n",
    "    except:\n",
    "        pass\n",
    "    print(\"Training session complete.\")"
   ]
  },
  {
   "cell_type": "markdown",
   "metadata": {},
   "source": [
    "### Normal"
   ]
  },
  {
   "cell_type": "code",
   "execution_count": 2,
   "metadata": {},
   "outputs": [
    {
     "name": "stdout",
     "output_type": "stream",
     "text": [
      "Initializing WandB run: transformer-vae-normal_20250313_232840 (Project: fraud-classification, Entity: alexkstern)\n"
     ]
    },
    {
     "data": {
      "text/html": [
       "creating run (0.0s)"
      ],
      "text/plain": [
       "<IPython.core.display.HTML object>"
      ]
     },
     "metadata": {},
     "output_type": "display_data"
    },
    {
     "data": {
      "text/html": [
       "Tracking run with wandb version 0.19.8"
      ],
      "text/plain": [
       "<IPython.core.display.HTML object>"
      ]
     },
     "metadata": {},
     "output_type": "display_data"
    },
    {
     "data": {
      "text/html": [
       "Run data is saved locally in <code>/home/alexkstern/fraudml/amlf_proj/wandb/run-20250313_232840-xqldh3hn</code>"
      ],
      "text/plain": [
       "<IPython.core.display.HTML object>"
      ]
     },
     "metadata": {},
     "output_type": "display_data"
    },
    {
     "data": {
      "text/html": [
       "Syncing run <strong><a href='https://wandb.ai/alexkstern/fraud-classification/runs/xqldh3hn' target=\"_blank\">transformer-vae-normal_20250313_232840</a></strong> to <a href='https://wandb.ai/alexkstern/fraud-classification' target=\"_blank\">Weights & Biases</a> (<a href='https://wandb.me/developer-guide' target=\"_blank\">docs</a>)<br>"
      ],
      "text/plain": [
       "<IPython.core.display.HTML object>"
      ]
     },
     "metadata": {},
     "output_type": "display_data"
    },
    {
     "data": {
      "text/html": [
       " View project at <a href='https://wandb.ai/alexkstern/fraud-classification' target=\"_blank\">https://wandb.ai/alexkstern/fraud-classification</a>"
      ],
      "text/plain": [
       "<IPython.core.display.HTML object>"
      ]
     },
     "metadata": {},
     "output_type": "display_data"
    },
    {
     "data": {
      "text/html": [
       " View run at <a href='https://wandb.ai/alexkstern/fraud-classification/runs/xqldh3hn' target=\"_blank\">https://wandb.ai/alexkstern/fraud-classification/runs/xqldh3hn</a>"
      ],
      "text/plain": [
       "<IPython.core.display.HTML object>"
      ]
     },
     "metadata": {},
     "output_type": "display_data"
    },
    {
     "name": "stdout",
     "output_type": "stream",
     "text": [
      "Loaded configuration from configs/transformer_vae/normal_transformer_vae.config\n",
      "Filtered dataset to class 0: 12000 samples\n",
      "Normalization statistics (calculated from class 0): {'Time': {'mean': 94364.65358333333, 'std': 47365.815157589255}, 'Amount': {'mean': 87.60478666666666, 'std': 240.59403081682598}}\n",
      "Filtered dataset to class 0: 12000 samples\n",
      "Filtered dataset to class 0: 1500 samples\n",
      "Filtered dataset to class 0: 1500 samples\n",
      "Total number of trainable parameters: 147879\n",
      "Models will be saved to: saved_models/transformer_vae/normal_transformer_vae/20250313_232852\n"
     ]
    },
    {
     "name": "stderr",
     "output_type": "stream",
     "text": [
      "                                                                               \r"
     ]
    },
    {
     "name": "stdout",
     "output_type": "stream",
     "text": [
      "Epoch 1/30: Train Loss = 31.5605, Val Loss = 32.5408\n",
      "Model saved to saved_models/transformer_vae/normal_transformer_vae/20250313_232852/best_model.pt\n",
      "New best validation loss: 32.5408\n"
     ]
    },
    {
     "name": "stderr",
     "output_type": "stream",
     "text": [
      "                                                                               \r"
     ]
    },
    {
     "name": "stdout",
     "output_type": "stream",
     "text": [
      "Epoch 2/30: Train Loss = 31.5503, Val Loss = 32.5409\n"
     ]
    },
    {
     "name": "stderr",
     "output_type": "stream",
     "text": [
      "                                                                               \r"
     ]
    },
    {
     "name": "stdout",
     "output_type": "stream",
     "text": [
      "Epoch 3/30: Train Loss = 31.5504, Val Loss = 32.5407\n",
      "Model saved to saved_models/transformer_vae/normal_transformer_vae/20250313_232852/best_model.pt\n",
      "New best validation loss: 32.5407\n"
     ]
    },
    {
     "name": "stderr",
     "output_type": "stream",
     "text": [
      "                                                                               \r"
     ]
    },
    {
     "name": "stdout",
     "output_type": "stream",
     "text": [
      "Epoch 4/30: Train Loss = 31.5504, Val Loss = 32.5409\n"
     ]
    },
    {
     "name": "stderr",
     "output_type": "stream",
     "text": [
      "                                                                               \r"
     ]
    },
    {
     "name": "stdout",
     "output_type": "stream",
     "text": [
      "Epoch 5/30: Train Loss = 31.5503, Val Loss = 32.5410\n"
     ]
    },
    {
     "name": "stderr",
     "output_type": "stream",
     "text": [
      "                                                                               \r"
     ]
    },
    {
     "name": "stdout",
     "output_type": "stream",
     "text": [
      "Epoch 6/30: Train Loss = 31.5505, Val Loss = 32.5410\n"
     ]
    },
    {
     "name": "stderr",
     "output_type": "stream",
     "text": [
      "                                                                               \r"
     ]
    },
    {
     "name": "stdout",
     "output_type": "stream",
     "text": [
      "Epoch 7/30: Train Loss = 31.5503, Val Loss = 32.5407\n"
     ]
    },
    {
     "name": "stderr",
     "output_type": "stream",
     "text": [
      "                                                                               \r"
     ]
    },
    {
     "name": "stdout",
     "output_type": "stream",
     "text": [
      "Epoch 8/30: Train Loss = 31.5504, Val Loss = 32.5411\n"
     ]
    },
    {
     "name": "stderr",
     "output_type": "stream",
     "text": [
      "                                                                               \r"
     ]
    },
    {
     "name": "stdout",
     "output_type": "stream",
     "text": [
      "Epoch 9/30: Train Loss = 31.5504, Val Loss = 32.5411\n"
     ]
    },
    {
     "name": "stderr",
     "output_type": "stream",
     "text": [
      "                                                                               \r"
     ]
    },
    {
     "name": "stdout",
     "output_type": "stream",
     "text": [
      "Epoch 10/30: Train Loss = 31.5505, Val Loss = 32.5411\n"
     ]
    },
    {
     "name": "stderr",
     "output_type": "stream",
     "text": [
      "                                                                               \r"
     ]
    },
    {
     "name": "stdout",
     "output_type": "stream",
     "text": [
      "Epoch 11/30: Train Loss = 31.5504, Val Loss = 32.5410\n"
     ]
    },
    {
     "name": "stderr",
     "output_type": "stream",
     "text": [
      "                                                                               \r"
     ]
    },
    {
     "name": "stdout",
     "output_type": "stream",
     "text": [
      "Epoch 12/30: Train Loss = 31.5503, Val Loss = 32.5410\n"
     ]
    },
    {
     "name": "stderr",
     "output_type": "stream",
     "text": [
      "                                                                               \r"
     ]
    },
    {
     "name": "stdout",
     "output_type": "stream",
     "text": [
      "Epoch 13/30: Train Loss = 31.5503, Val Loss = 32.5408\n"
     ]
    },
    {
     "name": "stderr",
     "output_type": "stream",
     "text": [
      "                                                                               \r"
     ]
    },
    {
     "name": "stdout",
     "output_type": "stream",
     "text": [
      "Epoch 14/30: Train Loss = 31.5504, Val Loss = 32.5410\n"
     ]
    },
    {
     "name": "stderr",
     "output_type": "stream",
     "text": [
      "                                                                               \r"
     ]
    },
    {
     "name": "stdout",
     "output_type": "stream",
     "text": [
      "Epoch 15/30: Train Loss = 31.5503, Val Loss = 32.5410\n"
     ]
    },
    {
     "name": "stderr",
     "output_type": "stream",
     "text": [
      "                                                                               \r"
     ]
    },
    {
     "name": "stdout",
     "output_type": "stream",
     "text": [
      "Epoch 16/30: Train Loss = 31.5504, Val Loss = 32.5411\n"
     ]
    },
    {
     "name": "stderr",
     "output_type": "stream",
     "text": [
      "                                                                               \r"
     ]
    },
    {
     "name": "stdout",
     "output_type": "stream",
     "text": [
      "Epoch 17/30: Train Loss = 31.5504, Val Loss = 32.5411\n"
     ]
    },
    {
     "name": "stderr",
     "output_type": "stream",
     "text": [
      "                                                                                \r"
     ]
    },
    {
     "name": "stdout",
     "output_type": "stream",
     "text": [
      "Epoch 18/30: Train Loss = 31.5505, Val Loss = 32.5409\n"
     ]
    },
    {
     "name": "stderr",
     "output_type": "stream",
     "text": [
      "                                                                               \r"
     ]
    },
    {
     "name": "stdout",
     "output_type": "stream",
     "text": [
      "Epoch 19/30: Train Loss = 31.5505, Val Loss = 32.5411\n"
     ]
    },
    {
     "name": "stderr",
     "output_type": "stream",
     "text": [
      "                                                                               \r"
     ]
    },
    {
     "name": "stdout",
     "output_type": "stream",
     "text": [
      "Epoch 20/30: Train Loss = 31.5504, Val Loss = 32.5410\n"
     ]
    },
    {
     "name": "stderr",
     "output_type": "stream",
     "text": [
      "                                                                               \r"
     ]
    },
    {
     "name": "stdout",
     "output_type": "stream",
     "text": [
      "Epoch 21/30: Train Loss = 31.5504, Val Loss = 32.5409\n"
     ]
    },
    {
     "name": "stderr",
     "output_type": "stream",
     "text": [
      "                                                                               \r"
     ]
    },
    {
     "name": "stdout",
     "output_type": "stream",
     "text": [
      "Epoch 22/30: Train Loss = 31.5503, Val Loss = 32.5410\n"
     ]
    },
    {
     "name": "stderr",
     "output_type": "stream",
     "text": [
      "                                                                               \r"
     ]
    },
    {
     "name": "stdout",
     "output_type": "stream",
     "text": [
      "Epoch 23/30: Train Loss = 31.5504, Val Loss = 32.5409\n"
     ]
    },
    {
     "name": "stderr",
     "output_type": "stream",
     "text": [
      "                                                                               \r"
     ]
    },
    {
     "name": "stdout",
     "output_type": "stream",
     "text": [
      "Epoch 24/30: Train Loss = 31.5504, Val Loss = 32.5410\n"
     ]
    },
    {
     "name": "stderr",
     "output_type": "stream",
     "text": [
      "                                                                               \r"
     ]
    },
    {
     "name": "stdout",
     "output_type": "stream",
     "text": [
      "Epoch 25/30: Train Loss = 31.5503, Val Loss = 32.5408\n"
     ]
    },
    {
     "name": "stderr",
     "output_type": "stream",
     "text": [
      "                                                                               \r"
     ]
    },
    {
     "name": "stdout",
     "output_type": "stream",
     "text": [
      "Epoch 26/30: Train Loss = 31.5505, Val Loss = 32.5410\n"
     ]
    },
    {
     "name": "stderr",
     "output_type": "stream",
     "text": [
      "                                                                               \r"
     ]
    },
    {
     "name": "stdout",
     "output_type": "stream",
     "text": [
      "Epoch 27/30: Train Loss = 31.5503, Val Loss = 32.5409\n"
     ]
    },
    {
     "name": "stderr",
     "output_type": "stream",
     "text": [
      "                                                                               \r"
     ]
    },
    {
     "name": "stdout",
     "output_type": "stream",
     "text": [
      "Epoch 28/30: Train Loss = 31.5504, Val Loss = 32.5410\n"
     ]
    },
    {
     "name": "stderr",
     "output_type": "stream",
     "text": [
      "                                                                               \r"
     ]
    },
    {
     "name": "stdout",
     "output_type": "stream",
     "text": [
      "Epoch 29/30: Train Loss = 31.5504, Val Loss = 32.5410\n"
     ]
    },
    {
     "name": "stderr",
     "output_type": "stream",
     "text": [
      "                                                                               \r"
     ]
    },
    {
     "name": "stdout",
     "output_type": "stream",
     "text": [
      "Epoch 30/30: Train Loss = 31.5502, Val Loss = 32.5410\n",
      "Model saved to saved_models/transformer_vae/normal_transformer_vae/20250313_232852/final_model.pt\n",
      "Training complete. Best validation loss: 32.5407\n"
     ]
    },
    {
     "data": {
      "text/html": [],
      "text/plain": [
       "<IPython.core.display.HTML object>"
      ]
     },
     "metadata": {},
     "output_type": "display_data"
    },
    {
     "data": {
      "text/html": [
       "<br>    <style><br>        .wandb-row {<br>            display: flex;<br>            flex-direction: row;<br>            flex-wrap: wrap;<br>            justify-content: flex-start;<br>            width: 100%;<br>        }<br>        .wandb-col {<br>            display: flex;<br>            flex-direction: column;<br>            flex-basis: 100%;<br>            flex: 1;<br>            padding: 10px;<br>        }<br>    </style><br><div class=\"wandb-row\"><div class=\"wandb-col\"><h3>Run history:</h3><br/><table class=\"wandb\"><tr><td>epoch</td><td>▁▁▁▂▂▂▂▃▃▃▃▄▄▄▄▅▅▅▅▆▆▆▆▇▇▇▇███</td></tr><tr><td>train/recon_loss</td><td>▂▁▂▂▁▁▂▃▇▃▁▁▂▂▁▂▄▂▄█▂▂▃▁▂▂▂▂▂▂</td></tr><tr><td>train/total_loss</td><td>█▁▁▁▁▁▁▁▁▁▁▁▁▁▁▁▁▁▁▁▁▁▁▁▁▁▁▁▁▁</td></tr><tr><td>val/recon_loss</td><td>▅▃█▃▁▁▆▁▁▁▂▂▅▂▂▁▁▃▁▂▃▂▃▂▅▂▃▂▁▁</td></tr><tr><td>val/total_loss</td><td>▂▅▁▅▇▇▁█▇█▆▆▂▆▆██▄█▆▄▆▅▆▂▆▅▆▇▇</td></tr></table><br/></div><div class=\"wandb-col\"><h3>Run summary:</h3><br/><table class=\"wandb\"><tr><td>epoch</td><td>30</td></tr><tr><td>train/recon_loss</td><td>194.85416</td></tr><tr><td>train/total_loss</td><td>31.5502</td></tr><tr><td>val/recon_loss</td><td>199.39651</td></tr><tr><td>val/total_loss</td><td>32.54104</td></tr></table><br/></div></div>"
      ],
      "text/plain": [
       "<IPython.core.display.HTML object>"
      ]
     },
     "metadata": {},
     "output_type": "display_data"
    },
    {
     "data": {
      "text/html": [
       " View run <strong style=\"color:#cdcd00\">transformer-vae-normal_20250313_232840</strong> at: <a href='https://wandb.ai/alexkstern/fraud-classification/runs/xqldh3hn' target=\"_blank\">https://wandb.ai/alexkstern/fraud-classification/runs/xqldh3hn</a><br> View project at: <a href='https://wandb.ai/alexkstern/fraud-classification' target=\"_blank\">https://wandb.ai/alexkstern/fraud-classification</a><br>Synced 5 W&B file(s), 0 media file(s), 4 artifact file(s) and 0 other file(s)"
      ],
      "text/plain": [
       "<IPython.core.display.HTML object>"
      ]
     },
     "metadata": {},
     "output_type": "display_data"
    },
    {
     "data": {
      "text/html": [
       "Find logs at: <code>./wandb/run-20250313_232840-xqldh3hn/logs</code>"
      ],
      "text/plain": [
       "<IPython.core.display.HTML object>"
      ]
     },
     "metadata": {},
     "output_type": "display_data"
    },
    {
     "name": "stdout",
     "output_type": "stream",
     "text": [
      "Training session complete.\n"
     ]
    }
   ],
   "source": [
    "import os\n",
    "import torch\n",
    "import torch.optim as optim\n",
    "import numpy as np\n",
    "import random\n",
    "\n",
    "# Set random seeds for reproducibility\n",
    "SEED = 42\n",
    "random.seed(SEED)\n",
    "np.random.seed(SEED)\n",
    "torch.manual_seed(SEED)\n",
    "torch.cuda.manual_seed_all(SEED)\n",
    "torch.backends.cudnn.deterministic = True\n",
    "torch.backends.cudnn.benchmark = False\n",
    "\n",
    "# Import required modules\n",
    "from models.transformer_vae_model import TransformerVae, vae_loss_function, print_num_params\n",
    "from trainer.trainer_vae import VAETrainer\n",
    "from dataloader.dataloader import load_fraud_data, load_config\n",
    "from utils.model_saver import save_model, get_save_directory\n",
    "from utils.wandb_logger import WandBLogger\n",
    "from utils.evaluation_utils import extract_recon_loss\n",
    "\n",
    "# Build the config path\n",
    "config_path = \"configs/transformer_vae/normal_transformer_vae.config\"\n",
    "\n",
    "# Load configuration\n",
    "import configparser\n",
    "config_parser = configparser.ConfigParser()\n",
    "config_parser.read(config_path)\n",
    "transformer_vae_config = config_parser[\"Transformer_VAE\"]\n",
    "\n",
    "# Create config dictionary for WandB\n",
    "config_dict = {}\n",
    "for section in config_parser.sections():\n",
    "    config_dict[section] = dict(config_parser[section])\n",
    "\n",
    "# Initialize WandB logger\n",
    "wandb_logger = WandBLogger(config_dict)\n",
    "\n",
    "# Load data\n",
    "config_dict = load_config(config_path)\n",
    "data = load_fraud_data(config_path=config_path)\n",
    "dataloaders = data['dataloaders']\n",
    "input_dim = data['input_dim']\n",
    "\n",
    "# Create model\n",
    "model = TransformerVae(transformer_vae_config)\n",
    "print_num_params(model)\n",
    "\n",
    "# Training parameters\n",
    "lr = config_parser[\"Trainer\"].getfloat(\"lr\")\n",
    "num_epochs = config_parser[\"Trainer\"].getint(\"num_epochs\")\n",
    "\n",
    "# Define optimizer and loss function\n",
    "optimizer = optim.Adam(model.parameters(), lr=lr)\n",
    "loss_fn = vae_loss_function\n",
    "\n",
    "# Create trainer\n",
    "trainer = VAETrainer(model, dataloaders, loss_fn, optimizer)\n",
    "\n",
    "# Create save directory\n",
    "save_dir = get_save_directory(config_path)\n",
    "print(f\"Models will be saved to: {save_dir}\")\n",
    "\n",
    "# Track best validation loss\n",
    "best_val_loss = float('inf')\n",
    "train_losses, val_losses = [], []\n",
    "\n",
    "try:\n",
    "    # Training loop\n",
    "    for epoch in range(1, num_epochs + 1):\n",
    "        train_loss = trainer.train_epoch()\n",
    "        val_loss = trainer.validate_epoch()\n",
    "        \n",
    "        train_losses.append(train_loss)\n",
    "        val_losses.append(val_loss)\n",
    "        \n",
    "        # Log to WandB (if enabled)\n",
    "        try:\n",
    "            train_batch = next(iter(dataloaders['train']))\n",
    "            val_batch = next(iter(dataloaders['val']))\n",
    "            train_recon_loss = extract_recon_loss(model, train_batch, trainer.device)\n",
    "            val_recon_loss = extract_recon_loss(model, val_batch, trainer.device)\n",
    "            wandb_logger.log_epoch(epoch, train_loss, val_loss, train_recon_loss, val_recon_loss)\n",
    "        except Exception as e:\n",
    "            wandb_logger.log_epoch(epoch, train_loss, val_loss)\n",
    "        \n",
    "        # Print progress\n",
    "        print(f\"Epoch {epoch}/{num_epochs}: Train Loss = {train_loss:.4f}, Val Loss = {val_loss:.4f}\")\n",
    "        \n",
    "        # Save best model\n",
    "        if val_loss < best_val_loss:\n",
    "            best_val_loss = val_loss\n",
    "            metadata = {'epoch': epoch, 'train_loss': train_loss, 'val_loss': val_loss}\n",
    "            model_path = save_model(model, save_dir, 'best_model.pt', metadata)\n",
    "            print(f\"New best validation loss: {val_loss:.4f}\")\n",
    "            wandb_logger.log_model(model_path, metadata)\n",
    "\n",
    "    # Save final model if different from best\n",
    "    if val_losses[-1] > best_val_loss:\n",
    "        metadata = {'epoch': num_epochs, 'train_loss': train_losses[-1], 'val_loss': val_losses[-1]}\n",
    "        save_model(model, save_dir, 'final_model.pt', metadata)\n",
    "\n",
    "    print(f\"Training complete. Best validation loss: {best_val_loss:.4f}\")\n",
    "\n",
    "except KeyboardInterrupt:\n",
    "    print(\"\\nTraining interrupted by user. Saving current state...\")\n",
    "    if len(train_losses) > 0:\n",
    "        metadata = {\n",
    "            'interrupted': True,\n",
    "            'epoch': len(train_losses), \n",
    "            'train_loss': train_losses[-1],\n",
    "            'val_loss': val_losses[-1] if len(val_losses) > 0 else None\n",
    "        }\n",
    "        save_model(model, save_dir, 'interrupted_model.pt', metadata)\n",
    "        print(f\"Interrupted model saved to {save_dir}\")\n",
    "\n",
    "except Exception as e:\n",
    "    print(f\"\\nTraining failed with error: {e}\")\n",
    "    import traceback\n",
    "    traceback.print_exc()\n",
    "    \n",
    "finally:\n",
    "    # Clean up WandB\n",
    "    try:\n",
    "        wandb_logger.finish()\n",
    "    except:\n",
    "        pass\n",
    "    print(\"Training session complete.\")"
   ]
  },
  {
   "cell_type": "markdown",
   "metadata": {},
   "source": [
    "## Conv VQ VAE"
   ]
  },
  {
   "cell_type": "markdown",
   "metadata": {},
   "source": [
    "### Fraud"
   ]
  },
  {
   "cell_type": "code",
   "execution_count": 3,
   "metadata": {},
   "outputs": [
    {
     "name": "stdout",
     "output_type": "stream",
     "text": [
      "Initializing WandB run: conv-vqvae-fraud_20250313_235557 (Project: fraud-classification, Entity: alexkstern)\n"
     ]
    },
    {
     "data": {
      "text/html": [
       "Tracking run with wandb version 0.19.8"
      ],
      "text/plain": [
       "<IPython.core.display.HTML object>"
      ]
     },
     "metadata": {},
     "output_type": "display_data"
    },
    {
     "data": {
      "text/html": [
       "Run data is saved locally in <code>/home/alexkstern/fraudml/amlf_proj/wandb/run-20250313_235557-sttuxigp</code>"
      ],
      "text/plain": [
       "<IPython.core.display.HTML object>"
      ]
     },
     "metadata": {},
     "output_type": "display_data"
    },
    {
     "data": {
      "text/html": [
       "Syncing run <strong><a href='https://wandb.ai/alexkstern/fraud-classification/runs/sttuxigp' target=\"_blank\">conv-vqvae-fraud_20250313_235557</a></strong> to <a href='https://wandb.ai/alexkstern/fraud-classification' target=\"_blank\">Weights & Biases</a> (<a href='https://wandb.me/developer-guide' target=\"_blank\">docs</a>)<br>"
      ],
      "text/plain": [
       "<IPython.core.display.HTML object>"
      ]
     },
     "metadata": {},
     "output_type": "display_data"
    },
    {
     "data": {
      "text/html": [
       " View project at <a href='https://wandb.ai/alexkstern/fraud-classification' target=\"_blank\">https://wandb.ai/alexkstern/fraud-classification</a>"
      ],
      "text/plain": [
       "<IPython.core.display.HTML object>"
      ]
     },
     "metadata": {},
     "output_type": "display_data"
    },
    {
     "data": {
      "text/html": [
       " View run at <a href='https://wandb.ai/alexkstern/fraud-classification/runs/sttuxigp' target=\"_blank\">https://wandb.ai/alexkstern/fraud-classification/runs/sttuxigp</a>"
      ],
      "text/plain": [
       "<IPython.core.display.HTML object>"
      ]
     },
     "metadata": {},
     "output_type": "display_data"
    },
    {
     "name": "stdout",
     "output_type": "stream",
     "text": [
      "Loaded configuration from configs/conv_vqvae/fraud_conv_vqvae.config\n",
      "Filtered dataset to class 1: 378 samples\n",
      "Normalization statistics (calculated from class 1): {'Time': {'mean': 80790.48148148147, 'std': 48332.5139872635}, 'Amount': {'mean': 133.6764814814815, 'std': 276.3532237447719}}\n",
      "Filtered dataset to class 1: 378 samples\n",
      "Filtered dataset to class 1: 47 samples\n",
      "Filtered dataset to class 1: 48 samples\n",
      "Total number of trainable parameters: 64164\n",
      "Models will be saved to: saved_models/conv_vqvae/fraud_conv_vqvae/20250313_235605\n"
     ]
    },
    {
     "name": "stderr",
     "output_type": "stream",
     "text": [
      "                                                                             \r"
     ]
    },
    {
     "name": "stdout",
     "output_type": "stream",
     "text": [
      "Epoch 1/100: Train Loss = 789.5891, Val Loss = 1094.8434\n",
      "Model saved to saved_models/conv_vqvae/fraud_conv_vqvae/20250313_235605/best_model.pt\n",
      "New best validation loss: 1094.8434\n"
     ]
    },
    {
     "name": "stderr",
     "output_type": "stream",
     "text": [
      "                                                                             \r"
     ]
    },
    {
     "name": "stdout",
     "output_type": "stream",
     "text": [
      "Epoch 2/100: Train Loss = 687.4258, Val Loss = 1024.3413\n",
      "Model saved to saved_models/conv_vqvae/fraud_conv_vqvae/20250313_235605/best_model.pt\n",
      "New best validation loss: 1024.3413\n"
     ]
    },
    {
     "name": "stderr",
     "output_type": "stream",
     "text": [
      "                                                                             \r"
     ]
    },
    {
     "name": "stdout",
     "output_type": "stream",
     "text": [
      "Epoch 3/100: Train Loss = 679.2138, Val Loss = 1022.5116\n",
      "Model saved to saved_models/conv_vqvae/fraud_conv_vqvae/20250313_235605/best_model.pt\n",
      "New best validation loss: 1022.5116\n"
     ]
    },
    {
     "name": "stderr",
     "output_type": "stream",
     "text": [
      "                                                                             \r"
     ]
    },
    {
     "name": "stdout",
     "output_type": "stream",
     "text": [
      "Epoch 4/100: Train Loss = 678.5124, Val Loss = 1014.5305\n",
      "Model saved to saved_models/conv_vqvae/fraud_conv_vqvae/20250313_235605/best_model.pt\n",
      "New best validation loss: 1014.5305\n"
     ]
    },
    {
     "name": "stderr",
     "output_type": "stream",
     "text": [
      "                                                                             \r"
     ]
    },
    {
     "name": "stdout",
     "output_type": "stream",
     "text": [
      "Epoch 5/100: Train Loss = 666.8460, Val Loss = 1006.3647\n",
      "Model saved to saved_models/conv_vqvae/fraud_conv_vqvae/20250313_235605/best_model.pt\n",
      "New best validation loss: 1006.3647\n"
     ]
    },
    {
     "name": "stderr",
     "output_type": "stream",
     "text": [
      "                                                                             \r"
     ]
    },
    {
     "name": "stdout",
     "output_type": "stream",
     "text": [
      "Epoch 6/100: Train Loss = 664.9659, Val Loss = 1006.4459\n"
     ]
    },
    {
     "name": "stderr",
     "output_type": "stream",
     "text": [
      "                                                                             \r"
     ]
    },
    {
     "name": "stdout",
     "output_type": "stream",
     "text": [
      "Epoch 7/100: Train Loss = 664.9075, Val Loss = 1005.8581\n",
      "Model saved to saved_models/conv_vqvae/fraud_conv_vqvae/20250313_235605/best_model.pt\n",
      "New best validation loss: 1005.8581\n"
     ]
    },
    {
     "name": "stderr",
     "output_type": "stream",
     "text": [
      "                                                                             \r"
     ]
    },
    {
     "name": "stdout",
     "output_type": "stream",
     "text": [
      "Epoch 8/100: Train Loss = 659.2394, Val Loss = 998.6946\n",
      "Model saved to saved_models/conv_vqvae/fraud_conv_vqvae/20250313_235605/best_model.pt\n",
      "New best validation loss: 998.6946\n"
     ]
    },
    {
     "name": "stderr",
     "output_type": "stream",
     "text": [
      "                                                                             \r"
     ]
    },
    {
     "name": "stdout",
     "output_type": "stream",
     "text": [
      "Epoch 9/100: Train Loss = 658.1904, Val Loss = 999.5041\n"
     ]
    },
    {
     "name": "stderr",
     "output_type": "stream",
     "text": [
      "                                                                             \r"
     ]
    },
    {
     "name": "stdout",
     "output_type": "stream",
     "text": [
      "Epoch 10/100: Train Loss = 658.1658, Val Loss = 999.1953\n"
     ]
    },
    {
     "name": "stderr",
     "output_type": "stream",
     "text": [
      "                                                                             \r"
     ]
    },
    {
     "name": "stdout",
     "output_type": "stream",
     "text": [
      "Epoch 11/100: Train Loss = 658.2933, Val Loss = 999.6391\n"
     ]
    },
    {
     "name": "stderr",
     "output_type": "stream",
     "text": [
      "                                                                             \r"
     ]
    },
    {
     "name": "stdout",
     "output_type": "stream",
     "text": [
      "Epoch 12/100: Train Loss = 658.2448, Val Loss = 999.2041\n"
     ]
    },
    {
     "name": "stderr",
     "output_type": "stream",
     "text": [
      "                                                                             \r"
     ]
    },
    {
     "name": "stdout",
     "output_type": "stream",
     "text": [
      "Epoch 13/100: Train Loss = 658.3359, Val Loss = 999.6279\n"
     ]
    },
    {
     "name": "stderr",
     "output_type": "stream",
     "text": [
      "                                                                             \r"
     ]
    },
    {
     "name": "stdout",
     "output_type": "stream",
     "text": [
      "Epoch 14/100: Train Loss = 658.1899, Val Loss = 999.3504\n"
     ]
    },
    {
     "name": "stderr",
     "output_type": "stream",
     "text": [
      "                                                                             \r"
     ]
    },
    {
     "name": "stdout",
     "output_type": "stream",
     "text": [
      "Epoch 15/100: Train Loss = 658.2206, Val Loss = 998.9550\n"
     ]
    },
    {
     "name": "stderr",
     "output_type": "stream",
     "text": [
      "                                                                             \r"
     ]
    },
    {
     "name": "stdout",
     "output_type": "stream",
     "text": [
      "Epoch 16/100: Train Loss = 658.1138, Val Loss = 998.9332\n"
     ]
    },
    {
     "name": "stderr",
     "output_type": "stream",
     "text": [
      "                                                                             \r"
     ]
    },
    {
     "name": "stdout",
     "output_type": "stream",
     "text": [
      "Epoch 17/100: Train Loss = 658.1868, Val Loss = 998.9254\n"
     ]
    },
    {
     "name": "stderr",
     "output_type": "stream",
     "text": [
      "                                                                             \r"
     ]
    },
    {
     "name": "stdout",
     "output_type": "stream",
     "text": [
      "Epoch 18/100: Train Loss = 658.1533, Val Loss = 998.9335\n"
     ]
    },
    {
     "name": "stderr",
     "output_type": "stream",
     "text": [
      "                                                                             \r"
     ]
    },
    {
     "name": "stdout",
     "output_type": "stream",
     "text": [
      "Epoch 19/100: Train Loss = 658.0802, Val Loss = 998.9409\n"
     ]
    },
    {
     "name": "stderr",
     "output_type": "stream",
     "text": [
      "                                                                             \r"
     ]
    },
    {
     "name": "stdout",
     "output_type": "stream",
     "text": [
      "Epoch 20/100: Train Loss = 658.1270, Val Loss = 998.8804\n"
     ]
    },
    {
     "name": "stderr",
     "output_type": "stream",
     "text": [
      "                                                                             \r"
     ]
    },
    {
     "name": "stdout",
     "output_type": "stream",
     "text": [
      "Epoch 21/100: Train Loss = 658.1445, Val Loss = 998.9299\n"
     ]
    },
    {
     "name": "stderr",
     "output_type": "stream",
     "text": [
      "                                                                             \r"
     ]
    },
    {
     "name": "stdout",
     "output_type": "stream",
     "text": [
      "Epoch 22/100: Train Loss = 658.1111, Val Loss = 998.6067\n",
      "Model saved to saved_models/conv_vqvae/fraud_conv_vqvae/20250313_235605/best_model.pt\n",
      "New best validation loss: 998.6067\n"
     ]
    },
    {
     "name": "stderr",
     "output_type": "stream",
     "text": [
      "                                                                             \r"
     ]
    },
    {
     "name": "stdout",
     "output_type": "stream",
     "text": [
      "Epoch 23/100: Train Loss = 657.9859, Val Loss = 998.5200\n",
      "Model saved to saved_models/conv_vqvae/fraud_conv_vqvae/20250313_235605/best_model.pt\n",
      "New best validation loss: 998.5200\n"
     ]
    },
    {
     "name": "stderr",
     "output_type": "stream",
     "text": [
      "                                                                             \r"
     ]
    },
    {
     "name": "stdout",
     "output_type": "stream",
     "text": [
      "Epoch 24/100: Train Loss = 658.0306, Val Loss = 998.4305\n",
      "Model saved to saved_models/conv_vqvae/fraud_conv_vqvae/20250313_235605/best_model.pt\n",
      "New best validation loss: 998.4305\n"
     ]
    },
    {
     "name": "stderr",
     "output_type": "stream",
     "text": [
      "                                                                             \r"
     ]
    },
    {
     "name": "stdout",
     "output_type": "stream",
     "text": [
      "Epoch 25/100: Train Loss = 658.0364, Val Loss = 998.5711\n"
     ]
    },
    {
     "name": "stderr",
     "output_type": "stream",
     "text": [
      "                                                                             \r"
     ]
    },
    {
     "name": "stdout",
     "output_type": "stream",
     "text": [
      "Epoch 26/100: Train Loss = 658.0216, Val Loss = 998.6831\n"
     ]
    },
    {
     "name": "stderr",
     "output_type": "stream",
     "text": [
      "                                                                             \r"
     ]
    },
    {
     "name": "stdout",
     "output_type": "stream",
     "text": [
      "Epoch 27/100: Train Loss = 657.9549, Val Loss = 998.5988\n"
     ]
    },
    {
     "name": "stderr",
     "output_type": "stream",
     "text": [
      "                                                                             \r"
     ]
    },
    {
     "name": "stdout",
     "output_type": "stream",
     "text": [
      "Epoch 28/100: Train Loss = 657.9662, Val Loss = 998.4462\n"
     ]
    },
    {
     "name": "stderr",
     "output_type": "stream",
     "text": [
      "                                                                             \r"
     ]
    },
    {
     "name": "stdout",
     "output_type": "stream",
     "text": [
      "Epoch 29/100: Train Loss = 657.9193, Val Loss = 998.5684\n"
     ]
    },
    {
     "name": "stderr",
     "output_type": "stream",
     "text": [
      "                                                                             \r"
     ]
    },
    {
     "name": "stdout",
     "output_type": "stream",
     "text": [
      "Epoch 30/100: Train Loss = 657.9319, Val Loss = 998.6018\n"
     ]
    },
    {
     "name": "stderr",
     "output_type": "stream",
     "text": [
      "                                                                             \r"
     ]
    },
    {
     "name": "stdout",
     "output_type": "stream",
     "text": [
      "Epoch 31/100: Train Loss = 657.9533, Val Loss = 998.5944\n"
     ]
    },
    {
     "name": "stderr",
     "output_type": "stream",
     "text": [
      "                                                                             \r"
     ]
    },
    {
     "name": "stdout",
     "output_type": "stream",
     "text": [
      "Epoch 32/100: Train Loss = 657.9301, Val Loss = 998.5278\n"
     ]
    },
    {
     "name": "stderr",
     "output_type": "stream",
     "text": [
      "                                                                             \r"
     ]
    },
    {
     "name": "stdout",
     "output_type": "stream",
     "text": [
      "Epoch 33/100: Train Loss = 657.9744, Val Loss = 998.6046\n"
     ]
    },
    {
     "name": "stderr",
     "output_type": "stream",
     "text": [
      "                                                                             \r"
     ]
    },
    {
     "name": "stdout",
     "output_type": "stream",
     "text": [
      "Epoch 34/100: Train Loss = 657.9675, Val Loss = 998.5977\n"
     ]
    },
    {
     "name": "stderr",
     "output_type": "stream",
     "text": [
      "                                                                             \r"
     ]
    },
    {
     "name": "stdout",
     "output_type": "stream",
     "text": [
      "Epoch 35/100: Train Loss = 657.9539, Val Loss = 998.5346\n"
     ]
    },
    {
     "name": "stderr",
     "output_type": "stream",
     "text": [
      "                                                                             \r"
     ]
    },
    {
     "name": "stdout",
     "output_type": "stream",
     "text": [
      "Epoch 36/100: Train Loss = 657.9313, Val Loss = 998.4389\n"
     ]
    },
    {
     "name": "stderr",
     "output_type": "stream",
     "text": [
      "                                                                             \r"
     ]
    },
    {
     "name": "stdout",
     "output_type": "stream",
     "text": [
      "Epoch 37/100: Train Loss = 657.9430, Val Loss = 998.4895\n"
     ]
    },
    {
     "name": "stderr",
     "output_type": "stream",
     "text": [
      "                                                                             \r"
     ]
    },
    {
     "name": "stdout",
     "output_type": "stream",
     "text": [
      "Epoch 38/100: Train Loss = 657.9794, Val Loss = 998.5955\n"
     ]
    },
    {
     "name": "stderr",
     "output_type": "stream",
     "text": [
      "                                                                             \r"
     ]
    },
    {
     "name": "stdout",
     "output_type": "stream",
     "text": [
      "Epoch 39/100: Train Loss = 657.9515, Val Loss = 998.5428\n"
     ]
    },
    {
     "name": "stderr",
     "output_type": "stream",
     "text": [
      "                                                                             \r"
     ]
    },
    {
     "name": "stdout",
     "output_type": "stream",
     "text": [
      "Epoch 40/100: Train Loss = 657.9263, Val Loss = 998.5304\n"
     ]
    },
    {
     "name": "stderr",
     "output_type": "stream",
     "text": [
      "                                                                             \r"
     ]
    },
    {
     "name": "stdout",
     "output_type": "stream",
     "text": [
      "Epoch 41/100: Train Loss = 657.9502, Val Loss = 998.4788\n"
     ]
    },
    {
     "name": "stderr",
     "output_type": "stream",
     "text": [
      "                                                                             \r"
     ]
    },
    {
     "name": "stdout",
     "output_type": "stream",
     "text": [
      "Epoch 42/100: Train Loss = 657.9433, Val Loss = 998.5076\n"
     ]
    },
    {
     "name": "stderr",
     "output_type": "stream",
     "text": [
      "                                                                             \r"
     ]
    },
    {
     "name": "stdout",
     "output_type": "stream",
     "text": [
      "Epoch 43/100: Train Loss = 657.9420, Val Loss = 998.5131\n"
     ]
    },
    {
     "name": "stderr",
     "output_type": "stream",
     "text": [
      "                                                                             \r"
     ]
    },
    {
     "name": "stdout",
     "output_type": "stream",
     "text": [
      "Epoch 44/100: Train Loss = 657.9432, Val Loss = 998.5226\n"
     ]
    },
    {
     "name": "stderr",
     "output_type": "stream",
     "text": [
      "                                                                             \r"
     ]
    },
    {
     "name": "stdout",
     "output_type": "stream",
     "text": [
      "Epoch 45/100: Train Loss = 657.9403, Val Loss = 998.4326\n"
     ]
    },
    {
     "name": "stderr",
     "output_type": "stream",
     "text": [
      "                                                                             \r"
     ]
    },
    {
     "name": "stdout",
     "output_type": "stream",
     "text": [
      "Epoch 46/100: Train Loss = 657.9348, Val Loss = 998.5024\n"
     ]
    },
    {
     "name": "stderr",
     "output_type": "stream",
     "text": [
      "                                                                             \r"
     ]
    },
    {
     "name": "stdout",
     "output_type": "stream",
     "text": [
      "Epoch 47/100: Train Loss = 657.9226, Val Loss = 998.5036\n"
     ]
    },
    {
     "name": "stderr",
     "output_type": "stream",
     "text": [
      "                                                                             \r"
     ]
    },
    {
     "name": "stdout",
     "output_type": "stream",
     "text": [
      "Epoch 48/100: Train Loss = 657.9798, Val Loss = 998.4244\n",
      "Model saved to saved_models/conv_vqvae/fraud_conv_vqvae/20250313_235605/best_model.pt\n",
      "New best validation loss: 998.4244\n"
     ]
    },
    {
     "name": "stderr",
     "output_type": "stream",
     "text": [
      "                                                                             \r"
     ]
    },
    {
     "name": "stdout",
     "output_type": "stream",
     "text": [
      "Epoch 49/100: Train Loss = 657.9372, Val Loss = 998.4995\n"
     ]
    },
    {
     "name": "stderr",
     "output_type": "stream",
     "text": [
      "                                                                             \r"
     ]
    },
    {
     "name": "stdout",
     "output_type": "stream",
     "text": [
      "Epoch 50/100: Train Loss = 657.9309, Val Loss = 998.5877\n"
     ]
    },
    {
     "name": "stderr",
     "output_type": "stream",
     "text": [
      "                                                                             \r"
     ]
    },
    {
     "name": "stdout",
     "output_type": "stream",
     "text": [
      "Epoch 51/100: Train Loss = 657.9189, Val Loss = 998.4793\n"
     ]
    },
    {
     "name": "stderr",
     "output_type": "stream",
     "text": [
      "                                                                             \r"
     ]
    },
    {
     "name": "stdout",
     "output_type": "stream",
     "text": [
      "Epoch 52/100: Train Loss = 657.9155, Val Loss = 998.4975\n"
     ]
    },
    {
     "name": "stderr",
     "output_type": "stream",
     "text": [
      "                                                                             \r"
     ]
    },
    {
     "name": "stdout",
     "output_type": "stream",
     "text": [
      "Epoch 53/100: Train Loss = 657.9036, Val Loss = 998.5140\n"
     ]
    },
    {
     "name": "stderr",
     "output_type": "stream",
     "text": [
      "                                                                             \r"
     ]
    },
    {
     "name": "stdout",
     "output_type": "stream",
     "text": [
      "Epoch 54/100: Train Loss = 657.9425, Val Loss = 998.4353\n"
     ]
    },
    {
     "name": "stderr",
     "output_type": "stream",
     "text": [
      "                                                                             \r"
     ]
    },
    {
     "name": "stdout",
     "output_type": "stream",
     "text": [
      "Epoch 55/100: Train Loss = 657.9394, Val Loss = 998.5009\n"
     ]
    },
    {
     "name": "stderr",
     "output_type": "stream",
     "text": [
      "                                                                             \r"
     ]
    },
    {
     "name": "stdout",
     "output_type": "stream",
     "text": [
      "Epoch 56/100: Train Loss = 657.9275, Val Loss = 998.5574\n"
     ]
    },
    {
     "name": "stderr",
     "output_type": "stream",
     "text": [
      "                                                                             \r"
     ]
    },
    {
     "name": "stdout",
     "output_type": "stream",
     "text": [
      "Epoch 57/100: Train Loss = 657.9282, Val Loss = 998.5053\n"
     ]
    },
    {
     "name": "stderr",
     "output_type": "stream",
     "text": [
      "                                                                             \r"
     ]
    },
    {
     "name": "stdout",
     "output_type": "stream",
     "text": [
      "Epoch 58/100: Train Loss = 657.9177, Val Loss = 998.4841\n"
     ]
    },
    {
     "name": "stderr",
     "output_type": "stream",
     "text": [
      "                                                                             \r"
     ]
    },
    {
     "name": "stdout",
     "output_type": "stream",
     "text": [
      "Epoch 59/100: Train Loss = 657.9145, Val Loss = 998.4622\n"
     ]
    },
    {
     "name": "stderr",
     "output_type": "stream",
     "text": [
      "                                                                             \r"
     ]
    },
    {
     "name": "stdout",
     "output_type": "stream",
     "text": [
      "Epoch 60/100: Train Loss = 657.9127, Val Loss = 998.4680\n"
     ]
    },
    {
     "name": "stderr",
     "output_type": "stream",
     "text": [
      "                                                                             \r"
     ]
    },
    {
     "name": "stdout",
     "output_type": "stream",
     "text": [
      "Epoch 61/100: Train Loss = 657.9189, Val Loss = 998.5383\n"
     ]
    },
    {
     "name": "stderr",
     "output_type": "stream",
     "text": [
      "                                                                             \r"
     ]
    },
    {
     "name": "stdout",
     "output_type": "stream",
     "text": [
      "Epoch 62/100: Train Loss = 657.9126, Val Loss = 998.4842\n"
     ]
    },
    {
     "name": "stderr",
     "output_type": "stream",
     "text": [
      "                                                                             \r"
     ]
    },
    {
     "name": "stdout",
     "output_type": "stream",
     "text": [
      "Epoch 63/100: Train Loss = 657.9185, Val Loss = 998.5681\n"
     ]
    },
    {
     "name": "stderr",
     "output_type": "stream",
     "text": [
      "                                                                             \r"
     ]
    },
    {
     "name": "stdout",
     "output_type": "stream",
     "text": [
      "Epoch 64/100: Train Loss = 657.9426, Val Loss = 998.4751\n"
     ]
    },
    {
     "name": "stderr",
     "output_type": "stream",
     "text": [
      "                                                                             \r"
     ]
    },
    {
     "name": "stdout",
     "output_type": "stream",
     "text": [
      "Epoch 65/100: Train Loss = 657.9125, Val Loss = 998.5215\n"
     ]
    },
    {
     "name": "stderr",
     "output_type": "stream",
     "text": [
      "                                                                             \r"
     ]
    },
    {
     "name": "stdout",
     "output_type": "stream",
     "text": [
      "Epoch 66/100: Train Loss = 657.9093, Val Loss = 998.4908\n"
     ]
    },
    {
     "name": "stderr",
     "output_type": "stream",
     "text": [
      "                                                                             \r"
     ]
    },
    {
     "name": "stdout",
     "output_type": "stream",
     "text": [
      "Epoch 67/100: Train Loss = 657.9186, Val Loss = 998.4965\n"
     ]
    },
    {
     "name": "stderr",
     "output_type": "stream",
     "text": [
      "                                                                             \r"
     ]
    },
    {
     "name": "stdout",
     "output_type": "stream",
     "text": [
      "Epoch 68/100: Train Loss = 657.9148, Val Loss = 998.5162\n"
     ]
    },
    {
     "name": "stderr",
     "output_type": "stream",
     "text": [
      "                                                                             \r"
     ]
    },
    {
     "name": "stdout",
     "output_type": "stream",
     "text": [
      "Epoch 69/100: Train Loss = 657.9142, Val Loss = 998.5408\n"
     ]
    },
    {
     "name": "stderr",
     "output_type": "stream",
     "text": [
      "                                                                             \r"
     ]
    },
    {
     "name": "stdout",
     "output_type": "stream",
     "text": [
      "Epoch 70/100: Train Loss = 657.9504, Val Loss = 998.4680\n"
     ]
    },
    {
     "name": "stderr",
     "output_type": "stream",
     "text": [
      "                                                                             \r"
     ]
    },
    {
     "name": "stdout",
     "output_type": "stream",
     "text": [
      "Epoch 71/100: Train Loss = 657.9185, Val Loss = 998.4440\n"
     ]
    },
    {
     "name": "stderr",
     "output_type": "stream",
     "text": [
      "                                                                             \r"
     ]
    },
    {
     "name": "stdout",
     "output_type": "stream",
     "text": [
      "Epoch 72/100: Train Loss = 657.9329, Val Loss = 998.4844\n"
     ]
    },
    {
     "name": "stderr",
     "output_type": "stream",
     "text": [
      "                                                                             \r"
     ]
    },
    {
     "name": "stdout",
     "output_type": "stream",
     "text": [
      "Epoch 73/100: Train Loss = 657.9035, Val Loss = 998.4855\n"
     ]
    },
    {
     "name": "stderr",
     "output_type": "stream",
     "text": [
      "                                                                             \r"
     ]
    },
    {
     "name": "stdout",
     "output_type": "stream",
     "text": [
      "Epoch 74/100: Train Loss = 657.9244, Val Loss = 998.4765\n"
     ]
    },
    {
     "name": "stderr",
     "output_type": "stream",
     "text": [
      "                                                                             \r"
     ]
    },
    {
     "name": "stdout",
     "output_type": "stream",
     "text": [
      "Epoch 75/100: Train Loss = 657.9042, Val Loss = 998.4996\n"
     ]
    },
    {
     "name": "stderr",
     "output_type": "stream",
     "text": [
      "                                                                             \r"
     ]
    },
    {
     "name": "stdout",
     "output_type": "stream",
     "text": [
      "Epoch 76/100: Train Loss = 657.9028, Val Loss = 998.4794\n"
     ]
    },
    {
     "name": "stderr",
     "output_type": "stream",
     "text": [
      "                                                                             \r"
     ]
    },
    {
     "name": "stdout",
     "output_type": "stream",
     "text": [
      "Epoch 77/100: Train Loss = 657.9108, Val Loss = 998.4582\n"
     ]
    },
    {
     "name": "stderr",
     "output_type": "stream",
     "text": [
      "                                                                             \r"
     ]
    },
    {
     "name": "stdout",
     "output_type": "stream",
     "text": [
      "Epoch 78/100: Train Loss = 657.9229, Val Loss = 998.5428\n"
     ]
    },
    {
     "name": "stderr",
     "output_type": "stream",
     "text": [
      "                                                                             \r"
     ]
    },
    {
     "name": "stdout",
     "output_type": "stream",
     "text": [
      "Epoch 79/100: Train Loss = 657.9209, Val Loss = 998.5125\n"
     ]
    },
    {
     "name": "stderr",
     "output_type": "stream",
     "text": [
      "                                                                             \r"
     ]
    },
    {
     "name": "stdout",
     "output_type": "stream",
     "text": [
      "Epoch 80/100: Train Loss = 657.9114, Val Loss = 998.4926\n"
     ]
    },
    {
     "name": "stderr",
     "output_type": "stream",
     "text": [
      "                                                                             \r"
     ]
    },
    {
     "name": "stdout",
     "output_type": "stream",
     "text": [
      "Epoch 81/100: Train Loss = 657.9075, Val Loss = 998.4866\n"
     ]
    },
    {
     "name": "stderr",
     "output_type": "stream",
     "text": [
      "                                                                             \r"
     ]
    },
    {
     "name": "stdout",
     "output_type": "stream",
     "text": [
      "Epoch 82/100: Train Loss = 657.9155, Val Loss = 998.4777\n"
     ]
    },
    {
     "name": "stderr",
     "output_type": "stream",
     "text": [
      "                                                                             \r"
     ]
    },
    {
     "name": "stdout",
     "output_type": "stream",
     "text": [
      "Epoch 83/100: Train Loss = 657.9218, Val Loss = 998.5151\n"
     ]
    },
    {
     "name": "stderr",
     "output_type": "stream",
     "text": [
      "                                                                             \r"
     ]
    },
    {
     "name": "stdout",
     "output_type": "stream",
     "text": [
      "Epoch 84/100: Train Loss = 657.9071, Val Loss = 998.4612\n"
     ]
    },
    {
     "name": "stderr",
     "output_type": "stream",
     "text": [
      "                                                                             \r"
     ]
    },
    {
     "name": "stdout",
     "output_type": "stream",
     "text": [
      "Epoch 85/100: Train Loss = 657.9095, Val Loss = 998.5120\n"
     ]
    },
    {
     "name": "stderr",
     "output_type": "stream",
     "text": [
      "                                                                             \r"
     ]
    },
    {
     "name": "stdout",
     "output_type": "stream",
     "text": [
      "Epoch 86/100: Train Loss = 657.9162, Val Loss = 998.4674\n"
     ]
    },
    {
     "name": "stderr",
     "output_type": "stream",
     "text": [
      "                                                                             \r"
     ]
    },
    {
     "name": "stdout",
     "output_type": "stream",
     "text": [
      "Epoch 87/100: Train Loss = 657.9242, Val Loss = 998.4832\n"
     ]
    },
    {
     "name": "stderr",
     "output_type": "stream",
     "text": [
      "                                                                             \r"
     ]
    },
    {
     "name": "stdout",
     "output_type": "stream",
     "text": [
      "Epoch 88/100: Train Loss = 657.8995, Val Loss = 998.5081\n"
     ]
    },
    {
     "name": "stderr",
     "output_type": "stream",
     "text": [
      "                                                                             \r"
     ]
    },
    {
     "name": "stdout",
     "output_type": "stream",
     "text": [
      "Epoch 89/100: Train Loss = 657.8958, Val Loss = 998.4973\n"
     ]
    },
    {
     "name": "stderr",
     "output_type": "stream",
     "text": [
      "                                                                             \r"
     ]
    },
    {
     "name": "stdout",
     "output_type": "stream",
     "text": [
      "Epoch 90/100: Train Loss = 657.8984, Val Loss = 998.4970\n"
     ]
    },
    {
     "name": "stderr",
     "output_type": "stream",
     "text": [
      "                                                                             \r"
     ]
    },
    {
     "name": "stdout",
     "output_type": "stream",
     "text": [
      "Epoch 91/100: Train Loss = 657.9064, Val Loss = 998.4984\n"
     ]
    },
    {
     "name": "stderr",
     "output_type": "stream",
     "text": [
      "                                                                             \r"
     ]
    },
    {
     "name": "stdout",
     "output_type": "stream",
     "text": [
      "Epoch 92/100: Train Loss = 657.9026, Val Loss = 998.4972\n"
     ]
    },
    {
     "name": "stderr",
     "output_type": "stream",
     "text": [
      "                                                                             \r"
     ]
    },
    {
     "name": "stdout",
     "output_type": "stream",
     "text": [
      "Epoch 93/100: Train Loss = 657.9074, Val Loss = 998.4826\n"
     ]
    },
    {
     "name": "stderr",
     "output_type": "stream",
     "text": [
      "                                                                             \r"
     ]
    },
    {
     "name": "stdout",
     "output_type": "stream",
     "text": [
      "Epoch 94/100: Train Loss = 657.9037, Val Loss = 998.4617\n"
     ]
    },
    {
     "name": "stderr",
     "output_type": "stream",
     "text": [
      "                                                                             \r"
     ]
    },
    {
     "name": "stdout",
     "output_type": "stream",
     "text": [
      "Epoch 95/100: Train Loss = 657.9033, Val Loss = 998.4612\n"
     ]
    },
    {
     "name": "stderr",
     "output_type": "stream",
     "text": [
      "                                                                             \r"
     ]
    },
    {
     "name": "stdout",
     "output_type": "stream",
     "text": [
      "Epoch 96/100: Train Loss = 657.8975, Val Loss = 998.4899\n"
     ]
    },
    {
     "name": "stderr",
     "output_type": "stream",
     "text": [
      "                                                                             \r"
     ]
    },
    {
     "name": "stdout",
     "output_type": "stream",
     "text": [
      "Epoch 97/100: Train Loss = 657.9173, Val Loss = 998.4830\n"
     ]
    },
    {
     "name": "stderr",
     "output_type": "stream",
     "text": [
      "                                                                             \r"
     ]
    },
    {
     "name": "stdout",
     "output_type": "stream",
     "text": [
      "Epoch 98/100: Train Loss = 657.9011, Val Loss = 998.4700\n"
     ]
    },
    {
     "name": "stderr",
     "output_type": "stream",
     "text": [
      "                                                                             \r"
     ]
    },
    {
     "name": "stdout",
     "output_type": "stream",
     "text": [
      "Epoch 99/100: Train Loss = 657.8975, Val Loss = 998.5024\n"
     ]
    },
    {
     "name": "stderr",
     "output_type": "stream",
     "text": [
      "                                                                             "
     ]
    },
    {
     "name": "stdout",
     "output_type": "stream",
     "text": [
      "Epoch 100/100: Train Loss = 657.9041, Val Loss = 998.5084\n",
      "Model saved to saved_models/conv_vqvae/fraud_conv_vqvae/20250313_235605/final_model.pt\n",
      "Training complete. Best validation loss: 998.4244\n"
     ]
    },
    {
     "name": "stderr",
     "output_type": "stream",
     "text": [
      "\r"
     ]
    },
    {
     "data": {
      "text/html": [],
      "text/plain": [
       "<IPython.core.display.HTML object>"
      ]
     },
     "metadata": {},
     "output_type": "display_data"
    },
    {
     "data": {
      "text/html": [
       "<br>    <style><br>        .wandb-row {<br>            display: flex;<br>            flex-direction: row;<br>            flex-wrap: wrap;<br>            justify-content: flex-start;<br>            width: 100%;<br>        }<br>        .wandb-col {<br>            display: flex;<br>            flex-direction: column;<br>            flex-basis: 100%;<br>            flex: 1;<br>            padding: 10px;<br>        }<br>    </style><br><div class=\"wandb-row\"><div class=\"wandb-col\"><h3>Run history:</h3><br/><table class=\"wandb\"><tr><td>epoch</td><td>▁▁▁▂▂▂▂▂▂▂▃▃▃▃▃▃▄▄▄▅▅▅▅▅▅▆▆▆▆▆▆▇▇▇▇▇▇▇██</td></tr><tr><td>train/total_loss</td><td>█▆▆▃▁▁▁▁▁▁▁▁▁▁▁▁▁▁▁▁▁▁▁▁▁▁▁▁▁▁▁▁▁▁▁▁▁▁▁▁</td></tr><tr><td>val/total_loss</td><td>█▃▂▂▂▁▁▁▁▁▁▁▁▁▁▁▁▁▁▁▁▁▁▁▁▁▁▁▁▁▁▁▁▁▁▁▁▁▁▁</td></tr></table><br/></div><div class=\"wandb-col\"><h3>Run summary:</h3><br/><table class=\"wandb\"><tr><td>epoch</td><td>100</td></tr><tr><td>train/total_loss</td><td>657.90409</td></tr><tr><td>val/total_loss</td><td>998.50837</td></tr></table><br/></div></div>"
      ],
      "text/plain": [
       "<IPython.core.display.HTML object>"
      ]
     },
     "metadata": {},
     "output_type": "display_data"
    },
    {
     "data": {
      "text/html": [
       " View run <strong style=\"color:#cdcd00\">conv-vqvae-fraud_20250313_235557</strong> at: <a href='https://wandb.ai/alexkstern/fraud-classification/runs/sttuxigp' target=\"_blank\">https://wandb.ai/alexkstern/fraud-classification/runs/sttuxigp</a><br> View project at: <a href='https://wandb.ai/alexkstern/fraud-classification' target=\"_blank\">https://wandb.ai/alexkstern/fraud-classification</a><br>Synced 5 W&B file(s), 0 media file(s), 22 artifact file(s) and 0 other file(s)"
      ],
      "text/plain": [
       "<IPython.core.display.HTML object>"
      ]
     },
     "metadata": {},
     "output_type": "display_data"
    },
    {
     "data": {
      "text/html": [
       "Find logs at: <code>./wandb/run-20250313_235557-sttuxigp/logs</code>"
      ],
      "text/plain": [
       "<IPython.core.display.HTML object>"
      ]
     },
     "metadata": {},
     "output_type": "display_data"
    },
    {
     "name": "stdout",
     "output_type": "stream",
     "text": [
      "Training session complete.\n"
     ]
    }
   ],
   "source": [
    "import os\n",
    "import torch\n",
    "import torch.optim as optim\n",
    "import numpy as np\n",
    "import random\n",
    "\n",
    "# Set random seeds for reproducibility\n",
    "SEED = 42\n",
    "random.seed(SEED)\n",
    "np.random.seed(SEED)\n",
    "torch.manual_seed(SEED)\n",
    "torch.cuda.manual_seed_all(SEED)\n",
    "torch.backends.cudnn.deterministic = True\n",
    "torch.backends.cudnn.benchmark = False\n",
    "\n",
    "# Import required modules\n",
    "from models.conv_vqvae_model import ConvVQVAE, vqvae_loss_function, print_num_params\n",
    "from trainer.trainer_vqvae import VQVAETrainer\n",
    "from dataloader.dataloader import load_fraud_data, load_config\n",
    "from utils.model_saver import save_model, get_save_directory\n",
    "from utils.wandb_logger import WandBLogger\n",
    "from utils.evaluation_utils import extract_recon_loss\n",
    "\n",
    "# Build the config path\n",
    "config_path = \"configs/conv_vqvae/fraud_conv_vqvae.config\"\n",
    "\n",
    "# Load configuration\n",
    "import configparser\n",
    "config_parser = configparser.ConfigParser()\n",
    "config_parser.read(config_path)\n",
    "conv_vqvae_config = config_parser[\"Conv_VQVAE\"]\n",
    "\n",
    "# Create config dictionary for WandB\n",
    "config_dict = {}\n",
    "for section in config_parser.sections():\n",
    "    config_dict[section] = dict(config_parser[section])\n",
    "\n",
    "# Initialize WandB logger\n",
    "wandb_logger = WandBLogger(config_dict)\n",
    "\n",
    "# Load data\n",
    "config_dict = load_config(config_path)\n",
    "data = load_fraud_data(config_path=config_path)\n",
    "dataloaders = data['dataloaders']\n",
    "input_dim = data['input_dim']\n",
    "\n",
    "# Create model\n",
    "model = ConvVQVAE(conv_vqvae_config)\n",
    "print_num_params(model)\n",
    "\n",
    "# Training parameters\n",
    "lr = config_parser[\"Trainer\"].getfloat(\"lr\")\n",
    "num_epochs = config_parser[\"Trainer\"].getint(\"num_epochs\")\n",
    "\n",
    "# Define optimizer and loss function\n",
    "optimizer = optim.Adam(model.parameters(), lr=lr)\n",
    "loss_fn = vqvae_loss_function\n",
    "\n",
    "# Create trainer\n",
    "trainer = VQVAETrainer(model, dataloaders, loss_fn, optimizer)\n",
    "\n",
    "# Create save directory\n",
    "save_dir = get_save_directory(config_path)\n",
    "print(f\"Models will be saved to: {save_dir}\")\n",
    "\n",
    "# Track best validation loss\n",
    "best_val_loss = float('inf')\n",
    "train_losses, val_losses = [], []\n",
    "\n",
    "try:\n",
    "    # Training loop\n",
    "    for epoch in range(1, num_epochs + 1):\n",
    "        train_loss = trainer.train_epoch()\n",
    "        val_loss = trainer.validate_epoch()\n",
    "        \n",
    "        train_losses.append(train_loss)\n",
    "        val_losses.append(val_loss)\n",
    "        \n",
    "        # Log metrics to WandB\n",
    "        try:\n",
    "            # For VQVAE, we only log the total losses since we don't have separate recon_loss extraction\n",
    "            wandb_logger.log_epoch(epoch, train_loss, val_loss)\n",
    "        except Exception as e:\n",
    "            print(f\"Error logging to WandB: {e}\")\n",
    "        \n",
    "        # Print progress\n",
    "        print(f\"Epoch {epoch}/{num_epochs}: Train Loss = {train_loss:.4f}, Val Loss = {val_loss:.4f}\")\n",
    "        \n",
    "        # Save best model\n",
    "        if val_loss < best_val_loss:\n",
    "            best_val_loss = val_loss\n",
    "            metadata = {'epoch': epoch, 'train_loss': train_loss, 'val_loss': val_loss}\n",
    "            model_path = save_model(model, save_dir, 'best_model.pt', metadata)\n",
    "            print(f\"New best validation loss: {val_loss:.4f}\")\n",
    "            wandb_logger.log_model(model_path, metadata)\n",
    "\n",
    "    # Save final model if different from best\n",
    "    if val_losses[-1] > best_val_loss:\n",
    "        metadata = {'epoch': num_epochs, 'train_loss': train_losses[-1], 'val_loss': val_losses[-1]}\n",
    "        save_model(model, save_dir, 'final_model.pt', metadata)\n",
    "\n",
    "    print(f\"Training complete. Best validation loss: {best_val_loss:.4f}\")\n",
    "\n",
    "except KeyboardInterrupt:\n",
    "    print(\"\\nTraining interrupted by user. Saving current state...\")\n",
    "    if len(train_losses) > 0:\n",
    "        metadata = {\n",
    "            'interrupted': True,\n",
    "            'epoch': len(train_losses), \n",
    "            'train_loss': train_losses[-1],\n",
    "            'val_loss': val_losses[-1] if len(val_losses) > 0 else None\n",
    "        }\n",
    "        save_model(model, save_dir, 'interrupted_model.pt', metadata)\n",
    "        print(f\"Interrupted model saved to {save_dir}\")\n",
    "\n",
    "except Exception as e:\n",
    "    print(f\"\\nTraining failed with error: {e}\")\n",
    "    import traceback\n",
    "    traceback.print_exc()\n",
    "    \n",
    "finally:\n",
    "    # Clean up WandB\n",
    "    try:\n",
    "        wandb_logger.finish()\n",
    "    except:\n",
    "        pass\n",
    "    print(\"Training session complete.\")"
   ]
  },
  {
   "cell_type": "markdown",
   "metadata": {},
   "source": [
    "### Normal\n"
   ]
  },
  {
   "cell_type": "code",
   "execution_count": 4,
   "metadata": {},
   "outputs": [
    {
     "name": "stdout",
     "output_type": "stream",
     "text": [
      "Initializing WandB run: conv-vqvae-normal_20250313_235814 (Project: fraud-classification, Entity: alexkstern)\n"
     ]
    },
    {
     "data": {
      "text/html": [
       "Tracking run with wandb version 0.19.8"
      ],
      "text/plain": [
       "<IPython.core.display.HTML object>"
      ]
     },
     "metadata": {},
     "output_type": "display_data"
    },
    {
     "data": {
      "text/html": [
       "Run data is saved locally in <code>/home/alexkstern/fraudml/amlf_proj/wandb/run-20250313_235814-namnjire</code>"
      ],
      "text/plain": [
       "<IPython.core.display.HTML object>"
      ]
     },
     "metadata": {},
     "output_type": "display_data"
    },
    {
     "data": {
      "text/html": [
       "Syncing run <strong><a href='https://wandb.ai/alexkstern/fraud-classification/runs/namnjire' target=\"_blank\">conv-vqvae-normal_20250313_235814</a></strong> to <a href='https://wandb.ai/alexkstern/fraud-classification' target=\"_blank\">Weights & Biases</a> (<a href='https://wandb.me/developer-guide' target=\"_blank\">docs</a>)<br>"
      ],
      "text/plain": [
       "<IPython.core.display.HTML object>"
      ]
     },
     "metadata": {},
     "output_type": "display_data"
    },
    {
     "data": {
      "text/html": [
       " View project at <a href='https://wandb.ai/alexkstern/fraud-classification' target=\"_blank\">https://wandb.ai/alexkstern/fraud-classification</a>"
      ],
      "text/plain": [
       "<IPython.core.display.HTML object>"
      ]
     },
     "metadata": {},
     "output_type": "display_data"
    },
    {
     "data": {
      "text/html": [
       " View run at <a href='https://wandb.ai/alexkstern/fraud-classification/runs/namnjire' target=\"_blank\">https://wandb.ai/alexkstern/fraud-classification/runs/namnjire</a>"
      ],
      "text/plain": [
       "<IPython.core.display.HTML object>"
      ]
     },
     "metadata": {},
     "output_type": "display_data"
    },
    {
     "name": "stdout",
     "output_type": "stream",
     "text": [
      "Loaded configuration from configs/conv_vqvae/normal_conv_vqvae.config\n",
      "Filtered dataset to class 0: 12000 samples\n",
      "Normalization statistics (calculated from class 0): {'Time': {'mean': 94364.65358333333, 'std': 47365.815157589255}, 'Amount': {'mean': 87.60478666666666, 'std': 240.59403081682598}}\n",
      "Filtered dataset to class 0: 12000 samples\n",
      "Filtered dataset to class 0: 1500 samples\n",
      "Filtered dataset to class 0: 1500 samples\n",
      "Total number of trainable parameters: 64164\n",
      "Models will be saved to: saved_models/conv_vqvae/normal_conv_vqvae/20250313_235821\n"
     ]
    },
    {
     "name": "stderr",
     "output_type": "stream",
     "text": [
      "                                                                                  \r"
     ]
    },
    {
     "name": "stdout",
     "output_type": "stream",
     "text": [
      "Epoch 1/30: Train Loss = 34.8762, Val Loss = 31.9475\n",
      "Model saved to saved_models/conv_vqvae/normal_conv_vqvae/20250313_235821/best_model.pt\n",
      "New best validation loss: 31.9475\n"
     ]
    },
    {
     "name": "stderr",
     "output_type": "stream",
     "text": [
      "                                                                                  \r"
     ]
    },
    {
     "name": "stdout",
     "output_type": "stream",
     "text": [
      "Epoch 2/30: Train Loss = 30.2766, Val Loss = 31.5840\n",
      "Model saved to saved_models/conv_vqvae/normal_conv_vqvae/20250313_235821/best_model.pt\n",
      "New best validation loss: 31.5840\n"
     ]
    },
    {
     "name": "stderr",
     "output_type": "stream",
     "text": [
      "                                                                                 \r"
     ]
    },
    {
     "name": "stdout",
     "output_type": "stream",
     "text": [
      "Epoch 3/30: Train Loss = 30.1573, Val Loss = 30.8868\n",
      "Model saved to saved_models/conv_vqvae/normal_conv_vqvae/20250313_235821/best_model.pt\n",
      "New best validation loss: 30.8868\n"
     ]
    },
    {
     "name": "stderr",
     "output_type": "stream",
     "text": [
      "                                                                                  \r"
     ]
    },
    {
     "name": "stdout",
     "output_type": "stream",
     "text": [
      "Epoch 4/30: Train Loss = 29.9350, Val Loss = 31.3080\n"
     ]
    },
    {
     "name": "stderr",
     "output_type": "stream",
     "text": [
      "                                                                                 \r"
     ]
    },
    {
     "name": "stdout",
     "output_type": "stream",
     "text": [
      "Epoch 5/30: Train Loss = 29.9361, Val Loss = 30.8306\n",
      "Model saved to saved_models/conv_vqvae/normal_conv_vqvae/20250313_235821/best_model.pt\n",
      "New best validation loss: 30.8306\n"
     ]
    },
    {
     "name": "stderr",
     "output_type": "stream",
     "text": [
      "                                                                                 \r"
     ]
    },
    {
     "name": "stdout",
     "output_type": "stream",
     "text": [
      "Epoch 6/30: Train Loss = 29.6313, Val Loss = 30.6516\n",
      "Model saved to saved_models/conv_vqvae/normal_conv_vqvae/20250313_235821/best_model.pt\n",
      "New best validation loss: 30.6516\n"
     ]
    },
    {
     "name": "stderr",
     "output_type": "stream",
     "text": [
      "                                                                                 \r"
     ]
    },
    {
     "name": "stdout",
     "output_type": "stream",
     "text": [
      "Epoch 7/30: Train Loss = 29.8023, Val Loss = 31.1184\n"
     ]
    },
    {
     "name": "stderr",
     "output_type": "stream",
     "text": [
      "                                                                                 \r"
     ]
    },
    {
     "name": "stdout",
     "output_type": "stream",
     "text": [
      "Epoch 8/30: Train Loss = 29.6932, Val Loss = 30.5924\n",
      "Model saved to saved_models/conv_vqvae/normal_conv_vqvae/20250313_235821/best_model.pt\n",
      "New best validation loss: 30.5924\n"
     ]
    },
    {
     "name": "stderr",
     "output_type": "stream",
     "text": [
      "                                                                                 \r"
     ]
    },
    {
     "name": "stdout",
     "output_type": "stream",
     "text": [
      "Epoch 9/30: Train Loss = 29.4954, Val Loss = 30.5075\n",
      "Model saved to saved_models/conv_vqvae/normal_conv_vqvae/20250313_235821/best_model.pt\n",
      "New best validation loss: 30.5075\n"
     ]
    },
    {
     "name": "stderr",
     "output_type": "stream",
     "text": [
      "                                                                                 \r"
     ]
    },
    {
     "name": "stdout",
     "output_type": "stream",
     "text": [
      "Epoch 10/30: Train Loss = 29.4116, Val Loss = 30.2268\n",
      "Model saved to saved_models/conv_vqvae/normal_conv_vqvae/20250313_235821/best_model.pt\n",
      "New best validation loss: 30.2268\n"
     ]
    },
    {
     "name": "stderr",
     "output_type": "stream",
     "text": [
      "                                                                                  \r"
     ]
    },
    {
     "name": "stdout",
     "output_type": "stream",
     "text": [
      "Epoch 11/30: Train Loss = 29.4478, Val Loss = 30.3042\n"
     ]
    },
    {
     "name": "stderr",
     "output_type": "stream",
     "text": [
      "                                                                                 \r"
     ]
    },
    {
     "name": "stdout",
     "output_type": "stream",
     "text": [
      "Epoch 12/30: Train Loss = 29.0861, Val Loss = 29.7262\n",
      "Model saved to saved_models/conv_vqvae/normal_conv_vqvae/20250313_235821/best_model.pt\n",
      "New best validation loss: 29.7262\n"
     ]
    },
    {
     "name": "stderr",
     "output_type": "stream",
     "text": [
      "                                                                                 \r"
     ]
    },
    {
     "name": "stdout",
     "output_type": "stream",
     "text": [
      "Epoch 13/30: Train Loss = 28.8436, Val Loss = 29.6217\n",
      "Model saved to saved_models/conv_vqvae/normal_conv_vqvae/20250313_235821/best_model.pt\n",
      "New best validation loss: 29.6217\n"
     ]
    },
    {
     "name": "stderr",
     "output_type": "stream",
     "text": [
      "                                                                                 \r"
     ]
    },
    {
     "name": "stdout",
     "output_type": "stream",
     "text": [
      "Epoch 14/30: Train Loss = 28.8971, Val Loss = 29.5758\n",
      "Model saved to saved_models/conv_vqvae/normal_conv_vqvae/20250313_235821/best_model.pt\n",
      "New best validation loss: 29.5758\n"
     ]
    },
    {
     "name": "stderr",
     "output_type": "stream",
     "text": [
      "                                                                                 \r"
     ]
    },
    {
     "name": "stdout",
     "output_type": "stream",
     "text": [
      "Epoch 15/30: Train Loss = 29.0012, Val Loss = 29.7518\n"
     ]
    },
    {
     "name": "stderr",
     "output_type": "stream",
     "text": [
      "                                                                                 \r"
     ]
    },
    {
     "name": "stdout",
     "output_type": "stream",
     "text": [
      "Epoch 16/30: Train Loss = 28.9728, Val Loss = 29.4276\n",
      "Model saved to saved_models/conv_vqvae/normal_conv_vqvae/20250313_235821/best_model.pt\n",
      "New best validation loss: 29.4276\n"
     ]
    },
    {
     "name": "stderr",
     "output_type": "stream",
     "text": [
      "                                                                                  \r"
     ]
    },
    {
     "name": "stdout",
     "output_type": "stream",
     "text": [
      "Epoch 17/30: Train Loss = 28.6322, Val Loss = 29.4860\n"
     ]
    },
    {
     "name": "stderr",
     "output_type": "stream",
     "text": [
      "                                                                                 \r"
     ]
    },
    {
     "name": "stdout",
     "output_type": "stream",
     "text": [
      "Epoch 18/30: Train Loss = 28.2609, Val Loss = 29.1322\n",
      "Model saved to saved_models/conv_vqvae/normal_conv_vqvae/20250313_235821/best_model.pt\n",
      "New best validation loss: 29.1322\n"
     ]
    },
    {
     "name": "stderr",
     "output_type": "stream",
     "text": [
      "                                                                                  \r"
     ]
    },
    {
     "name": "stdout",
     "output_type": "stream",
     "text": [
      "Epoch 19/30: Train Loss = 28.2884, Val Loss = 29.2113\n"
     ]
    },
    {
     "name": "stderr",
     "output_type": "stream",
     "text": [
      "                                                                                 \r"
     ]
    },
    {
     "name": "stdout",
     "output_type": "stream",
     "text": [
      "Epoch 20/30: Train Loss = 28.3572, Val Loss = 28.9754\n",
      "Model saved to saved_models/conv_vqvae/normal_conv_vqvae/20250313_235821/best_model.pt\n",
      "New best validation loss: 28.9754\n"
     ]
    },
    {
     "name": "stderr",
     "output_type": "stream",
     "text": [
      "                                                                                  \r"
     ]
    },
    {
     "name": "stdout",
     "output_type": "stream",
     "text": [
      "Epoch 21/30: Train Loss = 28.2050, Val Loss = 29.3145\n"
     ]
    },
    {
     "name": "stderr",
     "output_type": "stream",
     "text": [
      "                                                                                  \r"
     ]
    },
    {
     "name": "stdout",
     "output_type": "stream",
     "text": [
      "Epoch 22/30: Train Loss = 28.3093, Val Loss = 29.2697\n"
     ]
    },
    {
     "name": "stderr",
     "output_type": "stream",
     "text": [
      "                                                                                 \r"
     ]
    },
    {
     "name": "stdout",
     "output_type": "stream",
     "text": [
      "Epoch 23/30: Train Loss = 28.1953, Val Loss = 28.8144\n",
      "Model saved to saved_models/conv_vqvae/normal_conv_vqvae/20250313_235821/best_model.pt\n",
      "New best validation loss: 28.8144\n"
     ]
    },
    {
     "name": "stderr",
     "output_type": "stream",
     "text": [
      "                                                                                 \r"
     ]
    },
    {
     "name": "stdout",
     "output_type": "stream",
     "text": [
      "Epoch 24/30: Train Loss = 28.0105, Val Loss = 29.0959\n"
     ]
    },
    {
     "name": "stderr",
     "output_type": "stream",
     "text": [
      "                                                                                  \r"
     ]
    },
    {
     "name": "stdout",
     "output_type": "stream",
     "text": [
      "Epoch 25/30: Train Loss = 28.0362, Val Loss = 29.0171\n"
     ]
    },
    {
     "name": "stderr",
     "output_type": "stream",
     "text": [
      "                                                                                 \r"
     ]
    },
    {
     "name": "stdout",
     "output_type": "stream",
     "text": [
      "Epoch 26/30: Train Loss = 28.2812, Val Loss = 29.2156\n"
     ]
    },
    {
     "name": "stderr",
     "output_type": "stream",
     "text": [
      "                                                                                  \r"
     ]
    },
    {
     "name": "stdout",
     "output_type": "stream",
     "text": [
      "Epoch 27/30: Train Loss = 28.3124, Val Loss = 29.2723\n"
     ]
    },
    {
     "name": "stderr",
     "output_type": "stream",
     "text": [
      "                                                                                 \r"
     ]
    },
    {
     "name": "stdout",
     "output_type": "stream",
     "text": [
      "Epoch 28/30: Train Loss = 28.1570, Val Loss = 28.9158\n"
     ]
    },
    {
     "name": "stderr",
     "output_type": "stream",
     "text": [
      "                                                                                 \r"
     ]
    },
    {
     "name": "stdout",
     "output_type": "stream",
     "text": [
      "Epoch 29/30: Train Loss = 28.0012, Val Loss = 28.7007\n",
      "Model saved to saved_models/conv_vqvae/normal_conv_vqvae/20250313_235821/best_model.pt\n",
      "New best validation loss: 28.7007\n"
     ]
    },
    {
     "name": "stderr",
     "output_type": "stream",
     "text": [
      "                                                                                  \r"
     ]
    },
    {
     "name": "stdout",
     "output_type": "stream",
     "text": [
      "Epoch 30/30: Train Loss = 27.8918, Val Loss = 28.7631\n",
      "Model saved to saved_models/conv_vqvae/normal_conv_vqvae/20250313_235821/final_model.pt\n",
      "Training complete. Best validation loss: 28.7007\n"
     ]
    },
    {
     "data": {
      "text/html": [],
      "text/plain": [
       "<IPython.core.display.HTML object>"
      ]
     },
     "metadata": {},
     "output_type": "display_data"
    },
    {
     "data": {
      "text/html": [
       "<br>    <style><br>        .wandb-row {<br>            display: flex;<br>            flex-direction: row;<br>            flex-wrap: wrap;<br>            justify-content: flex-start;<br>            width: 100%;<br>        }<br>        .wandb-col {<br>            display: flex;<br>            flex-direction: column;<br>            flex-basis: 100%;<br>            flex: 1;<br>            padding: 10px;<br>        }<br>    </style><br><div class=\"wandb-row\"><div class=\"wandb-col\"><h3>Run history:</h3><br/><table class=\"wandb\"><tr><td>epoch</td><td>▁▁▁▂▂▂▂▃▃▃▃▄▄▄▄▅▅▅▅▆▆▆▆▇▇▇▇███</td></tr><tr><td>train/total_loss</td><td>█▃▃▃▃▃▃▃▃▃▃▂▂▂▂▂▂▁▁▁▁▁▁▁▁▁▁▁▁▁</td></tr><tr><td>val/total_loss</td><td>█▇▆▇▆▅▆▅▅▄▄▃▃▃▃▃▃▂▂▂▂▂▁▂▂▂▂▁▁▁</td></tr></table><br/></div><div class=\"wandb-col\"><h3>Run summary:</h3><br/><table class=\"wandb\"><tr><td>epoch</td><td>30</td></tr><tr><td>train/total_loss</td><td>27.89178</td></tr><tr><td>val/total_loss</td><td>28.76313</td></tr></table><br/></div></div>"
      ],
      "text/plain": [
       "<IPython.core.display.HTML object>"
      ]
     },
     "metadata": {},
     "output_type": "display_data"
    },
    {
     "data": {
      "text/html": [
       " View run <strong style=\"color:#cdcd00\">conv-vqvae-normal_20250313_235814</strong> at: <a href='https://wandb.ai/alexkstern/fraud-classification/runs/namnjire' target=\"_blank\">https://wandb.ai/alexkstern/fraud-classification/runs/namnjire</a><br> View project at: <a href='https://wandb.ai/alexkstern/fraud-classification' target=\"_blank\">https://wandb.ai/alexkstern/fraud-classification</a><br>Synced 5 W&B file(s), 0 media file(s), 32 artifact file(s) and 0 other file(s)"
      ],
      "text/plain": [
       "<IPython.core.display.HTML object>"
      ]
     },
     "metadata": {},
     "output_type": "display_data"
    },
    {
     "data": {
      "text/html": [
       "Find logs at: <code>./wandb/run-20250313_235814-namnjire/logs</code>"
      ],
      "text/plain": [
       "<IPython.core.display.HTML object>"
      ]
     },
     "metadata": {},
     "output_type": "display_data"
    },
    {
     "name": "stdout",
     "output_type": "stream",
     "text": [
      "Training session complete.\n"
     ]
    }
   ],
   "source": [
    "import os\n",
    "import torch\n",
    "import torch.optim as optim\n",
    "import numpy as np\n",
    "import random\n",
    "\n",
    "# Set random seeds for reproducibility\n",
    "SEED = 42\n",
    "random.seed(SEED)\n",
    "np.random.seed(SEED)\n",
    "torch.manual_seed(SEED)\n",
    "torch.cuda.manual_seed_all(SEED)\n",
    "torch.backends.cudnn.deterministic = True\n",
    "torch.backends.cudnn.benchmark = False\n",
    "\n",
    "# Import required modules\n",
    "from models.conv_vqvae_model import ConvVQVAE, vqvae_loss_function, print_num_params\n",
    "from trainer.trainer_vqvae import VQVAETrainer\n",
    "from dataloader.dataloader import load_fraud_data, load_config\n",
    "from utils.model_saver import save_model, get_save_directory\n",
    "from utils.wandb_logger import WandBLogger\n",
    "\n",
    "# Build the config path\n",
    "config_path = \"configs/conv_vqvae/normal_conv_vqvae.config\"\n",
    "\n",
    "# Load configuration\n",
    "import configparser\n",
    "config_parser = configparser.ConfigParser()\n",
    "config_parser.read(config_path)\n",
    "conv_vqvae_config = config_parser[\"Conv_VQVAE\"]\n",
    "\n",
    "# Create config dictionary for WandB\n",
    "config_dict = {}\n",
    "for section in config_parser.sections():\n",
    "    config_dict[section] = dict(config_parser[section])\n",
    "\n",
    "# Initialize WandB logger\n",
    "wandb_logger = WandBLogger(config_dict)\n",
    "\n",
    "# Load data\n",
    "config_dict = load_config(config_path)\n",
    "data = load_fraud_data(config_path=config_path)\n",
    "dataloaders = data['dataloaders']\n",
    "input_dim = data['input_dim']\n",
    "\n",
    "# Create model\n",
    "model = ConvVQVAE(conv_vqvae_config)\n",
    "print_num_params(model)\n",
    "\n",
    "# Training parameters\n",
    "lr = config_parser[\"Trainer\"].getfloat(\"lr\")\n",
    "num_epochs = config_parser[\"Trainer\"].getint(\"num_epochs\")\n",
    "\n",
    "# Define optimizer and loss function\n",
    "optimizer = optim.Adam(model.parameters(), lr=lr)\n",
    "loss_fn = vqvae_loss_function\n",
    "\n",
    "# Create trainer\n",
    "trainer = VQVAETrainer(model, dataloaders, loss_fn, optimizer)\n",
    "\n",
    "# Create save directory\n",
    "save_dir = get_save_directory(config_path)\n",
    "print(f\"Models will be saved to: {save_dir}\")\n",
    "\n",
    "# Track best validation loss\n",
    "best_val_loss = float('inf')\n",
    "train_losses, val_losses = [], []\n",
    "\n",
    "try:\n",
    "    # Training loop\n",
    "    for epoch in range(1, num_epochs + 1):\n",
    "        train_loss = trainer.train_epoch()\n",
    "        val_loss = trainer.validate_epoch()\n",
    "        \n",
    "        train_losses.append(train_loss)\n",
    "        val_losses.append(val_loss)\n",
    "        \n",
    "        # Log metrics to WandB\n",
    "        try:\n",
    "            # For VQVAE, we only log the total losses since we don't have separate recon_loss extraction\n",
    "            wandb_logger.log_epoch(epoch, train_loss, val_loss)\n",
    "        except Exception as e:\n",
    "            print(f\"Error logging to WandB: {e}\")\n",
    "        \n",
    "        # Print progress\n",
    "        print(f\"Epoch {epoch}/{num_epochs}: Train Loss = {train_loss:.4f}, Val Loss = {val_loss:.4f}\")\n",
    "        \n",
    "        # Save best model\n",
    "        if val_loss < best_val_loss:\n",
    "            best_val_loss = val_loss\n",
    "            metadata = {'epoch': epoch, 'train_loss': train_loss, 'val_loss': val_loss}\n",
    "            model_path = save_model(model, save_dir, 'best_model.pt', metadata)\n",
    "            print(f\"New best validation loss: {val_loss:.4f}\")\n",
    "            wandb_logger.log_model(model_path, metadata)\n",
    "\n",
    "    # Save final model if different from best\n",
    "    if val_losses[-1] > best_val_loss:\n",
    "        metadata = {'epoch': num_epochs, 'train_loss': train_losses[-1], 'val_loss': val_losses[-1]}\n",
    "        save_model(model, save_dir, 'final_model.pt', metadata)\n",
    "\n",
    "    print(f\"Training complete. Best validation loss: {best_val_loss:.4f}\")\n",
    "\n",
    "except KeyboardInterrupt:\n",
    "    print(\"\\nTraining interrupted by user. Saving current state...\")\n",
    "    if len(train_losses) > 0:\n",
    "        metadata = {\n",
    "            'interrupted': True,\n",
    "            'epoch': len(train_losses), \n",
    "            'train_loss': train_losses[-1],\n",
    "            'val_loss': val_losses[-1] if len(val_losses) > 0 else None\n",
    "        }\n",
    "        save_model(model, save_dir, 'interrupted_model.pt', metadata)\n",
    "        print(f\"Interrupted model saved to {save_dir}\")\n",
    "\n",
    "except Exception as e:\n",
    "    print(f\"\\nTraining failed with error: {e}\")\n",
    "    import traceback\n",
    "    traceback.print_exc()\n",
    "    \n",
    "finally:\n",
    "    # Clean up WandB\n",
    "    try:\n",
    "        wandb_logger.finish()\n",
    "    except:\n",
    "        pass\n",
    "    print(\"Training session complete.\")"
   ]
  },
  {
   "cell_type": "markdown",
   "metadata": {},
   "source": [
    "## Transformer VQVAE"
   ]
  },
  {
   "cell_type": "markdown",
   "metadata": {},
   "source": [
    "### Fraud"
   ]
  },
  {
   "cell_type": "code",
   "execution_count": 5,
   "metadata": {},
   "outputs": [
    {
     "name": "stdout",
     "output_type": "stream",
     "text": [
      "Initializing WandB run: transformer-vqvae-fraud_20250314_001319 (Project: fraud-classification, Entity: alexkstern)\n"
     ]
    },
    {
     "data": {
      "text/html": [
       "Tracking run with wandb version 0.19.8"
      ],
      "text/plain": [
       "<IPython.core.display.HTML object>"
      ]
     },
     "metadata": {},
     "output_type": "display_data"
    },
    {
     "data": {
      "text/html": [
       "Run data is saved locally in <code>/home/alexkstern/fraudml/amlf_proj/wandb/run-20250314_001319-x2ynkm0s</code>"
      ],
      "text/plain": [
       "<IPython.core.display.HTML object>"
      ]
     },
     "metadata": {},
     "output_type": "display_data"
    },
    {
     "data": {
      "text/html": [
       "Syncing run <strong><a href='https://wandb.ai/alexkstern/fraud-classification/runs/x2ynkm0s' target=\"_blank\">transformer-vqvae-fraud_20250314_001319</a></strong> to <a href='https://wandb.ai/alexkstern/fraud-classification' target=\"_blank\">Weights & Biases</a> (<a href='https://wandb.me/developer-guide' target=\"_blank\">docs</a>)<br>"
      ],
      "text/plain": [
       "<IPython.core.display.HTML object>"
      ]
     },
     "metadata": {},
     "output_type": "display_data"
    },
    {
     "data": {
      "text/html": [
       " View project at <a href='https://wandb.ai/alexkstern/fraud-classification' target=\"_blank\">https://wandb.ai/alexkstern/fraud-classification</a>"
      ],
      "text/plain": [
       "<IPython.core.display.HTML object>"
      ]
     },
     "metadata": {},
     "output_type": "display_data"
    },
    {
     "data": {
      "text/html": [
       " View run at <a href='https://wandb.ai/alexkstern/fraud-classification/runs/x2ynkm0s' target=\"_blank\">https://wandb.ai/alexkstern/fraud-classification/runs/x2ynkm0s</a>"
      ],
      "text/plain": [
       "<IPython.core.display.HTML object>"
      ]
     },
     "metadata": {},
     "output_type": "display_data"
    },
    {
     "name": "stdout",
     "output_type": "stream",
     "text": [
      "Loaded configuration from configs/transformer_vqvae/fraud_transformer_vqvae.config\n",
      "Filtered dataset to class 1: 378 samples\n",
      "Normalization statistics (calculated from class 1): {'Time': {'mean': 80790.48148148147, 'std': 48332.5139872635}, 'Amount': {'mean': 133.6764814814815, 'std': 276.3532237447719}}\n",
      "Filtered dataset to class 1: 378 samples\n",
      "Filtered dataset to class 1: 47 samples\n",
      "Filtered dataset to class 1: 48 samples\n",
      "Total number of trainable parameters: 170689\n",
      "Models will be saved to: saved_models/transformer_vqvae/fraud_transformer_vqvae/20250314_001329\n"
     ]
    },
    {
     "name": "stderr",
     "output_type": "stream",
     "text": [
      "                                                                             \r"
     ]
    },
    {
     "name": "stdout",
     "output_type": "stream",
     "text": [
      "Epoch 1/100: Train Loss = 654.7753, Val Loss = 984.5373\n",
      "Model saved to saved_models/transformer_vqvae/fraud_transformer_vqvae/20250314_001329/best_model.pt\n",
      "New best validation loss: 984.5373\n"
     ]
    },
    {
     "name": "stderr",
     "output_type": "stream",
     "text": [
      "                                                                             \r"
     ]
    },
    {
     "name": "stdout",
     "output_type": "stream",
     "text": [
      "Epoch 2/100: Train Loss = 647.1583, Val Loss = 984.1514\n",
      "Model saved to saved_models/transformer_vqvae/fraud_transformer_vqvae/20250314_001329/best_model.pt\n",
      "New best validation loss: 984.1514\n"
     ]
    },
    {
     "name": "stderr",
     "output_type": "stream",
     "text": [
      "                                                                             \r"
     ]
    },
    {
     "name": "stdout",
     "output_type": "stream",
     "text": [
      "Epoch 3/100: Train Loss = 646.9973, Val Loss = 984.0501\n",
      "Model saved to saved_models/transformer_vqvae/fraud_transformer_vqvae/20250314_001329/best_model.pt\n",
      "New best validation loss: 984.0501\n"
     ]
    },
    {
     "name": "stderr",
     "output_type": "stream",
     "text": [
      "                                                                             \r"
     ]
    },
    {
     "name": "stdout",
     "output_type": "stream",
     "text": [
      "Epoch 4/100: Train Loss = 646.9363, Val Loss = 983.9916\n",
      "Model saved to saved_models/transformer_vqvae/fraud_transformer_vqvae/20250314_001329/best_model.pt\n",
      "New best validation loss: 983.9916\n"
     ]
    },
    {
     "name": "stderr",
     "output_type": "stream",
     "text": [
      "                                                                             \r"
     ]
    },
    {
     "name": "stdout",
     "output_type": "stream",
     "text": [
      "Epoch 5/100: Train Loss = 646.8360, Val Loss = 983.7335\n",
      "Model saved to saved_models/transformer_vqvae/fraud_transformer_vqvae/20250314_001329/best_model.pt\n",
      "New best validation loss: 983.7335\n"
     ]
    },
    {
     "name": "stderr",
     "output_type": "stream",
     "text": [
      "                                                                             \r"
     ]
    },
    {
     "name": "stdout",
     "output_type": "stream",
     "text": [
      "Epoch 6/100: Train Loss = 646.6988, Val Loss = 983.9249\n"
     ]
    },
    {
     "name": "stderr",
     "output_type": "stream",
     "text": [
      "                                                                             \r"
     ]
    },
    {
     "name": "stdout",
     "output_type": "stream",
     "text": [
      "Epoch 7/100: Train Loss = 646.8555, Val Loss = 984.0608\n"
     ]
    },
    {
     "name": "stderr",
     "output_type": "stream",
     "text": [
      "                                                                             \r"
     ]
    },
    {
     "name": "stdout",
     "output_type": "stream",
     "text": [
      "Epoch 8/100: Train Loss = 646.9518, Val Loss = 984.1817\n"
     ]
    },
    {
     "name": "stderr",
     "output_type": "stream",
     "text": [
      "                                                                             \r"
     ]
    },
    {
     "name": "stdout",
     "output_type": "stream",
     "text": [
      "Epoch 9/100: Train Loss = 647.0312, Val Loss = 984.2847\n"
     ]
    },
    {
     "name": "stderr",
     "output_type": "stream",
     "text": [
      "                                                                             \r"
     ]
    },
    {
     "name": "stdout",
     "output_type": "stream",
     "text": [
      "Epoch 10/100: Train Loss = 647.0945, Val Loss = 984.2881\n"
     ]
    },
    {
     "name": "stderr",
     "output_type": "stream",
     "text": [
      "                                                                             \r"
     ]
    },
    {
     "name": "stdout",
     "output_type": "stream",
     "text": [
      "Epoch 11/100: Train Loss = 647.1388, Val Loss = 984.3364\n"
     ]
    },
    {
     "name": "stderr",
     "output_type": "stream",
     "text": [
      "                                                                             \r"
     ]
    },
    {
     "name": "stdout",
     "output_type": "stream",
     "text": [
      "Epoch 12/100: Train Loss = 647.1827, Val Loss = 984.4300\n"
     ]
    },
    {
     "name": "stderr",
     "output_type": "stream",
     "text": [
      "                                                                             \r"
     ]
    },
    {
     "name": "stdout",
     "output_type": "stream",
     "text": [
      "Epoch 13/100: Train Loss = 647.2211, Val Loss = 984.4509\n"
     ]
    },
    {
     "name": "stderr",
     "output_type": "stream",
     "text": [
      "                                                                             \r"
     ]
    },
    {
     "name": "stdout",
     "output_type": "stream",
     "text": [
      "Epoch 14/100: Train Loss = 647.2443, Val Loss = 984.4628\n"
     ]
    },
    {
     "name": "stderr",
     "output_type": "stream",
     "text": [
      "                                                                             \r"
     ]
    },
    {
     "name": "stdout",
     "output_type": "stream",
     "text": [
      "Epoch 15/100: Train Loss = 647.2726, Val Loss = 984.4706\n"
     ]
    },
    {
     "name": "stderr",
     "output_type": "stream",
     "text": [
      "                                                                             \r"
     ]
    },
    {
     "name": "stdout",
     "output_type": "stream",
     "text": [
      "Epoch 16/100: Train Loss = 647.2916, Val Loss = 984.4808\n"
     ]
    },
    {
     "name": "stderr",
     "output_type": "stream",
     "text": [
      "                                                                             \r"
     ]
    },
    {
     "name": "stdout",
     "output_type": "stream",
     "text": [
      "Epoch 17/100: Train Loss = 647.3152, Val Loss = 984.4765\n"
     ]
    },
    {
     "name": "stderr",
     "output_type": "stream",
     "text": [
      "                                                                             \r"
     ]
    },
    {
     "name": "stdout",
     "output_type": "stream",
     "text": [
      "Epoch 18/100: Train Loss = 647.2978, Val Loss = 984.4869\n"
     ]
    },
    {
     "name": "stderr",
     "output_type": "stream",
     "text": [
      "                                                                             \r"
     ]
    },
    {
     "name": "stdout",
     "output_type": "stream",
     "text": [
      "Epoch 19/100: Train Loss = 647.2891, Val Loss = 984.4532\n"
     ]
    },
    {
     "name": "stderr",
     "output_type": "stream",
     "text": [
      "                                                                             \r"
     ]
    },
    {
     "name": "stdout",
     "output_type": "stream",
     "text": [
      "Epoch 20/100: Train Loss = 647.3108, Val Loss = 984.4898\n"
     ]
    },
    {
     "name": "stderr",
     "output_type": "stream",
     "text": [
      "                                                                             \r"
     ]
    },
    {
     "name": "stdout",
     "output_type": "stream",
     "text": [
      "Epoch 21/100: Train Loss = 647.3312, Val Loss = 984.4534\n"
     ]
    },
    {
     "name": "stderr",
     "output_type": "stream",
     "text": [
      "                                                                             \r"
     ]
    },
    {
     "name": "stdout",
     "output_type": "stream",
     "text": [
      "Epoch 22/100: Train Loss = 647.3248, Val Loss = 984.5269\n"
     ]
    },
    {
     "name": "stderr",
     "output_type": "stream",
     "text": [
      "                                                                             \r"
     ]
    },
    {
     "name": "stdout",
     "output_type": "stream",
     "text": [
      "Epoch 23/100: Train Loss = 647.3703, Val Loss = 984.5367\n"
     ]
    },
    {
     "name": "stderr",
     "output_type": "stream",
     "text": [
      "                                                                             \r"
     ]
    },
    {
     "name": "stdout",
     "output_type": "stream",
     "text": [
      "Epoch 24/100: Train Loss = 647.3537, Val Loss = 984.5304\n"
     ]
    },
    {
     "name": "stderr",
     "output_type": "stream",
     "text": [
      "                                                                             \r"
     ]
    },
    {
     "name": "stdout",
     "output_type": "stream",
     "text": [
      "Epoch 25/100: Train Loss = 647.3904, Val Loss = 984.5603\n"
     ]
    },
    {
     "name": "stderr",
     "output_type": "stream",
     "text": [
      "                                                                             \r"
     ]
    },
    {
     "name": "stdout",
     "output_type": "stream",
     "text": [
      "Epoch 26/100: Train Loss = 647.3546, Val Loss = 984.5444\n"
     ]
    },
    {
     "name": "stderr",
     "output_type": "stream",
     "text": [
      "                                                                             \r"
     ]
    },
    {
     "name": "stdout",
     "output_type": "stream",
     "text": [
      "Epoch 27/100: Train Loss = 647.3570, Val Loss = 984.5488\n"
     ]
    },
    {
     "name": "stderr",
     "output_type": "stream",
     "text": [
      "                                                                             \r"
     ]
    },
    {
     "name": "stdout",
     "output_type": "stream",
     "text": [
      "Epoch 28/100: Train Loss = 647.4122, Val Loss = 984.6010\n"
     ]
    },
    {
     "name": "stderr",
     "output_type": "stream",
     "text": [
      "                                                                             \r"
     ]
    },
    {
     "name": "stdout",
     "output_type": "stream",
     "text": [
      "Epoch 29/100: Train Loss = 647.5025, Val Loss = 984.7829\n"
     ]
    },
    {
     "name": "stderr",
     "output_type": "stream",
     "text": [
      "                                                                             \r"
     ]
    },
    {
     "name": "stdout",
     "output_type": "stream",
     "text": [
      "Epoch 30/100: Train Loss = 647.5091, Val Loss = 984.8086\n"
     ]
    },
    {
     "name": "stderr",
     "output_type": "stream",
     "text": [
      "                                                                             \r"
     ]
    },
    {
     "name": "stdout",
     "output_type": "stream",
     "text": [
      "Epoch 31/100: Train Loss = 647.5106, Val Loss = 984.7037\n"
     ]
    },
    {
     "name": "stderr",
     "output_type": "stream",
     "text": [
      "                                                                             \r"
     ]
    },
    {
     "name": "stdout",
     "output_type": "stream",
     "text": [
      "Epoch 32/100: Train Loss = 647.5011, Val Loss = 984.7728\n"
     ]
    },
    {
     "name": "stderr",
     "output_type": "stream",
     "text": [
      "                                                                             \r"
     ]
    },
    {
     "name": "stdout",
     "output_type": "stream",
     "text": [
      "Epoch 33/100: Train Loss = 647.3886, Val Loss = 984.5510\n"
     ]
    },
    {
     "name": "stderr",
     "output_type": "stream",
     "text": [
      "                                                                             \r"
     ]
    },
    {
     "name": "stdout",
     "output_type": "stream",
     "text": [
      "Epoch 34/100: Train Loss = 647.3741, Val Loss = 984.5634\n"
     ]
    },
    {
     "name": "stderr",
     "output_type": "stream",
     "text": [
      "                                                                             \r"
     ]
    },
    {
     "name": "stdout",
     "output_type": "stream",
     "text": [
      "Epoch 35/100: Train Loss = 647.4152, Val Loss = 984.6036\n"
     ]
    },
    {
     "name": "stderr",
     "output_type": "stream",
     "text": [
      "                                                                             \r"
     ]
    },
    {
     "name": "stdout",
     "output_type": "stream",
     "text": [
      "Epoch 36/100: Train Loss = 647.4515, Val Loss = 984.6848\n"
     ]
    },
    {
     "name": "stderr",
     "output_type": "stream",
     "text": [
      "                                                                             \r"
     ]
    },
    {
     "name": "stdout",
     "output_type": "stream",
     "text": [
      "Epoch 37/100: Train Loss = 647.4683, Val Loss = 984.6235\n"
     ]
    },
    {
     "name": "stderr",
     "output_type": "stream",
     "text": [
      "                                                                             \r"
     ]
    },
    {
     "name": "stdout",
     "output_type": "stream",
     "text": [
      "Epoch 38/100: Train Loss = 647.4429, Val Loss = 984.6227\n"
     ]
    },
    {
     "name": "stderr",
     "output_type": "stream",
     "text": [
      "                                                                             \r"
     ]
    },
    {
     "name": "stdout",
     "output_type": "stream",
     "text": [
      "Epoch 39/100: Train Loss = 647.4850, Val Loss = 984.6780\n"
     ]
    },
    {
     "name": "stderr",
     "output_type": "stream",
     "text": [
      "                                                                             \r"
     ]
    },
    {
     "name": "stdout",
     "output_type": "stream",
     "text": [
      "Epoch 40/100: Train Loss = 647.5229, Val Loss = 984.7837\n"
     ]
    },
    {
     "name": "stderr",
     "output_type": "stream",
     "text": [
      "                                                                             \r"
     ]
    },
    {
     "name": "stdout",
     "output_type": "stream",
     "text": [
      "Epoch 41/100: Train Loss = 647.5624, Val Loss = 984.8693\n"
     ]
    },
    {
     "name": "stderr",
     "output_type": "stream",
     "text": [
      "                                                                             \r"
     ]
    },
    {
     "name": "stdout",
     "output_type": "stream",
     "text": [
      "Epoch 42/100: Train Loss = 647.5925, Val Loss = 984.8953\n"
     ]
    },
    {
     "name": "stderr",
     "output_type": "stream",
     "text": [
      "                                                                             \r"
     ]
    },
    {
     "name": "stdout",
     "output_type": "stream",
     "text": [
      "Epoch 43/100: Train Loss = 647.5966, Val Loss = 984.8786\n"
     ]
    },
    {
     "name": "stderr",
     "output_type": "stream",
     "text": [
      "                                                                             \r"
     ]
    },
    {
     "name": "stdout",
     "output_type": "stream",
     "text": [
      "Epoch 44/100: Train Loss = 647.6100, Val Loss = 984.9418\n"
     ]
    },
    {
     "name": "stderr",
     "output_type": "stream",
     "text": [
      "                                                                             \r"
     ]
    },
    {
     "name": "stdout",
     "output_type": "stream",
     "text": [
      "Epoch 45/100: Train Loss = 647.6170, Val Loss = 984.8947\n"
     ]
    },
    {
     "name": "stderr",
     "output_type": "stream",
     "text": [
      "                                                                             \r"
     ]
    },
    {
     "name": "stdout",
     "output_type": "stream",
     "text": [
      "Epoch 46/100: Train Loss = 647.6655, Val Loss = 984.9535\n"
     ]
    },
    {
     "name": "stderr",
     "output_type": "stream",
     "text": [
      "                                                                             \r"
     ]
    },
    {
     "name": "stdout",
     "output_type": "stream",
     "text": [
      "Epoch 47/100: Train Loss = 647.6545, Val Loss = 984.9999\n"
     ]
    },
    {
     "name": "stderr",
     "output_type": "stream",
     "text": [
      "                                                                             \r"
     ]
    },
    {
     "name": "stdout",
     "output_type": "stream",
     "text": [
      "Epoch 48/100: Train Loss = 647.6301, Val Loss = 984.9526\n"
     ]
    },
    {
     "name": "stderr",
     "output_type": "stream",
     "text": [
      "                                                                             \r"
     ]
    },
    {
     "name": "stdout",
     "output_type": "stream",
     "text": [
      "Epoch 49/100: Train Loss = 647.7078, Val Loss = 985.0489\n"
     ]
    },
    {
     "name": "stderr",
     "output_type": "stream",
     "text": [
      "                                                                             \r"
     ]
    },
    {
     "name": "stdout",
     "output_type": "stream",
     "text": [
      "Epoch 50/100: Train Loss = 647.6576, Val Loss = 984.8740\n"
     ]
    },
    {
     "name": "stderr",
     "output_type": "stream",
     "text": [
      "                                                                             \r"
     ]
    },
    {
     "name": "stdout",
     "output_type": "stream",
     "text": [
      "Epoch 51/100: Train Loss = 647.6471, Val Loss = 984.9807\n"
     ]
    },
    {
     "name": "stderr",
     "output_type": "stream",
     "text": [
      "                                                                             \r"
     ]
    },
    {
     "name": "stdout",
     "output_type": "stream",
     "text": [
      "Epoch 52/100: Train Loss = 647.7202, Val Loss = 985.0622\n"
     ]
    },
    {
     "name": "stderr",
     "output_type": "stream",
     "text": [
      "                                                                             \r"
     ]
    },
    {
     "name": "stdout",
     "output_type": "stream",
     "text": [
      "Epoch 53/100: Train Loss = 647.7299, Val Loss = 985.0538\n"
     ]
    },
    {
     "name": "stderr",
     "output_type": "stream",
     "text": [
      "                                                                             \r"
     ]
    },
    {
     "name": "stdout",
     "output_type": "stream",
     "text": [
      "Epoch 54/100: Train Loss = 647.7250, Val Loss = 985.0193\n"
     ]
    },
    {
     "name": "stderr",
     "output_type": "stream",
     "text": [
      "                                                                             \r"
     ]
    },
    {
     "name": "stdout",
     "output_type": "stream",
     "text": [
      "Epoch 55/100: Train Loss = 647.7294, Val Loss = 985.0361\n"
     ]
    },
    {
     "name": "stderr",
     "output_type": "stream",
     "text": [
      "                                                                             \r"
     ]
    },
    {
     "name": "stdout",
     "output_type": "stream",
     "text": [
      "Epoch 56/100: Train Loss = 647.7391, Val Loss = 985.1041\n"
     ]
    },
    {
     "name": "stderr",
     "output_type": "stream",
     "text": [
      "                                                                             \r"
     ]
    },
    {
     "name": "stdout",
     "output_type": "stream",
     "text": [
      "Epoch 57/100: Train Loss = 647.8014, Val Loss = 985.1157\n"
     ]
    },
    {
     "name": "stderr",
     "output_type": "stream",
     "text": [
      "                                                                             \r"
     ]
    },
    {
     "name": "stdout",
     "output_type": "stream",
     "text": [
      "Epoch 58/100: Train Loss = 647.7987, Val Loss = 985.1155\n"
     ]
    },
    {
     "name": "stderr",
     "output_type": "stream",
     "text": [
      "                                                                             \r"
     ]
    },
    {
     "name": "stdout",
     "output_type": "stream",
     "text": [
      "Epoch 59/100: Train Loss = 647.7890, Val Loss = 985.1153\n"
     ]
    },
    {
     "name": "stderr",
     "output_type": "stream",
     "text": [
      "                                                                             \r"
     ]
    },
    {
     "name": "stdout",
     "output_type": "stream",
     "text": [
      "Epoch 60/100: Train Loss = 647.7987, Val Loss = 985.0801\n"
     ]
    },
    {
     "name": "stderr",
     "output_type": "stream",
     "text": [
      "                                                                             \r"
     ]
    },
    {
     "name": "stdout",
     "output_type": "stream",
     "text": [
      "Epoch 61/100: Train Loss = 647.7859, Val Loss = 985.1276\n"
     ]
    },
    {
     "name": "stderr",
     "output_type": "stream",
     "text": [
      "                                                                             \r"
     ]
    },
    {
     "name": "stdout",
     "output_type": "stream",
     "text": [
      "Epoch 62/100: Train Loss = 647.8094, Val Loss = 985.1379\n"
     ]
    },
    {
     "name": "stderr",
     "output_type": "stream",
     "text": [
      "                                                                             \r"
     ]
    },
    {
     "name": "stdout",
     "output_type": "stream",
     "text": [
      "Epoch 63/100: Train Loss = 647.8624, Val Loss = 985.1551\n"
     ]
    },
    {
     "name": "stderr",
     "output_type": "stream",
     "text": [
      "                                                                             \r"
     ]
    },
    {
     "name": "stdout",
     "output_type": "stream",
     "text": [
      "Epoch 64/100: Train Loss = 647.8359, Val Loss = 985.1650\n"
     ]
    },
    {
     "name": "stderr",
     "output_type": "stream",
     "text": [
      "                                                                             \r"
     ]
    },
    {
     "name": "stdout",
     "output_type": "stream",
     "text": [
      "Epoch 65/100: Train Loss = 647.8286, Val Loss = 985.1376\n"
     ]
    },
    {
     "name": "stderr",
     "output_type": "stream",
     "text": [
      "                                                                             \r"
     ]
    },
    {
     "name": "stdout",
     "output_type": "stream",
     "text": [
      "Epoch 66/100: Train Loss = 647.8608, Val Loss = 985.1638\n"
     ]
    },
    {
     "name": "stderr",
     "output_type": "stream",
     "text": [
      "                                                                             \r"
     ]
    },
    {
     "name": "stdout",
     "output_type": "stream",
     "text": [
      "Epoch 67/100: Train Loss = 647.8817, Val Loss = 985.1634\n"
     ]
    },
    {
     "name": "stderr",
     "output_type": "stream",
     "text": [
      "                                                                             \r"
     ]
    },
    {
     "name": "stdout",
     "output_type": "stream",
     "text": [
      "Epoch 68/100: Train Loss = 647.9167, Val Loss = 985.1789\n"
     ]
    },
    {
     "name": "stderr",
     "output_type": "stream",
     "text": [
      "                                                                             \r"
     ]
    },
    {
     "name": "stdout",
     "output_type": "stream",
     "text": [
      "Epoch 69/100: Train Loss = 647.9231, Val Loss = 985.1785\n"
     ]
    },
    {
     "name": "stderr",
     "output_type": "stream",
     "text": [
      "                                                                             \r"
     ]
    },
    {
     "name": "stdout",
     "output_type": "stream",
     "text": [
      "Epoch 70/100: Train Loss = 647.9257, Val Loss = 985.2220\n"
     ]
    },
    {
     "name": "stderr",
     "output_type": "stream",
     "text": [
      "                                                                             \r"
     ]
    },
    {
     "name": "stdout",
     "output_type": "stream",
     "text": [
      "Epoch 71/100: Train Loss = 647.9984, Val Loss = 985.2522\n"
     ]
    },
    {
     "name": "stderr",
     "output_type": "stream",
     "text": [
      "                                                                             \r"
     ]
    },
    {
     "name": "stdout",
     "output_type": "stream",
     "text": [
      "Epoch 72/100: Train Loss = 647.9709, Val Loss = 985.2521\n"
     ]
    },
    {
     "name": "stderr",
     "output_type": "stream",
     "text": [
      "                                                                             \r"
     ]
    },
    {
     "name": "stdout",
     "output_type": "stream",
     "text": [
      "Epoch 73/100: Train Loss = 647.9783, Val Loss = 985.2340\n"
     ]
    },
    {
     "name": "stderr",
     "output_type": "stream",
     "text": [
      "                                                                             \r"
     ]
    },
    {
     "name": "stdout",
     "output_type": "stream",
     "text": [
      "Epoch 74/100: Train Loss = 647.9733, Val Loss = 985.2522\n"
     ]
    },
    {
     "name": "stderr",
     "output_type": "stream",
     "text": [
      "                                                                             \r"
     ]
    },
    {
     "name": "stdout",
     "output_type": "stream",
     "text": [
      "Epoch 75/100: Train Loss = 647.9710, Val Loss = 985.2337\n"
     ]
    },
    {
     "name": "stderr",
     "output_type": "stream",
     "text": [
      "                                                                             \r"
     ]
    },
    {
     "name": "stdout",
     "output_type": "stream",
     "text": [
      "Epoch 76/100: Train Loss = 647.9814, Val Loss = 985.2520\n"
     ]
    },
    {
     "name": "stderr",
     "output_type": "stream",
     "text": [
      "                                                                             \r"
     ]
    },
    {
     "name": "stdout",
     "output_type": "stream",
     "text": [
      "Epoch 77/100: Train Loss = 648.0142, Val Loss = 985.2517\n"
     ]
    },
    {
     "name": "stderr",
     "output_type": "stream",
     "text": [
      "                                                                             \r"
     ]
    },
    {
     "name": "stdout",
     "output_type": "stream",
     "text": [
      "Epoch 78/100: Train Loss = 648.0582, Val Loss = 985.2520\n"
     ]
    },
    {
     "name": "stderr",
     "output_type": "stream",
     "text": [
      "                                                                             \r"
     ]
    },
    {
     "name": "stdout",
     "output_type": "stream",
     "text": [
      "Epoch 79/100: Train Loss = 648.0715, Val Loss = 985.2692\n"
     ]
    },
    {
     "name": "stderr",
     "output_type": "stream",
     "text": [
      "                                                                             \r"
     ]
    },
    {
     "name": "stdout",
     "output_type": "stream",
     "text": [
      "Epoch 80/100: Train Loss = 648.0738, Val Loss = 985.2877\n"
     ]
    },
    {
     "name": "stderr",
     "output_type": "stream",
     "text": [
      "                                                                             \r"
     ]
    },
    {
     "name": "stdout",
     "output_type": "stream",
     "text": [
      "Epoch 81/100: Train Loss = 648.1231, Val Loss = 985.2874\n"
     ]
    },
    {
     "name": "stderr",
     "output_type": "stream",
     "text": [
      "                                                                             \r"
     ]
    },
    {
     "name": "stdout",
     "output_type": "stream",
     "text": [
      "Epoch 82/100: Train Loss = 648.1520, Val Loss = 985.2874\n"
     ]
    },
    {
     "name": "stderr",
     "output_type": "stream",
     "text": [
      "                                                                             \r"
     ]
    },
    {
     "name": "stdout",
     "output_type": "stream",
     "text": [
      "Epoch 83/100: Train Loss = 648.1538, Val Loss = 985.2879\n"
     ]
    },
    {
     "name": "stderr",
     "output_type": "stream",
     "text": [
      "                                                                             \r"
     ]
    },
    {
     "name": "stdout",
     "output_type": "stream",
     "text": [
      "Epoch 84/100: Train Loss = 648.1421, Val Loss = 985.2984\n"
     ]
    },
    {
     "name": "stderr",
     "output_type": "stream",
     "text": [
      "                                                                             \r"
     ]
    },
    {
     "name": "stdout",
     "output_type": "stream",
     "text": [
      "Epoch 85/100: Train Loss = 648.1871, Val Loss = 985.2981\n"
     ]
    },
    {
     "name": "stderr",
     "output_type": "stream",
     "text": [
      "                                                                             \r"
     ]
    },
    {
     "name": "stdout",
     "output_type": "stream",
     "text": [
      "Epoch 86/100: Train Loss = 648.1646, Val Loss = 985.3175\n"
     ]
    },
    {
     "name": "stderr",
     "output_type": "stream",
     "text": [
      "                                                                             \r"
     ]
    },
    {
     "name": "stdout",
     "output_type": "stream",
     "text": [
      "Epoch 87/100: Train Loss = 648.1789, Val Loss = 985.2870\n"
     ]
    },
    {
     "name": "stderr",
     "output_type": "stream",
     "text": [
      "                                                                             \r"
     ]
    },
    {
     "name": "stdout",
     "output_type": "stream",
     "text": [
      "Epoch 88/100: Train Loss = 648.1181, Val Loss = 985.2873\n"
     ]
    },
    {
     "name": "stderr",
     "output_type": "stream",
     "text": [
      "                                                                             \r"
     ]
    },
    {
     "name": "stdout",
     "output_type": "stream",
     "text": [
      "Epoch 89/100: Train Loss = 648.1001, Val Loss = 985.2499\n"
     ]
    },
    {
     "name": "stderr",
     "output_type": "stream",
     "text": [
      "                                                                             \r"
     ]
    },
    {
     "name": "stdout",
     "output_type": "stream",
     "text": [
      "Epoch 90/100: Train Loss = 647.9334, Val Loss = 985.1591\n"
     ]
    },
    {
     "name": "stderr",
     "output_type": "stream",
     "text": [
      "                                                                             \r"
     ]
    },
    {
     "name": "stdout",
     "output_type": "stream",
     "text": [
      "Epoch 91/100: Train Loss = 647.9225, Val Loss = 985.1574\n"
     ]
    },
    {
     "name": "stderr",
     "output_type": "stream",
     "text": [
      "                                                                             \r"
     ]
    },
    {
     "name": "stdout",
     "output_type": "stream",
     "text": [
      "Epoch 92/100: Train Loss = 647.7942, Val Loss = 985.0831\n"
     ]
    },
    {
     "name": "stderr",
     "output_type": "stream",
     "text": [
      "                                                                             \r"
     ]
    },
    {
     "name": "stdout",
     "output_type": "stream",
     "text": [
      "Epoch 93/100: Train Loss = 647.7746, Val Loss = 985.0066\n"
     ]
    },
    {
     "name": "stderr",
     "output_type": "stream",
     "text": [
      "                                                                             \r"
     ]
    },
    {
     "name": "stdout",
     "output_type": "stream",
     "text": [
      "Epoch 94/100: Train Loss = 647.5898, Val Loss = 984.7108\n"
     ]
    },
    {
     "name": "stderr",
     "output_type": "stream",
     "text": [
      "                                                                             \r"
     ]
    },
    {
     "name": "stdout",
     "output_type": "stream",
     "text": [
      "Epoch 95/100: Train Loss = 647.4860, Val Loss = 984.6573\n"
     ]
    },
    {
     "name": "stderr",
     "output_type": "stream",
     "text": [
      "                                                                             \r"
     ]
    },
    {
     "name": "stdout",
     "output_type": "stream",
     "text": [
      "Epoch 96/100: Train Loss = 647.5037, Val Loss = 984.8962\n"
     ]
    },
    {
     "name": "stderr",
     "output_type": "stream",
     "text": [
      "                                                                             \r"
     ]
    },
    {
     "name": "stdout",
     "output_type": "stream",
     "text": [
      "Epoch 97/100: Train Loss = 647.6290, Val Loss = 984.8023\n"
     ]
    },
    {
     "name": "stderr",
     "output_type": "stream",
     "text": [
      "                                                                             \r"
     ]
    },
    {
     "name": "stdout",
     "output_type": "stream",
     "text": [
      "Epoch 98/100: Train Loss = 647.5746, Val Loss = 984.8035\n"
     ]
    },
    {
     "name": "stderr",
     "output_type": "stream",
     "text": [
      "                                                                             \r"
     ]
    },
    {
     "name": "stdout",
     "output_type": "stream",
     "text": [
      "Epoch 99/100: Train Loss = 647.4827, Val Loss = 984.8172\n"
     ]
    },
    {
     "name": "stderr",
     "output_type": "stream",
     "text": [
      "                                                                             "
     ]
    },
    {
     "name": "stdout",
     "output_type": "stream",
     "text": [
      "Epoch 100/100: Train Loss = 647.6183, Val Loss = 984.8314\n",
      "Model saved to saved_models/transformer_vqvae/fraud_transformer_vqvae/20250314_001329/final_model.pt\n",
      "Training complete. Best validation loss: 983.7335\n"
     ]
    },
    {
     "name": "stderr",
     "output_type": "stream",
     "text": [
      "\r"
     ]
    },
    {
     "data": {
      "text/html": [],
      "text/plain": [
       "<IPython.core.display.HTML object>"
      ]
     },
     "metadata": {},
     "output_type": "display_data"
    },
    {
     "data": {
      "text/html": [
       "<br>    <style><br>        .wandb-row {<br>            display: flex;<br>            flex-direction: row;<br>            flex-wrap: wrap;<br>            justify-content: flex-start;<br>            width: 100%;<br>        }<br>        .wandb-col {<br>            display: flex;<br>            flex-direction: column;<br>            flex-basis: 100%;<br>            flex: 1;<br>            padding: 10px;<br>        }<br>    </style><br><div class=\"wandb-row\"><div class=\"wandb-col\"><h3>Run history:</h3><br/><table class=\"wandb\"><tr><td>epoch</td><td>▁▁▁▁▂▂▂▂▂▂▃▃▃▃▃▄▄▄▄▄▅▅▅▅▅▆▆▆▆▆▇▇▇▇▇▇████</td></tr><tr><td>train/total_loss</td><td>▃▁▁▂▃▃▃▄▃▄▅▅▅▄▄▅▅▅▅▅▆▆▆▆▆▇▇▇▇▇▇████▇▇▆▅▅</td></tr><tr><td>val/total_loss</td><td>▂▁▁▂▂▃▄▄▄▄▄▄▄▅▅▅▅▅▆▆▆▆▆▇▇▇▇█████████▇▅▆▆</td></tr></table><br/></div><div class=\"wandb-col\"><h3>Run summary:</h3><br/><table class=\"wandb\"><tr><td>epoch</td><td>100</td></tr><tr><td>train/total_loss</td><td>647.61834</td></tr><tr><td>val/total_loss</td><td>984.83138</td></tr></table><br/></div></div>"
      ],
      "text/plain": [
       "<IPython.core.display.HTML object>"
      ]
     },
     "metadata": {},
     "output_type": "display_data"
    },
    {
     "data": {
      "text/html": [
       " View run <strong style=\"color:#cdcd00\">transformer-vqvae-fraud_20250314_001319</strong> at: <a href='https://wandb.ai/alexkstern/fraud-classification/runs/x2ynkm0s' target=\"_blank\">https://wandb.ai/alexkstern/fraud-classification/runs/x2ynkm0s</a><br> View project at: <a href='https://wandb.ai/alexkstern/fraud-classification' target=\"_blank\">https://wandb.ai/alexkstern/fraud-classification</a><br>Synced 5 W&B file(s), 0 media file(s), 10 artifact file(s) and 0 other file(s)"
      ],
      "text/plain": [
       "<IPython.core.display.HTML object>"
      ]
     },
     "metadata": {},
     "output_type": "display_data"
    },
    {
     "data": {
      "text/html": [
       "Find logs at: <code>./wandb/run-20250314_001319-x2ynkm0s/logs</code>"
      ],
      "text/plain": [
       "<IPython.core.display.HTML object>"
      ]
     },
     "metadata": {},
     "output_type": "display_data"
    },
    {
     "name": "stdout",
     "output_type": "stream",
     "text": [
      "Training session complete.\n"
     ]
    }
   ],
   "source": [
    "import os\n",
    "import torch\n",
    "import torch.optim as optim\n",
    "import numpy as np\n",
    "import random\n",
    "\n",
    "# Set random seeds for reproducibility\n",
    "SEED = 42\n",
    "random.seed(SEED)\n",
    "np.random.seed(SEED)\n",
    "torch.manual_seed(SEED)\n",
    "torch.cuda.manual_seed_all(SEED)\n",
    "torch.backends.cudnn.deterministic = True\n",
    "torch.backends.cudnn.benchmark = False\n",
    "\n",
    "# Import required modules\n",
    "from models.transformer_vqvae_model import TransformerVQVAE, vqvae_loss_function, print_num_params\n",
    "from trainer.trainer_vqvae import VQVAETrainer\n",
    "from dataloader.dataloader import load_fraud_data, load_config\n",
    "from utils.model_saver import save_model, get_save_directory\n",
    "from utils.wandb_logger import WandBLogger\n",
    "\n",
    "# Build the config path\n",
    "config_path = \"configs/transformer_vqvae/fraud_transformer_vqvae.config\"\n",
    "\n",
    "# Load configuration\n",
    "import configparser\n",
    "config_parser = configparser.ConfigParser()\n",
    "config_parser.read(config_path)\n",
    "transformer_vqvae_config = config_parser[\"Transformer_VQVAE\"]\n",
    "\n",
    "# Create config dictionary for WandB\n",
    "config_dict = {}\n",
    "for section in config_parser.sections():\n",
    "    config_dict[section] = dict(config_parser[section])\n",
    "\n",
    "# Initialize WandB logger\n",
    "wandb_logger = WandBLogger(config_dict)\n",
    "\n",
    "# Load data\n",
    "config_dict = load_config(config_path)\n",
    "data = load_fraud_data(config_path=config_path)\n",
    "dataloaders = data['dataloaders']\n",
    "input_dim = data['input_dim']\n",
    "\n",
    "# Create model\n",
    "model = TransformerVQVAE(transformer_vqvae_config)\n",
    "print_num_params(model)\n",
    "\n",
    "# Training parameters\n",
    "lr = config_parser[\"Trainer\"].getfloat(\"lr\")\n",
    "num_epochs = config_parser[\"Trainer\"].getint(\"num_epochs\")\n",
    "\n",
    "# Define optimizer and loss function\n",
    "optimizer = optim.Adam(model.parameters(), lr=lr)\n",
    "loss_fn = vqvae_loss_function\n",
    "\n",
    "# Create trainer\n",
    "trainer = VQVAETrainer(model, dataloaders, loss_fn, optimizer)\n",
    "\n",
    "# Create save directory\n",
    "save_dir = get_save_directory(config_path)\n",
    "print(f\"Models will be saved to: {save_dir}\")\n",
    "\n",
    "# Track best validation loss\n",
    "best_val_loss = float('inf')\n",
    "train_losses, val_losses = [], []\n",
    "\n",
    "try:\n",
    "    # Training loop\n",
    "    for epoch in range(1, num_epochs + 1):\n",
    "        train_loss = trainer.train_epoch()\n",
    "        val_loss = trainer.validate_epoch()\n",
    "        \n",
    "        train_losses.append(train_loss)\n",
    "        val_losses.append(val_loss)\n",
    "        \n",
    "        # Log to WandB (if enabled)\n",
    "        try:\n",
    "            # For VQVAE, we only log the total losses \n",
    "            wandb_logger.log_epoch(epoch, train_loss, val_loss)\n",
    "        except Exception as e:\n",
    "            print(f\"Error logging to WandB: {e}\")\n",
    "        \n",
    "        # Print progress\n",
    "        print(f\"Epoch {epoch}/{num_epochs}: Train Loss = {train_loss:.4f}, Val Loss = {val_loss:.4f}\")\n",
    "        \n",
    "        # Save best model\n",
    "        if val_loss < best_val_loss:\n",
    "            best_val_loss = val_loss\n",
    "            metadata = {'epoch': epoch, 'train_loss': train_loss, 'val_loss': val_loss}\n",
    "            model_path = save_model(model, save_dir, 'best_model.pt', metadata)\n",
    "            print(f\"New best validation loss: {val_loss:.4f}\")\n",
    "            wandb_logger.log_model(model_path, metadata)\n",
    "\n",
    "    # Save final model if different from best\n",
    "    if val_losses[-1] > best_val_loss:\n",
    "        metadata = {'epoch': num_epochs, 'train_loss': train_losses[-1], 'val_loss': val_losses[-1]}\n",
    "        save_model(model, save_dir, 'final_model.pt', metadata)\n",
    "\n",
    "    print(f\"Training complete. Best validation loss: {best_val_loss:.4f}\")\n",
    "\n",
    "except KeyboardInterrupt:\n",
    "    print(\"\\nTraining interrupted by user. Saving current state...\")\n",
    "    if len(train_losses) > 0:\n",
    "        metadata = {\n",
    "            'interrupted': True,\n",
    "            'epoch': len(train_losses), \n",
    "            'train_loss': train_losses[-1],\n",
    "            'val_loss': val_losses[-1] if len(val_losses) > 0 else None\n",
    "        }\n",
    "        save_model(model, save_dir, 'interrupted_model.pt', metadata)\n",
    "        print(f\"Interrupted model saved to {save_dir}\")\n",
    "\n",
    "except Exception as e:\n",
    "    print(f\"\\nTraining failed with error: {e}\")\n",
    "    import traceback\n",
    "    traceback.print_exc()\n",
    "    \n",
    "finally:\n",
    "    # Clean up WandB\n",
    "    try:\n",
    "        wandb_logger.finish()\n",
    "    except:\n",
    "        pass\n",
    "    print(\"Training session complete.\")"
   ]
  },
  {
   "cell_type": "markdown",
   "metadata": {},
   "source": [
    "### Normal"
   ]
  },
  {
   "cell_type": "code",
   "execution_count": 6,
   "metadata": {},
   "outputs": [
    {
     "name": "stdout",
     "output_type": "stream",
     "text": [
      "Initializing WandB run: transformer-vqvae-normal_20250314_001744 (Project: fraud-classification, Entity: alexkstern)\n"
     ]
    },
    {
     "data": {
      "text/html": [
       "Tracking run with wandb version 0.19.8"
      ],
      "text/plain": [
       "<IPython.core.display.HTML object>"
      ]
     },
     "metadata": {},
     "output_type": "display_data"
    },
    {
     "data": {
      "text/html": [
       "Run data is saved locally in <code>/home/alexkstern/fraudml/amlf_proj/wandb/run-20250314_001744-a257ybl1</code>"
      ],
      "text/plain": [
       "<IPython.core.display.HTML object>"
      ]
     },
     "metadata": {},
     "output_type": "display_data"
    },
    {
     "data": {
      "text/html": [
       "Syncing run <strong><a href='https://wandb.ai/alexkstern/fraud-classification/runs/a257ybl1' target=\"_blank\">transformer-vqvae-normal_20250314_001744</a></strong> to <a href='https://wandb.ai/alexkstern/fraud-classification' target=\"_blank\">Weights & Biases</a> (<a href='https://wandb.me/developer-guide' target=\"_blank\">docs</a>)<br>"
      ],
      "text/plain": [
       "<IPython.core.display.HTML object>"
      ]
     },
     "metadata": {},
     "output_type": "display_data"
    },
    {
     "data": {
      "text/html": [
       " View project at <a href='https://wandb.ai/alexkstern/fraud-classification' target=\"_blank\">https://wandb.ai/alexkstern/fraud-classification</a>"
      ],
      "text/plain": [
       "<IPython.core.display.HTML object>"
      ]
     },
     "metadata": {},
     "output_type": "display_data"
    },
    {
     "data": {
      "text/html": [
       " View run at <a href='https://wandb.ai/alexkstern/fraud-classification/runs/a257ybl1' target=\"_blank\">https://wandb.ai/alexkstern/fraud-classification/runs/a257ybl1</a>"
      ],
      "text/plain": [
       "<IPython.core.display.HTML object>"
      ]
     },
     "metadata": {},
     "output_type": "display_data"
    },
    {
     "name": "stdout",
     "output_type": "stream",
     "text": [
      "Loaded configuration from configs/transformer_vqvae/normal_transformer_vqvae.config\n",
      "Filtered dataset to class 0: 12000 samples\n",
      "Normalization statistics (calculated from class 0): {'Time': {'mean': 94364.65358333333, 'std': 47365.815157589255}, 'Amount': {'mean': 87.60478666666666, 'std': 240.59403081682598}}\n",
      "Filtered dataset to class 0: 12000 samples\n",
      "Filtered dataset to class 0: 1500 samples\n",
      "Filtered dataset to class 0: 1500 samples\n",
      "Total number of trainable parameters: 170689\n",
      "Models will be saved to: saved_models/transformer_vqvae/normal_transformer_vqvae/20250314_001750\n"
     ]
    },
    {
     "name": "stderr",
     "output_type": "stream",
     "text": [
      "                                                                                 \r"
     ]
    },
    {
     "name": "stdout",
     "output_type": "stream",
     "text": [
      "Epoch 1/30: Train Loss = 22.8098, Val Loss = 23.9801\n",
      "Model saved to saved_models/transformer_vqvae/normal_transformer_vqvae/20250314_001750/best_model.pt\n",
      "New best validation loss: 23.9801\n"
     ]
    },
    {
     "name": "stderr",
     "output_type": "stream",
     "text": [
      "                                                                                 \r"
     ]
    },
    {
     "name": "stdout",
     "output_type": "stream",
     "text": [
      "Epoch 2/30: Train Loss = 23.4542, Val Loss = 24.0075\n"
     ]
    },
    {
     "name": "stderr",
     "output_type": "stream",
     "text": [
      "                                                                                 \r"
     ]
    },
    {
     "name": "stdout",
     "output_type": "stream",
     "text": [
      "Epoch 3/30: Train Loss = 22.9211, Val Loss = 23.4038\n",
      "Model saved to saved_models/transformer_vqvae/normal_transformer_vqvae/20250314_001750/best_model.pt\n",
      "New best validation loss: 23.4038\n"
     ]
    },
    {
     "name": "stderr",
     "output_type": "stream",
     "text": [
      "                                                                                 \r"
     ]
    },
    {
     "name": "stdout",
     "output_type": "stream",
     "text": [
      "Epoch 4/30: Train Loss = 22.7282, Val Loss = 23.3471\n",
      "Model saved to saved_models/transformer_vqvae/normal_transformer_vqvae/20250314_001750/best_model.pt\n",
      "New best validation loss: 23.3471\n"
     ]
    },
    {
     "name": "stderr",
     "output_type": "stream",
     "text": [
      "                                                                                 \r"
     ]
    },
    {
     "name": "stdout",
     "output_type": "stream",
     "text": [
      "Epoch 5/30: Train Loss = 22.6406, Val Loss = 23.5659\n"
     ]
    },
    {
     "name": "stderr",
     "output_type": "stream",
     "text": [
      "                                                                                 \r"
     ]
    },
    {
     "name": "stdout",
     "output_type": "stream",
     "text": [
      "Epoch 6/30: Train Loss = 22.8517, Val Loss = 23.1709\n",
      "Model saved to saved_models/transformer_vqvae/normal_transformer_vqvae/20250314_001750/best_model.pt\n",
      "New best validation loss: 23.1709\n"
     ]
    },
    {
     "name": "stderr",
     "output_type": "stream",
     "text": [
      "                                                                                 \r"
     ]
    },
    {
     "name": "stdout",
     "output_type": "stream",
     "text": [
      "Epoch 7/30: Train Loss = 24.1452, Val Loss = 22.7688\n",
      "Model saved to saved_models/transformer_vqvae/normal_transformer_vqvae/20250314_001750/best_model.pt\n",
      "New best validation loss: 22.7688\n"
     ]
    },
    {
     "name": "stderr",
     "output_type": "stream",
     "text": [
      "                                                                                 \r"
     ]
    },
    {
     "name": "stdout",
     "output_type": "stream",
     "text": [
      "Epoch 8/30: Train Loss = 22.1396, Val Loss = 22.7759\n"
     ]
    },
    {
     "name": "stderr",
     "output_type": "stream",
     "text": [
      "                                                                                 \r"
     ]
    },
    {
     "name": "stdout",
     "output_type": "stream",
     "text": [
      "Epoch 9/30: Train Loss = 22.1022, Val Loss = 22.7421\n",
      "Model saved to saved_models/transformer_vqvae/normal_transformer_vqvae/20250314_001750/best_model.pt\n",
      "New best validation loss: 22.7421\n"
     ]
    },
    {
     "name": "stderr",
     "output_type": "stream",
     "text": [
      "                                                                                 \r"
     ]
    },
    {
     "name": "stdout",
     "output_type": "stream",
     "text": [
      "Epoch 10/30: Train Loss = 22.4386, Val Loss = 23.1618\n"
     ]
    },
    {
     "name": "stderr",
     "output_type": "stream",
     "text": [
      "                                                                                 \r"
     ]
    },
    {
     "name": "stdout",
     "output_type": "stream",
     "text": [
      "Epoch 11/30: Train Loss = 30.4875, Val Loss = 32.5416\n"
     ]
    },
    {
     "name": "stderr",
     "output_type": "stream",
     "text": [
      "                                                                                 \r"
     ]
    },
    {
     "name": "stdout",
     "output_type": "stream",
     "text": [
      "Epoch 12/30: Train Loss = 31.5614, Val Loss = 32.5415\n"
     ]
    },
    {
     "name": "stderr",
     "output_type": "stream",
     "text": [
      "                                                                                 \r"
     ]
    },
    {
     "name": "stdout",
     "output_type": "stream",
     "text": [
      "Epoch 13/30: Train Loss = 31.5584, Val Loss = 32.5414\n"
     ]
    },
    {
     "name": "stderr",
     "output_type": "stream",
     "text": [
      "                                                                                 \r"
     ]
    },
    {
     "name": "stdout",
     "output_type": "stream",
     "text": [
      "Epoch 14/30: Train Loss = 31.5556, Val Loss = 32.5413\n"
     ]
    },
    {
     "name": "stderr",
     "output_type": "stream",
     "text": [
      "                                                                                 \r"
     ]
    },
    {
     "name": "stdout",
     "output_type": "stream",
     "text": [
      "Epoch 15/30: Train Loss = 31.5529, Val Loss = 32.5413\n"
     ]
    },
    {
     "name": "stderr",
     "output_type": "stream",
     "text": [
      "                                                                                 \r"
     ]
    },
    {
     "name": "stdout",
     "output_type": "stream",
     "text": [
      "Epoch 16/30: Train Loss = 31.5513, Val Loss = 32.5413\n"
     ]
    },
    {
     "name": "stderr",
     "output_type": "stream",
     "text": [
      "                                                                                 \r"
     ]
    },
    {
     "name": "stdout",
     "output_type": "stream",
     "text": [
      "Epoch 17/30: Train Loss = 31.5509, Val Loss = 32.5412\n"
     ]
    },
    {
     "name": "stderr",
     "output_type": "stream",
     "text": [
      "                                                                                 \r"
     ]
    },
    {
     "name": "stdout",
     "output_type": "stream",
     "text": [
      "Epoch 18/30: Train Loss = 31.5506, Val Loss = 32.5410\n"
     ]
    },
    {
     "name": "stderr",
     "output_type": "stream",
     "text": [
      "                                                                                 \r"
     ]
    },
    {
     "name": "stdout",
     "output_type": "stream",
     "text": [
      "Epoch 19/30: Train Loss = 31.5507, Val Loss = 32.5412\n"
     ]
    },
    {
     "name": "stderr",
     "output_type": "stream",
     "text": [
      "                                                                                 \r"
     ]
    },
    {
     "name": "stdout",
     "output_type": "stream",
     "text": [
      "Epoch 20/30: Train Loss = 31.5505, Val Loss = 32.5411\n"
     ]
    },
    {
     "name": "stderr",
     "output_type": "stream",
     "text": [
      "                                                                                 \r"
     ]
    },
    {
     "name": "stdout",
     "output_type": "stream",
     "text": [
      "Epoch 21/30: Train Loss = 31.5505, Val Loss = 32.5410\n"
     ]
    },
    {
     "name": "stderr",
     "output_type": "stream",
     "text": [
      "                                                                                 \r"
     ]
    },
    {
     "name": "stdout",
     "output_type": "stream",
     "text": [
      "Epoch 22/30: Train Loss = 31.5505, Val Loss = 32.5411\n"
     ]
    },
    {
     "name": "stderr",
     "output_type": "stream",
     "text": [
      "                                                                                 \r"
     ]
    },
    {
     "name": "stdout",
     "output_type": "stream",
     "text": [
      "Epoch 23/30: Train Loss = 31.5504, Val Loss = 32.5410\n"
     ]
    },
    {
     "name": "stderr",
     "output_type": "stream",
     "text": [
      "                                                                                 \r"
     ]
    },
    {
     "name": "stdout",
     "output_type": "stream",
     "text": [
      "Epoch 24/30: Train Loss = 31.5504, Val Loss = 32.5410\n"
     ]
    },
    {
     "name": "stderr",
     "output_type": "stream",
     "text": [
      "                                                                                 \r"
     ]
    },
    {
     "name": "stdout",
     "output_type": "stream",
     "text": [
      "Epoch 25/30: Train Loss = 31.5504, Val Loss = 32.5407\n"
     ]
    },
    {
     "name": "stderr",
     "output_type": "stream",
     "text": [
      "                                                                                 \r"
     ]
    },
    {
     "name": "stdout",
     "output_type": "stream",
     "text": [
      "Epoch 26/30: Train Loss = 31.5505, Val Loss = 32.5411\n"
     ]
    },
    {
     "name": "stderr",
     "output_type": "stream",
     "text": [
      "                                                                                 \r"
     ]
    },
    {
     "name": "stdout",
     "output_type": "stream",
     "text": [
      "Epoch 27/30: Train Loss = 31.5504, Val Loss = 32.5407\n"
     ]
    },
    {
     "name": "stderr",
     "output_type": "stream",
     "text": [
      "                                                                                 \r"
     ]
    },
    {
     "name": "stdout",
     "output_type": "stream",
     "text": [
      "Epoch 28/30: Train Loss = 31.5504, Val Loss = 32.5410\n"
     ]
    },
    {
     "name": "stderr",
     "output_type": "stream",
     "text": [
      "                                                                                 \r"
     ]
    },
    {
     "name": "stdout",
     "output_type": "stream",
     "text": [
      "Epoch 29/30: Train Loss = 31.5504, Val Loss = 32.5410\n"
     ]
    },
    {
     "name": "stderr",
     "output_type": "stream",
     "text": [
      "                                                                                 \r"
     ]
    },
    {
     "name": "stdout",
     "output_type": "stream",
     "text": [
      "Epoch 30/30: Train Loss = 31.5504, Val Loss = 32.5410\n",
      "Model saved to saved_models/transformer_vqvae/normal_transformer_vqvae/20250314_001750/final_model.pt\n",
      "Training complete. Best validation loss: 22.7421\n"
     ]
    },
    {
     "data": {
      "text/html": [],
      "text/plain": [
       "<IPython.core.display.HTML object>"
      ]
     },
     "metadata": {},
     "output_type": "display_data"
    },
    {
     "data": {
      "text/html": [
       "<br>    <style><br>        .wandb-row {<br>            display: flex;<br>            flex-direction: row;<br>            flex-wrap: wrap;<br>            justify-content: flex-start;<br>            width: 100%;<br>        }<br>        .wandb-col {<br>            display: flex;<br>            flex-direction: column;<br>            flex-basis: 100%;<br>            flex: 1;<br>            padding: 10px;<br>        }<br>    </style><br><div class=\"wandb-row\"><div class=\"wandb-col\"><h3>Run history:</h3><br/><table class=\"wandb\"><tr><td>epoch</td><td>▁▁▁▂▂▂▂▃▃▃▃▄▄▄▄▅▅▅▅▆▆▆▆▇▇▇▇███</td></tr><tr><td>train/total_loss</td><td>▂▂▂▁▁▂▃▁▁▁▇███████████████████</td></tr><tr><td>val/total_loss</td><td>▂▂▁▁▂▁▁▁▁▁████████████████████</td></tr></table><br/></div><div class=\"wandb-col\"><h3>Run summary:</h3><br/><table class=\"wandb\"><tr><td>epoch</td><td>30</td></tr><tr><td>train/total_loss</td><td>31.55042</td></tr><tr><td>val/total_loss</td><td>32.541</td></tr></table><br/></div></div>"
      ],
      "text/plain": [
       "<IPython.core.display.HTML object>"
      ]
     },
     "metadata": {},
     "output_type": "display_data"
    },
    {
     "data": {
      "text/html": [
       " View run <strong style=\"color:#cdcd00\">transformer-vqvae-normal_20250314_001744</strong> at: <a href='https://wandb.ai/alexkstern/fraud-classification/runs/a257ybl1' target=\"_blank\">https://wandb.ai/alexkstern/fraud-classification/runs/a257ybl1</a><br> View project at: <a href='https://wandb.ai/alexkstern/fraud-classification' target=\"_blank\">https://wandb.ai/alexkstern/fraud-classification</a><br>Synced 5 W&B file(s), 0 media file(s), 12 artifact file(s) and 0 other file(s)"
      ],
      "text/plain": [
       "<IPython.core.display.HTML object>"
      ]
     },
     "metadata": {},
     "output_type": "display_data"
    },
    {
     "data": {
      "text/html": [
       "Find logs at: <code>./wandb/run-20250314_001744-a257ybl1/logs</code>"
      ],
      "text/plain": [
       "<IPython.core.display.HTML object>"
      ]
     },
     "metadata": {},
     "output_type": "display_data"
    },
    {
     "name": "stdout",
     "output_type": "stream",
     "text": [
      "Training session complete.\n"
     ]
    }
   ],
   "source": [
    "import os\n",
    "import torch\n",
    "import torch.optim as optim\n",
    "import numpy as np\n",
    "import random\n",
    "\n",
    "# Set random seeds for reproducibility\n",
    "SEED = 42\n",
    "random.seed(SEED)\n",
    "np.random.seed(SEED)\n",
    "torch.manual_seed(SEED)\n",
    "torch.cuda.manual_seed_all(SEED)\n",
    "torch.backends.cudnn.deterministic = True\n",
    "torch.backends.cudnn.benchmark = False\n",
    "\n",
    "# Import required modules\n",
    "from models.transformer_vqvae_model import TransformerVQVAE, vqvae_loss_function, print_num_params\n",
    "from trainer.trainer_vqvae import VQVAETrainer\n",
    "from dataloader.dataloader import load_fraud_data, load_config\n",
    "from utils.model_saver import save_model, get_save_directory\n",
    "from utils.wandb_logger import WandBLogger\n",
    "\n",
    "# Build the config path\n",
    "config_path = \"configs/transformer_vqvae/normal_transformer_vqvae.config\"\n",
    "\n",
    "# Load configuration\n",
    "import configparser\n",
    "config_parser = configparser.ConfigParser()\n",
    "config_parser.read(config_path)\n",
    "transformer_vqvae_config = config_parser[\"Transformer_VQVAE\"]\n",
    "\n",
    "# Create config dictionary for WandB\n",
    "config_dict = {}\n",
    "for section in config_parser.sections():\n",
    "    config_dict[section] = dict(config_parser[section])\n",
    "\n",
    "# Initialize WandB logger\n",
    "wandb_logger = WandBLogger(config_dict)\n",
    "\n",
    "# Load data\n",
    "config_dict = load_config(config_path)\n",
    "data = load_fraud_data(config_path=config_path)\n",
    "dataloaders = data['dataloaders']\n",
    "input_dim = data['input_dim']\n",
    "\n",
    "# Create model\n",
    "model = TransformerVQVAE(transformer_vqvae_config)\n",
    "print_num_params(model)\n",
    "\n",
    "# Training parameters\n",
    "lr = config_parser[\"Trainer\"].getfloat(\"lr\")\n",
    "num_epochs = config_parser[\"Trainer\"].getint(\"num_epochs\")\n",
    "\n",
    "# Define optimizer and loss function\n",
    "optimizer = optim.Adam(model.parameters(), lr=lr)\n",
    "loss_fn = vqvae_loss_function\n",
    "\n",
    "# Create trainer\n",
    "trainer = VQVAETrainer(model, dataloaders, loss_fn, optimizer)\n",
    "\n",
    "# Create save directory\n",
    "save_dir = get_save_directory(config_path)\n",
    "print(f\"Models will be saved to: {save_dir}\")\n",
    "\n",
    "# Track best validation loss\n",
    "best_val_loss = float('inf')\n",
    "train_losses, val_losses = [], []\n",
    "\n",
    "try:\n",
    "    # Training loop\n",
    "    for epoch in range(1, num_epochs + 1):\n",
    "        train_loss = trainer.train_epoch()\n",
    "        val_loss = trainer.validate_epoch()\n",
    "        \n",
    "        train_losses.append(train_loss)\n",
    "        val_losses.append(val_loss)\n",
    "        \n",
    "        # Log to WandB (if enabled)\n",
    "        try:\n",
    "            # For VQVAE, we only log the total losses \n",
    "            wandb_logger.log_epoch(epoch, train_loss, val_loss)\n",
    "        except Exception as e:\n",
    "            print(f\"Error logging to WandB: {e}\")\n",
    "        \n",
    "        # Print progress\n",
    "        print(f\"Epoch {epoch}/{num_epochs}: Train Loss = {train_loss:.4f}, Val Loss = {val_loss:.4f}\")\n",
    "        \n",
    "        # Save best model\n",
    "        if val_loss < best_val_loss:\n",
    "            best_val_loss = val_loss\n",
    "            metadata = {'epoch': epoch, 'train_loss': train_loss, 'val_loss': val_loss}\n",
    "            model_path = save_model(model, save_dir, 'best_model.pt', metadata)\n",
    "            print(f\"New best validation loss: {val_loss:.4f}\")\n",
    "            wandb_logger.log_model(model_path, metadata)\n",
    "\n",
    "    # Save final model if different from best\n",
    "    if val_losses[-1] > best_val_loss:\n",
    "        metadata = {'epoch': num_epochs, 'train_loss': train_losses[-1], 'val_loss': val_losses[-1]}\n",
    "        save_model(model, save_dir, 'final_model.pt', metadata)\n",
    "\n",
    "    print(f\"Training complete. Best validation loss: {best_val_loss:.4f}\")\n",
    "\n",
    "except KeyboardInterrupt:\n",
    "    print(\"\\nTraining interrupted by user. Saving current state...\")\n",
    "    if len(train_losses) > 0:\n",
    "        metadata = {\n",
    "            'interrupted': True,\n",
    "            'epoch': len(train_losses), \n",
    "            'train_loss': train_losses[-1],\n",
    "            'val_loss': val_losses[-1] if len(val_losses) > 0 else None\n",
    "        }\n",
    "        save_model(model, save_dir, 'interrupted_model.pt', metadata)\n",
    "        print(f\"Interrupted model saved to {save_dir}\")\n",
    "\n",
    "except Exception as e:\n",
    "    print(f\"\\nTraining failed with error: {e}\")\n",
    "    import traceback\n",
    "    traceback.print_exc()\n",
    "    \n",
    "finally:\n",
    "    # Clean up WandB\n",
    "    try:\n",
    "        wandb_logger.finish()\n",
    "    except:\n",
    "        pass\n",
    "    print(\"Training session complete.\")"
   ]
  },
  {
   "cell_type": "code",
   "execution_count": null,
   "metadata": {},
   "outputs": [],
   "source": []
  }
 ],
 "metadata": {
  "kernelspec": {
   "display_name": "credit_vae",
   "language": "python",
   "name": "python3"
  },
  "language_info": {
   "codemirror_mode": {
    "name": "ipython",
    "version": 3
   },
   "file_extension": ".py",
   "mimetype": "text/x-python",
   "name": "python",
   "nbconvert_exporter": "python",
   "pygments_lexer": "ipython3",
   "version": "3.8.20"
  }
 },
 "nbformat": 4,
 "nbformat_minor": 2
}
